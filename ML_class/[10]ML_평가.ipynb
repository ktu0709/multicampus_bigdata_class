{
 "cells": [
  {
   "cell_type": "markdown",
   "id": "bc87975b",
   "metadata": {},
   "source": [
    "####   혼동 행렬(confusion matrix)\n",
    "- 클래스 분류 문제의 결과를 판단하는 기준 : (TP: True Positive)·(TN: True Negative)·(FP: False Positive)·(FN: False Negative)의 카운트로부터   적합률(precision)·재현율(recall)·F1값(F1-measure) 등의   평가 지표를 산출하거나 하면, 그 모델의 좋고 나쁜 것을 판단  \n",
    "\n",
    "- sklearn.metrics\n",
    "- 정답률(accuracy):accuracy_score()\n",
    "- 적합율(precision):precision_score()\n",
    "- 재현율(recall):recall_score()  \n",
    "\n",
    "- F1 값(F1-measure):f1_score()\n",
    "- 평가 지표를 함께 계산:classification_report()"
   ]
  },
  {
   "cell_type": "markdown",
   "id": "db5be962",
   "metadata": {},
   "source": [
    "#### 이진분류 0 = Negative, 1 = Positive  \n",
    "       \n",
    "|         |양성 예측 |  음성 예측|\n",
    "| :--- | :---: | ---: |\n",
    "|실제양성| TP (True Positive) |  FN (False Negative)|\n",
    "|실제음성| FP (False Positive)|  TN (True Negative) |\n"
   ]
  },
  {
   "cell_type": "code",
   "execution_count": 1,
   "id": "a2d985f9",
   "metadata": {},
   "outputs": [
    {
     "name": "stdout",
     "output_type": "stream",
     "text": [
      "[[1 4]\n",
      " [3 2]]\n"
     ]
    }
   ],
   "source": [
    "#1. confusion_matrix\n",
    "from sklearn.metrics import confusion_matrix\n",
    "\n",
    "y_true = [0, 0, 0, 0, 0, 1, 1, 1, 1, 1]  #실제값\n",
    "y_pred = [0, 1, 1, 1, 1, 0, 0, 0, 1, 1]  #예측값\n",
    "\n",
    "cm = confusion_matrix(y_true, y_pred)\n",
    "\n",
    "print(cm)"
   ]
  },
  {
   "cell_type": "code",
   "execution_count": 2,
   "id": "685e4a73",
   "metadata": {},
   "outputs": [
    {
     "name": "stdout",
     "output_type": "stream",
     "text": [
      "[1 4 3 2]\n",
      "1 4 3 2\n"
     ]
    }
   ],
   "source": [
    "#1-1.  confusion_matrix 데이터를 관리 ndarray  -> flatten()-> 1차원으로 변경 \n",
    "import numpy as np\n",
    "print(cm.flatten())\n",
    "tn,fp,fn,tp=cm.flatten()\n",
    "print(tn,fp,fn,tp)"
   ]
  },
  {
   "cell_type": "code",
   "execution_count": 3,
   "id": "a32351bf",
   "metadata": {},
   "outputs": [
    {
     "name": "stdout",
     "output_type": "stream",
     "text": [
      "[[1 4]\n",
      " [3 2]]\n"
     ]
    }
   ],
   "source": [
    "#2. labels로 축의 순서를 지정   0 = A  1 = B\n",
    "y_true_ab = ['A', 'A', 'A', 'A', 'A', 'B', 'B', 'B', 'B', 'B']  #실제값\n",
    "y_pred_ab = ['A', 'B', 'B', 'B', 'B', 'A', 'A', 'A', 'B', 'B']  #예측값 \n",
    "\n",
    "print(confusion_matrix(y_true_ab, y_pred_ab))\n"
   ]
  },
  {
   "cell_type": "code",
   "execution_count": 4,
   "id": "928410e6",
   "metadata": {},
   "outputs": [
    {
     "name": "stdout",
     "output_type": "stream",
     "text": [
      "[[2 3]\n",
      " [4 1]]\n"
     ]
    }
   ],
   "source": [
    "#2-1 축을 변경해 보자.  \n",
    "y_true_ab = ['A', 'A', 'A', 'A', 'A', 'B', 'B', 'B', 'B', 'B']\n",
    "y_pred_ab = ['A', 'B', 'B', 'B', 'B', 'A', 'A', 'A', 'B', 'B']\n",
    "\n",
    "print(confusion_matrix(y_true_ab, y_pred_ab, labels=['B','A'])) #1 = A  0 = B\n"
   ]
  },
  {
   "cell_type": "code",
   "execution_count": 5,
   "id": "6eaac5d2",
   "metadata": {},
   "outputs": [
    {
     "name": "stdout",
     "output_type": "stream",
     "text": [
      "[[1 2 0]\n",
      " [0 2 1]\n",
      " [0 0 3]]\n"
     ]
    }
   ],
   "source": [
    "#3. 다중 클래스 분류의 혼동 행렬   0,1,2 \n",
    "y_true_multi = [0, 0, 0, 1, 1, 1, 2, 2, 2]\n",
    "y_pred_multi = [0, 1, 1, 1, 1, 2, 2, 2, 2]\n",
    "\n",
    "print(confusion_matrix(y_true_multi, y_pred_multi))"
   ]
  },
  {
   "cell_type": "code",
   "execution_count": 6,
   "id": "f3e10645",
   "metadata": {},
   "outputs": [
    {
     "name": "stdout",
     "output_type": "stream",
     "text": [
      "[[3 0]\n",
      " [1 2]]\n"
     ]
    }
   ],
   "source": [
    "#3-1 축을 바꾸자. 특정라벨만 원하는 축으로 리턴받을 수 있다. \n",
    "print(confusion_matrix(y_true_multi, y_pred_multi, labels=[2,1]))"
   ]
  },
  {
   "cell_type": "code",
   "execution_count": 7,
   "id": "277c9195",
   "metadata": {},
   "outputs": [
    {
     "name": "stdout",
     "output_type": "stream",
     "text": [
      "[[1 4]\n",
      " [3 2]]\n"
     ]
    },
    {
     "data": {
      "image/png": "[encoded data removed]",
      "text/plain": [
       "<Figure size 432x288 with 2 Axes>"
      ]
     },
     "metadata": {
      "needs_background": "light"
     },
     "output_type": "display_data"
    }
   ],
   "source": [
    "#4. 시각화 : 히트맵으로 시각화(seaborn 사용)\n",
    "from sklearn.metrics import confusion_matrix\n",
    "import seaborn as sns\n",
    "import matplotlib.pyplot as plt\n",
    "\n",
    "y_true = [0, 0, 0, 0, 0, 1, 1, 1, 1, 1]\n",
    "y_pred = [0, 1, 1, 1, 1, 0, 0, 0, 1, 1]\n",
    "\n",
    "cm = confusion_matrix(y_true, y_pred)\n",
    "\n",
    "print(cm)\n",
    "sns.heatmap(cm)\n",
    "plt.savefig('sklearn_confusion_matrix.png')"
   ]
  },
  {
   "cell_type": "code",
   "execution_count": 8,
   "id": "6f6b9ada",
   "metadata": {},
   "outputs": [
    {
     "data": {
      "image/png": "[encoded data removed]",
      "text/plain": [
       "<Figure size 432x288 with 2 Axes>"
      ]
     },
     "metadata": {
      "needs_background": "light"
     },
     "output_type": "display_data"
    }
   ],
   "source": [
    "sns.heatmap(cm, annot=True, cmap='Blues')\n",
    "plt.savefig('sklearn_confusion_matrix_annot_blues.png')"
   ]
  },
  {
   "cell_type": "markdown",
   "id": "d356e786",
   "metadata": {},
   "source": [
    "정답률\n",
    "\n",
    "$$\n",
    "Accuracy = \\dfrac{TP + TN}{TP + FP + FN + TN}\n",
    "$$"
   ]
  },
  {
   "cell_type": "code",
   "execution_count": 4,
   "id": "fae35e5a",
   "metadata": {},
   "outputs": [
    {
     "name": "stdout",
     "output_type": "stream",
     "text": [
      "1 4 3 2\n",
      "0.3\n"
     ]
    }
   ],
   "source": [
    "#5.정답률 : 모든 샘플중 정답한 샘플의 비율  \n",
    "# 모든 샘플링의 결과 중 TP, TN 을 확인 한다. \n",
    "# TP, Tn이 높을 수록 성능이 좋다  \n",
    "from sklearn.metrics import accuracy_score\n",
    "from sklearn.metrics import confusion_matrix\n",
    "\n",
    "y_true = [0, 0, 0, 0, 0, 1, 1, 1, 1, 1]\n",
    "y_pred = [0, 1, 1, 1, 1, 0, 0, 0, 1, 1]\n",
    "\n",
    "cm = confusion_matrix(y_true, y_pred)\n",
    "tn,fp,fn,tp=cm.flatten()\n",
    "print(tn,fp,fn,tp)\n",
    "\n",
    "print(accuracy_score(y_true, y_pred))"
   ]
  },
  {
   "cell_type": "markdown",
   "id": "6446dd40",
   "metadata": {},
   "source": [
    "### 정답률만으로 판단이 안되는 이유?\n",
    "\n",
    "| 대상|개수|야옹이 맞아 |야옹이 아니야|\n",
    "| :--- | :---: | ---: |---: |\n",
    "|사람| 900| 0|900|\n",
    "|강아지| 50|0|50|\n",
    "|염소| 15 | 0|15|\n",
    "|버팔로|5 | 0|5|\n",
    "|야옹이|30| 0|30|\n",
    "\n",
    "#### 1)  야옹이만 Negative 라고 판정하는 기계학습이 되어버렸다. 새로운 데이터가 온다면 제대로 판정이 될까?  \n",
    "\n",
    "#### 2) 얼마나 야옹이가 맞다고 판정할 수 있는지 성능평가를 하고 싶다  ->  적합률, 재현율,,,,\n"
   ]
  },
  {
   "cell_type": "markdown",
   "id": "b0615f0b",
   "metadata": {},
   "source": [
    "### 적합률\n",
    "$$\n",
    "Presision=\\dfrac{TP}{TP + FP}\n",
    "$$"
   ]
  },
  {
   "cell_type": "code",
   "execution_count": 2,
   "id": "633d4f7f",
   "metadata": {},
   "outputs": [
    {
     "name": "stdout",
     "output_type": "stream",
     "text": [
      "0.3333333333333333\n"
     ]
    }
   ],
   "source": [
    "#6.적합률 :PPV (Positive  prediction value) _ Positive로 생성된 샘플중에 정답 샘플의 비율 \n",
    "#FP가 높으면 적합률이 낮아진다.  FP를 낮출 때 사용한다.  \n",
    "from sklearn.metrics import precision_score\n",
    "\n",
    "y_true = [0, 0, 0, 0, 0, 1, 1, 1, 1, 1]\n",
    "y_pred = [0, 1, 1, 1, 1, 0, 0, 0, 1, 1]\n",
    "\n",
    "print(precision_score(y_true, y_pred))"
   ]
  },
  {
   "cell_type": "code",
   "execution_count": 3,
   "id": "39461d76",
   "metadata": {},
   "outputs": [
    {
     "name": "stdout",
     "output_type": "stream",
     "text": [
      "0.25\n"
     ]
    }
   ],
   "source": [
    "#6.-1 FP를  낮추어서 결과를 리턴 해보자.  \n",
    "from sklearn.metrics import precision_score\n",
    "\n",
    "y_true = [0, 0, 0, 0, 0, 1, 1, 1, 1, 1]\n",
    "y_pred = [0, 1, 1, 1, 1, 0, 0, 0, 1, 1]\n",
    "\n",
    "print(precision_score(y_true, y_pred, pos_label=0))"
   ]
  },
  {
   "cell_type": "markdown",
   "id": "c794dadf",
   "metadata": {},
   "source": [
    "### 재현률\n",
    "$$\n",
    "Recall=\\dfrac{TP}{TP + FN}\n",
    "$$"
   ]
  },
  {
   "cell_type": "code",
   "execution_count": 3,
   "id": "d9f02784",
   "metadata": {},
   "outputs": [
    {
     "name": "stdout",
     "output_type": "stream",
     "text": [
      "0.4\n"
     ]
    }
   ],
   "source": [
    "#7. 재현률 _ TPR   :   True  Positive rate _ FN이 커지면 재현률이 작아진다. \n",
    "#[중요]  : 재현률과 적합률은 분류 클래스를 양성, 음성에 따라 결과가 많이 달라진다. \n",
    "from sklearn.metrics import recall_score\n",
    "\n",
    "y_true = [0, 0, 0, 0, 0, 1, 1, 1, 1, 1]\n",
    "y_pred = [0, 1, 1, 1, 1, 0, 0, 0, 1, 1]\n",
    "\n",
    "\n",
    "print(recall_score(y_true, y_pred))"
   ]
  },
  {
   "cell_type": "markdown",
   "id": "927f1c94",
   "metadata": {},
   "source": [
    "### 1) 진짜 야옹이를 찾아보는  지표를 생각해서 다시한번 말그대로 재현\n",
    "| 대상|개수|야옹이 맞아 |야옹이 아니야|\n",
    "| :--- | :---: | ---: |---: |\n",
    "|사람| 900| 0|900|\n",
    "|강아지| 50|0|50|\n",
    "|염소| 15 | 0|15|\n",
    "|버팔로|5 | 0|5|\n",
    "|야옹이|30| 0|30|\n",
    "\n",
    "$$\n",
    "재현률 =\n",
    "\\dfrac {TP}{TP+FN}=\\dfrac{0}{0+30} =0\n",
    "$$\n",
    "\n",
    "### 2)다시  재학습을 시켜서 결과를 재확인 후 재현율 확인 \n",
    "| 대상|개수|야옹이 맞아 |야옹이 아니야|\n",
    "| :--- | :---: | ---: |---: |\n",
    "|사람| 900| 2|898|\n",
    "|강아지| 50|20|30|\n",
    "|염소| 15 | 4|11|\n",
    "|버팔로|5 | 1|4|\n",
    "|야옹이|30| 27|3|\n",
    "\n",
    "$$\n",
    "재현률 =\n",
    "\\dfrac {TP}{TP+FN}=\\dfrac{27}{27+3} =0.9\n",
    "$$"
   ]
  },
  {
   "cell_type": "markdown",
   "id": "20ba9af9",
   "metadata": {},
   "source": [
    "### F1 값(F1-measure): f1_score()\n",
    "$$\n",
    "F1-measure = \\dfrac {2*precision*recall}{precision+recall}=\\dfrac{2*TP}{2*TP + FP+FN}\n",
    "$$"
   ]
  },
  {
   "cell_type": "code",
   "execution_count": 13,
   "id": "dc869658",
   "metadata": {},
   "outputs": [
    {
     "name": "stdout",
     "output_type": "stream",
     "text": [
      "0.3636363636363636\n"
     ]
    }
   ],
   "source": [
    "#8.f1_score()를 사용하자  \n",
    "#F1 : 적합률과 재현률의 조화 평균 -> 분류 클래스를 양성, 음성에 따라 결과가 많이 달라진다.  \n",
    "from sklearn.metrics import f1_score\n",
    "\n",
    "y_true = [0, 0, 0, 0, 0, 1, 1, 1, 1, 1]\n",
    "y_pred = [0, 1, 1, 1, 1, 0, 0, 0, 1, 1]\n",
    "\n",
    "print(f1_score(y_true, y_pred))"
   ]
  },
  {
   "cell_type": "raw",
   "id": "014ef5ee",
   "metadata": {},
   "source": [
    "#9. classification_report()  -> 적합률 , 재현률, f1 -> 평균, 마이크로평균, 가중평균,,, 출력  \n",
    "sklearn.metrics.classification_report(y_true, y_pred, *, labels=None, target_names=None, sample_weight=None, digits=2, output_dict=False, zero_division='warn')\n",
    "\n"
   ]
  },
  {
   "cell_type": "code",
   "execution_count": 5,
   "id": "f01255a2",
   "metadata": {},
   "outputs": [
    {
     "name": "stdout",
     "output_type": "stream",
     "text": [
      "              precision    recall  f1-score   support\n",
      "\n",
      "     class_0       0.25      0.20      0.22         5\n",
      "     class_1       0.33      0.40      0.36         5\n",
      "\n",
      "    accuracy                           0.30        10\n",
      "   macro avg       0.29      0.30      0.29        10\n",
      "weighted avg       0.29      0.30      0.29        10\n",
      "\n"
     ]
    }
   ],
   "source": [
    "#9. classification_report()  \n",
    "from sklearn.metrics import classification_report\n",
    "from sklearn.metrics import precision_recall_fscore_support\n",
    "y_true = [0, 0, 0, 0, 0, 1, 1, 1, 1, 1]\n",
    "y_pred = [0, 1, 1, 1, 1, 0, 0, 0, 1, 1]\n",
    "\n",
    "#print(classification_report(y_true, y_pred))\n",
    "print(classification_report(y_true, y_pred, target_names=[\"class_0\",\" class_1\"]))"
   ]
  },
  {
   "cell_type": "code",
   "execution_count": 15,
   "id": "e248545f",
   "metadata": {},
   "outputs": [
    {
     "name": "stdout",
     "output_type": "stream",
     "text": [
      "{'0': {'f1-score': 0.22222222222222224,\n",
      "       'precision': 0.25,\n",
      "       'recall': 0.2,\n",
      "       'support': 5},\n",
      " '1': {'f1-score': 0.3636363636363636,\n",
      "       'precision': 0.3333333333333333,\n",
      "       'recall': 0.4,\n",
      "       'support': 5},\n",
      " 'accuracy': 0.3,\n",
      " 'macro avg': {'f1-score': 0.29292929292929293,\n",
      "               'precision': 0.29166666666666663,\n",
      "               'recall': 0.30000000000000004,\n",
      "               'support': 10},\n",
      " 'weighted avg': {'f1-score': 0.29292929292929293,\n",
      "                  'precision': 0.29166666666666663,\n",
      "                  'recall': 0.3,\n",
      "                  'support': 10}}\n",
      "{'precision': 0.25, 'recall': 0.2, 'f1-score': 0.22222222222222224, 'support': 5}\n",
      "0.25\n"
     ]
    }
   ],
   "source": [
    "import pandas as pd\n",
    "import pprint\n",
    "res = classification_report(y_true, y_pred, output_dict=True)\n",
    "pprint.pprint(res)"
   ]
  },
  {
   "cell_type": "code",
   "execution_count": 8,
   "id": "d213c6a8",
   "metadata": {},
   "outputs": [
    {
     "name": "stdout",
     "output_type": "stream",
     "text": [
      "{'precision': 0.25, 'recall': 0.2, 'f1-score': 0.22222222222222224, 'support': 5}\n",
      "0.25\n"
     ]
    }
   ],
   "source": [
    "#10. 부분 추출을 해보자.  \n",
    "import pandas as pd\n",
    "import pprint\n",
    "res = classification_report(y_true, y_pred, output_dict=True)\n",
    "#pprint.pprint(res)\n",
    "print(res['0'])\n",
    "print(res['0']['precision'])"
   ]
  },
  {
   "cell_type": "code",
   "execution_count": 9,
   "id": "33af0db8",
   "metadata": {},
   "outputs": [
    {
     "data": {
      "text/html": [
       "<div>\n",
       "<style scoped>\n",
       "    .dataframe tbody tr th:only-of-type {\n",
       "        vertical-align: middle;\n",
       "    }\n",
       "\n",
       "    .dataframe tbody tr th {\n",
       "        vertical-align: top;\n",
       "    }\n",
       "\n",
       "    .dataframe thead th {\n",
       "        text-align: right;\n",
       "    }\n",
       "</style>\n",
       "<table border=\"1\" class=\"dataframe\">\n",
       "  <thead>\n",
       "    <tr style=\"text-align: right;\">\n",
       "      <th></th>\n",
       "      <th>0</th>\n",
       "      <th>1</th>\n",
       "      <th>accuracy</th>\n",
       "      <th>macro avg</th>\n",
       "      <th>weighted avg</th>\n",
       "    </tr>\n",
       "  </thead>\n",
       "  <tbody>\n",
       "    <tr>\n",
       "      <th>precision</th>\n",
       "      <td>0.250000</td>\n",
       "      <td>0.333333</td>\n",
       "      <td>0.3</td>\n",
       "      <td>0.291667</td>\n",
       "      <td>0.291667</td>\n",
       "    </tr>\n",
       "    <tr>\n",
       "      <th>recall</th>\n",
       "      <td>0.200000</td>\n",
       "      <td>0.400000</td>\n",
       "      <td>0.3</td>\n",
       "      <td>0.300000</td>\n",
       "      <td>0.300000</td>\n",
       "    </tr>\n",
       "    <tr>\n",
       "      <th>f1-score</th>\n",
       "      <td>0.222222</td>\n",
       "      <td>0.363636</td>\n",
       "      <td>0.3</td>\n",
       "      <td>0.292929</td>\n",
       "      <td>0.292929</td>\n",
       "    </tr>\n",
       "    <tr>\n",
       "      <th>support</th>\n",
       "      <td>5.000000</td>\n",
       "      <td>5.000000</td>\n",
       "      <td>0.3</td>\n",
       "      <td>10.000000</td>\n",
       "      <td>10.000000</td>\n",
       "    </tr>\n",
       "  </tbody>\n",
       "</table>\n",
       "</div>"
      ],
      "text/plain": [
       "                  0         1  accuracy  macro avg  weighted avg\n",
       "precision  0.250000  0.333333       0.3   0.291667      0.291667\n",
       "recall     0.200000  0.400000       0.3   0.300000      0.300000\n",
       "f1-score   0.222222  0.363636       0.3   0.292929      0.292929\n",
       "support    5.000000  5.000000       0.3  10.000000     10.000000"
      ]
     },
     "execution_count": 9,
     "metadata": {},
     "output_type": "execute_result"
    }
   ],
   "source": [
    "#11.판다스로 변환해서 출력해보자. -> 발표자료, 경진대회 \n",
    "df= pd.DataFrame(res)\n",
    "df"
   ]
  },
  {
   "cell_type": "code",
   "execution_count": 10,
   "id": "15ef4945",
   "metadata": {},
   "outputs": [
    {
     "name": "stdout",
     "output_type": "stream",
     "text": [
      "                  0         1\n",
      "precision  0.250000  0.333333\n",
      "recall     0.200000  0.400000\n",
      "f1-score   0.222222  0.363636\n",
      "support    5.000000  5.000000\n"
     ]
    }
   ],
   "source": [
    "#12. dict -> 판다스  -> 원하는 지표만 클래스만 출력 해보자. \n",
    "print(df.iloc[:, :-3])\n"
   ]
  },
  {
   "cell_type": "code",
   "execution_count": 11,
   "id": "3f99b41d",
   "metadata": {},
   "outputs": [
    {
     "name": "stdout",
     "output_type": "stream",
     "text": [
      "           accuracy  macro avg  weighted avg\n",
      "precision       0.3   0.291667      0.291667\n",
      "recall          0.3   0.300000      0.300000\n",
      "f1-score        0.3   0.292929      0.292929\n",
      "support         0.3  10.000000     10.000000\n"
     ]
    }
   ],
   "source": [
    "#13. dict -> 판다스  -> 원하는 지표만 즉 점수만 출력 해보자. \n",
    "print(df.iloc[:, -3:])"
   ]
  },
  {
   "cell_type": "code",
   "execution_count": null,
   "id": "ce90d1d2",
   "metadata": {},
   "outputs": [],
   "source": []
  }
 ],
 "metadata": {
  "kernelspec": {
   "display_name": "Python 3 (ipykernel)",
   "language": "python",
   "name": "python3"
  },
  "language_info": {
   "codemirror_mode": {
    "name": "ipython",
    "version": 3
   },
   "file_extension": ".py",
   "mimetype": "text/x-python",
   "name": "python",
   "nbconvert_exporter": "python",
   "pygments_lexer": "ipython3",
   "version": "3.11.5"
  }
 },
 "nbformat": 4,
 "nbformat_minor": 5
}
