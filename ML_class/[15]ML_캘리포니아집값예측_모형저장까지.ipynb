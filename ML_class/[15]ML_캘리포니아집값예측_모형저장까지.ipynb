{
 "cells": [
  {
   "cell_type": "raw",
   "id": "3965a823",
   "metadata": {
    "id": "3965a823"
   },
   "source": [
    "  1.  캐글 데이터를 사용해서 복잡한 기계 학습 모델을 사용하여 훈련 할 수 있다. \n",
    "      - SVM, RandomForest, GradientBoostingTree ,  MLP  \n",
    "\n",
    "   2. 교차 검증을 사용해서 재평가 검증을  할 수 있다.  \n",
    "     - SVM , RandomForest,  GradientBoostingTree ,  MLP   -> 재검증 \n",
    "\n",
    "   3.  학습된 모델과 교차검증 후  그리드 검색 및 랜덤 검색을  할 수 있다.   \n",
    "\n",
    "   4. 최고 모델에서 교차 검증 및 최상의 ML 모델로 평가  \n",
    "\n",
    "   5. 최종 모델을 pickle 파일에 저장  \n",
    "\n",
    "   6. 바이어스  및  분산 트레이드 오프  \n",
    "   \n",
    "   목적  : fetch_california_housing를 로드 해서 분석한 다음 예측치와 정답 레벨의 오차를 \n",
    "           어느 정도 줄일 수 있는지를 확인 해보자 . (0.15) -> 1만 오천달러 차이가 난다  "
   ]
  },
  {
   "cell_type": "code",
   "execution_count": 1,
   "id": "b38c939d",
   "metadata": {
    "id": "b38c939d"
   },
   "outputs": [],
   "source": [
    "# matplotlib에서 한글 폰트를 설정하는 방법\n",
    "import matplotlib.pyplot as plt\n",
    "plt.rc(\"font\", family=\"malgun gothic\")\n",
    "\n",
    "# 음수 기호 출력 방법\n",
    "import matplotlib\n",
    "matplotlib.rcParams[\"axes.unicode_minus\"]=False\n",
    "\n",
    "# 그래프를 선명하게 출력하는 방법\n",
    "%config InlineBackend.figure_format = \"retina\"\n",
    "\n",
    "import numpy as np\n",
    "import warnings\n",
    "warnings.filterwarnings('ignore')"
   ]
  },
  {
   "cell_type": "markdown",
   "id": "e4ec8589",
   "metadata": {
    "id": "e4ec8589"
   },
   "source": [
    "### Q1) 데이터 로드 "
   ]
  },
  {
   "cell_type": "code",
   "execution_count": 2,
   "id": "9333f8a5",
   "metadata": {
    "id": "9333f8a5"
   },
   "outputs": [],
   "source": [
    "from sklearn.datasets import fetch_california_housing\n",
    "from sklearn.model_selection import train_test_split\n",
    "from sklearn.linear_model import LinearRegression\n",
    "import pandas as pd\n",
    "\n",
    "# step 1. 데이터 준비\n",
    "housing = fetch_california_housing()\n",
    "\n",
    "X=pd.DataFrame(housing.data, columns = housing.feature_names) # 설명변수  \n",
    "y=pd.DataFrame(housing.target, columns=['Price'])  #목적변수 (정답 레이블)"
   ]
  },
  {
   "cell_type": "code",
   "execution_count": 3,
   "id": "6a2fb1ae",
   "metadata": {
    "colab": {
     "base_uri": "https://localhost:8080/",
     "height": 0
    },
    "id": "6a2fb1ae",
    "outputId": "fdadc7ec-9867-4251-afc3-0e77c1010af5"
   },
   "outputs": [
    {
     "data": {
      "text/plain": [
       "((16512, 8), (4128, 8))"
      ]
     },
     "execution_count": 3,
     "metadata": {},
     "output_type": "execute_result"
    }
   ],
   "source": [
    "#2.  훈련셋트랑 테스로 세트로 분할  : 데이터셋 20%를 테스트데이터로 분할\n",
    "X_train, X_test, y_train,y_test = train_test_split(X,y, test_size =0.2 , random_state =0)\n",
    "X_train.shape, X_test.shape"
   ]
  },
  {
   "cell_type": "code",
   "execution_count": 4,
   "id": "07307dd4",
   "metadata": {
    "id": "07307dd4"
   },
   "outputs": [],
   "source": [
    "#3.설명변수와, 목적변수를 pandas 데이터 프레임에 저장 하자.  \n",
    "train_set = pd.concat([X_train,y_train], axis=1)\n",
    "test_set = pd.concat([X_test, y_test], axis=1)"
   ]
  },
  {
   "cell_type": "code",
   "execution_count": 5,
   "id": "c45b740a",
   "metadata": {
    "colab": {
     "base_uri": "https://localhost:8080/",
     "height": 344
    },
    "id": "c45b740a",
    "outputId": "2a55ddaa-55e9-45e2-df9e-c873f09dfcc5"
   },
   "outputs": [
    {
     "data": {
      "text/html": [
       "<div>\n",
       "<style scoped>\n",
       "    .dataframe tbody tr th:only-of-type {\n",
       "        vertical-align: middle;\n",
       "    }\n",
       "\n",
       "    .dataframe tbody tr th {\n",
       "        vertical-align: top;\n",
       "    }\n",
       "\n",
       "    .dataframe thead th {\n",
       "        text-align: right;\n",
       "    }\n",
       "</style>\n",
       "<table border=\"1\" class=\"dataframe\">\n",
       "  <thead>\n",
       "    <tr style=\"text-align: right;\">\n",
       "      <th></th>\n",
       "      <th>MedInc</th>\n",
       "      <th>HouseAge</th>\n",
       "      <th>AveRooms</th>\n",
       "      <th>AveBedrms</th>\n",
       "      <th>Population</th>\n",
       "      <th>AveOccup</th>\n",
       "      <th>Latitude</th>\n",
       "      <th>Longitude</th>\n",
       "      <th>Price</th>\n",
       "    </tr>\n",
       "  </thead>\n",
       "  <tbody>\n",
       "    <tr>\n",
       "      <th>count</th>\n",
       "      <td>16512.000000</td>\n",
       "      <td>16512.000000</td>\n",
       "      <td>16512.000000</td>\n",
       "      <td>16512.000000</td>\n",
       "      <td>16512.000000</td>\n",
       "      <td>16512.000000</td>\n",
       "      <td>16512.000000</td>\n",
       "      <td>16512.000000</td>\n",
       "      <td>16512.000000</td>\n",
       "    </tr>\n",
       "    <tr>\n",
       "      <th>mean</th>\n",
       "      <td>3.876298</td>\n",
       "      <td>28.619065</td>\n",
       "      <td>5.432607</td>\n",
       "      <td>1.096174</td>\n",
       "      <td>1425.437742</td>\n",
       "      <td>3.030518</td>\n",
       "      <td>35.624783</td>\n",
       "      <td>-119.563008</td>\n",
       "      <td>2.072499</td>\n",
       "    </tr>\n",
       "    <tr>\n",
       "      <th>std</th>\n",
       "      <td>1.906783</td>\n",
       "      <td>12.600999</td>\n",
       "      <td>2.523415</td>\n",
       "      <td>0.489529</td>\n",
       "      <td>1143.062756</td>\n",
       "      <td>6.441340</td>\n",
       "      <td>2.136552</td>\n",
       "      <td>2.005251</td>\n",
       "      <td>1.156915</td>\n",
       "    </tr>\n",
       "    <tr>\n",
       "      <th>min</th>\n",
       "      <td>0.499900</td>\n",
       "      <td>1.000000</td>\n",
       "      <td>0.846154</td>\n",
       "      <td>0.333333</td>\n",
       "      <td>3.000000</td>\n",
       "      <td>0.750000</td>\n",
       "      <td>32.540000</td>\n",
       "      <td>-124.350000</td>\n",
       "      <td>0.149990</td>\n",
       "    </tr>\n",
       "    <tr>\n",
       "      <th>25%</th>\n",
       "      <td>2.566625</td>\n",
       "      <td>18.000000</td>\n",
       "      <td>4.447644</td>\n",
       "      <td>1.005760</td>\n",
       "      <td>785.000000</td>\n",
       "      <td>2.428016</td>\n",
       "      <td>33.930000</td>\n",
       "      <td>-121.800000</td>\n",
       "      <td>1.200000</td>\n",
       "    </tr>\n",
       "    <tr>\n",
       "      <th>50%</th>\n",
       "      <td>3.548500</td>\n",
       "      <td>29.000000</td>\n",
       "      <td>5.234243</td>\n",
       "      <td>1.048720</td>\n",
       "      <td>1166.000000</td>\n",
       "      <td>2.817937</td>\n",
       "      <td>34.250000</td>\n",
       "      <td>-118.490000</td>\n",
       "      <td>1.802500</td>\n",
       "    </tr>\n",
       "    <tr>\n",
       "      <th>75%</th>\n",
       "      <td>4.747575</td>\n",
       "      <td>37.000000</td>\n",
       "      <td>6.059008</td>\n",
       "      <td>1.100000</td>\n",
       "      <td>1724.000000</td>\n",
       "      <td>3.283243</td>\n",
       "      <td>37.710000</td>\n",
       "      <td>-118.000000</td>\n",
       "      <td>2.647000</td>\n",
       "    </tr>\n",
       "    <tr>\n",
       "      <th>max</th>\n",
       "      <td>15.000100</td>\n",
       "      <td>52.000000</td>\n",
       "      <td>141.909091</td>\n",
       "      <td>34.066667</td>\n",
       "      <td>35682.000000</td>\n",
       "      <td>599.714286</td>\n",
       "      <td>41.950000</td>\n",
       "      <td>-114.310000</td>\n",
       "      <td>5.000010</td>\n",
       "    </tr>\n",
       "  </tbody>\n",
       "</table>\n",
       "</div>"
      ],
      "text/plain": [
       "             MedInc      HouseAge      AveRooms     AveBedrms    Population  \\\n",
       "count  16512.000000  16512.000000  16512.000000  16512.000000  16512.000000   \n",
       "mean       3.876298     28.619065      5.432607      1.096174   1425.437742   \n",
       "std        1.906783     12.600999      2.523415      0.489529   1143.062756   \n",
       "min        0.499900      1.000000      0.846154      0.333333      3.000000   \n",
       "25%        2.566625     18.000000      4.447644      1.005760    785.000000   \n",
       "50%        3.548500     29.000000      5.234243      1.048720   1166.000000   \n",
       "75%        4.747575     37.000000      6.059008      1.100000   1724.000000   \n",
       "max       15.000100     52.000000    141.909091     34.066667  35682.000000   \n",
       "\n",
       "           AveOccup      Latitude     Longitude         Price  \n",
       "count  16512.000000  16512.000000  16512.000000  16512.000000  \n",
       "mean       3.030518     35.624783   -119.563008      2.072499  \n",
       "std        6.441340      2.136552      2.005251      1.156915  \n",
       "min        0.750000     32.540000   -124.350000      0.149990  \n",
       "25%        2.428016     33.930000   -121.800000      1.200000  \n",
       "50%        2.817937     34.250000   -118.490000      1.802500  \n",
       "75%        3.283243     37.710000   -118.000000      2.647000  \n",
       "max      599.714286     41.950000   -114.310000      5.000010  "
      ]
     },
     "execution_count": 5,
     "metadata": {},
     "output_type": "execute_result"
    }
   ],
   "source": [
    "#4.train_set[학습용] , test_set[테스트 데이터 셋]  의 각 통계 정보를 확인  \n",
    "train_set.describe()\n",
    "#test_set.describe()\n",
    "#[생각] 테스트 셋 데이터는 알려지지 않은 데이터이기 때문에 마지막 평가를 위해 훈련셋을 전처리한다. "
   ]
  },
  {
   "cell_type": "markdown",
   "id": "0d4ee19b",
   "metadata": {
    "id": "0d4ee19b"
   },
   "source": [
    "### Q2)  커스텀 변환기  만들자. "
   ]
  },
  {
   "cell_type": "code",
   "execution_count": 6,
   "id": "80bf4ffe",
   "metadata": {
    "id": "80bf4ffe"
   },
   "outputs": [],
   "source": [
    "import numpy as np \n",
    "#1.지정된 속성의 값을 반올림해서 정수로 바꾸는 함수  \n",
    "def  round_number(df):\n",
    "    res =  ['AveRooms','AveBedrms','AveOccup']\n",
    "    for  c in res:\n",
    "        df[c] = np.round(df[c])\n",
    "    return df\n",
    "\n",
    "#2.표준편차의 2배이상의 값을 제거   : 평균값과 중앙값이 가깝게 나타나기 때문에 도출 값 제거기능 \n",
    "def  std_exclude(df):\n",
    "    columns  =  df [['MedInc','AveRooms','Population', 'AveOccup']].columns     \n",
    "    for col in columns:\n",
    "        mean = df[col].mean();\n",
    "        std  = df[col].std(); \n",
    "        b = np.abs(df[col]-mean) / std\n",
    "        df = df[(b < 2 )]     \n",
    "    return df \n",
    "\n",
    "\n",
    "#3. 지역의 인구  600~ 3000명에 대한 평가 및 카테고리 분류 \n",
    "def category(df):    \n",
    "    if df < 600:\n",
    "        return 'few'\n",
    "    elif df > 3000:\n",
    "        return  'many'\n",
    "    else:\n",
    "        return  'usually'\n",
    "    \n",
    "#4. 1~3까지 사용자 함수를 결합한 사용자 정의 함수 설정  \n",
    "def  custom_conversion(dataframe):    \n",
    "    df = dataframe.copy()\n",
    "    df = round_number(df) ##1번 함수를 통해서 정수화  \n",
    "\n",
    "    ### 조건 데이터 추출 \n",
    "    df =df[df['HouseAge']< 52 ]\n",
    "    \n",
    "    df = df [df['Price'] < 5  ]\n",
    "    df = std_exclude(df)  ##2번 함수를 통해서 조건에 추출\n",
    "    \n",
    "    ### 평균 방 수와 평균 침실 수를 비교   \n",
    "    df['Bedrms_per_Rooms'] = df['AveBedrms'] / df ['AveRooms']\n",
    "    df['Population_Feature'] = df['Population'].apply(category)  ## 3번 함수를 적용\n",
    "    \n",
    "    ### 카테고리 속성을 더미 변수화 하기  \n",
    "    feature_dummies  = pd.get_dummies( df['Population_Feature'] , drop_first = True)\n",
    "    df = pd.concat([df, feature_dummies] , axis =1 )\n",
    "    \n",
    "    ####X를 설명변수 , y를 목적변수에 대입해 둔다. \n",
    "    X = df.drop(['AveBedrms','Price', 'Population_Feature'  ] , axis =1)\n",
    "    y = df['Price']\n",
    "    \n",
    "    return X,y  \n",
    "#5. 변환기 실행\n",
    "X,y   =  custom_conversion(train_set)  "
   ]
  },
  {
   "cell_type": "code",
   "execution_count": 7,
   "id": "5fc1fa93",
   "metadata": {
    "colab": {
     "base_uri": "https://localhost:8080/",
     "height": 364
    },
    "id": "5fc1fa93",
    "outputId": "6f6a9edf-2260-4282-e7c1-c930bdf747f1"
   },
   "outputs": [
    {
     "data": {
      "text/html": [
       "<div>\n",
       "<style scoped>\n",
       "    .dataframe tbody tr th:only-of-type {\n",
       "        vertical-align: middle;\n",
       "    }\n",
       "\n",
       "    .dataframe tbody tr th {\n",
       "        vertical-align: top;\n",
       "    }\n",
       "\n",
       "    .dataframe thead th {\n",
       "        text-align: right;\n",
       "    }\n",
       "</style>\n",
       "<table border=\"1\" class=\"dataframe\">\n",
       "  <thead>\n",
       "    <tr style=\"text-align: right;\">\n",
       "      <th></th>\n",
       "      <th>MedInc</th>\n",
       "      <th>HouseAge</th>\n",
       "      <th>AveRooms</th>\n",
       "      <th>Population</th>\n",
       "      <th>AveOccup</th>\n",
       "      <th>Latitude</th>\n",
       "      <th>Longitude</th>\n",
       "      <th>Bedrms_per_Rooms</th>\n",
       "    </tr>\n",
       "  </thead>\n",
       "  <tbody>\n",
       "    <tr>\n",
       "      <th>count</th>\n",
       "      <td>13490.000000</td>\n",
       "      <td>13490.000000</td>\n",
       "      <td>13490.000000</td>\n",
       "      <td>13490.000000</td>\n",
       "      <td>13490.000000</td>\n",
       "      <td>13490.000000</td>\n",
       "      <td>13490.000000</td>\n",
       "      <td>13490.000000</td>\n",
       "    </tr>\n",
       "    <tr>\n",
       "      <th>mean</th>\n",
       "      <td>3.521691</td>\n",
       "      <td>27.732765</td>\n",
       "      <td>5.152780</td>\n",
       "      <td>1323.445219</td>\n",
       "      <td>2.931579</td>\n",
       "      <td>35.603957</td>\n",
       "      <td>-119.501109</td>\n",
       "      <td>0.207191</td>\n",
       "    </tr>\n",
       "    <tr>\n",
       "      <th>std</th>\n",
       "      <td>1.336221</td>\n",
       "      <td>11.243943</td>\n",
       "      <td>1.137455</td>\n",
       "      <td>722.577783</td>\n",
       "      <td>0.756020</td>\n",
       "      <td>2.156848</td>\n",
       "      <td>1.981430</td>\n",
       "      <td>0.054826</td>\n",
       "    </tr>\n",
       "    <tr>\n",
       "      <th>min</th>\n",
       "      <td>0.643300</td>\n",
       "      <td>1.000000</td>\n",
       "      <td>1.000000</td>\n",
       "      <td>6.000000</td>\n",
       "      <td>1.000000</td>\n",
       "      <td>32.540000</td>\n",
       "      <td>-124.300000</td>\n",
       "      <td>0.000000</td>\n",
       "    </tr>\n",
       "    <tr>\n",
       "      <th>25%</th>\n",
       "      <td>2.500000</td>\n",
       "      <td>18.000000</td>\n",
       "      <td>4.000000</td>\n",
       "      <td>805.000000</td>\n",
       "      <td>2.000000</td>\n",
       "      <td>33.930000</td>\n",
       "      <td>-121.550000</td>\n",
       "      <td>0.166667</td>\n",
       "    </tr>\n",
       "    <tr>\n",
       "      <th>50%</th>\n",
       "      <td>3.382000</td>\n",
       "      <td>28.000000</td>\n",
       "      <td>5.000000</td>\n",
       "      <td>1183.000000</td>\n",
       "      <td>3.000000</td>\n",
       "      <td>34.240000</td>\n",
       "      <td>-118.450000</td>\n",
       "      <td>0.200000</td>\n",
       "    </tr>\n",
       "    <tr>\n",
       "      <th>75%</th>\n",
       "      <td>4.437500</td>\n",
       "      <td>36.000000</td>\n",
       "      <td>6.000000</td>\n",
       "      <td>1695.000000</td>\n",
       "      <td>3.000000</td>\n",
       "      <td>37.680000</td>\n",
       "      <td>-117.990000</td>\n",
       "      <td>0.250000</td>\n",
       "    </tr>\n",
       "    <tr>\n",
       "      <th>max</th>\n",
       "      <td>6.831700</td>\n",
       "      <td>51.000000</td>\n",
       "      <td>10.000000</td>\n",
       "      <td>3814.000000</td>\n",
       "      <td>5.000000</td>\n",
       "      <td>41.950000</td>\n",
       "      <td>-114.550000</td>\n",
       "      <td>1.000000</td>\n",
       "    </tr>\n",
       "  </tbody>\n",
       "</table>\n",
       "</div>"
      ],
      "text/plain": [
       "             MedInc      HouseAge      AveRooms    Population      AveOccup  \\\n",
       "count  13490.000000  13490.000000  13490.000000  13490.000000  13490.000000   \n",
       "mean       3.521691     27.732765      5.152780   1323.445219      2.931579   \n",
       "std        1.336221     11.243943      1.137455    722.577783      0.756020   \n",
       "min        0.643300      1.000000      1.000000      6.000000      1.000000   \n",
       "25%        2.500000     18.000000      4.000000    805.000000      2.000000   \n",
       "50%        3.382000     28.000000      5.000000   1183.000000      3.000000   \n",
       "75%        4.437500     36.000000      6.000000   1695.000000      3.000000   \n",
       "max        6.831700     51.000000     10.000000   3814.000000      5.000000   \n",
       "\n",
       "           Latitude     Longitude  Bedrms_per_Rooms  \n",
       "count  13490.000000  13490.000000      13490.000000  \n",
       "mean      35.603957   -119.501109          0.207191  \n",
       "std        2.156848      1.981430          0.054826  \n",
       "min       32.540000   -124.300000          0.000000  \n",
       "25%       33.930000   -121.550000          0.166667  \n",
       "50%       34.240000   -118.450000          0.200000  \n",
       "75%       37.680000   -117.990000          0.250000  \n",
       "max       41.950000   -114.550000          1.000000  "
      ]
     },
     "execution_count": 7,
     "metadata": {},
     "output_type": "execute_result"
    }
   ],
   "source": [
    "#6.X 통계 확인 \n",
    "X.describe()"
   ]
  },
  {
   "cell_type": "code",
   "execution_count": 8,
   "id": "d0ec49a9",
   "metadata": {
    "id": "d0ec49a9"
   },
   "outputs": [],
   "source": [
    "#7. 설명변수 스케일링 작업  \n",
    "from sklearn.preprocessing import StandardScaler\n",
    "\n",
    "scaler  = StandardScaler()\n",
    "X_s = scaler.fit_transform(X)\n"
   ]
  },
  {
   "cell_type": "markdown",
   "id": "b0355bd9",
   "metadata": {
    "id": "b0355bd9"
   },
   "source": [
    "### Q3.     1.  캐글 데이터를 사용해서 복잡한(비선형) 기계 학습 모델을 사용하여 훈련 할 수 있다. \n",
    "      - SVM, RandomForest, GradientBoostingTree ,  MLP  "
   ]
  },
  {
   "cell_type": "code",
   "execution_count": 9,
   "id": "27ce6cb1",
   "metadata": {
    "colab": {
     "base_uri": "https://localhost:8080/",
     "height": 0
    },
    "id": "27ce6cb1",
    "outputId": "1d2c433f-527c-4410-afeb-74ac8e210d51"
   },
   "outputs": [
    {
     "data": {
      "text/plain": [
       "0.5782170375200296"
      ]
     },
     "execution_count": 9,
     "metadata": {},
     "output_type": "execute_result"
    }
   ],
   "source": [
    "#1. 모델 적용 하기전 선형회귀 모델에서 예측 오차를 확인 해보자.\n",
    "from sklearn.linear_model import LinearRegression\n",
    "from sklearn.metrics  import  mean_squared_error\n",
    "#선형회귀 모형 생성 \n",
    "model = LinearRegression().fit(X_s,y)\n",
    "\n",
    "#모델 예측값  \n",
    "pred   = model .predict(X_s)\n",
    "\n",
    "#오차확인  mean_squared_error\n",
    "mse   =   mean_squared_error(y, pred)\n",
    "\n",
    "#오차결과를 sqrt로 지정 출력  \n",
    "rmse  =  np.sqrt(mse)\n",
    "rmse    #5만 7천달러의 오차를 가진다.  "
   ]
  },
  {
   "cell_type": "markdown",
   "id": "dd8c8ed0",
   "metadata": {
    "id": "dd8c8ed0"
   },
   "source": [
    "#### 3-1  SVM 사용\n",
    "    - 중소규모 데이터 셋 활용할 수 있는 모형\n",
    "    - 분류, 회귀, 이상치 검출 등에 사용된다. \n",
    "    - 하이퍼파라미터 설정  "
   ]
  },
  {
   "cell_type": "code",
   "execution_count": 10,
   "id": "2ba33803",
   "metadata": {
    "colab": {
     "base_uri": "https://localhost:8080/",
     "height": 0
    },
    "id": "2ba33803",
    "outputId": "dd0f6ad6-c03d-4d9e-dcd5-f2c68a9235fe"
   },
   "outputs": [
    {
     "data": {
      "text/plain": [
       "0.49938331668750263"
      ]
     },
     "execution_count": 10,
     "metadata": {},
     "output_type": "execute_result"
    }
   ],
   "source": [
    "from sklearn.svm   import SVR\n",
    "\n",
    "# 모델 생성 및 실행  \n",
    "svm_model  = SVR()\n",
    "svm_model.fit(X_s,y)\n",
    "\n",
    "### 예측값과 정답 라벨의 오차를 구해보자.  \n",
    "\n",
    "#모델 예측값  \n",
    "svm_pred   = svm_model .predict(X_s)\n",
    "\n",
    "#오차확인  mean_squared_error\n",
    "svm_mse   =   mean_squared_error(y, svm_pred)\n",
    "\n",
    "#오차결과를 sqrt로 지정 출력  \n",
    "svm_rmse  =  np.sqrt(svm_mse)\n",
    "svm_rmse    #4만 9천달러의 오차를 가진다.  "
   ]
  },
  {
   "cell_type": "markdown",
   "id": "47d55df8",
   "metadata": {
    "id": "47d55df8"
   },
   "source": [
    "#### 3-2 sklearn.ensemble.RandomForestRegressor\n",
    "    - 가장 강력한 알고리즘 것 중 하나  \n",
    "    - 분류, 회귀, 구성요소 - 결정트리 \n",
    "    - 기계학습 모델을 앙상블 학습에 의해 조합한 모델이다.\n",
    "    - 앙상블 학습은 여러모델을 훈련하고 회귀일 경우 개별 예측 결과를 평균하여 최종 예측값으로 출력 한다. "
   ]
  },
  {
   "cell_type": "code",
   "execution_count": 11,
   "id": "c5c1a184",
   "metadata": {
    "colab": {
     "base_uri": "https://localhost:8080/",
     "height": 0
    },
    "id": "c5c1a184",
    "outputId": "152f397f-9025-4ae3-947a-4267386db4a3"
   },
   "outputs": [
    {
     "data": {
      "text/plain": [
       "0.16190002162205516"
      ]
     },
     "execution_count": 11,
     "metadata": {},
     "output_type": "execute_result"
    }
   ],
   "source": [
    "from sklearn.ensemble  import RandomForestRegressor\n",
    "\n",
    "# 모델 생성 및 실행  \n",
    "forest_model  = RandomForestRegressor(n_estimators=100, random_state= 12)\n",
    "forest_model.fit(X_s,y)\n",
    "\n",
    "### 예측값과 정답 라벨의 오차를 구해보자.  \n",
    "\n",
    "#모델 예측값  \n",
    "forest_pred   = forest_model .predict(X_s)\n",
    "\n",
    "#오차확인  mean_squared_error\n",
    "forest_mse   =   mean_squared_error(y, forest_pred)\n",
    "\n",
    "#오차결과를 sqrt로 지정 출력  \n",
    "forest_rmse  =  np.sqrt(forest_mse)\n",
    "forest_rmse    #1만 6천달러의 오차를 가진다.  -> 훈련 데이터 셋에 대한 정밀도가 좋다. "
   ]
  },
  {
   "cell_type": "markdown",
   "id": "74da0bc7",
   "metadata": {
    "id": "74da0bc7"
   },
   "source": [
    "#### 3-3 sklearn.ensemble.GradientBoostingRegressor\n",
    "    - 경사부스팅  : 결정트리를 순차적으로 훈련하고 모델수정하려고 시도하면서 예측을 한다. \n",
    "    - 결정 트리 1의 예측값과 정답 라벨의 오차 \n",
    "      -> 결정트리 2의 목적 변수로 대입한 후  훈련된 결정트리2의 예측값과 정답 라벨의 오차\n",
    "      -> 결정트리 3의 목적 변수로 대입한 후  훈련된 결정트리3의 예측값과 정답 라벨의 오차을 그 다음 트리로 전달\n",
    "      -> 결정트리 n이 끝나면 최종으로  1,2,3,n의 예측의 합을 리턴한다.  "
   ]
  },
  {
   "cell_type": "code",
   "execution_count": 12,
   "id": "3cfbfaf5",
   "metadata": {
    "colab": {
     "base_uri": "https://localhost:8080/",
     "height": 0
    },
    "id": "3cfbfaf5",
    "outputId": "ffa473d5-e4bb-412c-bff9-85ecc9423308"
   },
   "outputs": [
    {
     "data": {
      "text/plain": [
       "0.45871046190894127"
      ]
     },
     "execution_count": 12,
     "metadata": {},
     "output_type": "execute_result"
    }
   ],
   "source": [
    "from sklearn.ensemble  import GradientBoostingRegressor\n",
    "\n",
    "# 모델 생성 및 실행  \n",
    "gb_model  = GradientBoostingRegressor(random_state= 12)\n",
    "gb_model.fit(X_s,y)\n",
    "\n",
    "### 예측값과 정답 라벨의 오차를 구해보자.  \n",
    "\n",
    "#모델 예측값  \n",
    "gb_pred   = gb_model .predict(X_s)\n",
    "\n",
    "#오차확인  mean_squared_error\n",
    "gb_mse   =   mean_squared_error(y, gb_pred)\n",
    "\n",
    "#오차결과를 sqrt로 지정 출력  \n",
    "gb_rmse  =  np.sqrt(gb_mse)\n",
    "gb_rmse    #4만 5천달러의 오차를 가진다. "
   ]
  },
  {
   "cell_type": "markdown",
   "id": "7d31d20d",
   "metadata": {
    "id": "7d31d20d"
   },
   "source": [
    "#### 3-4  sklearn.neural_network.MLPRegressor\n",
    "    - 다층 퍼셉트론  : 여러 인공 신경망(뉴런)의 숨겨진 레이어로 구성된 심층 학습 모델  \n",
    "    - 뉴런  : 동물의 대뇌 피질에서 발견되는 세포를 말하며  컴퓨터로 표현해서 인공뉴런\n",
    "    - 인공 뉴럴 네트워크(ANN)  : 인공 뉴런이 네트 워크로 접속된 형태  \n",
    "    \n",
    "    - 단층 퍼셉트론 (퍼셉트론)  =  입력뉴런   +  출력 뉴런  \n",
    "    - 다층 퍼셉트론  = 입력  + 히든  + 출력  \n",
    "    \n",
    "    - 신경망에서는 입력값이  0~ 1까지의 범위에 들어가 있는 데이터를 전제로 한다.  -> 최소 ,최대값 스케일링 작업 !!!\n",
    "    "
   ]
  },
  {
   "cell_type": "code",
   "execution_count": 13,
   "id": "c1ec40b1",
   "metadata": {
    "id": "c1ec40b1"
   },
   "outputs": [],
   "source": [
    "from sklearn.preprocessing import MinMaxScaler\n",
    "min_max = MinMaxScaler()\n",
    "X_m = min_max.fit_transform(X)"
   ]
  },
  {
   "cell_type": "code",
   "execution_count": 14,
   "id": "561a87cb",
   "metadata": {
    "colab": {
     "base_uri": "https://localhost:8080/",
     "height": 0
    },
    "id": "561a87cb",
    "outputId": "5269ada0-add0-4f71-ba4e-ccb4fffe26f9"
   },
   "outputs": [
    {
     "data": {
      "text/plain": [
       "0.5782170375200296"
      ]
     },
     "execution_count": 14,
     "metadata": {},
     "output_type": "execute_result"
    }
   ],
   "source": [
    "from sklearn.neural_network import  MLPRegressor\n",
    "# 모델 생성 및 실행  \n",
    "mlp_model  = MLPRegressor(max_iter=300, random_state= 12)\n",
    "mlp_model.fit(X_m,y)\n",
    "\n",
    "### 예측값과 정답 라벨의 오차를 구해보자.  \n",
    "\n",
    "#모델 예측값  \n",
    "mlp_pred   = mlp_model .predict(X_m)\n",
    "\n",
    "#오차확인  mean_squared_error\n",
    "mlp_mse   =   mean_squared_error(y, mlp_pred)\n",
    "\n",
    "#오차결과를 sqrt로 지정 출력  \n",
    "mlp_rmse  =  np.sqrt(mse)\n",
    "mlp_rmse    #4만 8천달러의 오차를 가진다. "
   ]
  },
  {
   "cell_type": "code",
   "execution_count": 15,
   "id": "34fa4d5c",
   "metadata": {
    "colab": {
     "base_uri": "https://localhost:8080/",
     "height": 175
    },
    "id": "34fa4d5c",
    "outputId": "d17aebf8-4f42-4477-804d-be73c14c23cb"
   },
   "outputs": [
    {
     "data": {
      "text/html": [
       "<div>\n",
       "<style scoped>\n",
       "    .dataframe tbody tr th:only-of-type {\n",
       "        vertical-align: middle;\n",
       "    }\n",
       "\n",
       "    .dataframe tbody tr th {\n",
       "        vertical-align: top;\n",
       "    }\n",
       "\n",
       "    .dataframe thead th {\n",
       "        text-align: right;\n",
       "    }\n",
       "</style>\n",
       "<table border=\"1\" class=\"dataframe\">\n",
       "  <thead>\n",
       "    <tr style=\"text-align: right;\">\n",
       "      <th></th>\n",
       "      <th>평가</th>\n",
       "    </tr>\n",
       "  </thead>\n",
       "  <tbody>\n",
       "    <tr>\n",
       "      <th>SVM</th>\n",
       "      <td>0.499383</td>\n",
       "    </tr>\n",
       "    <tr>\n",
       "      <th>RandomForest</th>\n",
       "      <td>0.161900</td>\n",
       "    </tr>\n",
       "    <tr>\n",
       "      <th>GBoost</th>\n",
       "      <td>0.458710</td>\n",
       "    </tr>\n",
       "    <tr>\n",
       "      <th>MLP</th>\n",
       "      <td>0.578217</td>\n",
       "    </tr>\n",
       "  </tbody>\n",
       "</table>\n",
       "</div>"
      ],
      "text/plain": [
       "                    평가\n",
       "SVM           0.499383\n",
       "RandomForest  0.161900\n",
       "GBoost        0.458710\n",
       "MLP           0.578217"
      ]
     },
     "execution_count": 15,
     "metadata": {},
     "output_type": "execute_result"
    }
   ],
   "source": [
    "#각 모형의 RMSE를 pandas 데이터 프레임으로 저장하고 비교 해보자.  \n",
    "accuracy = pd.DataFrame( [svm_rmse, forest_rmse, gb_rmse, mlp_rmse]   ,\n",
    "                         index =['SVM' ,'RandomForest', 'GBoost', 'MLP'], columns =['평가'] )\n",
    "accuracy"
   ]
  },
  {
   "cell_type": "markdown",
   "id": "c0280ac6",
   "metadata": {
    "id": "c0280ac6"
   },
   "source": [
    "###  Q4 << 2. 교차 검증을 사용해서 재평가 검증을  할 수 있다.  >>\n",
    "     - SVM , RandomForest,  GradientBoostingTree ,  MLP   -> 재검증 \n",
    "     \n",
    "     - cross_val_score(교차검증) :  훈련데이터를 몇개의 수로 분할 하고, 그 분할된 만큼 훈련, 평가 (평균 제곱오차)를 실시해서\n",
    "       그 평균치를 모델의 정밀도로 리턴받는다.  \n",
    "       ex) 5분할 하게 되면 1첫번쨰 서브셋를 평가용으로 제거하고 나머지 4개의 서브셋을 훈련용으로 사용하고 첫번째 학습을 끝낸다\n",
    "           이작업을 5번- > 5개의 정밀도가 정해진다. -> 정밀도의 평균값 -> 실제의 성능지표 \n",
    "           https://scikit-learn.org/stable/modules/cross_validation.html#cross-validation"
   ]
  },
  {
   "cell_type": "code",
   "execution_count": 16,
   "id": "91722422",
   "metadata": {
    "id": "91722422"
   },
   "outputs": [],
   "source": [
    "#평가, 평균, 표준편차를 출력하는 사용자 함수를 작성한다. \n",
    "def display_scores(scores):\n",
    "    print('Score :' , scores) \n",
    "    print('Mean :' , scores.mean())   \n",
    "    print('STD : ' , scores.std())    "
   ]
  },
  {
   "cell_type": "code",
   "execution_count": 17,
   "id": "17f9de96",
   "metadata": {
    "colab": {
     "base_uri": "https://localhost:8080/",
     "height": 0
    },
    "id": "17f9de96",
    "outputId": "544f7d2d-63aa-4ca9-8781-fd4e476cc439"
   },
   "outputs": [
    {
     "name": "stdout",
     "output_type": "stream",
     "text": [
      "Score : [0.51300035 0.50944027 0.52991419 0.51807624 0.51571989]\n",
      "Mean : 0.5172301870932425\n",
      "STD :  0.006963547572011202\n"
     ]
    }
   ],
   "source": [
    "#1.SVC 재 평가  \n",
    "from sklearn.model_selection import cross_val_score\n",
    "\n",
    "svm_scores = cross_val_score(svm_model, X_s, y, scoring='neg_mean_squared_error', cv=5)\n",
    "svm_rmse_score = np.sqrt(-svm_scores) #-값의 평균 제곱오차가 요구된다. \n",
    "display_scores(svm_rmse_score )"
   ]
  },
  {
   "cell_type": "code",
   "execution_count": 18,
   "id": "b2109bd7",
   "metadata": {
    "colab": {
     "base_uri": "https://localhost:8080/",
     "height": 0
    },
    "id": "b2109bd7",
    "outputId": "041a366c-37b1-4609-dfb9-4e57e11e6a0b"
   },
   "outputs": [
    {
     "name": "stdout",
     "output_type": "stream",
     "text": [
      "Score : [0.44512695 0.43178837 0.45178465 0.42590075 0.44303237]\n",
      "Mean : 0.43952661760822914\n",
      "STD :  0.009375054059146277\n"
     ]
    }
   ],
   "source": [
    "#2.forest 재 평가  \n",
    "from sklearn.model_selection import cross_val_score\n",
    "\n",
    "forest_scores = cross_val_score(forest_model, X_s, y, scoring='neg_mean_squared_error', cv=5)\n",
    "forest_rmse_score = np.sqrt(-forest_scores) #-값의 평균 제곱오차가 요구된다. \n",
    "display_scores(forest_rmse_score )"
   ]
  },
  {
   "cell_type": "code",
   "execution_count": 19,
   "id": "fadccfdf",
   "metadata": {
    "colab": {
     "base_uri": "https://localhost:8080/",
     "height": 0
    },
    "id": "fadccfdf",
    "outputId": "78a9cd90-be5d-4b7c-a0fc-6dfd8073cae5"
   },
   "outputs": [
    {
     "name": "stdout",
     "output_type": "stream",
     "text": [
      "Score : [0.46875213 0.46981314 0.48301373 0.47003838 0.47917313]\n",
      "Mean : 0.47415810508923395\n",
      "STD :  0.0058077178420723585\n"
     ]
    }
   ],
   "source": [
    "#3.GradientBoosting  재 평가  \n",
    "from sklearn.model_selection import cross_val_score\n",
    "\n",
    "gb_scores = cross_val_score(gb_model, X_s, y, scoring='neg_mean_squared_error', cv=5)\n",
    "gb_rmse_score = np.sqrt(-gb_scores) #-값의 평균 제곱오차가 요구된다. \n",
    "display_scores(gb_rmse_score )"
   ]
  },
  {
   "cell_type": "code",
   "execution_count": 20,
   "id": "3bce6e3c",
   "metadata": {
    "colab": {
     "base_uri": "https://localhost:8080/",
     "height": 0
    },
    "id": "3bce6e3c",
    "outputId": "f60fad15-74fa-45ce-b5ec-968b01c49928"
   },
   "outputs": [
    {
     "name": "stdout",
     "output_type": "stream",
     "text": [
      "Score : [0.49299609 0.49536545 0.5109027  0.49626535 0.50255921]\n",
      "Mean : 0.4996177582430844\n",
      "STD :  0.0064679108092251325\n"
     ]
    }
   ],
   "source": [
    "#4.MLP 재 평가  \n",
    "from sklearn.model_selection import cross_val_score\n",
    "\n",
    "mlp_scores = cross_val_score(mlp_model, X_m, y, scoring='neg_mean_squared_error', cv=5)\n",
    "mlp_rmse_score = np.sqrt(-mlp_scores) #-값의 평균 제곱오차가 요구된다. \n",
    "display_scores(mlp_rmse_score )"
   ]
  },
  {
   "cell_type": "code",
   "execution_count": 21,
   "id": "a222e54a",
   "metadata": {
    "colab": {
     "base_uri": "https://localhost:8080/",
     "height": 175
    },
    "id": "a222e54a",
    "outputId": "99d46cad-10c2-4d9f-8563-2a250ecbe57d"
   },
   "outputs": [
    {
     "data": {
      "text/html": [
       "<div>\n",
       "<style scoped>\n",
       "    .dataframe tbody tr th:only-of-type {\n",
       "        vertical-align: middle;\n",
       "    }\n",
       "\n",
       "    .dataframe tbody tr th {\n",
       "        vertical-align: top;\n",
       "    }\n",
       "\n",
       "    .dataframe thead th {\n",
       "        text-align: right;\n",
       "    }\n",
       "</style>\n",
       "<table border=\"1\" class=\"dataframe\">\n",
       "  <thead>\n",
       "    <tr style=\"text-align: right;\">\n",
       "      <th></th>\n",
       "      <th>평가</th>\n",
       "      <th>CrossValidation</th>\n",
       "    </tr>\n",
       "  </thead>\n",
       "  <tbody>\n",
       "    <tr>\n",
       "      <th>SVM</th>\n",
       "      <td>0.499383</td>\n",
       "      <td>0.517230</td>\n",
       "    </tr>\n",
       "    <tr>\n",
       "      <th>RandomForest</th>\n",
       "      <td>0.161900</td>\n",
       "      <td>0.439527</td>\n",
       "    </tr>\n",
       "    <tr>\n",
       "      <th>GBoost</th>\n",
       "      <td>0.458710</td>\n",
       "      <td>0.474158</td>\n",
       "    </tr>\n",
       "    <tr>\n",
       "      <th>MLP</th>\n",
       "      <td>0.578217</td>\n",
       "      <td>0.499618</td>\n",
       "    </tr>\n",
       "  </tbody>\n",
       "</table>\n",
       "</div>"
      ],
      "text/plain": [
       "                    평가  CrossValidation\n",
       "SVM           0.499383         0.517230\n",
       "RandomForest  0.161900         0.439527\n",
       "GBoost        0.458710         0.474158\n",
       "MLP           0.578217         0.499618"
      ]
     },
     "execution_count": 21,
     "metadata": {},
     "output_type": "execute_result"
    }
   ],
   "source": [
    "# 각 모델의 검증 결과를 데이터 프레임에 저장한다. mean()\n",
    "accuracy['CrossValidation'] =  [svm_rmse_score.mean(), \\\n",
    "                                forest_rmse_score.mean(), gb_rmse_score.mean(), mlp_rmse_score.mean() ]\n",
    "accuracy"
   ]
  },
  {
   "cell_type": "markdown",
   "id": "1f10542a",
   "metadata": {
    "id": "1f10542a"
   },
   "source": [
    "  ###  Q5  << 3.  학습된 모델과 교차검증 후  그리드 검색 및 랜덤 검색을  할 수 있다.   >> \n",
    "    - GridSearchCV / RandomizedSearchCV  : 하이퍼파라미터값을  각 모델의 속성에 맞게  즉 생성자 매개인자의 조합을 대입\n",
    "    \n",
    "    -  하이퍼파라미터를 이용해서 각각의 조합으로 교차 검증하고 최고의 조합을 리턴해 준다. \n",
    "    \n",
    "    - 두 객체의 차이는 하이퍼 파라미터 값의 검색 영역이 적거나 많거나의 차이이다.  "
   ]
  },
  {
   "cell_type": "markdown",
   "id": "cb71f9f4",
   "metadata": {
    "id": "cb71f9f4"
   },
   "source": [
    "#### 5-1 SVR의 하이퍼 파라미터   "
   ]
  },
  {
   "cell_type": "code",
   "execution_count": null,
   "id": "e27e2839",
   "metadata": {
    "colab": {
     "base_uri": "https://localhost:8080/",
     "height": 0
    },
    "id": "e27e2839",
    "outputId": "c09487db-e84c-4ba0-a1f4-2d6a8e2d418e"
   },
   "outputs": [],
   "source": [
    "from sklearn.model_selection import  GridSearchCV #모델,하이퍼파라미터그룹 , 검증횟수, 평가설정  \n",
    "#C = 3, gamma= 2, kernel = 2,  cv=5 -> 12번 훈련 * 5 ->  60회 훈련 평가  -> 12가지의 검증 평균값이 출력된다.  \n",
    "param_grid  =[\n",
    "              {  'C' : [0.0001, 0.01, 0.1] ,     #1 , 10  \n",
    "                'gamma' : ['scale', 'auto'],\n",
    "                'kernel' :['linear', 'rbf' ]}\n",
    "             ]    \n",
    "svm_model  = SVR()\n",
    "svm_grid_search = GridSearchCV(svm_model,param_grid,cv=5,scoring='neg_mean_squared_error' ) \n",
    "svm_grid_search.fit(X_s, y)"
   ]
  },
  {
   "cell_type": "code",
   "execution_count": null,
   "id": "3290a0b2",
   "metadata": {
    "colab": {
     "base_uri": "https://localhost:8080/",
     "height": 0
    },
    "id": "3290a0b2",
    "outputId": "b08a02b3-5403-4fa9-e170-7d8d4c3b2b27"
   },
   "outputs": [],
   "source": [
    "#최상의 값 리턴 \n",
    "svm_grid_search.best_params_  # C:10   -> 0.468 "
   ]
  },
  {
   "cell_type": "code",
   "execution_count": null,
   "id": "46a313d2",
   "metadata": {
    "colab": {
     "base_uri": "https://localhost:8080/",
     "height": 0
    },
    "id": "46a313d2",
    "outputId": "b2959f10-32db-4e61-e59d-fc05bcf33dca"
   },
   "outputs": [],
   "source": [
    "# 모형을 통해 오류값 확인  \n",
    "svm_grid_pred  = svm_grid_search.best_estimator_.predict(X_s)\n",
    "svm_grid_mse  = mean_squared_error(y,svm_grid_pred )\n",
    "svm_grid_rmse = np.sqrt(svm_grid_mse)  # RMSE : 평균 제곱의 제곱근 오차 \n",
    "svm_grid_rmse #0.468  "
   ]
  },
  {
   "cell_type": "markdown",
   "id": "1b16f8f1",
   "metadata": {
    "id": "1b16f8f1"
   },
   "source": [
    "#### 5-2 랜덤포레스트의 하이퍼 파라미터   "
   ]
  },
  {
   "cell_type": "code",
   "execution_count": null,
   "id": "c968a600",
   "metadata": {
    "colab": {
     "base_uri": "https://localhost:8080/",
     "height": 0
    },
    "id": "c968a600",
    "outputId": "4efd0943-9e54-4af7-a58c-f5f299d64e87"
   },
   "outputs": [],
   "source": [
    "param_grid =  [\n",
    "      { 'max_depth' :  [3,5,7,13], \n",
    "        'n_estimators' :  [300,400,500] , \n",
    "        'random_state'  :[123]}     \n",
    "]\n",
    "forest_model = RandomForestRegressor() \n",
    "forest_grid_search = GridSearchCV(forest_model,param_grid,cv=5,scoring='neg_mean_squared_error' ) \n",
    "forest_grid_search.fit(X_s, y)"
   ]
  },
  {
   "cell_type": "code",
   "execution_count": null,
   "id": "c9fb19f9",
   "metadata": {
    "colab": {
     "base_uri": "https://localhost:8080/",
     "height": 0
    },
    "id": "c9fb19f9",
    "outputId": "022d9380-8b94-410d-ed44-ca085d6c257c"
   },
   "outputs": [],
   "source": [
    "# print(help(RandomForestRegressor ))\n",
    "forest_grid_search.best_params_"
   ]
  },
  {
   "cell_type": "code",
   "execution_count": null,
   "id": "5bed6f5e",
   "metadata": {
    "colab": {
     "base_uri": "https://localhost:8080/",
     "height": 0
    },
    "id": "5bed6f5e",
    "outputId": "567d38a7-4819-4766-8a08-d5f11d1afc43"
   },
   "outputs": [],
   "source": [
    "# 모형을 통해 오류값 확인 RMSE평가하기  \n",
    "forest_grid_pred  = forest_grid_search.best_estimator_.predict(X_s)\n",
    "forest_grid_mse  = mean_squared_error(y,forest_grid_pred )\n",
    "forest_grid_rmse = np.sqrt(forest_mse)  # RMSE : 평균 제곱의 제곱근 오차 \n",
    "forest_grid_rmse #0.468 "
   ]
  },
  {
   "cell_type": "markdown",
   "id": "ecaf818f",
   "metadata": {
    "id": "ecaf818f"
   },
   "source": [
    "#### 5-3 GradientBoosting의 하이퍼 파라미터   "
   ]
  },
  {
   "cell_type": "code",
   "execution_count": null,
   "id": "99c09552",
   "metadata": {
    "colab": {
     "base_uri": "https://localhost:8080/",
     "height": 0
    },
    "id": "99c09552",
    "outputId": "3152803f-23b9-4535-a8bc-5184fd80d51f"
   },
   "outputs": [],
   "source": [
    "param_grid =  [\n",
    "      { 'max_depth' :  [3,5,7,13], \n",
    "        'n_estimators' :  [300,400,500] , \n",
    "        'random_state'  :[123]}     \n",
    "]\n",
    "gb_model = RandomForestRegressor() \n",
    "gb_grid_search = GridSearchCV(gb_model,param_grid,cv=5,scoring='neg_mean_squared_error' ) \n",
    "gb_grid_search.fit(X_s, y)"
   ]
  },
  {
   "cell_type": "code",
   "execution_count": null,
   "id": "9dff1c6d",
   "metadata": {
    "colab": {
     "base_uri": "https://localhost:8080/",
     "height": 0
    },
    "id": "9dff1c6d",
    "outputId": "9787e65c-300b-46d1-b601-f498458410f1"
   },
   "outputs": [],
   "source": [
    "gb_grid_search.best_params_"
   ]
  },
  {
   "cell_type": "code",
   "execution_count": null,
   "id": "580a5262",
   "metadata": {
    "colab": {
     "base_uri": "https://localhost:8080/",
     "height": 0
    },
    "id": "580a5262",
    "outputId": "775d2004-0124-4de4-ce6a-200f9718b7d9"
   },
   "outputs": [],
   "source": [
    "# 모형을 통해 오류값 확인 RMSE평가하기  \n",
    "gb_grid_pred  = gb_grid_search.best_estimator_.predict(X_s)\n",
    "gb_grid_mse  = mean_squared_error(y,gb_grid_pred )\n",
    "gb_grid_rmse = np.sqrt(gb_mse)  # RMSE : 평균 제곱의 제곱근 오차 \n",
    "gb_grid_rmse #0.468 "
   ]
  },
  {
   "cell_type": "markdown",
   "id": "add331cb",
   "metadata": {
    "id": "add331cb"
   },
   "source": [
    "#### 5-4 MLP 의 하이퍼 파라미터    _ RandomizedSearchCV "
   ]
  },
  {
   "cell_type": "code",
   "execution_count": null,
   "id": "af0cccdc",
   "metadata": {
    "colab": {
     "base_uri": "https://localhost:8080/",
     "height": 0
    },
    "id": "af0cccdc",
    "outputId": "26f9900b-b4d4-49c4-a09b-de6af788196b"
   },
   "outputs": [],
   "source": [
    "from sklearn.model_selection import  RandomizedSearchCV\n",
    "param_grid =  [\n",
    "      { 'hidden_layer_sizes' :  [(100),(100,100), (50,50,50),  (20,50,80,20,20)], \n",
    "        'max_iter' :  [300,100] , \n",
    "        'random_state'  :[123]}     \n",
    "]\n",
    "mlp_model = MLPRegressor() \n",
    "\n",
    "mlp_random_search = RandomizedSearchCV(mlp_model,\n",
    "                                       param_grid,\n",
    "                                       cv=5,\n",
    "                                       n_jobs=-1,\n",
    "                                       scoring='neg_mean_squared_error',\n",
    "                                       random_state=123)\n",
    "mlp_random_search.fit(X_m, y)"
   ]
  },
  {
   "cell_type": "code",
   "execution_count": null,
   "id": "098f5cfb",
   "metadata": {
    "colab": {
     "base_uri": "https://localhost:8080/",
     "height": 0
    },
    "id": "098f5cfb",
    "outputId": "7c68ce90-94a2-4d9c-fed2-54c895c30f26"
   },
   "outputs": [],
   "source": [
    "mlp_random_search.best_params_"
   ]
  },
  {
   "cell_type": "code",
   "execution_count": null,
   "id": "526b648e",
   "metadata": {
    "colab": {
     "base_uri": "https://localhost:8080/",
     "height": 0
    },
    "id": "526b648e",
    "outputId": "6c507b2a-8940-41f5-813e-4fd72824a1f5"
   },
   "outputs": [],
   "source": [
    "# 모형을 통해 오류값 확인 RMSE평가하기  \n",
    "mlp_random_pred  = mlp_random_search.best_estimator_.predict(X_m)\n",
    "mlp_random_mse  = mean_squared_error(y,mlp_random_pred )\n",
    "mlp_random_rmse = np.sqrt(mlp_random_mse)  # RMSE : 평균 제곱의 제곱근 오차 \n",
    "mlp_random_rmse #0.468 "
   ]
  },
  {
   "cell_type": "code",
   "execution_count": null,
   "id": "0086297d",
   "metadata": {
    "colab": {
     "base_uri": "https://localhost:8080/",
     "height": 175
    },
    "id": "0086297d",
    "outputId": "15481f02-1827-4432-ae4d-4f581c5de922"
   },
   "outputs": [],
   "source": [
    "accuracy['Grid_or_Random_Search'] = [svm_grid_rmse,\n",
    "                                     forest_grid_rmse,\n",
    "                                     gb_grid_rmse,\n",
    "                                     mlp_random_rmse]\n",
    "\n",
    "accuracy"
   ]
  },
  {
   "cell_type": "code",
   "execution_count": null,
   "id": "jl6tub2nm-AA",
   "metadata": {
    "id": "jl6tub2nm-AA"
   },
   "outputs": [],
   "source": [
    "### Q6)    4. 최고 모델에서 교차 검증 및 최상의 ML 모델로 평가  "
   ]
  },
  {
   "cell_type": "markdown",
   "id": "c6k_yyTynV2P",
   "metadata": {
    "id": "c6k_yyTynV2P"
   },
   "source": [
    "### Q6)    4. 최고 모델에서 교차 검증 및 최상의 ML 모델로 평가  "
   ]
  },
  {
   "cell_type": "markdown",
   "id": "iTopzrPknLf5",
   "metadata": {
    "id": "iTopzrPknLf5"
   },
   "source": []
  },
  {
   "cell_type": "code",
   "execution_count": null,
   "id": "xUNall4pnI9_",
   "metadata": {
    "colab": {
     "base_uri": "https://localhost:8080/",
     "height": 0
    },
    "id": "xUNall4pnI9_",
    "outputId": "9e7d2c59-993a-425a-8acb-3c16cefb3fed"
   },
   "outputs": [],
   "source": [
    "svm_scores = cross_val_score(svm_grid_search.best_estimator_ , X_s, y,scoring='neg_mean_squared_error',cv=5 )\n",
    "svm_best_rmse_score = np.sqrt(-svm_scores)\n",
    "display_scores(svm_best_rmse_score)"
   ]
  },
  {
   "cell_type": "code",
   "execution_count": null,
   "id": "en5rowMjnbjR",
   "metadata": {
    "colab": {
     "base_uri": "https://localhost:8080/",
     "height": 0
    },
    "id": "en5rowMjnbjR",
    "outputId": "17cd2352-7cca-443b-a854-e254378cd581"
   },
   "outputs": [],
   "source": [
    "forest_scores = cross_val_score(forest_grid_search.best_estimator_ , X_s, y,scoring='neg_mean_squared_error',cv=5 )\n",
    "forest_best_rmse_score = np.sqrt(-forest_scores)\n",
    "display_scores(forest_best_rmse_score)"
   ]
  },
  {
   "cell_type": "code",
   "execution_count": null,
   "id": "F9VKdHgfnfCH",
   "metadata": {
    "colab": {
     "base_uri": "https://localhost:8080/",
     "height": 0
    },
    "id": "F9VKdHgfnfCH",
    "outputId": "12cc86a7-7dec-43ce-b9c9-bc9b512266d6"
   },
   "outputs": [],
   "source": [
    "gb_scores = cross_val_score(gb_grid_search.best_estimator_ , X_s, y,scoring='neg_mean_squared_error',cv=5 )\n",
    "gb_best_rmse_score = np.sqrt(-gb_scores)\n",
    "display_scores(gb_best_rmse_score)"
   ]
  },
  {
   "cell_type": "code",
   "execution_count": null,
   "id": "MAxnvlnhnf5W",
   "metadata": {
    "colab": {
     "base_uri": "https://localhost:8080/",
     "height": 0
    },
    "id": "MAxnvlnhnf5W",
    "outputId": "256de0e0-3daa-4341-9eba-b1e89768e416"
   },
   "outputs": [],
   "source": [
    "mlp_scores = cross_val_score(mlp_random_search.best_estimator_ , X_m, y,scoring='neg_mean_squared_error',cv=5 )\n",
    "mlp_best_rmse_score = np.sqrt(-mlp_scores)\n",
    "display_scores(mlp_best_rmse_score)"
   ]
  },
  {
   "cell_type": "code",
   "execution_count": null,
   "id": "lC7ZNswvnhbf",
   "metadata": {
    "colab": {
     "base_uri": "https://localhost:8080/",
     "height": 175
    },
    "id": "lC7ZNswvnhbf",
    "outputId": "d11ccc60-82cf-4cf1-96e9-eb43d9695834"
   },
   "outputs": [],
   "source": [
    "accuracy['Search_cv'] = [svm_best_rmse_score.mean(),\n",
    "                                     forest_best_rmse_score.mean(),\n",
    "                                     gb_best_rmse_score.mean(),\n",
    "                                     mlp_best_rmse_score.mean()]\n",
    "\n",
    "accuracy  # 평가전체결과_박민기.png"
   ]
  },
  {
   "cell_type": "code",
   "execution_count": null,
   "id": "24M28_byn8Vd",
   "metadata": {
    "colab": {
     "base_uri": "https://localhost:8080/",
     "height": 0
    },
    "id": "24M28_byn8Vd",
    "outputId": "2530d343-54e9-4a19-9aa9-97e10f7e46d9"
   },
   "outputs": [],
   "source": [
    "## 각 모델의 결과 평균 \n",
    "accuracy.mean(axis=1).sort_values()"
   ]
  },
  {
   "cell_type": "code",
   "execution_count": null,
   "id": "c90056bc",
   "metadata": {},
   "outputs": [],
   "source": [
    "import matplotlib.pyplot as plt\n",
    "plt.rcParams['font.family'] = 'DejaVu Sans'"
   ]
  },
  {
   "cell_type": "code",
   "execution_count": null,
   "id": "tCVtLs9tpUoB",
   "metadata": {
    "colab": {
     "base_uri": "https://localhost:8080/",
     "height": 503
    },
    "id": "tCVtLs9tpUoB",
    "outputId": "a8fc780f-01b6-494c-90e1-97dab94438c5"
   },
   "outputs": [],
   "source": [
    "#잔차플롯 확인  -> 상위 2개로 확인  \n",
    "import seaborn as sns\n",
    "plt.figure(figsize=(10, 8))\n",
    "sns.residplot(gb_grid_pred, y - gb_grid_pred)\n",
    "plt.savefig('gb_train_resid.png');\n",
    "plt.show()"
   ]
  },
  {
   "cell_type": "code",
   "execution_count": null,
   "id": "kHKu5DehqyV3",
   "metadata": {
    "colab": {
     "base_uri": "https://localhost:8080/",
     "height": 0
    },
    "id": "kHKu5DehqyV3",
    "outputId": "bdb030e2-14cf-4a5b-fb75-2c021bad4a4d"
   },
   "outputs": [],
   "source": [
    "X_test, y_test = custom_conversion(test_set)  # 상위 2개 모델\n",
    "\n",
    "X_test_s = scaler.transform(X_test)\n",
    "\n",
    "best_pred = gb_grid_search.best_estimator_.predict(X_test_s)\n",
    "best_mse = mean_squared_error(y_test, best_pred)\n",
    "best_rmse = np.sqrt(best_mse)\n",
    "best_rmse"
   ]
  },
  {
   "cell_type": "code",
   "execution_count": null,
   "id": "I6xp2QBfrDX4",
   "metadata": {
    "colab": {
     "base_uri": "https://localhost:8080/",
     "height": 482
    },
    "id": "I6xp2QBfrDX4",
    "outputId": "94ab44a3-1cb9-4a0e-c00f-a8911f43127a"
   },
   "outputs": [],
   "source": [
    "plt.figure(figsize=(10, 8))\n",
    "sns.residplot(best_pred, y_test - best_pred)\n",
    "plt.savefig('gb_test_resid.png')\n",
    "plt.show()"
   ]
  },
  {
   "cell_type": "code",
   "execution_count": null,
   "id": "C8cWHwdjrGG4",
   "metadata": {
    "id": "C8cWHwdjrGG4"
   },
   "outputs": [],
   "source": [
    "import pickle\n",
    "\n",
    "with open('best_model.pickle', 'wb') as f:\n",
    "    pickle.dump(gb_grid_search.best_estimator_, f)"
   ]
  },
  {
   "cell_type": "code",
   "execution_count": null,
   "id": "Um0EZFF8rKhh",
   "metadata": {
    "colab": {
     "base_uri": "https://localhost:8080/",
     "height": 0
    },
    "id": "Um0EZFF8rKhh",
    "outputId": "68f150fe-30ce-4077-93c5-ddc581b778ba"
   },
   "outputs": [],
   "source": [
    "with open('best_model.pickle', 'rb') as f:\n",
    "    best_model = pickle.load(f)\n",
    "\n",
    "best_model"
   ]
  },
  {
   "cell_type": "code",
   "execution_count": null,
   "id": "5VXC-ec6rNb4",
   "metadata": {
    "id": "5VXC-ec6rNb4"
   },
   "outputs": [],
   "source": []
  }
 ],
 "metadata": {
  "accelerator": "GPU",
  "colab": {
   "provenance": []
  },
  "gpuClass": "standard",
  "kernelspec": {
   "display_name": "Python 3 (ipykernel)",
   "language": "python",
   "name": "python3"
  },
  "language_info": {
   "codemirror_mode": {
    "name": "ipython",
    "version": 3
   },
   "file_extension": ".py",
   "mimetype": "text/x-python",
   "name": "python",
   "nbconvert_exporter": "python",
   "pygments_lexer": "ipython3",
   "version": "3.11.5"
  }
 },
 "nbformat": 4,
 "nbformat_minor": 5
}
