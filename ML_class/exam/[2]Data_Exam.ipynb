{
 "cells": [
  {
   "cell_type": "markdown",
   "id": "3bc8e11d",
   "metadata": {},
   "source": [
    "<< 사이킷런의 시뮬레이션 데이터 생성 make* >>\n",
    "- make_classification : 사용자가 정의한 수의 특성,클래스 및 샘플을 포함해서 생성\n",
    "- make_regression :  사용자가 정의한 수의 특성,정보특성 및 샘플을 포함해서 생성\n",
    "- make_blobs : 사용자가 정의한 수의 클러스터 및 샘플을 포함해서 생성\n",
    "- make_circle , make_moons : 원형 패턴 , 초승달 패턴을 생성"
   ]
  },
  {
   "cell_type": "code",
   "execution_count": 2,
   "id": "e5f4017a",
   "metadata": {},
   "outputs": [],
   "source": [
    "from sklearn.datasets import make_classification"
   ]
  },
  {
   "cell_type": "code",
   "execution_count": 13,
   "id": "f43d40c9",
   "metadata": {},
   "outputs": [],
   "source": [
    "#1 분류 데이터 생성 make_classification\n",
    "\n",
    "#데이터 샘플은 전체 100개, 각 샘플에 대해 20개의 특성을 생성, 2개의 특성이 정보제공\n",
    "x,y=make_classification(n_samples=100, n_features=20, n_informative=2, n_classes=2)\n",
    "\n",
    "#x : 100개의 샘플과 각 샘플에 대한 20개의 특성을 가진 데이터셋(특성 행렬)을 생성\n",
    "#y : 각 샘플에 대한 클래스 레이블을 포함하는 백터의 생성, 레이블은 0 또는 1 중 하나로 두 클래스 중 하나를 리턴"
   ]
  },
  {
   "cell_type": "code",
   "execution_count": 14,
   "id": "f08ae4f7",
   "metadata": {},
   "outputs": [
    {
     "data": {
      "text/plain": [
       "(100,)"
      ]
     },
     "execution_count": 14,
     "metadata": {},
     "output_type": "execute_result"
    }
   ],
   "source": [
    "y.shape"
   ]
  },
  {
   "cell_type": "code",
   "execution_count": 25,
   "id": "8e7a259d",
   "metadata": {},
   "outputs": [
    {
     "name": "stdout",
     "output_type": "stream",
     "text": [
      "(100, 1)\n",
      "(100,)\n"
     ]
    }
   ],
   "source": [
    "#2 회귀 데이터 생성 make_regression\n",
    "from sklearn.datasets import make_regression\n",
    "\n",
    "#noise 생성데이터의 추가되는 잡음의 양 , [노이즈가 많아지면 모델예측이 어렵고,없으면 문제]\n",
    "#       ---> 데이터 복잡도 조절,모델의 일반화평가(일반적인 평가 능력)\n",
    "\n",
    "x,y=make_regression(n_samples=100, n_features=1,noise=0.1)\n",
    "\n",
    "#x : 데이터셋에 샘플(데이터 포인트) 100개 , n_features=1를 사용해서 독립변수 1개 100*1의 크기의 배열\n",
    "#y : 각 샘플에 대한 연속적인 값(종속변수)를 생성 = x의 특성과 잡음에 기반해서 생성"
   ]
  },
  {
   "cell_type": "code",
   "execution_count": 30,
   "id": "4c1f18d2",
   "metadata": {},
   "outputs": [],
   "source": [
    "#3 클러스터 데이터 생성 make_blobs , 무게 중심\n",
    "from sklearn.datasets import make_blobs  \n",
    "\n",
    "#데이터 샘플 100,클러스터 생성수 3,각 샘플에 대해 2개의 특성을 생성 (2차원공간의 데이터 포인트), 데이터 생성 무작위제어\n",
    "x,y=make_blobs(n_samples=100, centers=3 ,n_features=2 , random_state = 0)\n",
    "\n",
    "#x : 데이터셋에 샘플(데이터 포인트) 100개 , 각 샘플에 대한 2개의 특성을 특성행렬  100*2 배열이 된다\n",
    "#y : 각 샘플이 속하는 클러스터의 레이블을 포함하는 배열을 생성 , 이 배열은 0,1,2 중 하나의 값을 가진다.\n",
    "#k-평균 클러스터링 , 계층적 클러스터링 , DBSCAN 등\n"
   ]
  },
  {
   "cell_type": "code",
   "execution_count": 38,
   "id": "f18fa8f6",
   "metadata": {},
   "outputs": [
    {
     "name": "stdout",
     "output_type": "stream",
     "text": [
      "(100, 2)\n",
      "(100,)\n",
      "(100, 2)\n",
      "(100,)\n"
     ]
    }
   ],
   "source": [
    "#4 비선형 데이터 생성 make_circle , make_moons\n",
    "from sklearn.datasets import make_circles , make_moons\n",
    "\n",
    "#noise = None : 잡음을 추가하면 데이터 포인트가 더 넓게 퍼진다 = 클러스터 경계가 모호한다\n",
    "#shuffle = True : 모델이 특정된 순서를 의존하지 않겠다.\n",
    "\n",
    "#데이터 샘플 100, 무작위로 섞어서 , 두 원의 크기 비율의 지정 0.8 = 내부 원과 외부원의 반지름 비율(0~1)사이의 값\n",
    "x1,y1 = make_circles(n_samples=100, shuffle=True, noise=None, random_state=None, factor=0.8)\n",
    "#데이터 셋은 2개의 원형 클래스가 서로 얽혀 있는 형태\n",
    "#x : 데이터셋에 샘플(데이터 포인트) 100개,샘플에 대한 기본 특성 2개 2차원 공간좌표 100*2\n",
    "#y : 각 샘플이 속하는 클러스터의 레이블을 포함하는 배열을 생성, 이 배열은 0,1값 중으로 원형 클러스터 중 하나를 나타낸다\n",
    "\n",
    "#비선형 분류 알고리즘 , 커널기반 알고리즘(서포트 벡터 머신 커널 트릭등) , 신경망등\n",
    "\n",
    "\n",
    "x2,y2 = make_moons(n_samples=100,  shuffle=True, noise=None, random_state=None)\n",
    "\n",
    "print(x1.shape)\n",
    "print(y1.shape)\n",
    "\n",
    "print(x2.shape)\n",
    "print(y2.shape)\n"
   ]
  },
  {
   "cell_type": "code",
   "execution_count": null,
   "id": "8989e650",
   "metadata": {},
   "outputs": [],
   "source": [
    "\n"
   ]
  }
 ],
 "metadata": {
  "kernelspec": {
   "display_name": "Python 3 (ipykernel)",
   "language": "python",
   "name": "python3"
  },
  "language_info": {
   "codemirror_mode": {
    "name": "ipython",
    "version": 3
   },
   "file_extension": ".py",
   "mimetype": "text/x-python",
   "name": "python",
   "nbconvert_exporter": "python",
   "pygments_lexer": "ipython3",
   "version": "3.11.5"
  }
 },
 "nbformat": 4,
 "nbformat_minor": 5
}
