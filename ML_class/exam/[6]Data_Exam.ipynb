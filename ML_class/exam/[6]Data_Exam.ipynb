{
 "cells": [
  {
   "cell_type": "code",
   "execution_count": 1,
   "id": "75840a23",
   "metadata": {},
   "outputs": [],
   "source": [
    "#Q1 ) 머쉬룸 데이터로 XGBOOST / LightGBM 해보기  _ work_shop -> 하이퍼파라미터 튜닝 (그리드 서치 , 랜덤 서치)\n",
    "#결과 보고서 [6]Data_Exam\n",
    "#참조 [17-1]ML_boost활용"
   ]
  },
  {
   "cell_type": "code",
   "execution_count": null,
   "id": "ab021024",
   "metadata": {},
   "outputs": [],
   "source": []
  }
 ],
 "metadata": {
  "kernelspec": {
   "display_name": "Python 3 (ipykernel)",
   "language": "python",
   "name": "python3"
  },
  "language_info": {
   "codemirror_mode": {
    "name": "ipython",
    "version": 3
   },
   "file_extension": ".py",
   "mimetype": "text/x-python",
   "name": "python",
   "nbconvert_exporter": "python",
   "pygments_lexer": "ipython3",
   "version": "3.11.5"
  }
 },
 "nbformat": 4,
 "nbformat_minor": 5
}
