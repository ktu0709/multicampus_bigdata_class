{
 "cells": [
  {
   "cell_type": "markdown",
   "id": "ef6c1693",
   "metadata": {},
   "source": [
    "### - PCA(Principal Component Analysis) : 주성분 분석\n",
    "- 차원 축소 알고리즘, 비지도 학습\n",
    "- 이미지 데이터의 차원 축소, 자연언어 텍스트 의미 분석\n",
    "- 원본 데이터의 정보 유실이 최소화 되도록 축소시킨다\n",
    "- 데이터의 변동성(Variance)을 기반으로 축울 생성하여 축소하는 알고리즘이다  \n",
    "- 이미지 분류등의 분류 수행시 과적합을 방지하여 예측 성능 향상"
   ]
  },
  {
   "cell_type": "markdown",
   "id": "776f4b80",
   "metadata": {},
   "source": [
    "주성분 분석의 기법\n",
    "- 변동성(variance) : 데이터가 가장 많이 퍼져있는 방향을 찾아낸다\n",
    "- 축을 생성 : 원본의 x 특성값들을 선형 조합으로 만들고 각 축은 직교한다\n",
    "               첫번째 주성분 데이터 분산을 두번째 주성분은 첫번째 주성분과 직교하는 방향으로 분산을 최대화\n",
    "- 데이터의 차원 축소는 분산을 유지하면서 차원을 축소한다\n",
    "- 시각화를 통해 2차원 3차원 축소 확인을 패턴 모형 확인으로 확인할 수 있다\n",
    "- PCA , t-SNE , UMAP등 차원축소 알고리즘으로 이미지,패턴인식등에 함께 사용된다"
   ]
  },
  {
   "cell_type": "code",
   "execution_count": 2,
   "id": "c5dee0be",
   "metadata": {},
   "outputs": [
    {
     "name": "stdout",
     "output_type": "stream",
     "text": [
      "<class 'pandas.core.frame.DataFrame'>\n",
      "RangeIndex: 768 entries, 0 to 767\n",
      "Data columns (total 9 columns):\n",
      " #   Column                    Non-Null Count  Dtype  \n",
      "---  ------                    --------------  -----  \n",
      " 0   Pregnancies               768 non-null    int64  \n",
      " 1   Glucose                   768 non-null    int64  \n",
      " 2   BloodPressure             768 non-null    int64  \n",
      " 3   SkinThickness             768 non-null    int64  \n",
      " 4   Insulin                   768 non-null    int64  \n",
      " 5   BMI                       768 non-null    float64\n",
      " 6   DiabetesPedigreeFunction  768 non-null    float64\n",
      " 7   Age                       768 non-null    int64  \n",
      " 8   Outcome                   768 non-null    int64  \n",
      "dtypes: float64(2), int64(7)\n",
      "memory usage: 54.1 KB\n"
     ]
    }
   ],
   "source": [
    "import pandas as pd\n",
    "from sklearn.decomposition import PCA\n",
    "from sklearn.preprocessing import StandardScaler\n",
    "\n",
    "df=pd.read_csv('../data/diabetes.csv')\n",
    "df.info()"
   ]
  },
  {
   "cell_type": "markdown",
   "id": "d391dd6d",
   "metadata": {},
   "source": [
    "위 데이터 주성분 구현시 확인 할 작업\n",
    "1)전처리 : PCA는 수치형 데이터 적용 , 만일 x가 범주형이면 수치형 변환\n",
    "2)결측값 : 결측치가 없는 데이터만 적용, 결측치 있다면 행제거 대체값 적용\n",
    "3)표준화 : 데이터가 분산기법 , 데이터 표준화"
   ]
  },
  {
   "cell_type": "code",
   "execution_count": 3,
   "id": "fdfdbee2",
   "metadata": {},
   "outputs": [
    {
     "data": {
      "text/plain": [
       "array([[ 0.63994726,  0.84832379,  0.14964075, ...,  0.46849198,\n",
       "         1.4259954 ,  1.36589591],\n",
       "       [-0.84488505, -1.12339636, -0.16054575, ..., -0.36506078,\n",
       "        -0.19067191, -0.73212021],\n",
       "       [ 1.23388019,  1.94372388, -0.26394125, ...,  0.60439732,\n",
       "        -0.10558415,  1.36589591],\n",
       "       ...,\n",
       "       [ 0.3429808 ,  0.00330087,  0.14964075, ..., -0.68519336,\n",
       "        -0.27575966, -0.73212021],\n",
       "       [-0.84488505,  0.1597866 , -0.47073225, ..., -0.37110101,\n",
       "         1.17073215,  1.36589591],\n",
       "       [-0.84488505, -0.8730192 ,  0.04624525, ..., -0.47378505,\n",
       "        -0.87137393, -0.73212021]])"
      ]
     },
     "execution_count": 3,
     "metadata": {},
     "output_type": "execute_result"
    }
   ],
   "source": [
    "scaler = StandardScaler()\n",
    "scaler_df = scaler.fit_transform(df)\n",
    "scaler_df"
   ]
  },
  {
   "cell_type": "code",
   "execution_count": 4,
   "id": "f45613f7",
   "metadata": {},
   "outputs": [
    {
     "data": {
      "text/plain": [
       "array([[-1.75694707, -1.11174258],\n",
       "       [ 1.50742148,  0.55940565],\n",
       "       [-0.65082201, -1.92957633],\n",
       "       ...,\n",
       "       [ 0.57408846, -0.03381634],\n",
       "       [ 0.17269908, -1.32289215],\n",
       "       [ 1.32126715,  1.02748861]])"
      ]
     },
     "execution_count": 4,
     "metadata": {},
     "output_type": "execute_result"
    }
   ],
   "source": [
    "pca = PCA(n_components=2)\n",
    "pca_result = pca.fit_transform(scaler_df)\n",
    "pca_result"
   ]
  },
  {
   "cell_type": "code",
   "execution_count": 7,
   "id": "52e2c045",
   "metadata": {},
   "outputs": [
    {
     "data": {
      "text/html": [
       "<div>\n",
       "<style scoped>\n",
       "    .dataframe tbody tr th:only-of-type {\n",
       "        vertical-align: middle;\n",
       "    }\n",
       "\n",
       "    .dataframe tbody tr th {\n",
       "        vertical-align: top;\n",
       "    }\n",
       "\n",
       "    .dataframe thead th {\n",
       "        text-align: right;\n",
       "    }\n",
       "</style>\n",
       "<table border=\"1\" class=\"dataframe\">\n",
       "  <thead>\n",
       "    <tr style=\"text-align: right;\">\n",
       "      <th></th>\n",
       "      <th>PCA_1</th>\n",
       "      <th>PCA_2</th>\n",
       "    </tr>\n",
       "  </thead>\n",
       "  <tbody>\n",
       "    <tr>\n",
       "      <th>0</th>\n",
       "      <td>-1.756947</td>\n",
       "      <td>-1.111743</td>\n",
       "    </tr>\n",
       "    <tr>\n",
       "      <th>1</th>\n",
       "      <td>1.507421</td>\n",
       "      <td>0.559406</td>\n",
       "    </tr>\n",
       "    <tr>\n",
       "      <th>2</th>\n",
       "      <td>-0.650822</td>\n",
       "      <td>-1.929576</td>\n",
       "    </tr>\n",
       "    <tr>\n",
       "      <th>3</th>\n",
       "      <td>1.587398</td>\n",
       "      <td>1.065075</td>\n",
       "    </tr>\n",
       "    <tr>\n",
       "      <th>4</th>\n",
       "      <td>-2.483374</td>\n",
       "      <td>2.359563</td>\n",
       "    </tr>\n",
       "    <tr>\n",
       "      <th>...</th>\n",
       "      <td>...</td>\n",
       "      <td>...</td>\n",
       "    </tr>\n",
       "    <tr>\n",
       "      <th>763</th>\n",
       "      <td>-1.283069</td>\n",
       "      <td>-1.211187</td>\n",
       "    </tr>\n",
       "    <tr>\n",
       "      <th>764</th>\n",
       "      <td>0.502281</td>\n",
       "      <td>0.674135</td>\n",
       "    </tr>\n",
       "    <tr>\n",
       "      <th>765</th>\n",
       "      <td>0.574088</td>\n",
       "      <td>-0.033816</td>\n",
       "    </tr>\n",
       "    <tr>\n",
       "      <th>766</th>\n",
       "      <td>0.172699</td>\n",
       "      <td>-1.322892</td>\n",
       "    </tr>\n",
       "    <tr>\n",
       "      <th>767</th>\n",
       "      <td>1.321267</td>\n",
       "      <td>1.027489</td>\n",
       "    </tr>\n",
       "  </tbody>\n",
       "</table>\n",
       "<p>768 rows × 2 columns</p>\n",
       "</div>"
      ],
      "text/plain": [
       "        PCA_1     PCA_2\n",
       "0   -1.756947 -1.111743\n",
       "1    1.507421  0.559406\n",
       "2   -0.650822 -1.929576\n",
       "3    1.587398  1.065075\n",
       "4   -2.483374  2.359563\n",
       "..        ...       ...\n",
       "763 -1.283069 -1.211187\n",
       "764  0.502281  0.674135\n",
       "765  0.574088 -0.033816\n",
       "766  0.172699 -1.322892\n",
       "767  1.321267  1.027489\n",
       "\n",
       "[768 rows x 2 columns]"
      ]
     },
     "execution_count": 7,
     "metadata": {},
     "output_type": "execute_result"
    }
   ],
   "source": [
    "pca_df = pd.DataFrame(pca_result,columns=['PCA_1','PCA_2'])\n",
    "pca_df"
   ]
  },
  {
   "cell_type": "markdown",
   "id": "527cfbfb",
   "metadata": {},
   "source": [
    "<< 위 내용의 결과 분석>>\n",
    "데이터 변동성 : 음과 양의 변동값 확인\n",
    "샘플의 분포 : 이상치 판단 , 데이터 주성분 축의 값으로 분포도를 확인\n",
    "다차원 공간 : 분포도 영향 확인 값이 확연하다."
   ]
  },
  {
   "cell_type": "code",
   "execution_count": 14,
   "id": "aa8bf475",
   "metadata": {},
   "outputs": [
    {
     "name": "stdout",
     "output_type": "stream",
     "text": [
      "[0.26138907 0.19714578]\n",
      "[2.35556873 1.77662535]\n",
      "[-6.47630098e-17 -9.25185854e-18  1.50342701e-17  1.00613962e-16\n",
      " -3.00685403e-17  2.59052039e-16  2.45174251e-16  1.93132547e-16\n",
      "  7.40148683e-17]\n",
      "[[-0.21599835 -0.43675677 -0.30045538 -0.30729203 -0.33633235 -0.39734198\n",
      "  -0.23763447 -0.27865556 -0.41565279]\n",
      " [-0.52744611 -0.09563451 -0.04625339  0.44839783  0.35534569  0.21031643\n",
      "   0.17519467 -0.53320237 -0.15476805]]\n",
      "[42.50554339 36.91438259]\n",
      "0.6970771352839493\n"
     ]
    }
   ],
   "source": [
    "print(pca.explained_variance_ratio_) #전체 분산에서 각 주성분이 차지하는 비율 , 비율의 합이 1\n",
    "print(pca.explained_variance_) #분산의 양\n",
    "print(pca.mean_)\n",
    "print(pca.components_) #주성분 벡터방향\n",
    "print(pca.singular_values_) #주성분 특이값 : SVD 주성분에 데이터 투영했을 때 스케일\n",
    "print(pca.noise_variance_) #잡음 분산값"
   ]
  },
  {
   "cell_type": "code",
   "execution_count": null,
   "id": "f9adb290",
   "metadata": {},
   "outputs": [],
   "source": []
  }
 ],
 "metadata": {
  "kernelspec": {
   "display_name": "Python 3 (ipykernel)",
   "language": "python",
   "name": "python3"
  },
  "language_info": {
   "codemirror_mode": {
    "name": "ipython",
    "version": 3
   },
   "file_extension": ".py",
   "mimetype": "text/x-python",
   "name": "python",
   "nbconvert_exporter": "python",
   "pygments_lexer": "ipython3",
   "version": "3.11.5"
  }
 },
 "nbformat": 4,
 "nbformat_minor": 5
}
