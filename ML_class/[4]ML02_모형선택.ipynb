{
 "cells": [
  {
   "cell_type": "raw",
   "metadata": {},
   "source": [
    "<<   인스턴스화   ->  fit   -> Predict /transform   -> 정확도, 결과값 측정   >> "
   ]
  },
  {
   "cell_type": "markdown",
   "metadata": {
    "id": "ioHqQnOjJqLX"
   },
   "source": [
    "----\n",
    "# **[모형 선택]**\n",
    "----"
   ]
  },
  {
   "cell_type": "markdown",
   "metadata": {
    "id": "hp4MGVQRmGmG"
   },
   "source": [
    "# 1. 환경 구성"
   ]
  },
  {
   "cell_type": "markdown",
   "metadata": {
    "id": "DnNL283lTNO8"
   },
   "source": [
    "## 1.1 한글 사용 및 환경 구성 "
   ]
  },
  {
   "cell_type": "code",
   "execution_count": 1,
   "metadata": {
    "executionInfo": {
     "elapsed": 8,
     "status": "ok",
     "timestamp": 1638752499315,
     "user": {
      "displayName": "Dominica",
      "photoUrl": "https://lh3.googleusercontent.com/a-/AOh14Givt_n9gun5TCzjvq5ASwWr2b4FAUXE7mJI_JAt1g=s64",
      "userId": "04216559503906939593"
     },
     "user_tz": -540
    },
    "id": "c_YUxSMoTjox"
   },
   "outputs": [],
   "source": [
    "import matplotlib as mpl\n",
    "import matplotlib.pyplot as plt\n",
    "import matplotlib.font_manager as fm"
   ]
  },
  {
   "cell_type": "code",
   "execution_count": 2,
   "metadata": {
    "executionInfo": {
     "elapsed": 6,
     "status": "ok",
     "timestamp": 1638752506634,
     "user": {
      "displayName": "Dominica",
      "photoUrl": "https://lh3.googleusercontent.com/a-/AOh14Givt_n9gun5TCzjvq5ASwWr2b4FAUXE7mJI_JAt1g=s64",
      "userId": "04216559503906939593"
     },
     "user_tz": -540
    },
    "id": "AYI0uNuyK-xP"
   },
   "outputs": [],
   "source": [
    "# 그래프 축에서 음수 부호를 쓸 수 있게 구성\n",
    "mpl.rc('axes', unicode_minus=False)\n",
    "plt.rc('axes', unicode_minus=False)"
   ]
  },
  {
   "cell_type": "code",
   "execution_count": 3,
   "metadata": {
    "executionInfo": {
     "elapsed": 901,
     "status": "ok",
     "timestamp": 1638752507529,
     "user": {
      "displayName": "Dominica",
      "photoUrl": "https://lh3.googleusercontent.com/a-/AOh14Givt_n9gun5TCzjvq5ASwWr2b4FAUXE7mJI_JAt1g=s64",
      "userId": "04216559503906939593"
     },
     "user_tz": -540
    },
    "id": "tg6QeyLKK7WG"
   },
   "outputs": [],
   "source": [
    "plt.rc('font',family='Malgun Gothic')"
   ]
  },
  {
   "cell_type": "markdown",
   "metadata": {
    "id": "H9WDUfhGDwIX"
   },
   "source": [
    "## 1.2 기본 도구 가져오기"
   ]
  },
  {
   "cell_type": "code",
   "execution_count": 4,
   "metadata": {
    "executionInfo": {
     "elapsed": 244,
     "status": "ok",
     "timestamp": 1638752768778,
     "user": {
      "displayName": "Dominica",
      "photoUrl": "https://lh3.googleusercontent.com/a-/AOh14Givt_n9gun5TCzjvq5ASwWr2b4FAUXE7mJI_JAt1g=s64",
      "userId": "04216559503906939593"
     },
     "user_tz": -540
    },
    "id": "GOpBrDqdcpd5"
   },
   "outputs": [],
   "source": [
    "from sklearn.model_selection import train_test_split"
   ]
  },
  {
   "cell_type": "code",
   "execution_count": 5,
   "metadata": {
    "executionInfo": {
     "elapsed": 7,
     "status": "ok",
     "timestamp": 1638752769104,
     "user": {
      "displayName": "Dominica",
      "photoUrl": "https://lh3.googleusercontent.com/a-/AOh14Givt_n9gun5TCzjvq5ASwWr2b4FAUXE7mJI_JAt1g=s64",
      "userId": "04216559503906939593"
     },
     "user_tz": -540
    },
    "id": "vvZNiL9CRqoI"
   },
   "outputs": [],
   "source": [
    "from sklearn.datasets import load_iris"
   ]
  },
  {
   "cell_type": "code",
   "execution_count": 6,
   "metadata": {
    "executionInfo": {
     "elapsed": 2,
     "status": "ok",
     "timestamp": 1638752770008,
     "user": {
      "displayName": "Dominica",
      "photoUrl": "https://lh3.googleusercontent.com/a-/AOh14Givt_n9gun5TCzjvq5ASwWr2b4FAUXE7mJI_JAt1g=s64",
      "userId": "04216559503906939593"
     },
     "user_tz": -540
    },
    "id": "3q0LdF2URnzF"
   },
   "outputs": [],
   "source": [
    "from sklearn.metrics import accuracy_score  #모델평가  "
   ]
  },
  {
   "cell_type": "markdown",
   "metadata": {
    "id": "H0zwf12dRTjx"
   },
   "source": [
    "* 분류 모형 평가 시에는 accuracy_score(정확도를 알 수 있게 해 주는 함수)를 쓰고 \n",
    "* 회귀 모형 평가 시는 r2_score(결정계수(R의 제곱)를 알 수 있게 해 주는 함수)를 쓰는 게 일반적입니다."
   ]
  },
  {
   "cell_type": "code",
   "execution_count": 7,
   "metadata": {
    "executionInfo": {
     "elapsed": 251,
     "status": "ok",
     "timestamp": 1638752771880,
     "user": {
      "displayName": "Dominica",
      "photoUrl": "https://lh3.googleusercontent.com/a-/AOh14Givt_n9gun5TCzjvq5ASwWr2b4FAUXE7mJI_JAt1g=s64",
      "userId": "04216559503906939593"
     },
     "user_tz": -540
    },
    "id": "9ssPzSVRNfZa"
   },
   "outputs": [],
   "source": [
    "import pandas as pd"
   ]
  },
  {
   "cell_type": "markdown",
   "metadata": {
    "id": "u0eEYYgm6oQx"
   },
   "source": [
    "## 1.3 경고 문구 무시\n"
   ]
  },
  {
   "cell_type": "markdown",
   "metadata": {
    "id": "0j7GoOYAhC1h"
   },
   "source": [
    "* 이 자료에서 실행되는 코드 중에는 다양한 경고 문구가 나올 수 밖에 없는 게 있습니다.\n",
    "* 이럴 때 경고 문구를 출력하지 않게 하려면 다음 코드를 활용합시다."
   ]
  },
  {
   "cell_type": "code",
   "execution_count": 8,
   "metadata": {
    "executionInfo": {
     "elapsed": 255,
     "status": "ok",
     "timestamp": 1638752791251,
     "user": {
      "displayName": "Dominica",
      "photoUrl": "https://lh3.googleusercontent.com/a-/AOh14Givt_n9gun5TCzjvq5ASwWr2b4FAUXE7mJI_JAt1g=s64",
      "userId": "04216559503906939593"
     },
     "user_tz": -540
    },
    "id": "wOOj67oS7KQg"
   },
   "outputs": [],
   "source": [
    "import warnings\n",
    "warnings.filterwarnings('ignore')"
   ]
  },
  {
   "cell_type": "markdown",
   "metadata": {
    "id": "0pDHoQwjmMuu"
   },
   "source": [
    "# 2. 데이터 준비\n",
    " "
   ]
  },
  {
   "cell_type": "markdown",
   "metadata": {
    "id": "7EgwkI4c9UN5"
   },
   "source": [
    "## 2.1 데이터 수집"
   ]
  },
  {
   "cell_type": "code",
   "execution_count": 9,
   "metadata": {
    "executionInfo": {
     "elapsed": 287,
     "status": "ok",
     "timestamp": 1638752806609,
     "user": {
      "displayName": "Dominica",
      "photoUrl": "https://lh3.googleusercontent.com/a-/AOh14Givt_n9gun5TCzjvq5ASwWr2b4FAUXE7mJI_JAt1g=s64",
      "userId": "04216559503906939593"
     },
     "user_tz": -540
    },
    "id": "WZleJxl8dtSo"
   },
   "outputs": [],
   "source": [
    "# 붓꽃 데이터를 읽어 옵니다.\n",
    "(X, y) = load_iris(return_X_y=True, as_frame=False)"
   ]
  },
  {
   "cell_type": "markdown",
   "metadata": {
    "id": "kmG0h8kGRbMr"
   },
   "source": [
    "* return_X_y를 True로 지정하면, load_iris 함수는 붓꽃 데이터를 X항과 y항으로 나누어 반환해 줍니다.\n",
    "* as_frame을 False로 지정해야(기본 값임) 데이터가 넘파이 배열(ndarray형 배열)로 반환됩니다. \n",
    "  * 사이킷런의 각종 클래스, 함수, 메서드는 기본적으로 데이터를 넘파이 배열 형식으로 받습니다."
   ]
  },
  {
   "cell_type": "code",
   "execution_count": 10,
   "metadata": {
    "colab": {
     "base_uri": "https://localhost:8080/",
     "height": 424
    },
    "executionInfo": {
     "elapsed": 8,
     "status": "ok",
     "timestamp": 1638752807518,
     "user": {
      "displayName": "Dominica",
      "photoUrl": "https://lh3.googleusercontent.com/a-/AOh14Givt_n9gun5TCzjvq5ASwWr2b4FAUXE7mJI_JAt1g=s64",
      "userId": "04216559503906939593"
     },
     "user_tz": -540
    },
    "id": "igHYdmdl8OpH",
    "outputId": "ba8ca2f8-01c5-4dad-f0b0-498b2bd57f32"
   },
   "outputs": [
    {
     "data": {
      "text/html": [
       "<div>\n",
       "<style scoped>\n",
       "    .dataframe tbody tr th:only-of-type {\n",
       "        vertical-align: middle;\n",
       "    }\n",
       "\n",
       "    .dataframe tbody tr th {\n",
       "        vertical-align: top;\n",
       "    }\n",
       "\n",
       "    .dataframe thead th {\n",
       "        text-align: right;\n",
       "    }\n",
       "</style>\n",
       "<table border=\"1\" class=\"dataframe\">\n",
       "  <thead>\n",
       "    <tr style=\"text-align: right;\">\n",
       "      <th></th>\n",
       "      <th>0</th>\n",
       "      <th>1</th>\n",
       "      <th>2</th>\n",
       "      <th>3</th>\n",
       "    </tr>\n",
       "  </thead>\n",
       "  <tbody>\n",
       "    <tr>\n",
       "      <th>0</th>\n",
       "      <td>5.1</td>\n",
       "      <td>3.5</td>\n",
       "      <td>1.4</td>\n",
       "      <td>0.2</td>\n",
       "    </tr>\n",
       "    <tr>\n",
       "      <th>1</th>\n",
       "      <td>4.9</td>\n",
       "      <td>3.0</td>\n",
       "      <td>1.4</td>\n",
       "      <td>0.2</td>\n",
       "    </tr>\n",
       "    <tr>\n",
       "      <th>2</th>\n",
       "      <td>4.7</td>\n",
       "      <td>3.2</td>\n",
       "      <td>1.3</td>\n",
       "      <td>0.2</td>\n",
       "    </tr>\n",
       "    <tr>\n",
       "      <th>3</th>\n",
       "      <td>4.6</td>\n",
       "      <td>3.1</td>\n",
       "      <td>1.5</td>\n",
       "      <td>0.2</td>\n",
       "    </tr>\n",
       "    <tr>\n",
       "      <th>4</th>\n",
       "      <td>5.0</td>\n",
       "      <td>3.6</td>\n",
       "      <td>1.4</td>\n",
       "      <td>0.2</td>\n",
       "    </tr>\n",
       "    <tr>\n",
       "      <th>...</th>\n",
       "      <td>...</td>\n",
       "      <td>...</td>\n",
       "      <td>...</td>\n",
       "      <td>...</td>\n",
       "    </tr>\n",
       "    <tr>\n",
       "      <th>145</th>\n",
       "      <td>6.7</td>\n",
       "      <td>3.0</td>\n",
       "      <td>5.2</td>\n",
       "      <td>2.3</td>\n",
       "    </tr>\n",
       "    <tr>\n",
       "      <th>146</th>\n",
       "      <td>6.3</td>\n",
       "      <td>2.5</td>\n",
       "      <td>5.0</td>\n",
       "      <td>1.9</td>\n",
       "    </tr>\n",
       "    <tr>\n",
       "      <th>147</th>\n",
       "      <td>6.5</td>\n",
       "      <td>3.0</td>\n",
       "      <td>5.2</td>\n",
       "      <td>2.0</td>\n",
       "    </tr>\n",
       "    <tr>\n",
       "      <th>148</th>\n",
       "      <td>6.2</td>\n",
       "      <td>3.4</td>\n",
       "      <td>5.4</td>\n",
       "      <td>2.3</td>\n",
       "    </tr>\n",
       "    <tr>\n",
       "      <th>149</th>\n",
       "      <td>5.9</td>\n",
       "      <td>3.0</td>\n",
       "      <td>5.1</td>\n",
       "      <td>1.8</td>\n",
       "    </tr>\n",
       "  </tbody>\n",
       "</table>\n",
       "<p>150 rows × 4 columns</p>\n",
       "</div>"
      ],
      "text/plain": [
       "       0    1    2    3\n",
       "0    5.1  3.5  1.4  0.2\n",
       "1    4.9  3.0  1.4  0.2\n",
       "2    4.7  3.2  1.3  0.2\n",
       "3    4.6  3.1  1.5  0.2\n",
       "4    5.0  3.6  1.4  0.2\n",
       "..   ...  ...  ...  ...\n",
       "145  6.7  3.0  5.2  2.3\n",
       "146  6.3  2.5  5.0  1.9\n",
       "147  6.5  3.0  5.2  2.0\n",
       "148  6.2  3.4  5.4  2.3\n",
       "149  5.9  3.0  5.1  1.8\n",
       "\n",
       "[150 rows x 4 columns]"
      ]
     },
     "execution_count": 10,
     "metadata": {},
     "output_type": "execute_result"
    }
   ],
   "source": [
    "# X항의 내용을 확인해 봅시다. \n",
    "pd.DataFrame(X)   # -> X의 항이 여러개 분선기법  = 특성 여러개  "
   ]
  },
  {
   "cell_type": "code",
   "execution_count": 11,
   "metadata": {
    "colab": {
     "base_uri": "https://localhost:8080/",
     "height": 424
    },
    "executionInfo": {
     "elapsed": 5,
     "status": "ok",
     "timestamp": 1638752808347,
     "user": {
      "displayName": "Dominica",
      "photoUrl": "https://lh3.googleusercontent.com/a-/AOh14Givt_n9gun5TCzjvq5ASwWr2b4FAUXE7mJI_JAt1g=s64",
      "userId": "04216559503906939593"
     },
     "user_tz": -540
    },
    "id": "kazwwrrv8TXg",
    "outputId": "69943087-342a-4e64-92cd-8a19a1e48b1d"
   },
   "outputs": [
    {
     "data": {
      "text/html": [
       "<div>\n",
       "<style scoped>\n",
       "    .dataframe tbody tr th:only-of-type {\n",
       "        vertical-align: middle;\n",
       "    }\n",
       "\n",
       "    .dataframe tbody tr th {\n",
       "        vertical-align: top;\n",
       "    }\n",
       "\n",
       "    .dataframe thead th {\n",
       "        text-align: right;\n",
       "    }\n",
       "</style>\n",
       "<table border=\"1\" class=\"dataframe\">\n",
       "  <thead>\n",
       "    <tr style=\"text-align: right;\">\n",
       "      <th></th>\n",
       "      <th>0</th>\n",
       "    </tr>\n",
       "  </thead>\n",
       "  <tbody>\n",
       "    <tr>\n",
       "      <th>0</th>\n",
       "      <td>0</td>\n",
       "    </tr>\n",
       "    <tr>\n",
       "      <th>1</th>\n",
       "      <td>0</td>\n",
       "    </tr>\n",
       "    <tr>\n",
       "      <th>2</th>\n",
       "      <td>0</td>\n",
       "    </tr>\n",
       "    <tr>\n",
       "      <th>3</th>\n",
       "      <td>0</td>\n",
       "    </tr>\n",
       "    <tr>\n",
       "      <th>4</th>\n",
       "      <td>0</td>\n",
       "    </tr>\n",
       "    <tr>\n",
       "      <th>...</th>\n",
       "      <td>...</td>\n",
       "    </tr>\n",
       "    <tr>\n",
       "      <th>145</th>\n",
       "      <td>2</td>\n",
       "    </tr>\n",
       "    <tr>\n",
       "      <th>146</th>\n",
       "      <td>2</td>\n",
       "    </tr>\n",
       "    <tr>\n",
       "      <th>147</th>\n",
       "      <td>2</td>\n",
       "    </tr>\n",
       "    <tr>\n",
       "      <th>148</th>\n",
       "      <td>2</td>\n",
       "    </tr>\n",
       "    <tr>\n",
       "      <th>149</th>\n",
       "      <td>2</td>\n",
       "    </tr>\n",
       "  </tbody>\n",
       "</table>\n",
       "<p>150 rows × 1 columns</p>\n",
       "</div>"
      ],
      "text/plain": [
       "     0\n",
       "0    0\n",
       "1    0\n",
       "2    0\n",
       "3    0\n",
       "4    0\n",
       "..  ..\n",
       "145  2\n",
       "146  2\n",
       "147  2\n",
       "148  2\n",
       "149  2\n",
       "\n",
       "[150 rows x 1 columns]"
      ]
     },
     "execution_count": 11,
     "metadata": {},
     "output_type": "execute_result"
    }
   ],
   "source": [
    "# y항의 내용을 확인해 봅시다.\n",
    "pd.DataFrame(y)"
   ]
  },
  {
   "cell_type": "markdown",
   "metadata": {
    "id": "VO2zXHZC-OVz"
   },
   "source": [
    "* y항을 통해서 우리는 데이터가 품종별로 수집되어 있다는 점을 알 수 있습니다. \n",
    "* 따라서 반드시 데이터를 재편성(shuffle)해서 훈련용 데이터와 검정용 데이터를 준비해야 합니다."
   ]
  },
  {
   "cell_type": "markdown",
   "metadata": {
    "id": "xHbZKCel9WzR"
   },
   "source": [
    "## 2.2 데이터 분할"
   ]
  },
  {
   "cell_type": "code",
   "execution_count": 12,
   "metadata": {
    "executionInfo": {
     "elapsed": 330,
     "status": "ok",
     "timestamp": 1638752848042,
     "user": {
      "displayName": "Dominica",
      "photoUrl": "https://lh3.googleusercontent.com/a-/AOh14Givt_n9gun5TCzjvq5ASwWr2b4FAUXE7mJI_JAt1g=s64",
      "userId": "04216559503906939593"
     },
     "user_tz": -540
    },
    "id": "RFfQKDWyeHxI"
   },
   "outputs": [],
   "source": [
    "# 훈련용 집합(train set)과 검정용 집합(test set)으로 분할합니다.   7:3(기본) , 8:2 \n",
    "# 손실율 기대효과  :  새로운데이터 수집 / 학습데이터일부 죽이기 / 분할 새로하기  \n",
    "훈련용_X, 검정용_X, 훈련용_y, 검정용_y = train_test_split(X, y, train_size=0.6, test_size = 0.4, shuffle=True)"
   ]
  },
  {
   "cell_type": "markdown",
   "metadata": {
    "id": "0d5JNhIxF0Lk"
   },
   "source": [
    "* 데이터가 충분히 많다면 흔히 검정용 데이터(test data, test set) 비율을 20%로 잡습니다. \n",
    "* 하지만 붓꽃 데이터 분량이 많지 않아서 여기서는 전체 데이터 중 40%를 검정용 데이터로 따로 떼어서 사용합니다. \n"
   ]
  },
  {
   "cell_type": "code",
   "execution_count": 13,
   "metadata": {
    "colab": {
     "base_uri": "https://localhost:8080/",
     "height": 424
    },
    "executionInfo": {
     "elapsed": 17,
     "status": "ok",
     "timestamp": 1638752848463,
     "user": {
      "displayName": "Dominica",
      "photoUrl": "https://lh3.googleusercontent.com/a-/AOh14Givt_n9gun5TCzjvq5ASwWr2b4FAUXE7mJI_JAt1g=s64",
      "userId": "04216559503906939593"
     },
     "user_tz": -540
    },
    "id": "kr-q0tyr9Z9x",
    "outputId": "18043111-aa5f-4647-9dfe-3cfe1ddc2931"
   },
   "outputs": [
    {
     "data": {
      "text/html": [
       "<div>\n",
       "<style scoped>\n",
       "    .dataframe tbody tr th:only-of-type {\n",
       "        vertical-align: middle;\n",
       "    }\n",
       "\n",
       "    .dataframe tbody tr th {\n",
       "        vertical-align: top;\n",
       "    }\n",
       "\n",
       "    .dataframe thead th {\n",
       "        text-align: right;\n",
       "    }\n",
       "</style>\n",
       "<table border=\"1\" class=\"dataframe\">\n",
       "  <thead>\n",
       "    <tr style=\"text-align: right;\">\n",
       "      <th></th>\n",
       "      <th>0</th>\n",
       "      <th>1</th>\n",
       "      <th>2</th>\n",
       "      <th>3</th>\n",
       "    </tr>\n",
       "  </thead>\n",
       "  <tbody>\n",
       "    <tr>\n",
       "      <th>0</th>\n",
       "      <td>6.7</td>\n",
       "      <td>3.1</td>\n",
       "      <td>4.4</td>\n",
       "      <td>1.4</td>\n",
       "    </tr>\n",
       "    <tr>\n",
       "      <th>1</th>\n",
       "      <td>7.0</td>\n",
       "      <td>3.2</td>\n",
       "      <td>4.7</td>\n",
       "      <td>1.4</td>\n",
       "    </tr>\n",
       "    <tr>\n",
       "      <th>2</th>\n",
       "      <td>6.2</td>\n",
       "      <td>2.8</td>\n",
       "      <td>4.8</td>\n",
       "      <td>1.8</td>\n",
       "    </tr>\n",
       "    <tr>\n",
       "      <th>3</th>\n",
       "      <td>5.1</td>\n",
       "      <td>3.8</td>\n",
       "      <td>1.9</td>\n",
       "      <td>0.4</td>\n",
       "    </tr>\n",
       "    <tr>\n",
       "      <th>4</th>\n",
       "      <td>6.8</td>\n",
       "      <td>2.8</td>\n",
       "      <td>4.8</td>\n",
       "      <td>1.4</td>\n",
       "    </tr>\n",
       "    <tr>\n",
       "      <th>...</th>\n",
       "      <td>...</td>\n",
       "      <td>...</td>\n",
       "      <td>...</td>\n",
       "      <td>...</td>\n",
       "    </tr>\n",
       "    <tr>\n",
       "      <th>85</th>\n",
       "      <td>6.0</td>\n",
       "      <td>2.7</td>\n",
       "      <td>5.1</td>\n",
       "      <td>1.6</td>\n",
       "    </tr>\n",
       "    <tr>\n",
       "      <th>86</th>\n",
       "      <td>6.7</td>\n",
       "      <td>2.5</td>\n",
       "      <td>5.8</td>\n",
       "      <td>1.8</td>\n",
       "    </tr>\n",
       "    <tr>\n",
       "      <th>87</th>\n",
       "      <td>6.8</td>\n",
       "      <td>3.0</td>\n",
       "      <td>5.5</td>\n",
       "      <td>2.1</td>\n",
       "    </tr>\n",
       "    <tr>\n",
       "      <th>88</th>\n",
       "      <td>6.1</td>\n",
       "      <td>2.9</td>\n",
       "      <td>4.7</td>\n",
       "      <td>1.4</td>\n",
       "    </tr>\n",
       "    <tr>\n",
       "      <th>89</th>\n",
       "      <td>6.0</td>\n",
       "      <td>2.9</td>\n",
       "      <td>4.5</td>\n",
       "      <td>1.5</td>\n",
       "    </tr>\n",
       "  </tbody>\n",
       "</table>\n",
       "<p>90 rows × 4 columns</p>\n",
       "</div>"
      ],
      "text/plain": [
       "      0    1    2    3\n",
       "0   6.7  3.1  4.4  1.4\n",
       "1   7.0  3.2  4.7  1.4\n",
       "2   6.2  2.8  4.8  1.8\n",
       "3   5.1  3.8  1.9  0.4\n",
       "4   6.8  2.8  4.8  1.4\n",
       "..  ...  ...  ...  ...\n",
       "85  6.0  2.7  5.1  1.6\n",
       "86  6.7  2.5  5.8  1.8\n",
       "87  6.8  3.0  5.5  2.1\n",
       "88  6.1  2.9  4.7  1.4\n",
       "89  6.0  2.9  4.5  1.5\n",
       "\n",
       "[90 rows x 4 columns]"
      ]
     },
     "execution_count": 13,
     "metadata": {},
     "output_type": "execute_result"
    }
   ],
   "source": [
    "# 각 데이터의 내용을 확인해 봅시다. \n",
    "pd.DataFrame(훈련용_X)"
   ]
  },
  {
   "cell_type": "code",
   "execution_count": 14,
   "metadata": {
    "colab": {
     "base_uri": "https://localhost:8080/",
     "height": 424
    },
    "executionInfo": {
     "elapsed": 8,
     "status": "ok",
     "timestamp": 1638752848808,
     "user": {
      "displayName": "Dominica",
      "photoUrl": "https://lh3.googleusercontent.com/a-/AOh14Givt_n9gun5TCzjvq5ASwWr2b4FAUXE7mJI_JAt1g=s64",
      "userId": "04216559503906939593"
     },
     "user_tz": -540
    },
    "id": "bwu1pAC29nE0",
    "outputId": "5a8f386c-3e99-43bc-bda1-d0bd170cdfe9"
   },
   "outputs": [
    {
     "data": {
      "text/html": [
       "<div>\n",
       "<style scoped>\n",
       "    .dataframe tbody tr th:only-of-type {\n",
       "        vertical-align: middle;\n",
       "    }\n",
       "\n",
       "    .dataframe tbody tr th {\n",
       "        vertical-align: top;\n",
       "    }\n",
       "\n",
       "    .dataframe thead th {\n",
       "        text-align: right;\n",
       "    }\n",
       "</style>\n",
       "<table border=\"1\" class=\"dataframe\">\n",
       "  <thead>\n",
       "    <tr style=\"text-align: right;\">\n",
       "      <th></th>\n",
       "      <th>0</th>\n",
       "    </tr>\n",
       "  </thead>\n",
       "  <tbody>\n",
       "    <tr>\n",
       "      <th>0</th>\n",
       "      <td>1</td>\n",
       "    </tr>\n",
       "    <tr>\n",
       "      <th>1</th>\n",
       "      <td>1</td>\n",
       "    </tr>\n",
       "    <tr>\n",
       "      <th>2</th>\n",
       "      <td>2</td>\n",
       "    </tr>\n",
       "    <tr>\n",
       "      <th>3</th>\n",
       "      <td>0</td>\n",
       "    </tr>\n",
       "    <tr>\n",
       "      <th>4</th>\n",
       "      <td>1</td>\n",
       "    </tr>\n",
       "    <tr>\n",
       "      <th>...</th>\n",
       "      <td>...</td>\n",
       "    </tr>\n",
       "    <tr>\n",
       "      <th>85</th>\n",
       "      <td>1</td>\n",
       "    </tr>\n",
       "    <tr>\n",
       "      <th>86</th>\n",
       "      <td>2</td>\n",
       "    </tr>\n",
       "    <tr>\n",
       "      <th>87</th>\n",
       "      <td>2</td>\n",
       "    </tr>\n",
       "    <tr>\n",
       "      <th>88</th>\n",
       "      <td>1</td>\n",
       "    </tr>\n",
       "    <tr>\n",
       "      <th>89</th>\n",
       "      <td>1</td>\n",
       "    </tr>\n",
       "  </tbody>\n",
       "</table>\n",
       "<p>90 rows × 1 columns</p>\n",
       "</div>"
      ],
      "text/plain": [
       "    0\n",
       "0   1\n",
       "1   1\n",
       "2   2\n",
       "3   0\n",
       "4   1\n",
       ".. ..\n",
       "85  1\n",
       "86  2\n",
       "87  2\n",
       "88  1\n",
       "89  1\n",
       "\n",
       "[90 rows x 1 columns]"
      ]
     },
     "execution_count": 14,
     "metadata": {},
     "output_type": "execute_result"
    }
   ],
   "source": [
    "pd.DataFrame(훈련용_y)"
   ]
  },
  {
   "cell_type": "markdown",
   "metadata": {
    "id": "7Mb3acbR-eDq"
   },
   "source": [
    "* 이 훈련용 y 값을 통해서 우리는 데이터가 재편성되어 있음을 알 수 있습니다.\n",
    "* 즉, 데이터가 섞였다는 말입니다."
   ]
  },
  {
   "cell_type": "code",
   "execution_count": 15,
   "metadata": {
    "colab": {
     "base_uri": "https://localhost:8080/",
     "height": 206
    },
    "executionInfo": {
     "elapsed": 15,
     "status": "ok",
     "timestamp": 1638752850543,
     "user": {
      "displayName": "Dominica",
      "photoUrl": "https://lh3.googleusercontent.com/a-/AOh14Givt_n9gun5TCzjvq5ASwWr2b4FAUXE7mJI_JAt1g=s64",
      "userId": "04216559503906939593"
     },
     "user_tz": -540
    },
    "id": "mEKrY4-v9uOt",
    "outputId": "5ebfe7cb-cbf6-4831-b734-ba7aac59e525"
   },
   "outputs": [
    {
     "data": {
      "text/html": [
       "<div>\n",
       "<style scoped>\n",
       "    .dataframe tbody tr th:only-of-type {\n",
       "        vertical-align: middle;\n",
       "    }\n",
       "\n",
       "    .dataframe tbody tr th {\n",
       "        vertical-align: top;\n",
       "    }\n",
       "\n",
       "    .dataframe thead th {\n",
       "        text-align: right;\n",
       "    }\n",
       "</style>\n",
       "<table border=\"1\" class=\"dataframe\">\n",
       "  <thead>\n",
       "    <tr style=\"text-align: right;\">\n",
       "      <th></th>\n",
       "      <th>0</th>\n",
       "      <th>1</th>\n",
       "      <th>2</th>\n",
       "      <th>3</th>\n",
       "    </tr>\n",
       "  </thead>\n",
       "  <tbody>\n",
       "    <tr>\n",
       "      <th>0</th>\n",
       "      <td>6.4</td>\n",
       "      <td>2.8</td>\n",
       "      <td>5.6</td>\n",
       "      <td>2.2</td>\n",
       "    </tr>\n",
       "    <tr>\n",
       "      <th>1</th>\n",
       "      <td>5.6</td>\n",
       "      <td>2.8</td>\n",
       "      <td>4.9</td>\n",
       "      <td>2.0</td>\n",
       "    </tr>\n",
       "    <tr>\n",
       "      <th>2</th>\n",
       "      <td>4.4</td>\n",
       "      <td>3.2</td>\n",
       "      <td>1.3</td>\n",
       "      <td>0.2</td>\n",
       "    </tr>\n",
       "    <tr>\n",
       "      <th>3</th>\n",
       "      <td>6.6</td>\n",
       "      <td>2.9</td>\n",
       "      <td>4.6</td>\n",
       "      <td>1.3</td>\n",
       "    </tr>\n",
       "    <tr>\n",
       "      <th>4</th>\n",
       "      <td>5.5</td>\n",
       "      <td>2.6</td>\n",
       "      <td>4.4</td>\n",
       "      <td>1.2</td>\n",
       "    </tr>\n",
       "  </tbody>\n",
       "</table>\n",
       "</div>"
      ],
      "text/plain": [
       "     0    1    2    3\n",
       "0  6.4  2.8  5.6  2.2\n",
       "1  5.6  2.8  4.9  2.0\n",
       "2  4.4  3.2  1.3  0.2\n",
       "3  6.6  2.9  4.6  1.3\n",
       "4  5.5  2.6  4.4  1.2"
      ]
     },
     "execution_count": 15,
     "metadata": {},
     "output_type": "execute_result"
    }
   ],
   "source": [
    "pd.DataFrame(검정용_X).head()"
   ]
  },
  {
   "cell_type": "code",
   "execution_count": 16,
   "metadata": {
    "colab": {
     "base_uri": "https://localhost:8080/",
     "height": 206
    },
    "executionInfo": {
     "elapsed": 14,
     "status": "ok",
     "timestamp": 1638752851543,
     "user": {
      "displayName": "Dominica",
      "photoUrl": "https://lh3.googleusercontent.com/a-/AOh14Givt_n9gun5TCzjvq5ASwWr2b4FAUXE7mJI_JAt1g=s64",
      "userId": "04216559503906939593"
     },
     "user_tz": -540
    },
    "id": "kzCVRaVn-BkP",
    "outputId": "1c2e5ed0-ef83-42f8-f5a7-e0300ca47122"
   },
   "outputs": [
    {
     "data": {
      "text/html": [
       "<div>\n",
       "<style scoped>\n",
       "    .dataframe tbody tr th:only-of-type {\n",
       "        vertical-align: middle;\n",
       "    }\n",
       "\n",
       "    .dataframe tbody tr th {\n",
       "        vertical-align: top;\n",
       "    }\n",
       "\n",
       "    .dataframe thead th {\n",
       "        text-align: right;\n",
       "    }\n",
       "</style>\n",
       "<table border=\"1\" class=\"dataframe\">\n",
       "  <thead>\n",
       "    <tr style=\"text-align: right;\">\n",
       "      <th></th>\n",
       "      <th>0</th>\n",
       "    </tr>\n",
       "  </thead>\n",
       "  <tbody>\n",
       "    <tr>\n",
       "      <th>0</th>\n",
       "      <td>2</td>\n",
       "    </tr>\n",
       "    <tr>\n",
       "      <th>1</th>\n",
       "      <td>2</td>\n",
       "    </tr>\n",
       "    <tr>\n",
       "      <th>2</th>\n",
       "      <td>0</td>\n",
       "    </tr>\n",
       "    <tr>\n",
       "      <th>3</th>\n",
       "      <td>1</td>\n",
       "    </tr>\n",
       "    <tr>\n",
       "      <th>4</th>\n",
       "      <td>1</td>\n",
       "    </tr>\n",
       "  </tbody>\n",
       "</table>\n",
       "</div>"
      ],
      "text/plain": [
       "   0\n",
       "0  2\n",
       "1  2\n",
       "2  0\n",
       "3  1\n",
       "4  1"
      ]
     },
     "execution_count": 16,
     "metadata": {},
     "output_type": "execute_result"
    }
   ],
   "source": [
    "pd.DataFrame(검정용_y).head()"
   ]
  },
  {
   "cell_type": "markdown",
   "metadata": {
    "id": "Rw9QBZ7zy8yY"
   },
   "source": [
    "* 여기서 shuffle을 True로 해 버리면 매번 데이터 순서가 바뀌는 꼴이 되어 매번 실행 시마다 결과가 다르게 나오게 되므로 주의합시다.\n",
    "* 그러나 일부러 False로 해서 데이터가 재편성(reshape) 되게 해서 비교해 보는 일도 의미가 있습니다. "
   ]
  },
  {
   "cell_type": "markdown",
   "metadata": {
    "id": "ae2K789sLIYm"
   },
   "source": [
    "# 3. 모델 선택 방법"
   ]
  },
  {
   "cell_type": "markdown",
   "metadata": {
    "id": "Uv7Q1UhxO1QK"
   },
   "source": [
    "* 사이킷런에서는 모델을 선택하는 일과 관련한 설명서를 제공합니다.\n",
    "  * 공식 설명서: https://scikit-learn.org/stable/model_selection.html#model-selection\n",
    "  * 이 설명서를 보면 크게 네 가지 방법을 제시합니다.\n",
    "    * 추정기 성능 평가를 위한 [교차 검증]\n",
    "    * 한 가지 추정기의 [하이퍼 파라미터 조율 ]\n",
    "    * 예측 품질의 정량화를 위한 계량과 [점수 매기기]\n",
    "    * 평가한 모형의 점수를 [검증 곡선]으로 그려 보기\n",
    "\n",
    "\n",
    "\n"
   ]
  },
  {
   "cell_type": "markdown",
   "metadata": {
    "id": "ByHrWRwAogKo"
   },
   "source": [
    "* 여기서는 이 중에서도 간단하면서도 대표적인 방법을 활용해 보겠습니다. \n",
    "  * 점수 매기기(scoring)\n",
    "  * 교차 검증(cross validation)"
   ]
  },
  {
   "cell_type": "markdown",
   "metadata": {
    "id": "hv9EPHmwOnaL"
   },
   "source": [
    "## 3.1 점수 매기기"
   ]
  },
  {
   "cell_type": "markdown",
   "metadata": {
    "id": "cqBy7uQ4kA-R"
   },
   "source": [
    "### 3.1.1 각종 추정기 확인"
   ]
  },
  {
   "cell_type": "code",
   "execution_count": 17,
   "metadata": {
    "executionInfo": {
     "elapsed": 256,
     "status": "ok",
     "timestamp": 1638752855125,
     "user": {
      "displayName": "Dominica",
      "photoUrl": "https://lh3.googleusercontent.com/a-/AOh14Givt_n9gun5TCzjvq5ASwWr2b4FAUXE7mJI_JAt1g=s64",
      "userId": "04216559503906939593"
     },
     "user_tz": -540
    },
    "id": "kZe3aOnPN0ho"
   },
   "outputs": [],
   "source": [
    "# 모든 추정기 클래스들을 리스트 형태로 가져오는 데 사용하는 함수입니다.\n",
    "from sklearn.utils import all_estimators"
   ]
  },
  {
   "cell_type": "markdown",
   "metadata": {
    "id": "uRo6y_9URfO6"
   },
   "source": [
    "* all_estimators 함수로는 사이킷런이 제공하는 모든 추정기를 선별할 수 있습니다.\n",
    "* 공식 설명서: https://scikit-learn.org/1.0/modules/generated/sklearn.utils.all_estimators.html"
   ]
  },
  {
   "cell_type": "markdown",
   "metadata": {
    "id": "ZEeLcG54mHEu"
   },
   "source": [
    "#### 3.1.1.1 분류기 클래스 추출"
   ]
  },
  {
   "cell_type": "code",
   "execution_count": 18,
   "metadata": {
    "colab": {
     "base_uri": "https://localhost:8080/"
    },
    "executionInfo": {
     "elapsed": 920,
     "status": "ok",
     "timestamp": 1638753043227,
     "user": {
      "displayName": "Dominica",
      "photoUrl": "https://lh3.googleusercontent.com/a-/AOh14Givt_n9gun5TCzjvq5ASwWr2b4FAUXE7mJI_JAt1g=s64",
      "userId": "04216559503906939593"
     },
     "user_tz": -540
    },
    "id": "r09vZdOoRJII",
    "outputId": "06bf9b40-8649-4fc5-d8d4-acc80031ab85"
   },
   "outputs": [
    {
     "data": {
      "text/plain": [
       "[('AdaBoostClassifier', sklearn.ensemble._weight_boosting.AdaBoostClassifier),\n",
       " ('BaggingClassifier', sklearn.ensemble._bagging.BaggingClassifier),\n",
       " ('BernoulliNB', sklearn.naive_bayes.BernoulliNB),\n",
       " ('CalibratedClassifierCV', sklearn.calibration.CalibratedClassifierCV),\n",
       " ('CategoricalNB', sklearn.naive_bayes.CategoricalNB),\n",
       " ('ClassifierChain', sklearn.multioutput.ClassifierChain),\n",
       " ('ComplementNB', sklearn.naive_bayes.ComplementNB),\n",
       " ('DecisionTreeClassifier', sklearn.tree._classes.DecisionTreeClassifier),\n",
       " ('DummyClassifier', sklearn.dummy.DummyClassifier),\n",
       " ('ExtraTreeClassifier', sklearn.tree._classes.ExtraTreeClassifier),\n",
       " ('ExtraTreesClassifier', sklearn.ensemble._forest.ExtraTreesClassifier),\n",
       " ('GaussianNB', sklearn.naive_bayes.GaussianNB),\n",
       " ('GaussianProcessClassifier',\n",
       "  sklearn.gaussian_process._gpc.GaussianProcessClassifier),\n",
       " ('GradientBoostingClassifier',\n",
       "  sklearn.ensemble._gb.GradientBoostingClassifier),\n",
       " ('HistGradientBoostingClassifier',\n",
       "  sklearn.ensemble._hist_gradient_boosting.gradient_boosting.HistGradientBoostingClassifier),\n",
       " ('KNeighborsClassifier',\n",
       "  sklearn.neighbors._classification.KNeighborsClassifier),\n",
       " ('LabelPropagation',\n",
       "  sklearn.semi_supervised._label_propagation.LabelPropagation),\n",
       " ('LabelSpreading', sklearn.semi_supervised._label_propagation.LabelSpreading),\n",
       " ('LinearDiscriminantAnalysis',\n",
       "  sklearn.discriminant_analysis.LinearDiscriminantAnalysis),\n",
       " ('LinearSVC', sklearn.svm._classes.LinearSVC),\n",
       " ('LogisticRegression', sklearn.linear_model._logistic.LogisticRegression),\n",
       " ('LogisticRegressionCV', sklearn.linear_model._logistic.LogisticRegressionCV),\n",
       " ('MLPClassifier',\n",
       "  sklearn.neural_network._multilayer_perceptron.MLPClassifier),\n",
       " ('MultiOutputClassifier', sklearn.multioutput.MultiOutputClassifier),\n",
       " ('MultinomialNB', sklearn.naive_bayes.MultinomialNB),\n",
       " ('NearestCentroid', sklearn.neighbors._nearest_centroid.NearestCentroid),\n",
       " ('NuSVC', sklearn.svm._classes.NuSVC),\n",
       " ('OneVsOneClassifier', sklearn.multiclass.OneVsOneClassifier),\n",
       " ('OneVsRestClassifier', sklearn.multiclass.OneVsRestClassifier),\n",
       " ('OutputCodeClassifier', sklearn.multiclass.OutputCodeClassifier),\n",
       " ('PassiveAggressiveClassifier',\n",
       "  sklearn.linear_model._passive_aggressive.PassiveAggressiveClassifier),\n",
       " ('Perceptron', sklearn.linear_model._perceptron.Perceptron),\n",
       " ('QuadraticDiscriminantAnalysis',\n",
       "  sklearn.discriminant_analysis.QuadraticDiscriminantAnalysis),\n",
       " ('RadiusNeighborsClassifier',\n",
       "  sklearn.neighbors._classification.RadiusNeighborsClassifier),\n",
       " ('RandomForestClassifier', sklearn.ensemble._forest.RandomForestClassifier),\n",
       " ('RidgeClassifier', sklearn.linear_model._ridge.RidgeClassifier),\n",
       " ('RidgeClassifierCV', sklearn.linear_model._ridge.RidgeClassifierCV),\n",
       " ('SGDClassifier', sklearn.linear_model._stochastic_gradient.SGDClassifier),\n",
       " ('SVC', sklearn.svm._classes.SVC),\n",
       " ('StackingClassifier', sklearn.ensemble._stacking.StackingClassifier),\n",
       " ('VotingClassifier', sklearn.ensemble._voting.VotingClassifier)]"
      ]
     },
     "execution_count": 18,
     "metadata": {},
     "output_type": "execute_result"
    }
   ],
   "source": [
    "# 분류기 클래스들을 추출하기 \n",
    "# 이 말은 곧 분류하는 일을 전문으로 하는 로봇 설계도(즉, 인공지능 모형 클래스)를 찾아내라는 말과 같습니다.\n",
    "분류기_클래스들 = all_estimators(type_filter=\"classifier\")\n",
    "분류기_클래스들"
   ]
  },
  {
   "cell_type": "markdown",
   "metadata": {
    "id": "BWzGQ7goR3xw"
   },
   "source": [
    "* 이 출력 내용을 보면 리스트의 각 원소가 ('분류기 명칭', 분류기 클래스) 꼴의 튜플임을 알 수 있습니다.\n",
    "* 또한 분류기가 굉장히 많음을 알 수 있습니다."
   ]
  },
  {
   "cell_type": "code",
   "execution_count": 19,
   "metadata": {
    "colab": {
     "base_uri": "https://localhost:8080/",
     "height": 1000
    },
    "executionInfo": {
     "elapsed": 276,
     "status": "ok",
     "timestamp": 1638753629398,
     "user": {
      "displayName": "Dominica",
      "photoUrl": "https://lh3.googleusercontent.com/a-/AOh14Givt_n9gun5TCzjvq5ASwWr2b4FAUXE7mJI_JAt1g=s64",
      "userId": "04216559503906939593"
     },
     "user_tz": -540
    },
    "id": "VNQqBaqeiPjF",
    "outputId": "a261f55c-143d-45a1-b92b-d93fdac2b66f"
   },
   "outputs": [
    {
     "data": {
      "text/html": [
       "<div>\n",
       "<style scoped>\n",
       "    .dataframe tbody tr th:only-of-type {\n",
       "        vertical-align: middle;\n",
       "    }\n",
       "\n",
       "    .dataframe tbody tr th {\n",
       "        vertical-align: top;\n",
       "    }\n",
       "\n",
       "    .dataframe thead th {\n",
       "        text-align: right;\n",
       "    }\n",
       "</style>\n",
       "<table border=\"1\" class=\"dataframe\">\n",
       "  <thead>\n",
       "    <tr style=\"text-align: right;\">\n",
       "      <th></th>\n",
       "      <th>0</th>\n",
       "      <th>1</th>\n",
       "    </tr>\n",
       "  </thead>\n",
       "  <tbody>\n",
       "    <tr>\n",
       "      <th>0</th>\n",
       "      <td>AdaBoostClassifier</td>\n",
       "      <td>&lt;class 'sklearn.ensemble._weight_boosting.AdaB...</td>\n",
       "    </tr>\n",
       "    <tr>\n",
       "      <th>1</th>\n",
       "      <td>BaggingClassifier</td>\n",
       "      <td>&lt;class 'sklearn.ensemble._bagging.BaggingClass...</td>\n",
       "    </tr>\n",
       "    <tr>\n",
       "      <th>2</th>\n",
       "      <td>BernoulliNB</td>\n",
       "      <td>&lt;class 'sklearn.naive_bayes.BernoulliNB'&gt;</td>\n",
       "    </tr>\n",
       "    <tr>\n",
       "      <th>3</th>\n",
       "      <td>CalibratedClassifierCV</td>\n",
       "      <td>&lt;class 'sklearn.calibration.CalibratedClassifi...</td>\n",
       "    </tr>\n",
       "    <tr>\n",
       "      <th>4</th>\n",
       "      <td>CategoricalNB</td>\n",
       "      <td>&lt;class 'sklearn.naive_bayes.CategoricalNB'&gt;</td>\n",
       "    </tr>\n",
       "    <tr>\n",
       "      <th>5</th>\n",
       "      <td>ClassifierChain</td>\n",
       "      <td>&lt;class 'sklearn.multioutput.ClassifierChain'&gt;</td>\n",
       "    </tr>\n",
       "    <tr>\n",
       "      <th>6</th>\n",
       "      <td>ComplementNB</td>\n",
       "      <td>&lt;class 'sklearn.naive_bayes.ComplementNB'&gt;</td>\n",
       "    </tr>\n",
       "    <tr>\n",
       "      <th>7</th>\n",
       "      <td>DecisionTreeClassifier</td>\n",
       "      <td>&lt;class 'sklearn.tree._classes.DecisionTreeClas...</td>\n",
       "    </tr>\n",
       "    <tr>\n",
       "      <th>8</th>\n",
       "      <td>DummyClassifier</td>\n",
       "      <td>&lt;class 'sklearn.dummy.DummyClassifier'&gt;</td>\n",
       "    </tr>\n",
       "    <tr>\n",
       "      <th>9</th>\n",
       "      <td>ExtraTreeClassifier</td>\n",
       "      <td>&lt;class 'sklearn.tree._classes.ExtraTreeClassif...</td>\n",
       "    </tr>\n",
       "    <tr>\n",
       "      <th>10</th>\n",
       "      <td>ExtraTreesClassifier</td>\n",
       "      <td>&lt;class 'sklearn.ensemble._forest.ExtraTreesCla...</td>\n",
       "    </tr>\n",
       "    <tr>\n",
       "      <th>11</th>\n",
       "      <td>GaussianNB</td>\n",
       "      <td>&lt;class 'sklearn.naive_bayes.GaussianNB'&gt;</td>\n",
       "    </tr>\n",
       "    <tr>\n",
       "      <th>12</th>\n",
       "      <td>GaussianProcessClassifier</td>\n",
       "      <td>&lt;class 'sklearn.gaussian_process._gpc.Gaussian...</td>\n",
       "    </tr>\n",
       "    <tr>\n",
       "      <th>13</th>\n",
       "      <td>GradientBoostingClassifier</td>\n",
       "      <td>&lt;class 'sklearn.ensemble._gb.GradientBoostingC...</td>\n",
       "    </tr>\n",
       "    <tr>\n",
       "      <th>14</th>\n",
       "      <td>HistGradientBoostingClassifier</td>\n",
       "      <td>&lt;class 'sklearn.ensemble._hist_gradient_boosti...</td>\n",
       "    </tr>\n",
       "    <tr>\n",
       "      <th>15</th>\n",
       "      <td>KNeighborsClassifier</td>\n",
       "      <td>&lt;class 'sklearn.neighbors._classification.KNei...</td>\n",
       "    </tr>\n",
       "    <tr>\n",
       "      <th>16</th>\n",
       "      <td>LabelPropagation</td>\n",
       "      <td>&lt;class 'sklearn.semi_supervised._label_propaga...</td>\n",
       "    </tr>\n",
       "    <tr>\n",
       "      <th>17</th>\n",
       "      <td>LabelSpreading</td>\n",
       "      <td>&lt;class 'sklearn.semi_supervised._label_propaga...</td>\n",
       "    </tr>\n",
       "    <tr>\n",
       "      <th>18</th>\n",
       "      <td>LinearDiscriminantAnalysis</td>\n",
       "      <td>&lt;class 'sklearn.discriminant_analysis.LinearDi...</td>\n",
       "    </tr>\n",
       "    <tr>\n",
       "      <th>19</th>\n",
       "      <td>LinearSVC</td>\n",
       "      <td>&lt;class 'sklearn.svm._classes.LinearSVC'&gt;</td>\n",
       "    </tr>\n",
       "    <tr>\n",
       "      <th>20</th>\n",
       "      <td>LogisticRegression</td>\n",
       "      <td>&lt;class 'sklearn.linear_model._logistic.Logisti...</td>\n",
       "    </tr>\n",
       "    <tr>\n",
       "      <th>21</th>\n",
       "      <td>LogisticRegressionCV</td>\n",
       "      <td>&lt;class 'sklearn.linear_model._logistic.Logisti...</td>\n",
       "    </tr>\n",
       "    <tr>\n",
       "      <th>22</th>\n",
       "      <td>MLPClassifier</td>\n",
       "      <td>&lt;class 'sklearn.neural_network._multilayer_per...</td>\n",
       "    </tr>\n",
       "    <tr>\n",
       "      <th>23</th>\n",
       "      <td>MultiOutputClassifier</td>\n",
       "      <td>&lt;class 'sklearn.multioutput.MultiOutputClassif...</td>\n",
       "    </tr>\n",
       "    <tr>\n",
       "      <th>24</th>\n",
       "      <td>MultinomialNB</td>\n",
       "      <td>&lt;class 'sklearn.naive_bayes.MultinomialNB'&gt;</td>\n",
       "    </tr>\n",
       "    <tr>\n",
       "      <th>25</th>\n",
       "      <td>NearestCentroid</td>\n",
       "      <td>&lt;class 'sklearn.neighbors._nearest_centroid.Ne...</td>\n",
       "    </tr>\n",
       "    <tr>\n",
       "      <th>26</th>\n",
       "      <td>NuSVC</td>\n",
       "      <td>&lt;class 'sklearn.svm._classes.NuSVC'&gt;</td>\n",
       "    </tr>\n",
       "    <tr>\n",
       "      <th>27</th>\n",
       "      <td>OneVsOneClassifier</td>\n",
       "      <td>&lt;class 'sklearn.multiclass.OneVsOneClassifier'&gt;</td>\n",
       "    </tr>\n",
       "    <tr>\n",
       "      <th>28</th>\n",
       "      <td>OneVsRestClassifier</td>\n",
       "      <td>&lt;class 'sklearn.multiclass.OneVsRestClassifier'&gt;</td>\n",
       "    </tr>\n",
       "    <tr>\n",
       "      <th>29</th>\n",
       "      <td>OutputCodeClassifier</td>\n",
       "      <td>&lt;class 'sklearn.multiclass.OutputCodeClassifier'&gt;</td>\n",
       "    </tr>\n",
       "    <tr>\n",
       "      <th>30</th>\n",
       "      <td>PassiveAggressiveClassifier</td>\n",
       "      <td>&lt;class 'sklearn.linear_model._passive_aggressi...</td>\n",
       "    </tr>\n",
       "    <tr>\n",
       "      <th>31</th>\n",
       "      <td>Perceptron</td>\n",
       "      <td>&lt;class 'sklearn.linear_model._perceptron.Perce...</td>\n",
       "    </tr>\n",
       "    <tr>\n",
       "      <th>32</th>\n",
       "      <td>QuadraticDiscriminantAnalysis</td>\n",
       "      <td>&lt;class 'sklearn.discriminant_analysis.Quadrati...</td>\n",
       "    </tr>\n",
       "    <tr>\n",
       "      <th>33</th>\n",
       "      <td>RadiusNeighborsClassifier</td>\n",
       "      <td>&lt;class 'sklearn.neighbors._classification.Radi...</td>\n",
       "    </tr>\n",
       "    <tr>\n",
       "      <th>34</th>\n",
       "      <td>RandomForestClassifier</td>\n",
       "      <td>&lt;class 'sklearn.ensemble._forest.RandomForestC...</td>\n",
       "    </tr>\n",
       "    <tr>\n",
       "      <th>35</th>\n",
       "      <td>RidgeClassifier</td>\n",
       "      <td>&lt;class 'sklearn.linear_model._ridge.RidgeClass...</td>\n",
       "    </tr>\n",
       "    <tr>\n",
       "      <th>36</th>\n",
       "      <td>RidgeClassifierCV</td>\n",
       "      <td>&lt;class 'sklearn.linear_model._ridge.RidgeClass...</td>\n",
       "    </tr>\n",
       "    <tr>\n",
       "      <th>37</th>\n",
       "      <td>SGDClassifier</td>\n",
       "      <td>&lt;class 'sklearn.linear_model._stochastic_gradi...</td>\n",
       "    </tr>\n",
       "    <tr>\n",
       "      <th>38</th>\n",
       "      <td>SVC</td>\n",
       "      <td>&lt;class 'sklearn.svm._classes.SVC'&gt;</td>\n",
       "    </tr>\n",
       "    <tr>\n",
       "      <th>39</th>\n",
       "      <td>StackingClassifier</td>\n",
       "      <td>&lt;class 'sklearn.ensemble._stacking.StackingCla...</td>\n",
       "    </tr>\n",
       "    <tr>\n",
       "      <th>40</th>\n",
       "      <td>VotingClassifier</td>\n",
       "      <td>&lt;class 'sklearn.ensemble._voting.VotingClassif...</td>\n",
       "    </tr>\n",
       "  </tbody>\n",
       "</table>\n",
       "</div>"
      ],
      "text/plain": [
       "                                 0  \\\n",
       "0               AdaBoostClassifier   \n",
       "1                BaggingClassifier   \n",
       "2                      BernoulliNB   \n",
       "3           CalibratedClassifierCV   \n",
       "4                    CategoricalNB   \n",
       "5                  ClassifierChain   \n",
       "6                     ComplementNB   \n",
       "7           DecisionTreeClassifier   \n",
       "8                  DummyClassifier   \n",
       "9              ExtraTreeClassifier   \n",
       "10            ExtraTreesClassifier   \n",
       "11                      GaussianNB   \n",
       "12       GaussianProcessClassifier   \n",
       "13      GradientBoostingClassifier   \n",
       "14  HistGradientBoostingClassifier   \n",
       "15            KNeighborsClassifier   \n",
       "16                LabelPropagation   \n",
       "17                  LabelSpreading   \n",
       "18      LinearDiscriminantAnalysis   \n",
       "19                       LinearSVC   \n",
       "20              LogisticRegression   \n",
       "21            LogisticRegressionCV   \n",
       "22                   MLPClassifier   \n",
       "23           MultiOutputClassifier   \n",
       "24                   MultinomialNB   \n",
       "25                 NearestCentroid   \n",
       "26                           NuSVC   \n",
       "27              OneVsOneClassifier   \n",
       "28             OneVsRestClassifier   \n",
       "29            OutputCodeClassifier   \n",
       "30     PassiveAggressiveClassifier   \n",
       "31                      Perceptron   \n",
       "32   QuadraticDiscriminantAnalysis   \n",
       "33       RadiusNeighborsClassifier   \n",
       "34          RandomForestClassifier   \n",
       "35                 RidgeClassifier   \n",
       "36               RidgeClassifierCV   \n",
       "37                   SGDClassifier   \n",
       "38                             SVC   \n",
       "39              StackingClassifier   \n",
       "40                VotingClassifier   \n",
       "\n",
       "                                                    1  \n",
       "0   <class 'sklearn.ensemble._weight_boosting.AdaB...  \n",
       "1   <class 'sklearn.ensemble._bagging.BaggingClass...  \n",
       "2           <class 'sklearn.naive_bayes.BernoulliNB'>  \n",
       "3   <class 'sklearn.calibration.CalibratedClassifi...  \n",
       "4         <class 'sklearn.naive_bayes.CategoricalNB'>  \n",
       "5       <class 'sklearn.multioutput.ClassifierChain'>  \n",
       "6          <class 'sklearn.naive_bayes.ComplementNB'>  \n",
       "7   <class 'sklearn.tree._classes.DecisionTreeClas...  \n",
       "8             <class 'sklearn.dummy.DummyClassifier'>  \n",
       "9   <class 'sklearn.tree._classes.ExtraTreeClassif...  \n",
       "10  <class 'sklearn.ensemble._forest.ExtraTreesCla...  \n",
       "11           <class 'sklearn.naive_bayes.GaussianNB'>  \n",
       "12  <class 'sklearn.gaussian_process._gpc.Gaussian...  \n",
       "13  <class 'sklearn.ensemble._gb.GradientBoostingC...  \n",
       "14  <class 'sklearn.ensemble._hist_gradient_boosti...  \n",
       "15  <class 'sklearn.neighbors._classification.KNei...  \n",
       "16  <class 'sklearn.semi_supervised._label_propaga...  \n",
       "17  <class 'sklearn.semi_supervised._label_propaga...  \n",
       "18  <class 'sklearn.discriminant_analysis.LinearDi...  \n",
       "19           <class 'sklearn.svm._classes.LinearSVC'>  \n",
       "20  <class 'sklearn.linear_model._logistic.Logisti...  \n",
       "21  <class 'sklearn.linear_model._logistic.Logisti...  \n",
       "22  <class 'sklearn.neural_network._multilayer_per...  \n",
       "23  <class 'sklearn.multioutput.MultiOutputClassif...  \n",
       "24        <class 'sklearn.naive_bayes.MultinomialNB'>  \n",
       "25  <class 'sklearn.neighbors._nearest_centroid.Ne...  \n",
       "26               <class 'sklearn.svm._classes.NuSVC'>  \n",
       "27    <class 'sklearn.multiclass.OneVsOneClassifier'>  \n",
       "28   <class 'sklearn.multiclass.OneVsRestClassifier'>  \n",
       "29  <class 'sklearn.multiclass.OutputCodeClassifier'>  \n",
       "30  <class 'sklearn.linear_model._passive_aggressi...  \n",
       "31  <class 'sklearn.linear_model._perceptron.Perce...  \n",
       "32  <class 'sklearn.discriminant_analysis.Quadrati...  \n",
       "33  <class 'sklearn.neighbors._classification.Radi...  \n",
       "34  <class 'sklearn.ensemble._forest.RandomForestC...  \n",
       "35  <class 'sklearn.linear_model._ridge.RidgeClass...  \n",
       "36  <class 'sklearn.linear_model._ridge.RidgeClass...  \n",
       "37  <class 'sklearn.linear_model._stochastic_gradi...  \n",
       "38                 <class 'sklearn.svm._classes.SVC'>  \n",
       "39  <class 'sklearn.ensemble._stacking.StackingCla...  \n",
       "40  <class 'sklearn.ensemble._voting.VotingClassif...  "
      ]
     },
     "execution_count": 19,
     "metadata": {},
     "output_type": "execute_result"
    }
   ],
   "source": [
    "# 보기 좋게 데이터프레임에 넣어 출력해 봅시다.\n",
    "pd.DataFrame(분류기_클래스들)"
   ]
  },
  {
   "cell_type": "markdown",
   "metadata": {
    "id": "0W_Wp_-pmPEz"
   },
   "source": [
    "#### 3.1.1.2 회귀기 클래스 추출"
   ]
  },
  {
   "cell_type": "code",
   "execution_count": 20,
   "metadata": {
    "colab": {
     "base_uri": "https://localhost:8080/",
     "height": 1000
    },
    "executionInfo": {
     "elapsed": 14,
     "status": "ok",
     "timestamp": 1638753629748,
     "user": {
      "displayName": "Dominica",
      "photoUrl": "https://lh3.googleusercontent.com/a-/AOh14Givt_n9gun5TCzjvq5ASwWr2b4FAUXE7mJI_JAt1g=s64",
      "userId": "04216559503906939593"
     },
     "user_tz": -540
    },
    "id": "wAKU9b1KiYhC",
    "outputId": "aec7af93-6b52-4e48-9ad2-201c90a8cbd9"
   },
   "outputs": [
    {
     "data": {
      "text/html": [
       "<div>\n",
       "<style scoped>\n",
       "    .dataframe tbody tr th:only-of-type {\n",
       "        vertical-align: middle;\n",
       "    }\n",
       "\n",
       "    .dataframe tbody tr th {\n",
       "        vertical-align: top;\n",
       "    }\n",
       "\n",
       "    .dataframe thead th {\n",
       "        text-align: right;\n",
       "    }\n",
       "</style>\n",
       "<table border=\"1\" class=\"dataframe\">\n",
       "  <thead>\n",
       "    <tr style=\"text-align: right;\">\n",
       "      <th></th>\n",
       "      <th>0</th>\n",
       "      <th>1</th>\n",
       "    </tr>\n",
       "  </thead>\n",
       "  <tbody>\n",
       "    <tr>\n",
       "      <th>0</th>\n",
       "      <td>ARDRegression</td>\n",
       "      <td>&lt;class 'sklearn.linear_model._bayes.ARDRegress...</td>\n",
       "    </tr>\n",
       "    <tr>\n",
       "      <th>1</th>\n",
       "      <td>AdaBoostRegressor</td>\n",
       "      <td>&lt;class 'sklearn.ensemble._weight_boosting.AdaB...</td>\n",
       "    </tr>\n",
       "    <tr>\n",
       "      <th>2</th>\n",
       "      <td>BaggingRegressor</td>\n",
       "      <td>&lt;class 'sklearn.ensemble._bagging.BaggingRegre...</td>\n",
       "    </tr>\n",
       "    <tr>\n",
       "      <th>3</th>\n",
       "      <td>BayesianRidge</td>\n",
       "      <td>&lt;class 'sklearn.linear_model._bayes.BayesianRi...</td>\n",
       "    </tr>\n",
       "    <tr>\n",
       "      <th>4</th>\n",
       "      <td>CCA</td>\n",
       "      <td>&lt;class 'sklearn.cross_decomposition._pls.CCA'&gt;</td>\n",
       "    </tr>\n",
       "    <tr>\n",
       "      <th>5</th>\n",
       "      <td>DecisionTreeRegressor</td>\n",
       "      <td>&lt;class 'sklearn.tree._classes.DecisionTreeRegr...</td>\n",
       "    </tr>\n",
       "    <tr>\n",
       "      <th>6</th>\n",
       "      <td>DummyRegressor</td>\n",
       "      <td>&lt;class 'sklearn.dummy.DummyRegressor'&gt;</td>\n",
       "    </tr>\n",
       "    <tr>\n",
       "      <th>7</th>\n",
       "      <td>ElasticNet</td>\n",
       "      <td>&lt;class 'sklearn.linear_model._coordinate_desce...</td>\n",
       "    </tr>\n",
       "    <tr>\n",
       "      <th>8</th>\n",
       "      <td>ElasticNetCV</td>\n",
       "      <td>&lt;class 'sklearn.linear_model._coordinate_desce...</td>\n",
       "    </tr>\n",
       "    <tr>\n",
       "      <th>9</th>\n",
       "      <td>ExtraTreeRegressor</td>\n",
       "      <td>&lt;class 'sklearn.tree._classes.ExtraTreeRegress...</td>\n",
       "    </tr>\n",
       "    <tr>\n",
       "      <th>10</th>\n",
       "      <td>ExtraTreesRegressor</td>\n",
       "      <td>&lt;class 'sklearn.ensemble._forest.ExtraTreesReg...</td>\n",
       "    </tr>\n",
       "    <tr>\n",
       "      <th>11</th>\n",
       "      <td>GammaRegressor</td>\n",
       "      <td>&lt;class 'sklearn.linear_model._glm.glm.GammaReg...</td>\n",
       "    </tr>\n",
       "    <tr>\n",
       "      <th>12</th>\n",
       "      <td>GaussianProcessRegressor</td>\n",
       "      <td>&lt;class 'sklearn.gaussian_process._gpr.Gaussian...</td>\n",
       "    </tr>\n",
       "    <tr>\n",
       "      <th>13</th>\n",
       "      <td>GradientBoostingRegressor</td>\n",
       "      <td>&lt;class 'sklearn.ensemble._gb.GradientBoostingR...</td>\n",
       "    </tr>\n",
       "    <tr>\n",
       "      <th>14</th>\n",
       "      <td>HistGradientBoostingRegressor</td>\n",
       "      <td>&lt;class 'sklearn.ensemble._hist_gradient_boosti...</td>\n",
       "    </tr>\n",
       "    <tr>\n",
       "      <th>15</th>\n",
       "      <td>HuberRegressor</td>\n",
       "      <td>&lt;class 'sklearn.linear_model._huber.HuberRegre...</td>\n",
       "    </tr>\n",
       "    <tr>\n",
       "      <th>16</th>\n",
       "      <td>IsotonicRegression</td>\n",
       "      <td>&lt;class 'sklearn.isotonic.IsotonicRegression'&gt;</td>\n",
       "    </tr>\n",
       "    <tr>\n",
       "      <th>17</th>\n",
       "      <td>KNeighborsRegressor</td>\n",
       "      <td>&lt;class 'sklearn.neighbors._regression.KNeighbo...</td>\n",
       "    </tr>\n",
       "    <tr>\n",
       "      <th>18</th>\n",
       "      <td>KernelRidge</td>\n",
       "      <td>&lt;class 'sklearn.kernel_ridge.KernelRidge'&gt;</td>\n",
       "    </tr>\n",
       "    <tr>\n",
       "      <th>19</th>\n",
       "      <td>Lars</td>\n",
       "      <td>&lt;class 'sklearn.linear_model._least_angle.Lars'&gt;</td>\n",
       "    </tr>\n",
       "    <tr>\n",
       "      <th>20</th>\n",
       "      <td>LarsCV</td>\n",
       "      <td>&lt;class 'sklearn.linear_model._least_angle.Lars...</td>\n",
       "    </tr>\n",
       "    <tr>\n",
       "      <th>21</th>\n",
       "      <td>Lasso</td>\n",
       "      <td>&lt;class 'sklearn.linear_model._coordinate_desce...</td>\n",
       "    </tr>\n",
       "    <tr>\n",
       "      <th>22</th>\n",
       "      <td>LassoCV</td>\n",
       "      <td>&lt;class 'sklearn.linear_model._coordinate_desce...</td>\n",
       "    </tr>\n",
       "    <tr>\n",
       "      <th>23</th>\n",
       "      <td>LassoLars</td>\n",
       "      <td>&lt;class 'sklearn.linear_model._least_angle.Lass...</td>\n",
       "    </tr>\n",
       "    <tr>\n",
       "      <th>24</th>\n",
       "      <td>LassoLarsCV</td>\n",
       "      <td>&lt;class 'sklearn.linear_model._least_angle.Lass...</td>\n",
       "    </tr>\n",
       "    <tr>\n",
       "      <th>25</th>\n",
       "      <td>LassoLarsIC</td>\n",
       "      <td>&lt;class 'sklearn.linear_model._least_angle.Lass...</td>\n",
       "    </tr>\n",
       "    <tr>\n",
       "      <th>26</th>\n",
       "      <td>LinearRegression</td>\n",
       "      <td>&lt;class 'sklearn.linear_model._base.LinearRegre...</td>\n",
       "    </tr>\n",
       "    <tr>\n",
       "      <th>27</th>\n",
       "      <td>LinearSVR</td>\n",
       "      <td>&lt;class 'sklearn.svm._classes.LinearSVR'&gt;</td>\n",
       "    </tr>\n",
       "    <tr>\n",
       "      <th>28</th>\n",
       "      <td>MLPRegressor</td>\n",
       "      <td>&lt;class 'sklearn.neural_network._multilayer_per...</td>\n",
       "    </tr>\n",
       "    <tr>\n",
       "      <th>29</th>\n",
       "      <td>MultiOutputRegressor</td>\n",
       "      <td>&lt;class 'sklearn.multioutput.MultiOutputRegress...</td>\n",
       "    </tr>\n",
       "    <tr>\n",
       "      <th>30</th>\n",
       "      <td>MultiTaskElasticNet</td>\n",
       "      <td>&lt;class 'sklearn.linear_model._coordinate_desce...</td>\n",
       "    </tr>\n",
       "    <tr>\n",
       "      <th>31</th>\n",
       "      <td>MultiTaskElasticNetCV</td>\n",
       "      <td>&lt;class 'sklearn.linear_model._coordinate_desce...</td>\n",
       "    </tr>\n",
       "    <tr>\n",
       "      <th>32</th>\n",
       "      <td>MultiTaskLasso</td>\n",
       "      <td>&lt;class 'sklearn.linear_model._coordinate_desce...</td>\n",
       "    </tr>\n",
       "    <tr>\n",
       "      <th>33</th>\n",
       "      <td>MultiTaskLassoCV</td>\n",
       "      <td>&lt;class 'sklearn.linear_model._coordinate_desce...</td>\n",
       "    </tr>\n",
       "    <tr>\n",
       "      <th>34</th>\n",
       "      <td>NuSVR</td>\n",
       "      <td>&lt;class 'sklearn.svm._classes.NuSVR'&gt;</td>\n",
       "    </tr>\n",
       "    <tr>\n",
       "      <th>35</th>\n",
       "      <td>OrthogonalMatchingPursuit</td>\n",
       "      <td>&lt;class 'sklearn.linear_model._omp.OrthogonalMa...</td>\n",
       "    </tr>\n",
       "    <tr>\n",
       "      <th>36</th>\n",
       "      <td>OrthogonalMatchingPursuitCV</td>\n",
       "      <td>&lt;class 'sklearn.linear_model._omp.OrthogonalMa...</td>\n",
       "    </tr>\n",
       "    <tr>\n",
       "      <th>37</th>\n",
       "      <td>PLSCanonical</td>\n",
       "      <td>&lt;class 'sklearn.cross_decomposition._pls.PLSCa...</td>\n",
       "    </tr>\n",
       "    <tr>\n",
       "      <th>38</th>\n",
       "      <td>PLSRegression</td>\n",
       "      <td>&lt;class 'sklearn.cross_decomposition._pls.PLSRe...</td>\n",
       "    </tr>\n",
       "    <tr>\n",
       "      <th>39</th>\n",
       "      <td>PassiveAggressiveRegressor</td>\n",
       "      <td>&lt;class 'sklearn.linear_model._passive_aggressi...</td>\n",
       "    </tr>\n",
       "    <tr>\n",
       "      <th>40</th>\n",
       "      <td>PoissonRegressor</td>\n",
       "      <td>&lt;class 'sklearn.linear_model._glm.glm.PoissonR...</td>\n",
       "    </tr>\n",
       "    <tr>\n",
       "      <th>41</th>\n",
       "      <td>QuantileRegressor</td>\n",
       "      <td>&lt;class 'sklearn.linear_model._quantile.Quantil...</td>\n",
       "    </tr>\n",
       "    <tr>\n",
       "      <th>42</th>\n",
       "      <td>RANSACRegressor</td>\n",
       "      <td>&lt;class 'sklearn.linear_model._ransac.RANSACReg...</td>\n",
       "    </tr>\n",
       "    <tr>\n",
       "      <th>43</th>\n",
       "      <td>RadiusNeighborsRegressor</td>\n",
       "      <td>&lt;class 'sklearn.neighbors._regression.RadiusNe...</td>\n",
       "    </tr>\n",
       "    <tr>\n",
       "      <th>44</th>\n",
       "      <td>RandomForestRegressor</td>\n",
       "      <td>&lt;class 'sklearn.ensemble._forest.RandomForestR...</td>\n",
       "    </tr>\n",
       "    <tr>\n",
       "      <th>45</th>\n",
       "      <td>RegressorChain</td>\n",
       "      <td>&lt;class 'sklearn.multioutput.RegressorChain'&gt;</td>\n",
       "    </tr>\n",
       "    <tr>\n",
       "      <th>46</th>\n",
       "      <td>Ridge</td>\n",
       "      <td>&lt;class 'sklearn.linear_model._ridge.Ridge'&gt;</td>\n",
       "    </tr>\n",
       "    <tr>\n",
       "      <th>47</th>\n",
       "      <td>RidgeCV</td>\n",
       "      <td>&lt;class 'sklearn.linear_model._ridge.RidgeCV'&gt;</td>\n",
       "    </tr>\n",
       "    <tr>\n",
       "      <th>48</th>\n",
       "      <td>SGDRegressor</td>\n",
       "      <td>&lt;class 'sklearn.linear_model._stochastic_gradi...</td>\n",
       "    </tr>\n",
       "    <tr>\n",
       "      <th>49</th>\n",
       "      <td>SVR</td>\n",
       "      <td>&lt;class 'sklearn.svm._classes.SVR'&gt;</td>\n",
       "    </tr>\n",
       "    <tr>\n",
       "      <th>50</th>\n",
       "      <td>StackingRegressor</td>\n",
       "      <td>&lt;class 'sklearn.ensemble._stacking.StackingReg...</td>\n",
       "    </tr>\n",
       "    <tr>\n",
       "      <th>51</th>\n",
       "      <td>TheilSenRegressor</td>\n",
       "      <td>&lt;class 'sklearn.linear_model._theil_sen.TheilS...</td>\n",
       "    </tr>\n",
       "    <tr>\n",
       "      <th>52</th>\n",
       "      <td>TransformedTargetRegressor</td>\n",
       "      <td>&lt;class 'sklearn.compose._target.TransformedTar...</td>\n",
       "    </tr>\n",
       "    <tr>\n",
       "      <th>53</th>\n",
       "      <td>TweedieRegressor</td>\n",
       "      <td>&lt;class 'sklearn.linear_model._glm.glm.TweedieR...</td>\n",
       "    </tr>\n",
       "    <tr>\n",
       "      <th>54</th>\n",
       "      <td>VotingRegressor</td>\n",
       "      <td>&lt;class 'sklearn.ensemble._voting.VotingRegress...</td>\n",
       "    </tr>\n",
       "  </tbody>\n",
       "</table>\n",
       "</div>"
      ],
      "text/plain": [
       "                                0  \\\n",
       "0                   ARDRegression   \n",
       "1               AdaBoostRegressor   \n",
       "2                BaggingRegressor   \n",
       "3                   BayesianRidge   \n",
       "4                             CCA   \n",
       "5           DecisionTreeRegressor   \n",
       "6                  DummyRegressor   \n",
       "7                      ElasticNet   \n",
       "8                    ElasticNetCV   \n",
       "9              ExtraTreeRegressor   \n",
       "10            ExtraTreesRegressor   \n",
       "11                 GammaRegressor   \n",
       "12       GaussianProcessRegressor   \n",
       "13      GradientBoostingRegressor   \n",
       "14  HistGradientBoostingRegressor   \n",
       "15                 HuberRegressor   \n",
       "16             IsotonicRegression   \n",
       "17            KNeighborsRegressor   \n",
       "18                    KernelRidge   \n",
       "19                           Lars   \n",
       "20                         LarsCV   \n",
       "21                          Lasso   \n",
       "22                        LassoCV   \n",
       "23                      LassoLars   \n",
       "24                    LassoLarsCV   \n",
       "25                    LassoLarsIC   \n",
       "26               LinearRegression   \n",
       "27                      LinearSVR   \n",
       "28                   MLPRegressor   \n",
       "29           MultiOutputRegressor   \n",
       "30            MultiTaskElasticNet   \n",
       "31          MultiTaskElasticNetCV   \n",
       "32                 MultiTaskLasso   \n",
       "33               MultiTaskLassoCV   \n",
       "34                          NuSVR   \n",
       "35      OrthogonalMatchingPursuit   \n",
       "36    OrthogonalMatchingPursuitCV   \n",
       "37                   PLSCanonical   \n",
       "38                  PLSRegression   \n",
       "39     PassiveAggressiveRegressor   \n",
       "40               PoissonRegressor   \n",
       "41              QuantileRegressor   \n",
       "42                RANSACRegressor   \n",
       "43       RadiusNeighborsRegressor   \n",
       "44          RandomForestRegressor   \n",
       "45                 RegressorChain   \n",
       "46                          Ridge   \n",
       "47                        RidgeCV   \n",
       "48                   SGDRegressor   \n",
       "49                            SVR   \n",
       "50              StackingRegressor   \n",
       "51              TheilSenRegressor   \n",
       "52     TransformedTargetRegressor   \n",
       "53               TweedieRegressor   \n",
       "54                VotingRegressor   \n",
       "\n",
       "                                                    1  \n",
       "0   <class 'sklearn.linear_model._bayes.ARDRegress...  \n",
       "1   <class 'sklearn.ensemble._weight_boosting.AdaB...  \n",
       "2   <class 'sklearn.ensemble._bagging.BaggingRegre...  \n",
       "3   <class 'sklearn.linear_model._bayes.BayesianRi...  \n",
       "4      <class 'sklearn.cross_decomposition._pls.CCA'>  \n",
       "5   <class 'sklearn.tree._classes.DecisionTreeRegr...  \n",
       "6              <class 'sklearn.dummy.DummyRegressor'>  \n",
       "7   <class 'sklearn.linear_model._coordinate_desce...  \n",
       "8   <class 'sklearn.linear_model._coordinate_desce...  \n",
       "9   <class 'sklearn.tree._classes.ExtraTreeRegress...  \n",
       "10  <class 'sklearn.ensemble._forest.ExtraTreesReg...  \n",
       "11  <class 'sklearn.linear_model._glm.glm.GammaReg...  \n",
       "12  <class 'sklearn.gaussian_process._gpr.Gaussian...  \n",
       "13  <class 'sklearn.ensemble._gb.GradientBoostingR...  \n",
       "14  <class 'sklearn.ensemble._hist_gradient_boosti...  \n",
       "15  <class 'sklearn.linear_model._huber.HuberRegre...  \n",
       "16      <class 'sklearn.isotonic.IsotonicRegression'>  \n",
       "17  <class 'sklearn.neighbors._regression.KNeighbo...  \n",
       "18         <class 'sklearn.kernel_ridge.KernelRidge'>  \n",
       "19   <class 'sklearn.linear_model._least_angle.Lars'>  \n",
       "20  <class 'sklearn.linear_model._least_angle.Lars...  \n",
       "21  <class 'sklearn.linear_model._coordinate_desce...  \n",
       "22  <class 'sklearn.linear_model._coordinate_desce...  \n",
       "23  <class 'sklearn.linear_model._least_angle.Lass...  \n",
       "24  <class 'sklearn.linear_model._least_angle.Lass...  \n",
       "25  <class 'sklearn.linear_model._least_angle.Lass...  \n",
       "26  <class 'sklearn.linear_model._base.LinearRegre...  \n",
       "27           <class 'sklearn.svm._classes.LinearSVR'>  \n",
       "28  <class 'sklearn.neural_network._multilayer_per...  \n",
       "29  <class 'sklearn.multioutput.MultiOutputRegress...  \n",
       "30  <class 'sklearn.linear_model._coordinate_desce...  \n",
       "31  <class 'sklearn.linear_model._coordinate_desce...  \n",
       "32  <class 'sklearn.linear_model._coordinate_desce...  \n",
       "33  <class 'sklearn.linear_model._coordinate_desce...  \n",
       "34               <class 'sklearn.svm._classes.NuSVR'>  \n",
       "35  <class 'sklearn.linear_model._omp.OrthogonalMa...  \n",
       "36  <class 'sklearn.linear_model._omp.OrthogonalMa...  \n",
       "37  <class 'sklearn.cross_decomposition._pls.PLSCa...  \n",
       "38  <class 'sklearn.cross_decomposition._pls.PLSRe...  \n",
       "39  <class 'sklearn.linear_model._passive_aggressi...  \n",
       "40  <class 'sklearn.linear_model._glm.glm.PoissonR...  \n",
       "41  <class 'sklearn.linear_model._quantile.Quantil...  \n",
       "42  <class 'sklearn.linear_model._ransac.RANSACReg...  \n",
       "43  <class 'sklearn.neighbors._regression.RadiusNe...  \n",
       "44  <class 'sklearn.ensemble._forest.RandomForestR...  \n",
       "45       <class 'sklearn.multioutput.RegressorChain'>  \n",
       "46        <class 'sklearn.linear_model._ridge.Ridge'>  \n",
       "47      <class 'sklearn.linear_model._ridge.RidgeCV'>  \n",
       "48  <class 'sklearn.linear_model._stochastic_gradi...  \n",
       "49                 <class 'sklearn.svm._classes.SVR'>  \n",
       "50  <class 'sklearn.ensemble._stacking.StackingReg...  \n",
       "51  <class 'sklearn.linear_model._theil_sen.TheilS...  \n",
       "52  <class 'sklearn.compose._target.TransformedTar...  \n",
       "53  <class 'sklearn.linear_model._glm.glm.TweedieR...  \n",
       "54  <class 'sklearn.ensemble._voting.VotingRegress...  "
      ]
     },
     "execution_count": 20,
     "metadata": {},
     "output_type": "execute_result"
    }
   ],
   "source": [
    "# 참고로 회귀기 클래스들을 출력해 봅시다.\n",
    "회귀기_클래스들 = all_estimators(type_filter=\"regressor\")\n",
    "pd.DataFrame(회귀기_클래스들)"
   ]
  },
  {
   "cell_type": "markdown",
   "metadata": {
    "id": "LQ3dRW1SmS5K"
   },
   "source": [
    "#### 3.1.1.3 군집화 클래스 추출"
   ]
  },
  {
   "cell_type": "markdown",
   "metadata": {
    "id": "8Aqkl7c-ku3k"
   },
   "source": [
    "* **군집화(clustering)**란 대표적인 **비지도 학습(non-supervised learning, 무감독 학습, 비교사 학습)** 방식입니다.\n",
    "  * 레이블(label)=표적치(target)=종속변수(dependent variable)이 없이 하는 학습을 말합니다(예외도 있음).\n",
    "  * 즉, y 항이 없다는 말입니다. \n",
    "  * y 항이 없기 때문에 군집화의 학습 목표는 데이터 사례별로 적절한 범주를 찾아 y 항으로 삼게 하는 게 됩니다.\n",
    "* 이 중에서도 널리 쓰이는 군집화 방법은 다음과 같습니다.\n",
    "  * k 평균(k-means)\n",
    "    * 잘 설명한 곳: https://bcho.tistory.com/1203\n",
    "  * 위계적 군집화(hierarchical clustering, 계층적 군집 분석)\n",
    "    * 잘 설명한 곳: https://bcho.tistory.com/1204\n",
    "  * DBSCAN(density-based spatial clustering of applications with noise, 밀도 기반 부분적 군집화)\n",
    "    * 잘 설명한 곳: https://bcho.tistory.com/1205\n"
   ]
  },
  {
   "cell_type": "code",
   "execution_count": 21,
   "metadata": {
    "colab": {
     "base_uri": "https://localhost:8080/",
     "height": 363
    },
    "executionInfo": {
     "elapsed": 254,
     "status": "ok",
     "timestamp": 1638753633795,
     "user": {
      "displayName": "Dominica",
      "photoUrl": "https://lh3.googleusercontent.com/a-/AOh14Givt_n9gun5TCzjvq5ASwWr2b4FAUXE7mJI_JAt1g=s64",
      "userId": "04216559503906939593"
     },
     "user_tz": -540
    },
    "id": "j5fQIOwvjeSu",
    "outputId": "d464717c-0c6c-4da8-c97d-a2829f4b4502"
   },
   "outputs": [
    {
     "data": {
      "text/html": [
       "<div>\n",
       "<style scoped>\n",
       "    .dataframe tbody tr th:only-of-type {\n",
       "        vertical-align: middle;\n",
       "    }\n",
       "\n",
       "    .dataframe tbody tr th {\n",
       "        vertical-align: top;\n",
       "    }\n",
       "\n",
       "    .dataframe thead th {\n",
       "        text-align: right;\n",
       "    }\n",
       "</style>\n",
       "<table border=\"1\" class=\"dataframe\">\n",
       "  <thead>\n",
       "    <tr style=\"text-align: right;\">\n",
       "      <th></th>\n",
       "      <th>0</th>\n",
       "      <th>1</th>\n",
       "    </tr>\n",
       "  </thead>\n",
       "  <tbody>\n",
       "    <tr>\n",
       "      <th>0</th>\n",
       "      <td>AffinityPropagation</td>\n",
       "      <td>&lt;class 'sklearn.cluster._affinity_propagation....</td>\n",
       "    </tr>\n",
       "    <tr>\n",
       "      <th>1</th>\n",
       "      <td>AgglomerativeClustering</td>\n",
       "      <td>&lt;class 'sklearn.cluster._agglomerative.Agglome...</td>\n",
       "    </tr>\n",
       "    <tr>\n",
       "      <th>2</th>\n",
       "      <td>Birch</td>\n",
       "      <td>&lt;class 'sklearn.cluster._birch.Birch'&gt;</td>\n",
       "    </tr>\n",
       "    <tr>\n",
       "      <th>3</th>\n",
       "      <td>BisectingKMeans</td>\n",
       "      <td>&lt;class 'sklearn.cluster._bisect_k_means.Bisect...</td>\n",
       "    </tr>\n",
       "    <tr>\n",
       "      <th>4</th>\n",
       "      <td>DBSCAN</td>\n",
       "      <td>&lt;class 'sklearn.cluster._dbscan.DBSCAN'&gt;</td>\n",
       "    </tr>\n",
       "    <tr>\n",
       "      <th>5</th>\n",
       "      <td>FeatureAgglomeration</td>\n",
       "      <td>&lt;class 'sklearn.cluster._agglomerative.Feature...</td>\n",
       "    </tr>\n",
       "    <tr>\n",
       "      <th>6</th>\n",
       "      <td>HDBSCAN</td>\n",
       "      <td>&lt;class 'sklearn.cluster._hdbscan.hdbscan.HDBSC...</td>\n",
       "    </tr>\n",
       "    <tr>\n",
       "      <th>7</th>\n",
       "      <td>KMeans</td>\n",
       "      <td>&lt;class 'sklearn.cluster._kmeans.KMeans'&gt;</td>\n",
       "    </tr>\n",
       "    <tr>\n",
       "      <th>8</th>\n",
       "      <td>MeanShift</td>\n",
       "      <td>&lt;class 'sklearn.cluster._mean_shift.MeanShift'&gt;</td>\n",
       "    </tr>\n",
       "    <tr>\n",
       "      <th>9</th>\n",
       "      <td>MiniBatchKMeans</td>\n",
       "      <td>&lt;class 'sklearn.cluster._kmeans.MiniBatchKMeans'&gt;</td>\n",
       "    </tr>\n",
       "    <tr>\n",
       "      <th>10</th>\n",
       "      <td>OPTICS</td>\n",
       "      <td>&lt;class 'sklearn.cluster._optics.OPTICS'&gt;</td>\n",
       "    </tr>\n",
       "    <tr>\n",
       "      <th>11</th>\n",
       "      <td>SpectralClustering</td>\n",
       "      <td>&lt;class 'sklearn.cluster._spectral.SpectralClus...</td>\n",
       "    </tr>\n",
       "  </tbody>\n",
       "</table>\n",
       "</div>"
      ],
      "text/plain": [
       "                          0                                                  1\n",
       "0       AffinityPropagation  <class 'sklearn.cluster._affinity_propagation....\n",
       "1   AgglomerativeClustering  <class 'sklearn.cluster._agglomerative.Agglome...\n",
       "2                     Birch             <class 'sklearn.cluster._birch.Birch'>\n",
       "3           BisectingKMeans  <class 'sklearn.cluster._bisect_k_means.Bisect...\n",
       "4                    DBSCAN           <class 'sklearn.cluster._dbscan.DBSCAN'>\n",
       "5      FeatureAgglomeration  <class 'sklearn.cluster._agglomerative.Feature...\n",
       "6                   HDBSCAN  <class 'sklearn.cluster._hdbscan.hdbscan.HDBSC...\n",
       "7                    KMeans           <class 'sklearn.cluster._kmeans.KMeans'>\n",
       "8                 MeanShift    <class 'sklearn.cluster._mean_shift.MeanShift'>\n",
       "9           MiniBatchKMeans  <class 'sklearn.cluster._kmeans.MiniBatchKMeans'>\n",
       "10                   OPTICS           <class 'sklearn.cluster._optics.OPTICS'>\n",
       "11       SpectralClustering  <class 'sklearn.cluster._spectral.SpectralClus..."
      ]
     },
     "execution_count": 21,
     "metadata": {},
     "output_type": "execute_result"
    }
   ],
   "source": [
    "# 참고로 군집 클래스들을 출력해 봅시다.\n",
    "군집_클래스들 = all_estimators(type_filter=\"cluster\")\n",
    "pd.DataFrame(군집_클래스들)"
   ]
  },
  {
   "cell_type": "markdown",
   "metadata": {
    "id": "EHKSAbg_mWzN"
   },
   "source": [
    "#### 3.1.1.4 변환기 클래스 추출"
   ]
  },
  {
   "cell_type": "markdown",
   "metadata": {
    "id": "x_2-c3L-lM3U"
   },
   "source": [
    "* 변환기란 데이터를 변환하는 일을 담당하는 클래스나 모형을 일컫습니다.\n",
    "* 대표적인 변환 작업으로는 다음과 같은 것들을 들 수 있습니다.\n",
    "  * 차원 축소(dimensional reduction)\n",
    "  * 이진화(binarize)\n",
    "  * 요인 분석(factor analysis)\n",
    "  * 레이블 인코딩(label encoding)\n",
    "  * 잠재 디리클레 할당(latent Dirichlet allocation)\n",
    "  * 선형 판별 분석(linear discriminant analysis)\n",
    "  * 척도 구성(scaling, 눈금잡기)\n",
    "  * 비음수 행렬 분해(non-negative matrix factorization)\n",
    "  * 정규화(normalizing)\n",
    "  * 원핫 인코딩(one-hot encoding)\n",
    "  * 주성분 분석(pricipal component analysis)\n",
    "  * 대치(imputing)\n",
    "  * 특잇값 분해(sigular value decomposition)\n",
    "  * 벡터화(vectorizing)\n",
    "* 이러한 변환 작업은 주로 특징공학(feature engineering)의 관심사가 됩니다.\n",
    "* 사이킷런에서는 이런 작업에 필요한 변환기를 다 제공합니다.\n"
   ]
  },
  {
   "cell_type": "code",
   "execution_count": 22,
   "metadata": {
    "colab": {
     "base_uri": "https://localhost:8080/",
     "height": 1000
    },
    "executionInfo": {
     "elapsed": 401,
     "status": "ok",
     "timestamp": 1638753635963,
     "user": {
      "displayName": "Dominica",
      "photoUrl": "https://lh3.googleusercontent.com/a-/AOh14Givt_n9gun5TCzjvq5ASwWr2b4FAUXE7mJI_JAt1g=s64",
      "userId": "04216559503906939593"
     },
     "user_tz": -540
    },
    "id": "urAxOR-kkSWi",
    "outputId": "d5482adc-3c5b-47a8-8bca-1fc330e4fe99"
   },
   "outputs": [
    {
     "data": {
      "text/html": [
       "<div>\n",
       "<style scoped>\n",
       "    .dataframe tbody tr th:only-of-type {\n",
       "        vertical-align: middle;\n",
       "    }\n",
       "\n",
       "    .dataframe tbody tr th {\n",
       "        vertical-align: top;\n",
       "    }\n",
       "\n",
       "    .dataframe thead th {\n",
       "        text-align: right;\n",
       "    }\n",
       "</style>\n",
       "<table border=\"1\" class=\"dataframe\">\n",
       "  <thead>\n",
       "    <tr style=\"text-align: right;\">\n",
       "      <th></th>\n",
       "      <th>0</th>\n",
       "      <th>1</th>\n",
       "    </tr>\n",
       "  </thead>\n",
       "  <tbody>\n",
       "    <tr>\n",
       "      <th>0</th>\n",
       "      <td>AdditiveChi2Sampler</td>\n",
       "      <td>&lt;class 'sklearn.kernel_approximation.AdditiveC...</td>\n",
       "    </tr>\n",
       "    <tr>\n",
       "      <th>1</th>\n",
       "      <td>BernoulliRBM</td>\n",
       "      <td>&lt;class 'sklearn.neural_network._rbm.BernoulliR...</td>\n",
       "    </tr>\n",
       "    <tr>\n",
       "      <th>2</th>\n",
       "      <td>Binarizer</td>\n",
       "      <td>&lt;class 'sklearn.preprocessing._data.Binarizer'&gt;</td>\n",
       "    </tr>\n",
       "    <tr>\n",
       "      <th>3</th>\n",
       "      <td>Birch</td>\n",
       "      <td>&lt;class 'sklearn.cluster._birch.Birch'&gt;</td>\n",
       "    </tr>\n",
       "    <tr>\n",
       "      <th>4</th>\n",
       "      <td>BisectingKMeans</td>\n",
       "      <td>&lt;class 'sklearn.cluster._bisect_k_means.Bisect...</td>\n",
       "    </tr>\n",
       "    <tr>\n",
       "      <th>5</th>\n",
       "      <td>CCA</td>\n",
       "      <td>&lt;class 'sklearn.cross_decomposition._pls.CCA'&gt;</td>\n",
       "    </tr>\n",
       "    <tr>\n",
       "      <th>6</th>\n",
       "      <td>ColumnTransformer</td>\n",
       "      <td>&lt;class 'sklearn.compose._column_transformer.Co...</td>\n",
       "    </tr>\n",
       "    <tr>\n",
       "      <th>7</th>\n",
       "      <td>DictVectorizer</td>\n",
       "      <td>&lt;class 'sklearn.feature_extraction._dict_vecto...</td>\n",
       "    </tr>\n",
       "    <tr>\n",
       "      <th>8</th>\n",
       "      <td>DictionaryLearning</td>\n",
       "      <td>&lt;class 'sklearn.decomposition._dict_learning.D...</td>\n",
       "    </tr>\n",
       "    <tr>\n",
       "      <th>9</th>\n",
       "      <td>FactorAnalysis</td>\n",
       "      <td>&lt;class 'sklearn.decomposition._factor_analysis...</td>\n",
       "    </tr>\n",
       "    <tr>\n",
       "      <th>10</th>\n",
       "      <td>FastICA</td>\n",
       "      <td>&lt;class 'sklearn.decomposition._fastica.FastICA'&gt;</td>\n",
       "    </tr>\n",
       "    <tr>\n",
       "      <th>11</th>\n",
       "      <td>FeatureAgglomeration</td>\n",
       "      <td>&lt;class 'sklearn.cluster._agglomerative.Feature...</td>\n",
       "    </tr>\n",
       "    <tr>\n",
       "      <th>12</th>\n",
       "      <td>FeatureHasher</td>\n",
       "      <td>&lt;class 'sklearn.feature_extraction._hash.Featu...</td>\n",
       "    </tr>\n",
       "    <tr>\n",
       "      <th>13</th>\n",
       "      <td>FeatureUnion</td>\n",
       "      <td>&lt;class 'sklearn.pipeline.FeatureUnion'&gt;</td>\n",
       "    </tr>\n",
       "    <tr>\n",
       "      <th>14</th>\n",
       "      <td>FunctionTransformer</td>\n",
       "      <td>&lt;class 'sklearn.preprocessing._function_transf...</td>\n",
       "    </tr>\n",
       "    <tr>\n",
       "      <th>15</th>\n",
       "      <td>GaussianRandomProjection</td>\n",
       "      <td>&lt;class 'sklearn.random_projection.GaussianRand...</td>\n",
       "    </tr>\n",
       "    <tr>\n",
       "      <th>16</th>\n",
       "      <td>GenericUnivariateSelect</td>\n",
       "      <td>&lt;class 'sklearn.feature_selection._univariate_...</td>\n",
       "    </tr>\n",
       "    <tr>\n",
       "      <th>17</th>\n",
       "      <td>HashingVectorizer</td>\n",
       "      <td>&lt;class 'sklearn.feature_extraction.text.Hashin...</td>\n",
       "    </tr>\n",
       "    <tr>\n",
       "      <th>18</th>\n",
       "      <td>IncrementalPCA</td>\n",
       "      <td>&lt;class 'sklearn.decomposition._incremental_pca...</td>\n",
       "    </tr>\n",
       "    <tr>\n",
       "      <th>19</th>\n",
       "      <td>Isomap</td>\n",
       "      <td>&lt;class 'sklearn.manifold._isomap.Isomap'&gt;</td>\n",
       "    </tr>\n",
       "    <tr>\n",
       "      <th>20</th>\n",
       "      <td>IsotonicRegression</td>\n",
       "      <td>&lt;class 'sklearn.isotonic.IsotonicRegression'&gt;</td>\n",
       "    </tr>\n",
       "    <tr>\n",
       "      <th>21</th>\n",
       "      <td>KBinsDiscretizer</td>\n",
       "      <td>&lt;class 'sklearn.preprocessing._discretization....</td>\n",
       "    </tr>\n",
       "    <tr>\n",
       "      <th>22</th>\n",
       "      <td>KMeans</td>\n",
       "      <td>&lt;class 'sklearn.cluster._kmeans.KMeans'&gt;</td>\n",
       "    </tr>\n",
       "    <tr>\n",
       "      <th>23</th>\n",
       "      <td>KNNImputer</td>\n",
       "      <td>&lt;class 'sklearn.impute._knn.KNNImputer'&gt;</td>\n",
       "    </tr>\n",
       "    <tr>\n",
       "      <th>24</th>\n",
       "      <td>KNeighborsTransformer</td>\n",
       "      <td>&lt;class 'sklearn.neighbors._graph.KNeighborsTra...</td>\n",
       "    </tr>\n",
       "    <tr>\n",
       "      <th>25</th>\n",
       "      <td>KernelCenterer</td>\n",
       "      <td>&lt;class 'sklearn.preprocessing._data.KernelCent...</td>\n",
       "    </tr>\n",
       "    <tr>\n",
       "      <th>26</th>\n",
       "      <td>KernelPCA</td>\n",
       "      <td>&lt;class 'sklearn.decomposition._kernel_pca.Kern...</td>\n",
       "    </tr>\n",
       "    <tr>\n",
       "      <th>27</th>\n",
       "      <td>LabelBinarizer</td>\n",
       "      <td>&lt;class 'sklearn.preprocessing._label.LabelBina...</td>\n",
       "    </tr>\n",
       "    <tr>\n",
       "      <th>28</th>\n",
       "      <td>LabelEncoder</td>\n",
       "      <td>&lt;class 'sklearn.preprocessing._label.LabelEnco...</td>\n",
       "    </tr>\n",
       "    <tr>\n",
       "      <th>29</th>\n",
       "      <td>LatentDirichletAllocation</td>\n",
       "      <td>&lt;class 'sklearn.decomposition._lda.LatentDiric...</td>\n",
       "    </tr>\n",
       "    <tr>\n",
       "      <th>30</th>\n",
       "      <td>LinearDiscriminantAnalysis</td>\n",
       "      <td>&lt;class 'sklearn.discriminant_analysis.LinearDi...</td>\n",
       "    </tr>\n",
       "    <tr>\n",
       "      <th>31</th>\n",
       "      <td>LocallyLinearEmbedding</td>\n",
       "      <td>&lt;class 'sklearn.manifold._locally_linear.Local...</td>\n",
       "    </tr>\n",
       "    <tr>\n",
       "      <th>32</th>\n",
       "      <td>MaxAbsScaler</td>\n",
       "      <td>&lt;class 'sklearn.preprocessing._data.MaxAbsScal...</td>\n",
       "    </tr>\n",
       "    <tr>\n",
       "      <th>33</th>\n",
       "      <td>MinMaxScaler</td>\n",
       "      <td>&lt;class 'sklearn.preprocessing._data.MinMaxScal...</td>\n",
       "    </tr>\n",
       "    <tr>\n",
       "      <th>34</th>\n",
       "      <td>MiniBatchDictionaryLearning</td>\n",
       "      <td>&lt;class 'sklearn.decomposition._dict_learning.M...</td>\n",
       "    </tr>\n",
       "    <tr>\n",
       "      <th>35</th>\n",
       "      <td>MiniBatchKMeans</td>\n",
       "      <td>&lt;class 'sklearn.cluster._kmeans.MiniBatchKMeans'&gt;</td>\n",
       "    </tr>\n",
       "    <tr>\n",
       "      <th>36</th>\n",
       "      <td>MiniBatchNMF</td>\n",
       "      <td>&lt;class 'sklearn.decomposition._nmf.MiniBatchNMF'&gt;</td>\n",
       "    </tr>\n",
       "    <tr>\n",
       "      <th>37</th>\n",
       "      <td>MiniBatchSparsePCA</td>\n",
       "      <td>&lt;class 'sklearn.decomposition._sparse_pca.Mini...</td>\n",
       "    </tr>\n",
       "    <tr>\n",
       "      <th>38</th>\n",
       "      <td>MissingIndicator</td>\n",
       "      <td>&lt;class 'sklearn.impute._base.MissingIndicator'&gt;</td>\n",
       "    </tr>\n",
       "    <tr>\n",
       "      <th>39</th>\n",
       "      <td>MultiLabelBinarizer</td>\n",
       "      <td>&lt;class 'sklearn.preprocessing._label.MultiLabe...</td>\n",
       "    </tr>\n",
       "    <tr>\n",
       "      <th>40</th>\n",
       "      <td>NMF</td>\n",
       "      <td>&lt;class 'sklearn.decomposition._nmf.NMF'&gt;</td>\n",
       "    </tr>\n",
       "    <tr>\n",
       "      <th>41</th>\n",
       "      <td>NeighborhoodComponentsAnalysis</td>\n",
       "      <td>&lt;class 'sklearn.neighbors._nca.NeighborhoodCom...</td>\n",
       "    </tr>\n",
       "    <tr>\n",
       "      <th>42</th>\n",
       "      <td>Normalizer</td>\n",
       "      <td>&lt;class 'sklearn.preprocessing._data.Normalizer'&gt;</td>\n",
       "    </tr>\n",
       "    <tr>\n",
       "      <th>43</th>\n",
       "      <td>Nystroem</td>\n",
       "      <td>&lt;class 'sklearn.kernel_approximation.Nystroem'&gt;</td>\n",
       "    </tr>\n",
       "    <tr>\n",
       "      <th>44</th>\n",
       "      <td>OneHotEncoder</td>\n",
       "      <td>&lt;class 'sklearn.preprocessing._encoders.OneHot...</td>\n",
       "    </tr>\n",
       "    <tr>\n",
       "      <th>45</th>\n",
       "      <td>OrdinalEncoder</td>\n",
       "      <td>&lt;class 'sklearn.preprocessing._encoders.Ordina...</td>\n",
       "    </tr>\n",
       "    <tr>\n",
       "      <th>46</th>\n",
       "      <td>PCA</td>\n",
       "      <td>&lt;class 'sklearn.decomposition._pca.PCA'&gt;</td>\n",
       "    </tr>\n",
       "    <tr>\n",
       "      <th>47</th>\n",
       "      <td>PLSCanonical</td>\n",
       "      <td>&lt;class 'sklearn.cross_decomposition._pls.PLSCa...</td>\n",
       "    </tr>\n",
       "    <tr>\n",
       "      <th>48</th>\n",
       "      <td>PLSRegression</td>\n",
       "      <td>&lt;class 'sklearn.cross_decomposition._pls.PLSRe...</td>\n",
       "    </tr>\n",
       "    <tr>\n",
       "      <th>49</th>\n",
       "      <td>PLSSVD</td>\n",
       "      <td>&lt;class 'sklearn.cross_decomposition._pls.PLSSVD'&gt;</td>\n",
       "    </tr>\n",
       "    <tr>\n",
       "      <th>50</th>\n",
       "      <td>PatchExtractor</td>\n",
       "      <td>&lt;class 'sklearn.feature_extraction.image.Patch...</td>\n",
       "    </tr>\n",
       "    <tr>\n",
       "      <th>51</th>\n",
       "      <td>PolynomialCountSketch</td>\n",
       "      <td>&lt;class 'sklearn.kernel_approximation.Polynomia...</td>\n",
       "    </tr>\n",
       "    <tr>\n",
       "      <th>52</th>\n",
       "      <td>PolynomialFeatures</td>\n",
       "      <td>&lt;class 'sklearn.preprocessing._polynomial.Poly...</td>\n",
       "    </tr>\n",
       "    <tr>\n",
       "      <th>53</th>\n",
       "      <td>PowerTransformer</td>\n",
       "      <td>&lt;class 'sklearn.preprocessing._data.PowerTrans...</td>\n",
       "    </tr>\n",
       "    <tr>\n",
       "      <th>54</th>\n",
       "      <td>QuantileTransformer</td>\n",
       "      <td>&lt;class 'sklearn.preprocessing._data.QuantileTr...</td>\n",
       "    </tr>\n",
       "    <tr>\n",
       "      <th>55</th>\n",
       "      <td>RBFSampler</td>\n",
       "      <td>&lt;class 'sklearn.kernel_approximation.RBFSampler'&gt;</td>\n",
       "    </tr>\n",
       "    <tr>\n",
       "      <th>56</th>\n",
       "      <td>RFE</td>\n",
       "      <td>&lt;class 'sklearn.feature_selection._rfe.RFE'&gt;</td>\n",
       "    </tr>\n",
       "    <tr>\n",
       "      <th>57</th>\n",
       "      <td>RFECV</td>\n",
       "      <td>&lt;class 'sklearn.feature_selection._rfe.RFECV'&gt;</td>\n",
       "    </tr>\n",
       "    <tr>\n",
       "      <th>58</th>\n",
       "      <td>RadiusNeighborsTransformer</td>\n",
       "      <td>&lt;class 'sklearn.neighbors._graph.RadiusNeighbo...</td>\n",
       "    </tr>\n",
       "    <tr>\n",
       "      <th>59</th>\n",
       "      <td>RandomTreesEmbedding</td>\n",
       "      <td>&lt;class 'sklearn.ensemble._forest.RandomTreesEm...</td>\n",
       "    </tr>\n",
       "    <tr>\n",
       "      <th>60</th>\n",
       "      <td>RobustScaler</td>\n",
       "      <td>&lt;class 'sklearn.preprocessing._data.RobustScal...</td>\n",
       "    </tr>\n",
       "    <tr>\n",
       "      <th>61</th>\n",
       "      <td>SelectFdr</td>\n",
       "      <td>&lt;class 'sklearn.feature_selection._univariate_...</td>\n",
       "    </tr>\n",
       "    <tr>\n",
       "      <th>62</th>\n",
       "      <td>SelectFpr</td>\n",
       "      <td>&lt;class 'sklearn.feature_selection._univariate_...</td>\n",
       "    </tr>\n",
       "    <tr>\n",
       "      <th>63</th>\n",
       "      <td>SelectFromModel</td>\n",
       "      <td>&lt;class 'sklearn.feature_selection._from_model....</td>\n",
       "    </tr>\n",
       "    <tr>\n",
       "      <th>64</th>\n",
       "      <td>SelectFwe</td>\n",
       "      <td>&lt;class 'sklearn.feature_selection._univariate_...</td>\n",
       "    </tr>\n",
       "    <tr>\n",
       "      <th>65</th>\n",
       "      <td>SelectKBest</td>\n",
       "      <td>&lt;class 'sklearn.feature_selection._univariate_...</td>\n",
       "    </tr>\n",
       "    <tr>\n",
       "      <th>66</th>\n",
       "      <td>SelectPercentile</td>\n",
       "      <td>&lt;class 'sklearn.feature_selection._univariate_...</td>\n",
       "    </tr>\n",
       "    <tr>\n",
       "      <th>67</th>\n",
       "      <td>SequentialFeatureSelector</td>\n",
       "      <td>&lt;class 'sklearn.feature_selection._sequential....</td>\n",
       "    </tr>\n",
       "    <tr>\n",
       "      <th>68</th>\n",
       "      <td>SimpleImputer</td>\n",
       "      <td>&lt;class 'sklearn.impute._base.SimpleImputer'&gt;</td>\n",
       "    </tr>\n",
       "    <tr>\n",
       "      <th>69</th>\n",
       "      <td>SkewedChi2Sampler</td>\n",
       "      <td>&lt;class 'sklearn.kernel_approximation.SkewedChi...</td>\n",
       "    </tr>\n",
       "    <tr>\n",
       "      <th>70</th>\n",
       "      <td>SparseCoder</td>\n",
       "      <td>&lt;class 'sklearn.decomposition._dict_learning.S...</td>\n",
       "    </tr>\n",
       "    <tr>\n",
       "      <th>71</th>\n",
       "      <td>SparsePCA</td>\n",
       "      <td>&lt;class 'sklearn.decomposition._sparse_pca.Spar...</td>\n",
       "    </tr>\n",
       "    <tr>\n",
       "      <th>72</th>\n",
       "      <td>SparseRandomProjection</td>\n",
       "      <td>&lt;class 'sklearn.random_projection.SparseRandom...</td>\n",
       "    </tr>\n",
       "    <tr>\n",
       "      <th>73</th>\n",
       "      <td>SplineTransformer</td>\n",
       "      <td>&lt;class 'sklearn.preprocessing._polynomial.Spli...</td>\n",
       "    </tr>\n",
       "    <tr>\n",
       "      <th>74</th>\n",
       "      <td>StackingClassifier</td>\n",
       "      <td>&lt;class 'sklearn.ensemble._stacking.StackingCla...</td>\n",
       "    </tr>\n",
       "    <tr>\n",
       "      <th>75</th>\n",
       "      <td>StackingRegressor</td>\n",
       "      <td>&lt;class 'sklearn.ensemble._stacking.StackingReg...</td>\n",
       "    </tr>\n",
       "    <tr>\n",
       "      <th>76</th>\n",
       "      <td>StandardScaler</td>\n",
       "      <td>&lt;class 'sklearn.preprocessing._data.StandardSc...</td>\n",
       "    </tr>\n",
       "    <tr>\n",
       "      <th>77</th>\n",
       "      <td>TSNE</td>\n",
       "      <td>&lt;class 'sklearn.manifold._t_sne.TSNE'&gt;</td>\n",
       "    </tr>\n",
       "    <tr>\n",
       "      <th>78</th>\n",
       "      <td>TargetEncoder</td>\n",
       "      <td>&lt;class 'sklearn.preprocessing._target_encoder....</td>\n",
       "    </tr>\n",
       "    <tr>\n",
       "      <th>79</th>\n",
       "      <td>TfidfTransformer</td>\n",
       "      <td>&lt;class 'sklearn.feature_extraction.text.TfidfT...</td>\n",
       "    </tr>\n",
       "    <tr>\n",
       "      <th>80</th>\n",
       "      <td>TruncatedSVD</td>\n",
       "      <td>&lt;class 'sklearn.decomposition._truncated_svd.T...</td>\n",
       "    </tr>\n",
       "    <tr>\n",
       "      <th>81</th>\n",
       "      <td>VarianceThreshold</td>\n",
       "      <td>&lt;class 'sklearn.feature_selection._variance_th...</td>\n",
       "    </tr>\n",
       "    <tr>\n",
       "      <th>82</th>\n",
       "      <td>VotingClassifier</td>\n",
       "      <td>&lt;class 'sklearn.ensemble._voting.VotingClassif...</td>\n",
       "    </tr>\n",
       "    <tr>\n",
       "      <th>83</th>\n",
       "      <td>VotingRegressor</td>\n",
       "      <td>&lt;class 'sklearn.ensemble._voting.VotingRegress...</td>\n",
       "    </tr>\n",
       "  </tbody>\n",
       "</table>\n",
       "</div>"
      ],
      "text/plain": [
       "                                 0  \\\n",
       "0              AdditiveChi2Sampler   \n",
       "1                     BernoulliRBM   \n",
       "2                        Binarizer   \n",
       "3                            Birch   \n",
       "4                  BisectingKMeans   \n",
       "5                              CCA   \n",
       "6                ColumnTransformer   \n",
       "7                   DictVectorizer   \n",
       "8               DictionaryLearning   \n",
       "9                   FactorAnalysis   \n",
       "10                         FastICA   \n",
       "11            FeatureAgglomeration   \n",
       "12                   FeatureHasher   \n",
       "13                    FeatureUnion   \n",
       "14             FunctionTransformer   \n",
       "15        GaussianRandomProjection   \n",
       "16         GenericUnivariateSelect   \n",
       "17               HashingVectorizer   \n",
       "18                  IncrementalPCA   \n",
       "19                          Isomap   \n",
       "20              IsotonicRegression   \n",
       "21                KBinsDiscretizer   \n",
       "22                          KMeans   \n",
       "23                      KNNImputer   \n",
       "24           KNeighborsTransformer   \n",
       "25                  KernelCenterer   \n",
       "26                       KernelPCA   \n",
       "27                  LabelBinarizer   \n",
       "28                    LabelEncoder   \n",
       "29       LatentDirichletAllocation   \n",
       "30      LinearDiscriminantAnalysis   \n",
       "31          LocallyLinearEmbedding   \n",
       "32                    MaxAbsScaler   \n",
       "33                    MinMaxScaler   \n",
       "34     MiniBatchDictionaryLearning   \n",
       "35                 MiniBatchKMeans   \n",
       "36                    MiniBatchNMF   \n",
       "37              MiniBatchSparsePCA   \n",
       "38                MissingIndicator   \n",
       "39             MultiLabelBinarizer   \n",
       "40                             NMF   \n",
       "41  NeighborhoodComponentsAnalysis   \n",
       "42                      Normalizer   \n",
       "43                        Nystroem   \n",
       "44                   OneHotEncoder   \n",
       "45                  OrdinalEncoder   \n",
       "46                             PCA   \n",
       "47                    PLSCanonical   \n",
       "48                   PLSRegression   \n",
       "49                          PLSSVD   \n",
       "50                  PatchExtractor   \n",
       "51           PolynomialCountSketch   \n",
       "52              PolynomialFeatures   \n",
       "53                PowerTransformer   \n",
       "54             QuantileTransformer   \n",
       "55                      RBFSampler   \n",
       "56                             RFE   \n",
       "57                           RFECV   \n",
       "58      RadiusNeighborsTransformer   \n",
       "59            RandomTreesEmbedding   \n",
       "60                    RobustScaler   \n",
       "61                       SelectFdr   \n",
       "62                       SelectFpr   \n",
       "63                 SelectFromModel   \n",
       "64                       SelectFwe   \n",
       "65                     SelectKBest   \n",
       "66                SelectPercentile   \n",
       "67       SequentialFeatureSelector   \n",
       "68                   SimpleImputer   \n",
       "69               SkewedChi2Sampler   \n",
       "70                     SparseCoder   \n",
       "71                       SparsePCA   \n",
       "72          SparseRandomProjection   \n",
       "73               SplineTransformer   \n",
       "74              StackingClassifier   \n",
       "75               StackingRegressor   \n",
       "76                  StandardScaler   \n",
       "77                            TSNE   \n",
       "78                   TargetEncoder   \n",
       "79                TfidfTransformer   \n",
       "80                    TruncatedSVD   \n",
       "81               VarianceThreshold   \n",
       "82                VotingClassifier   \n",
       "83                 VotingRegressor   \n",
       "\n",
       "                                                    1  \n",
       "0   <class 'sklearn.kernel_approximation.AdditiveC...  \n",
       "1   <class 'sklearn.neural_network._rbm.BernoulliR...  \n",
       "2     <class 'sklearn.preprocessing._data.Binarizer'>  \n",
       "3              <class 'sklearn.cluster._birch.Birch'>  \n",
       "4   <class 'sklearn.cluster._bisect_k_means.Bisect...  \n",
       "5      <class 'sklearn.cross_decomposition._pls.CCA'>  \n",
       "6   <class 'sklearn.compose._column_transformer.Co...  \n",
       "7   <class 'sklearn.feature_extraction._dict_vecto...  \n",
       "8   <class 'sklearn.decomposition._dict_learning.D...  \n",
       "9   <class 'sklearn.decomposition._factor_analysis...  \n",
       "10   <class 'sklearn.decomposition._fastica.FastICA'>  \n",
       "11  <class 'sklearn.cluster._agglomerative.Feature...  \n",
       "12  <class 'sklearn.feature_extraction._hash.Featu...  \n",
       "13            <class 'sklearn.pipeline.FeatureUnion'>  \n",
       "14  <class 'sklearn.preprocessing._function_transf...  \n",
       "15  <class 'sklearn.random_projection.GaussianRand...  \n",
       "16  <class 'sklearn.feature_selection._univariate_...  \n",
       "17  <class 'sklearn.feature_extraction.text.Hashin...  \n",
       "18  <class 'sklearn.decomposition._incremental_pca...  \n",
       "19          <class 'sklearn.manifold._isomap.Isomap'>  \n",
       "20      <class 'sklearn.isotonic.IsotonicRegression'>  \n",
       "21  <class 'sklearn.preprocessing._discretization....  \n",
       "22           <class 'sklearn.cluster._kmeans.KMeans'>  \n",
       "23           <class 'sklearn.impute._knn.KNNImputer'>  \n",
       "24  <class 'sklearn.neighbors._graph.KNeighborsTra...  \n",
       "25  <class 'sklearn.preprocessing._data.KernelCent...  \n",
       "26  <class 'sklearn.decomposition._kernel_pca.Kern...  \n",
       "27  <class 'sklearn.preprocessing._label.LabelBina...  \n",
       "28  <class 'sklearn.preprocessing._label.LabelEnco...  \n",
       "29  <class 'sklearn.decomposition._lda.LatentDiric...  \n",
       "30  <class 'sklearn.discriminant_analysis.LinearDi...  \n",
       "31  <class 'sklearn.manifold._locally_linear.Local...  \n",
       "32  <class 'sklearn.preprocessing._data.MaxAbsScal...  \n",
       "33  <class 'sklearn.preprocessing._data.MinMaxScal...  \n",
       "34  <class 'sklearn.decomposition._dict_learning.M...  \n",
       "35  <class 'sklearn.cluster._kmeans.MiniBatchKMeans'>  \n",
       "36  <class 'sklearn.decomposition._nmf.MiniBatchNMF'>  \n",
       "37  <class 'sklearn.decomposition._sparse_pca.Mini...  \n",
       "38    <class 'sklearn.impute._base.MissingIndicator'>  \n",
       "39  <class 'sklearn.preprocessing._label.MultiLabe...  \n",
       "40           <class 'sklearn.decomposition._nmf.NMF'>  \n",
       "41  <class 'sklearn.neighbors._nca.NeighborhoodCom...  \n",
       "42   <class 'sklearn.preprocessing._data.Normalizer'>  \n",
       "43    <class 'sklearn.kernel_approximation.Nystroem'>  \n",
       "44  <class 'sklearn.preprocessing._encoders.OneHot...  \n",
       "45  <class 'sklearn.preprocessing._encoders.Ordina...  \n",
       "46           <class 'sklearn.decomposition._pca.PCA'>  \n",
       "47  <class 'sklearn.cross_decomposition._pls.PLSCa...  \n",
       "48  <class 'sklearn.cross_decomposition._pls.PLSRe...  \n",
       "49  <class 'sklearn.cross_decomposition._pls.PLSSVD'>  \n",
       "50  <class 'sklearn.feature_extraction.image.Patch...  \n",
       "51  <class 'sklearn.kernel_approximation.Polynomia...  \n",
       "52  <class 'sklearn.preprocessing._polynomial.Poly...  \n",
       "53  <class 'sklearn.preprocessing._data.PowerTrans...  \n",
       "54  <class 'sklearn.preprocessing._data.QuantileTr...  \n",
       "55  <class 'sklearn.kernel_approximation.RBFSampler'>  \n",
       "56       <class 'sklearn.feature_selection._rfe.RFE'>  \n",
       "57     <class 'sklearn.feature_selection._rfe.RFECV'>  \n",
       "58  <class 'sklearn.neighbors._graph.RadiusNeighbo...  \n",
       "59  <class 'sklearn.ensemble._forest.RandomTreesEm...  \n",
       "60  <class 'sklearn.preprocessing._data.RobustScal...  \n",
       "61  <class 'sklearn.feature_selection._univariate_...  \n",
       "62  <class 'sklearn.feature_selection._univariate_...  \n",
       "63  <class 'sklearn.feature_selection._from_model....  \n",
       "64  <class 'sklearn.feature_selection._univariate_...  \n",
       "65  <class 'sklearn.feature_selection._univariate_...  \n",
       "66  <class 'sklearn.feature_selection._univariate_...  \n",
       "67  <class 'sklearn.feature_selection._sequential....  \n",
       "68       <class 'sklearn.impute._base.SimpleImputer'>  \n",
       "69  <class 'sklearn.kernel_approximation.SkewedChi...  \n",
       "70  <class 'sklearn.decomposition._dict_learning.S...  \n",
       "71  <class 'sklearn.decomposition._sparse_pca.Spar...  \n",
       "72  <class 'sklearn.random_projection.SparseRandom...  \n",
       "73  <class 'sklearn.preprocessing._polynomial.Spli...  \n",
       "74  <class 'sklearn.ensemble._stacking.StackingCla...  \n",
       "75  <class 'sklearn.ensemble._stacking.StackingReg...  \n",
       "76  <class 'sklearn.preprocessing._data.StandardSc...  \n",
       "77             <class 'sklearn.manifold._t_sne.TSNE'>  \n",
       "78  <class 'sklearn.preprocessing._target_encoder....  \n",
       "79  <class 'sklearn.feature_extraction.text.TfidfT...  \n",
       "80  <class 'sklearn.decomposition._truncated_svd.T...  \n",
       "81  <class 'sklearn.feature_selection._variance_th...  \n",
       "82  <class 'sklearn.ensemble._voting.VotingClassif...  \n",
       "83  <class 'sklearn.ensemble._voting.VotingRegress...  "
      ]
     },
     "execution_count": 22,
     "metadata": {},
     "output_type": "execute_result"
    }
   ],
   "source": [
    "# 참고로 변환기 클래스들을 출력해 봅시다.\n",
    "변환기_클래스들 = all_estimators(type_filter=\"transformer\")\n",
    "pd.set_option('display.max_rows', None)\n",
    "pd.DataFrame(변환기_클래스들)\n",
    "# 변환기_클래스들 "
   ]
  },
  {
   "cell_type": "markdown",
   "metadata": {
    "id": "Wa6usu09kMIH"
   },
   "source": [
    "### 3.1.2 분류기별 점수 확인"
   ]
  },
  {
   "cell_type": "code",
   "execution_count": 23,
   "metadata": {
    "colab": {
     "base_uri": "https://localhost:8080/"
    },
    "executionInfo": {
     "elapsed": 2666,
     "status": "ok",
     "timestamp": 1638753798182,
     "user": {
      "displayName": "Dominica",
      "photoUrl": "https://lh3.googleusercontent.com/a-/AOh14Givt_n9gun5TCzjvq5ASwWr2b4FAUXE7mJI_JAt1g=s64",
      "userId": "04216559503906939593"
     },
     "user_tz": -540
    },
    "id": "UEF9mPyzSLbM",
    "outputId": "1c004106-a9d0-4763-c9d3-4901c5c26774"
   },
   "outputs": [
    {
     "name": "stdout",
     "output_type": "stream",
     "text": [
      "[ 0] AdaBoostClassifier             정확도 점수 = 96.67%\n",
      "[ 1] BaggingClassifier              정확도 점수 = 96.67%\n",
      "[ 2] BernoulliNB                    정확도 점수 = 21.67%\n",
      "[ 3] CalibratedClassifierCV         정확도 점수 = 81.67%\n",
      "[ 4] CategoricalNB                  정확도 점수 = 96.67%\n",
      "[ 5] ClassifierChain                정확도 점수 = 96.67%\n",
      "[ 6] ComplementNB                   정확도 점수 = 58.33%\n",
      "[ 7] DecisionTreeClassifier         정확도 점수 = 95.00%\n",
      "[ 8] DummyClassifier                정확도 점수 = 21.67%\n",
      "[ 9] ExtraTreeClassifier            정확도 점수 = 90.00%\n",
      "[10] ExtraTreesClassifier           정확도 점수 = 96.67%\n",
      "[11] GaussianNB                     정확도 점수 = 96.67%\n",
      "[12] GaussianProcessClassifier      정확도 점수 = 100.00%\n",
      "[13] GradientBoostingClassifier     정확도 점수 = 96.67%\n",
      "[14] HistGradientBoostingClassifier 정확도 점수 = 93.33%\n",
      "[15] KNeighborsClassifier           정확도 점수 = 98.33%\n",
      "[16] LabelPropagation               정확도 점수 = 95.00%\n",
      "[17] LabelSpreading                 정확도 점수 = 95.00%\n",
      "[18] LinearDiscriminantAnalysis     정확도 점수 = 96.67%\n",
      "[19] LinearSVC                      정확도 점수 = 96.67%\n",
      "[20] LogisticRegression             정확도 점수 = 98.33%\n",
      "[21] LogisticRegressionCV           정확도 점수 = 96.67%\n",
      "[22] MLPClassifier                  정확도 점수 = 96.67%\n",
      "[23] MultiOutputClassifier          정확도 점수 = 95.00%\n",
      "[24] MultinomialNB                  정확도 점수 = 58.33%\n",
      "[25] NearestCentroid                정확도 점수 = 90.00%\n",
      "[26] NuSVC                          정확도 점수 = 98.33%\n",
      "[27] OneVsOneClassifier             정확도 점수 = 98.33%\n",
      "[28] OneVsRestClassifier            정확도 점수 = 98.33%\n",
      "[29] OutputCodeClassifier           정확도 점수 = 98.33%\n",
      "[30] PassiveAggressiveClassifier    정확도 점수 = 88.33%\n",
      "[31] Perceptron                     정확도 점수 = 58.33%\n",
      "[32] QuadraticDiscriminantAnalysis  정확도 점수 = 98.33%\n",
      "[33] RadiusNeighborsClassifier      정확도 점수 = 98.33%\n",
      "[34] RandomForestClassifier         정확도 점수 = 96.67%\n",
      "[35] RidgeClassifier                정확도 점수 = 81.67%\n",
      "[36] RidgeClassifierCV              정확도 점수 = 81.67%\n",
      "[37] SGDClassifier                  정확도 점수 = 88.33%\n",
      "[38] SVC                            정확도 점수 = 98.33%\n",
      "[39] StackingClassifier             정확도 점수 = 98.33%\n",
      "[40] VotingClassifier               정확도 점수 = 98.33%\n"
     ]
    }
   ],
   "source": [
    "#  6:4로 분할된 붗꽃 데이터를 가지고 모델 및  정확도 검증을 확인 해보자. \n",
    "# 모형선택  1 : 정답 스코어를 확인 해서 모델 선택\n",
    "#          2 :  손실율을 확인 후  스케일링 작업 후  하이퍼파라미터를 사용해서 적합한  모형선택  \n",
    "순번 = 0\n",
    "\n",
    "for (분류기명, 분류기_클래스) in 분류기_클래스들:\n",
    "  # 오류가 나는 경우에 무시하도록 예외 처리 구문을 구성합니다. \n",
    "  try:  \n",
    "    # 각 분류기의 인스턴스(즉, 모형)를 구성합니다.\n",
    "    # 예를 들어 for 문이 첫 번째 돌 때 다음 문장의 꼴은\n",
    "    # 분류기_인스턴스 = sklearn.ensemble._weight_boosting.AdaBoostClassifier() 꼴이 된다. \n",
    "    분류기_인스턴스 = 분류기_클래스()         \n",
    "  except:\n",
    "    # 클래스로 인스턴스를 생성할 때 파라미터 개수가 일치하지 않는 경우를 무시하게 합니다.\n",
    "    pass\n",
    "\n",
    "  # 훈련용 데이터를 사용해 모형을 훈련합니다.\n",
    "  분류기_인스턴스.fit(훈련용_X, 훈련용_y)   \n",
    "\n",
    "  # 검정용 데이터를 사용해 예측치를 뽑아냅니다.  \n",
    "  예측치 = 분류기_인스턴스.predict(검정용_X)  \n",
    "\n",
    "  # 정확도 점수를 출력합니다.\n",
    "  print(f'[{순번:2d}] {분류기명:30s} 정확도 점수 = {accuracy_score(검정용_y, 예측치) * 100:.2f}%')\n",
    "\n",
    "  순번 = 순번 + 1"
   ]
  },
  {
   "cell_type": "markdown",
   "metadata": {
    "id": "BYd9C4NMhG0P"
   },
   "source": [
    "* 우리는 41개 분류기에 대한 정확도 점수를 알 수 있게 되었습니다.\n",
    "* 이 중에 정확도가 가장 높은 분류기들을 선별하고 나서 각 분류기의 특성 등을 고려하여 적합한 분류기를 선택하면 됩니다.\n",
    "* 분류기와 관련한 지표로는 대부분 '정확도(accuracy)'를 쓴다. \n",
    "* 회귀기와 관련한 지료로는 대부분 '결정계수(r2 score)'를 쓴다. "
   ]
  },
  {
   "cell_type": "markdown",
   "metadata": {
    "id": "PQdXuUFsLKBi"
   },
   "source": [
    "## 3.2 교차 검증(cross validation)"
   ]
  },
  {
   "cell_type": "markdown",
   "metadata": {
    "id": "FkMbq9qJnb1p"
   },
   "source": [
    "* 우리는 앞에서 분류기별 정확도 점수를 보았습니다. \n",
    "* 다만 이럴 때 전체 데이터 중에 40%에 해당하는 데이터를 따로 뽑아 둔 검정용(테스트용) 데이터를 사용했습니다.\n",
    "* 이번에는 훈련용 데이터를 여러 겹(fold)으로 나눠 그 중에 한 부분씩 차례로 검증용으로 사용해 평가를 해 보겠습니다. \n",
    "* k겹 교차 검증(k-fold cross validation)이라고도 부릅니다. \n"
   ]
  },
  {
   "cell_type": "markdown",
   "metadata": {
    "id": "H3hMZIKxumN8"
   },
   "source": [
    "### 3.2.1 각종 도구 가져오기"
   ]
  },
  {
   "cell_type": "code",
   "execution_count": 24,
   "metadata": {
    "executionInfo": {
     "elapsed": 315,
     "status": "ok",
     "timestamp": 1638753946713,
     "user": {
      "displayName": "Dominica",
      "photoUrl": "https://lh3.googleusercontent.com/a-/AOh14Givt_n9gun5TCzjvq5ASwWr2b4FAUXE7mJI_JAt1g=s64",
      "userId": "04216559503906939593"
     },
     "user_tz": -540
    },
    "id": "o1Yl-sBboR12"
   },
   "outputs": [],
   "source": [
    "# k겹 교차 검증에 필요한 도구들을 가져옵니다.\n",
    "from sklearn.model_selection import KFold, cross_val_score\n",
    "import numpy as np"
   ]
  },
  {
   "cell_type": "markdown",
   "metadata": {
    "id": "h0f2fQdXuqP-"
   },
   "source": [
    "### 3.2.2 교차 검증 모형 생성"
   ]
  },
  {
   "cell_type": "code",
   "execution_count": 25,
   "metadata": {
    "executionInfo": {
     "elapsed": 5,
     "status": "ok",
     "timestamp": 1638753946978,
     "user": {
      "displayName": "Dominica",
      "photoUrl": "https://lh3.googleusercontent.com/a-/AOh14Givt_n9gun5TCzjvq5ASwWr2b4FAUXE7mJI_JAt1g=s64",
      "userId": "04216559503906939593"
     },
     "user_tz": -540
    },
    "id": "uTabcHp-n7Pr"
   },
   "outputs": [],
   "source": [
    "# k겹 교차검증을 위한 인스턴스를 형성합니다.\n",
    "k겹_교차검증_모형 = KFold(n_splits=6, shuffle=True, random_state=30)"
   ]
  },
  {
   "cell_type": "markdown",
   "metadata": {
    "id": "ERaWX61xpk2W"
   },
   "source": [
    "* 전체 데이터 중에 60%를 훈련용으로 썼는데, 이것을 6겹으로 나눴으므로 전체 데이터 중에 10%씩을 검증용으로 쓰게 됩니다.\n",
    "* 1개 제외 교차 검증(leave-one-out cross valition) 같은 극단적으로 나누는 경우도 있습니다(데이터가 극소수인 경우에 사용하는 방법)."
   ]
  },
  {
   "cell_type": "markdown",
   "metadata": {
    "id": "X4vEWCcWuutz"
   },
   "source": [
    "### 3.2.3 교차 검증 점수 출력"
   ]
  },
  {
   "cell_type": "code",
   "execution_count": 26,
   "metadata": {
    "colab": {
     "base_uri": "https://localhost:8080/"
    },
    "executionInfo": {
     "elapsed": 11645,
     "status": "ok",
     "timestamp": 1638753959621,
     "user": {
      "displayName": "Dominica",
      "photoUrl": "https://lh3.googleusercontent.com/a-/AOh14Givt_n9gun5TCzjvq5ASwWr2b4FAUXE7mJI_JAt1g=s64",
      "userId": "04216559503906939593"
     },
     "user_tz": -540
    },
    "id": "PqGPf-VWo1HG",
    "outputId": "a11cfb92-9b04-4c03-da6a-14e5965d0ff8"
   },
   "outputs": [
    {
     "name": "stdout",
     "output_type": "stream",
     "text": [
      "[ 0] AdaBoostClassifier             교차 검증 점수 = [1.     0.9333 1.     0.8667 1.     0.9333] \t 평균 점수 = 95.56%\n",
      "[ 1] BaggingClassifier              교차 검증 점수 = [1.     0.8667 1.     0.8667 0.9333 0.9333] \t 평균 점수 = 93.33%\n",
      "[ 2] BernoulliNB                    교차 검증 점수 = [0.3333 0.4    0.3333 0.4667 0.6667 0.2667] \t 평균 점수 = 41.11%\n",
      "[ 3] CalibratedClassifierCV         교차 검증 점수 = [1.     0.9333 0.8667 0.8    0.8    0.7333] \t 평균 점수 = 85.56%\n",
      "[ 4] CategoricalNB                  교차 검증 점수 = [0.9333 0.8    0.9333 0.8    1.     0.9333] \t 평균 점수 = 90.00%\n",
      "[ 5] ClassifierChain                교차 검증 점수 = [0.9333 0.8    0.9333 0.8    1.     0.9333] \t 평균 점수 = 90.00%\n",
      "[ 6] ComplementNB                   교차 검증 점수 = [0.8667 0.8    0.7333 0.6    0.8    0.5333] \t 평균 점수 = 72.22%\n",
      "[ 7] DecisionTreeClassifier         교차 검증 점수 = [1.     0.8667 0.9333 0.8667 1.     0.9333] \t 평균 점수 = 93.33%\n",
      "[ 8] DummyClassifier                교차 검증 점수 = [0.3333 0.4    0.3333 0.4667 0.6667 0.2667] \t 평균 점수 = 41.11%\n",
      "[ 9] ExtraTreeClassifier            교차 검증 점수 = [1.     0.9333 0.8667 0.9333 1.     0.9333] \t 평균 점수 = 94.44%\n",
      "[10] ExtraTreesClassifier           교차 검증 점수 = [1.     0.8667 1.     0.9333 1.     0.9333] \t 평균 점수 = 95.56%\n",
      "[11] GaussianNB                     교차 검증 점수 = [1.     0.9333 1.     0.9333 0.9333 0.9333] \t 평균 점수 = 95.56%\n",
      "[12] GaussianProcessClassifier      교차 검증 점수 = [1.     0.8667 1.     0.9333 1.     0.8667] \t 평균 점수 = 94.44%\n",
      "[13] GradientBoostingClassifier     교차 검증 점수 = [1.     0.8667 1.     0.8667 1.     0.9333] \t 평균 점수 = 94.44%\n",
      "[14] HistGradientBoostingClassifier 교차 검증 점수 = [1.     0.8667 1.     0.8667 0.8667 0.9333] \t 평균 점수 = 92.22%\n",
      "[15] KNeighborsClassifier           교차 검증 점수 = [1.     0.8667 1.     1.     1.     1.    ] \t 평균 점수 = 97.78%\n",
      "[16] LabelPropagation               교차 검증 점수 = [1.     0.8667 1.     1.     0.9333 0.9333] \t 평균 점수 = 95.56%\n",
      "[17] LabelSpreading                 교차 검증 점수 = [1.     0.8667 1.     1.     0.9333 0.9333] \t 평균 점수 = 95.56%\n",
      "[18] LinearDiscriminantAnalysis     교차 검증 점수 = [1.     0.9333 1.     1.     1.     1.    ] \t 평균 점수 = 98.89%\n",
      "[19] LinearSVC                      교차 검증 점수 = [1.     0.9333 1.     0.9333 1.     0.9333] \t 평균 점수 = 96.67%\n",
      "[20] LogisticRegression             교차 검증 점수 = [1.     0.8667 1.     0.9333 1.     0.9333] \t 평균 점수 = 95.56%\n",
      "[21] LogisticRegressionCV           교차 검증 점수 = [1.     0.9333 1.     1.     1.     0.9333] \t 평균 점수 = 97.78%\n",
      "[22] MLPClassifier                  교차 검증 점수 = [1.     0.9333 1.     1.     1.     0.9333] \t 평균 점수 = 97.78%\n",
      "[23] MultiOutputClassifier          교차 검증 점수 = [1.     0.9333 1.     0.9333 1.     0.8667] \t 평균 점수 = 95.56%\n",
      "[24] MultinomialNB                  교차 검증 점수 = [0.8667 0.8    0.7333 0.6    0.8    0.5333] \t 평균 점수 = 72.22%\n",
      "[25] NearestCentroid                교차 검증 점수 = [0.9333 0.9333 0.9333 0.8    0.9333 0.8667] \t 평균 점수 = 90.00%\n",
      "[26] NuSVC                          교차 검증 점수 = [1.     0.8667 1.     0.9333 1.     1.    ] \t 평균 점수 = 96.67%\n",
      "[27] OneVsOneClassifier             교차 검증 점수 = [1.     0.8667 1.     0.9333 1.     1.    ] \t 평균 점수 = 96.67%\n",
      "[28] OneVsRestClassifier            교차 검증 점수 = [1.     0.8667 1.     0.9333 1.     1.    ] \t 평균 점수 = 96.67%\n",
      "[29] OutputCodeClassifier           교차 검증 점수 = [1.     0.8667 1.     0.9333 1.     1.    ] \t 평균 점수 = 96.67%\n",
      "[30] PassiveAggressiveClassifier    교차 검증 점수 = [0.8    0.8    0.8    0.6667 0.8667 0.7333] \t 평균 점수 = 77.78%\n",
      "[31] Perceptron                     교차 검증 점수 = [0.8667 0.8    1.     0.6    0.4667 0.5333] \t 평균 점수 = 71.11%\n",
      "[32] QuadraticDiscriminantAnalysis  교차 검증 점수 = [1.     0.9333 1.     1.     1.     1.    ] \t 평균 점수 = 98.89%\n",
      "[33] RadiusNeighborsClassifier      교차 검증 점수 = [1.     0.8667 1.     0.9333 1.     0.9333] \t 평균 점수 = 95.56%\n",
      "[34] RandomForestClassifier         교차 검증 점수 = [1.     0.8667 1.     0.9333 1.     0.9333] \t 평균 점수 = 95.56%\n",
      "[35] RidgeClassifier                교차 검증 점수 = [1.     0.7333 0.8667 0.8    0.6667 0.6667] \t 평균 점수 = 78.89%\n",
      "[36] RidgeClassifierCV              교차 검증 점수 = [1.     0.7333 0.8667 0.8    0.6667 0.6667] \t 평균 점수 = 78.89%\n",
      "[37] SGDClassifier                  교차 검증 점수 = [0.8667 0.8    0.8667 0.5333 0.8    0.5333] \t 평균 점수 = 73.33%\n",
      "[38] SVC                            교차 검증 점수 = [1.     0.8667 1.     0.9333 1.     1.    ] \t 평균 점수 = 96.67%\n",
      "[39] StackingClassifier             교차 검증 점수 = [1.     0.8667 1.     0.9333 1.     1.    ] \t 평균 점수 = 96.67%\n",
      "[40] VotingClassifier               교차 검증 점수 = [1.     0.8667 1.     0.9333 1.     1.    ] \t 평균 점수 = 96.67%\n"
     ]
    }
   ],
   "source": [
    "순번 = 0\n",
    "\n",
    "for(분류기명, 분류기_클래스) in 분류기_클래스들:\n",
    "  # 오류가 나는 경우에 무시하도록 예외 처리 구문을 구성합니다. \n",
    "  try:  \n",
    "    # 각 분류기의 인스턴스(즉, 모형)를 구성합니다.\n",
    "    분류기_인스턴스 = 분류기_클래스()         \n",
    "  except:\n",
    "    # 클래스로 인스턴스를 생성할 때 파라미터 개수가 일치하지 않는 경우를 무시하게 합니다.\n",
    "    pass\n",
    "\n",
    "  # score라는 메서드를 지닌 인스턴스를 골라냅니다.  \n",
    "  # 왜냐하면 cross_val_score 함수에서 score 메서드를 사용하기 때문입니다.\n",
    "  # 각 추정기별로 score 메서드는 일반적으로 평균 정확도 점수를 반환해줍니다.\n",
    "  # 이에 대해서는 각 추정기 클래스의 score 메서드를 확인해 봅시다. \n",
    "  if hasattr(분류기_인스턴스, \"score\"):\n",
    "    try:\n",
    "      점수들 = cross_val_score(분류기_인스턴스, 훈련용_X, 훈련용_y, cv=k겹_교차검증_모형)\n",
    "    except:\n",
    "      pass\n",
    "    print(f'[{순번:2d}] {분류기명:30s} 교차 검증 점수 = {np.round(점수들, 4)} \\t 평균 점수 = {np.mean(점수들)*100:.2f}%')\n",
    "    # print(f'[{순번:2d}] {분류기명:30s} 교차 검증 점수 = {점수들} \\t 평균 점수 = {np.mean(점수들)*100:.2f}%')\n",
    "  \n",
    "  순번 = 순번 + 1"
   ]
  },
  {
   "cell_type": "markdown",
   "metadata": {
    "id": "thxPRVdVtBeC"
   },
   "source": [
    "* 이 교차 검증을 통해서 교차 검증 점수 평균이 높은 모형을 찾을 수 있게 되었습니다. \n"
   ]
  },
  {
   "cell_type": "markdown",
   "metadata": {
    "id": "cdN5LUZAgGE9"
   },
   "source": [
    "## 3.3 사이킷런 치트 시트 이용"
   ]
  },
  {
   "cell_type": "markdown",
   "metadata": {
    "id": "Cj_zb4GxgncP"
   },
   "source": [
    "* 사이킷런에서는 적절한 모형을 선택하는 데 도움이 되는 그림을 제공합니다.\n",
    "  * https://scikit-learn.org/stable/tutorial/machine_learning_map/index.html#\n"
   ]
  },
  {
   "attachments": {
    "image.png": {
     "image/png": "[encoded data removed]"
    }
   },
   "cell_type": "markdown",
   "metadata": {},
   "source": [
    "![image.png](attachment:image.png)"
   ]
  },
  {
   "cell_type": "raw",
   "metadata": {},
   "source": [
    " 1) 객체 단위 :  Estimator  ,fit ,   Predict , transform    \n",
    " \n",
    "      1-1)  Estimator  : 학습데이터를 기반으로 모델을 적합시키고 새로운 데이터와 어떤 특성을 추론할 수 있는 객체\n",
    "                        모든 알고리즘의 최상위 클래스  \n",
    "                        \n",
    "      1-2)  fit  : Estimator의 메소드   / 모형학습 메소드   \n",
    "                    / 모델의 성능을 검증하는 함수 = 하이퍼파라미터를 Estimator의 매개인자로 받아 실행하는 메소드            \n",
    "             *지도학습알고리즘 은 학습데이터와 레벨데이터를 매개인자로, 비지도학습알고리즘은 학습데이터만 인자로 \n",
    "              전달한다. \n",
    "                    \n",
    "               ex) fit(X, y, sample_weight=None)   \n",
    "      \n",
    "       1-3) Predict : 인스턴스화 하고 fit으로 학습을 마친 모델을 사용한다.  \n",
    "                      입력데이터에 대한 모델의 예측 결과를 리턴한다. \n",
    "                      \n",
    "       1-4 ) transform : 피처 처리 기능을 transform메소드로 실행하고 결과를 리턴  \n",
    "             [전처리기능]  ->  원핫인코딩,  정규화, 스케일링등  \n",
    "       \n",
    " 2) API 선언 순서  :   인스턴스화   ->  fit   -> Predict /transform   -> 정확도, 결과값 측정  \n",
    " \n",
    " 3) 분류 알고리즘 (classifier)    , 회귀 알고리즘  (regressor)  \n",
    " "
   ]
  },
  {
   "cell_type": "code",
   "execution_count": 27,
   "metadata": {},
   "outputs": [],
   "source": [
    "#q1)   Estimator 객체를 생성해서  실행해 보자. \n",
    "from  sklearn.datasets import  load_breast_cancer  # 연습용 데이터 셋  \n",
    "from sklearn.model_selection import train_test_split  # 검증, 하이퍼 파라미터 튜닝, 데이터 분리  \n",
    "from sklearn.tree import  DecisionTreeClassifier  #기계학습 알고리즘  \n",
    "from sklearn.preprocessing import  StandardScaler # 전처리 (원핫인코딩,  정규화, 스케일링등 )"
   ]
  },
  {
   "cell_type": "code",
   "execution_count": 28,
   "metadata": {},
   "outputs": [],
   "source": [
    "#1-1 연습용 데이터 로드  \n",
    "data  =  load_breast_cancer() \n",
    "X_train, X_test, y_train, y_test=train_test_split(data.data, data.target, random_state = 42)"
   ]
  },
  {
   "cell_type": "code",
   "execution_count": 29,
   "metadata": {},
   "outputs": [
    {
     "data": {
      "text/html": [
       "<style>#sk-container-id-1 {color: black;}#sk-container-id-1 pre{padding: 0;}#sk-container-id-1 div.sk-toggleable {background-color: white;}#sk-container-id-1 label.sk-toggleable__label {cursor: pointer;display: block;width: 100%;margin-bottom: 0;padding: 0.3em;box-sizing: border-box;text-align: center;}#sk-container-id-1 label.sk-toggleable__label-arrow:before {content: \"▸\";float: left;margin-right: 0.25em;color: #696969;}#sk-container-id-1 label.sk-toggleable__label-arrow:hover:before {color: black;}#sk-container-id-1 div.sk-estimator:hover label.sk-toggleable__label-arrow:before {color: black;}#sk-container-id-1 div.sk-toggleable__content {max-height: 0;max-width: 0;overflow: hidden;text-align: left;background-color: #f0f8ff;}#sk-container-id-1 div.sk-toggleable__content pre {margin: 0.2em;color: black;border-radius: 0.25em;background-color: #f0f8ff;}#sk-container-id-1 input.sk-toggleable__control:checked~div.sk-toggleable__content {max-height: 200px;max-width: 100%;overflow: auto;}#sk-container-id-1 input.sk-toggleable__control:checked~label.sk-toggleable__label-arrow:before {content: \"▾\";}#sk-container-id-1 div.sk-estimator input.sk-toggleable__control:checked~label.sk-toggleable__label {background-color: #d4ebff;}#sk-container-id-1 div.sk-label input.sk-toggleable__control:checked~label.sk-toggleable__label {background-color: #d4ebff;}#sk-container-id-1 input.sk-hidden--visually {border: 0;clip: rect(1px 1px 1px 1px);clip: rect(1px, 1px, 1px, 1px);height: 1px;margin: -1px;overflow: hidden;padding: 0;position: absolute;width: 1px;}#sk-container-id-1 div.sk-estimator {font-family: monospace;background-color: #f0f8ff;border: 1px dotted black;border-radius: 0.25em;box-sizing: border-box;margin-bottom: 0.5em;}#sk-container-id-1 div.sk-estimator:hover {background-color: #d4ebff;}#sk-container-id-1 div.sk-parallel-item::after {content: \"\";width: 100%;border-bottom: 1px solid gray;flex-grow: 1;}#sk-container-id-1 div.sk-label:hover label.sk-toggleable__label {background-color: #d4ebff;}#sk-container-id-1 div.sk-serial::before {content: \"\";position: absolute;border-left: 1px solid gray;box-sizing: border-box;top: 0;bottom: 0;left: 50%;z-index: 0;}#sk-container-id-1 div.sk-serial {display: flex;flex-direction: column;align-items: center;background-color: white;padding-right: 0.2em;padding-left: 0.2em;position: relative;}#sk-container-id-1 div.sk-item {position: relative;z-index: 1;}#sk-container-id-1 div.sk-parallel {display: flex;align-items: stretch;justify-content: center;background-color: white;position: relative;}#sk-container-id-1 div.sk-item::before, #sk-container-id-1 div.sk-parallel-item::before {content: \"\";position: absolute;border-left: 1px solid gray;box-sizing: border-box;top: 0;bottom: 0;left: 50%;z-index: -1;}#sk-container-id-1 div.sk-parallel-item {display: flex;flex-direction: column;z-index: 1;position: relative;background-color: white;}#sk-container-id-1 div.sk-parallel-item:first-child::after {align-self: flex-end;width: 50%;}#sk-container-id-1 div.sk-parallel-item:last-child::after {align-self: flex-start;width: 50%;}#sk-container-id-1 div.sk-parallel-item:only-child::after {width: 0;}#sk-container-id-1 div.sk-dashed-wrapped {border: 1px dashed gray;margin: 0 0.4em 0.5em 0.4em;box-sizing: border-box;padding-bottom: 0.4em;background-color: white;}#sk-container-id-1 div.sk-label label {font-family: monospace;font-weight: bold;display: inline-block;line-height: 1.2em;}#sk-container-id-1 div.sk-label-container {text-align: center;}#sk-container-id-1 div.sk-container {/* jupyter's `normalize.less` sets `[hidden] { display: none; }` but bootstrap.min.css set `[hidden] { display: none !important; }` so we also need the `!important` here to be able to override the default hidden behavior on the sphinx rendered scikit-learn.org. See: https://github.com/scikit-learn/scikit-learn/issues/21755 */display: inline-block !important;position: relative;}#sk-container-id-1 div.sk-text-repr-fallback {display: none;}</style><div id=\"sk-container-id-1\" class=\"sk-top-container\"><div class=\"sk-text-repr-fallback\"><pre>DecisionTreeClassifier(criterion=&#x27;entropy&#x27;)</pre><b>In a Jupyter environment, please rerun this cell to show the HTML representation or trust the notebook. <br />On GitHub, the HTML representation is unable to render, please try loading this page with nbviewer.org.</b></div><div class=\"sk-container\" hidden><div class=\"sk-item\"><div class=\"sk-estimator sk-toggleable\"><input class=\"sk-toggleable__control sk-hidden--visually\" id=\"sk-estimator-id-1\" type=\"checkbox\" checked><label for=\"sk-estimator-id-1\" class=\"sk-toggleable__label sk-toggleable__label-arrow\">DecisionTreeClassifier</label><div class=\"sk-toggleable__content\"><pre>DecisionTreeClassifier(criterion=&#x27;entropy&#x27;)</pre></div></div></div></div></div>"
      ],
      "text/plain": [
       "DecisionTreeClassifier(criterion='entropy')"
      ]
     },
     "execution_count": 29,
     "metadata": {},
     "output_type": "execute_result"
    }
   ],
   "source": [
    "#1-2  Estimator  인스턴스화  , 파라미터 설정  \n",
    "model  =  DecisionTreeClassifier(criterion = 'entropy'  )  \n",
    "model"
   ]
  },
  {
   "cell_type": "code",
   "execution_count": 30,
   "metadata": {},
   "outputs": [
    {
     "data": {
      "text/plain": [
       "array([1, 0, 0, 1, 1, 0, 0, 0, 0, 1, 1, 0, 1, 1, 1, 0, 1, 1, 1, 0, 1, 1,\n",
       "       0, 1, 1, 1, 1, 1, 1, 0, 1, 1, 1, 1, 1, 1, 0, 1, 0, 1, 1, 0, 1, 1,\n",
       "       1, 1, 1, 1, 1, 1, 0, 0, 1, 1, 1, 1, 1, 0, 0, 1, 1, 0, 0, 1, 1, 1,\n",
       "       0, 0, 1, 1, 0, 0, 1, 0, 1, 1, 1, 1, 1, 1, 0, 1, 1, 0, 0, 0, 0, 0,\n",
       "       1, 1, 1, 1, 1, 1, 1, 1, 0, 0, 1, 0, 0, 1, 0, 0, 1, 1, 1, 0, 1, 1,\n",
       "       0, 1, 1, 0, 1, 0, 1, 1, 1, 0, 1, 1, 1, 0, 1, 0, 0, 1, 1, 0, 0, 0,\n",
       "       1, 1, 1, 0, 0, 1, 1, 0, 1, 0, 1])"
      ]
     },
     "execution_count": 30,
     "metadata": {},
     "output_type": "execute_result"
    }
   ],
   "source": [
    "#1- 3 fit  모형 실행  \n",
    "model.fit( X_train , y_train)\n",
    "#1-4  Predict   입력데이터에 대한 모델의 예측 결과를 리턴  \n",
    "y_pred =  model.predict(X_test)\n",
    "y_pred"
   ]
  },
  {
   "cell_type": "code",
   "execution_count": 31,
   "metadata": {},
   "outputs": [
    {
     "name": "stdout",
     "output_type": "stream",
     "text": [
      "[[1.289e+01 1.312e+01 8.189e+01 ... 5.366e-02 2.309e-01 6.915e-02]\n",
      " [1.340e+01 2.052e+01 8.864e+01 ... 2.051e-01 3.585e-01 1.109e-01]\n",
      " [1.296e+01 1.829e+01 8.418e+01 ... 6.608e-02 3.207e-01 7.247e-02]\n",
      " ...\n",
      " [1.429e+01 1.682e+01 9.030e+01 ... 3.333e-02 2.458e-01 6.120e-02]\n",
      " [1.398e+01 1.962e+01 9.112e+01 ... 1.827e-01 3.179e-01 1.055e-01]\n",
      " [1.218e+01 2.052e+01 7.722e+01 ... 7.431e-02 2.694e-01 6.878e-02]]\n",
      "[[-0.34913849 -1.43851335 -0.41172595 ... -0.91671059 -0.92508585\n",
      "  -0.80841115]\n",
      " [-0.20468665  0.31264011 -0.13367256 ...  1.43655962  1.14955889\n",
      "   1.56911143]\n",
      " [-0.32931176 -0.21507235 -0.31739376 ... -0.7237126   0.53496977\n",
      "  -0.61934827]\n",
      " ...\n",
      " [ 0.04739597 -0.56293662 -0.06529202 ... -1.23262438 -0.68282718\n",
      "  -1.261137  ]\n",
      " [-0.04040808  0.09966199 -0.03151368 ...  1.08847951  0.48944465\n",
      "   1.26159953]\n",
      " [-0.5502381   0.31264011 -0.6040977  ... -0.59582424 -0.29911546\n",
      "  -0.82948141]]\n"
     ]
    }
   ],
   "source": [
    "#1-5 전처리 스케일링을 구현하자.  transform\n",
    "#전처리 하기전 데이터 출력\n",
    "print(X_train)\n",
    "\n",
    "#전처리 작업  - 스케일링 적용\n",
    "scaler  = StandardScaler()\n",
    "scaler.fit(X_train)\n",
    "X_train = scaler.transform(X_train)\n",
    "\n",
    "#전처리 후  데이터 출력 확인  \n",
    "print(X_train)"
   ]
  },
  {
   "cell_type": "code",
   "execution_count": 32,
   "metadata": {},
   "outputs": [
    {
     "name": "stdout",
     "output_type": "stream",
     "text": [
      "[[1.247e+01 1.860e+01 8.109e+01 ... 1.015e-01 3.014e-01 8.750e-02]\n",
      " [1.894e+01 2.131e+01 1.236e+02 ... 1.789e-01 2.551e-01 6.589e-02]\n",
      " [1.546e+01 1.948e+01 1.017e+02 ... 1.514e-01 2.837e-01 8.019e-02]\n",
      " ...\n",
      " [1.104e+01 1.683e+01 7.092e+01 ... 7.431e-02 2.998e-01 7.881e-02]\n",
      " [1.981e+01 2.215e+01 1.300e+02 ... 2.388e-01 2.768e-01 7.615e-02]\n",
      " [1.026e+01 1.222e+01 6.575e+01 ... 6.696e-02 2.937e-01 7.722e-02]]\n",
      "[[-0.47853809 -0.21371678 -0.45835473 ... -0.27372978  0.07289581\n",
      "   0.09152022]\n",
      " [ 1.37424404  0.38950001  1.29239853 ...  0.84579664 -0.67110896\n",
      "  -1.02766663]\n",
      " [ 0.37769352 -0.01783827  0.3904579  ...  0.44803208 -0.21152934\n",
      "  -0.28706636]\n",
      " ...\n",
      " [-0.88804017 -0.60769971 -0.87720113 ... -0.66701045  0.04718507\n",
      "  -0.35853687]\n",
      " [ 1.62338166  0.57647495  1.55597935 ...  1.71220016 -0.32240694\n",
      "  -0.49629888]\n",
      " [-1.11140494 -1.63383602 -1.09012501 ... -0.77332207 -0.05083716\n",
      "  -0.44088334]]\n"
     ]
    }
   ],
   "source": [
    "#1-6 전처리 스케일링을 구현하자.  transform\n",
    "#전처리 하기전 데이터 출력\n",
    "print(X_test)\n",
    "\n",
    "#전처리 작업  - 스케일링 적용\n",
    "X_test = scaler.fit_transform(X_test)\n",
    "\n",
    "#전처리 후  데이터 출력 확인  \n",
    "print(X_test)"
   ]
  },
  {
   "cell_type": "code",
   "execution_count": 33,
   "metadata": {},
   "outputs": [],
   "source": [
    "#Q2)회귀로 적합 모델을 찾아보자. \n",
    "from sklearn.utils import all_estimators\n",
    "from sklearn.datasets import load_diabetes\n",
    "from sklearn.metrics import mean_squared_error\n",
    "import pandas as pd\n",
    "import numpy as np\n",
    " \n",
    " "
   ]
  },
  {
   "cell_type": "code",
   "execution_count": null,
   "metadata": {},
   "outputs": [],
   "source": []
  },
  {
   "cell_type": "code",
   "execution_count": null,
   "metadata": {},
   "outputs": [],
   "source": []
  }
 ],
 "metadata": {
  "colab": {
   "authorship_tag": "ABX9TyOIIgPsR7cZHKZ3wrxiFjLQ",
   "collapsed_sections": [],
   "name": "23_[머신러닝심화]_모형 선택.ipynb",
   "provenance": []
  },
  "kernelspec": {
   "display_name": "Python 3 (ipykernel)",
   "language": "python",
   "name": "python3"
  },
  "language_info": {
   "codemirror_mode": {
    "name": "ipython",
    "version": 3
   },
   "file_extension": ".py",
   "mimetype": "text/x-python",
   "name": "python",
   "nbconvert_exporter": "python",
   "pygments_lexer": "ipython3",
   "version": "3.11.5"
  }
 },
 "nbformat": 4,
 "nbformat_minor": 1
}
