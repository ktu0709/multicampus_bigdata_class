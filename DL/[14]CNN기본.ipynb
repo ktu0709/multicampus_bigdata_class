{
 "cells": [
  {
   "cell_type": "code",
   "execution_count": 2,
   "id": "8f8a4e55",
   "metadata": {},
   "outputs": [],
   "source": [
    "import numpy as np\n",
    "import tensorflow as tf\n",
    "from tensorflow.keras.layers import Flatten #Dense간의 모든 결합시 계산을 간단하게 하기 위한 객체"
   ]
  },
  {
   "cell_type": "code",
   "execution_count": 5,
   "id": "5a5e53e6",
   "metadata": {},
   "outputs": [
    {
     "name": "stdout",
     "output_type": "stream",
     "text": [
      "input_ar shape :  (3, 2, 2)\n",
      "[[[[ 1  2  3]\n",
      "   [ 4  5  6]]\n",
      "\n",
      "  [[ 7  8  9]\n",
      "   [10 11 12]]]]\n",
      "shape=(1, 12)\n",
      "tf.Tensor([[ 1  2  3  4  5  6  7  8  9 10 11 12]], shape=(1, 12), dtype=int32)\n"
     ]
    }
   ],
   "source": [
    "input_ar = np.arange(1,13).reshape(3,2,2)\n",
    "print('input_ar shape : ',input_ar.shape)\n",
    "\n",
    "res = input_ar.reshape(1,2,2,3)\n",
    "print(res)\n",
    "\n",
    "f_res=Flatten(data_format=None)\n",
    "f_res\n",
    "\n",
    "out_res = f_res(res)\n",
    "print(f'shape={out_res.shape}')\n",
    "print(out_res)"
   ]
  },
  {
   "cell_type": "markdown",
   "id": "ce9a378c",
   "metadata": {},
   "source": [
    "### Q2) 단일 레이어를 구현해보자"
   ]
  },
  {
   "cell_type": "raw",
   "id": "f1d3acb8",
   "metadata": {},
   "source": [
    "tf.keras.layers.MaxPooling2D(\n",
    "    pool_size=(2, 2),\n",
    "    strides=None,\n",
    "    padding='valid',\n",
    "    data_format=None,\n",
    "    **kwargs\n",
    ")"
   ]
  },
  {
   "cell_type": "code",
   "execution_count": 7,
   "id": "58357f48",
   "metadata": {},
   "outputs": [
    {
     "data": {
      "text/plain": [
       "array([[-10,  -9,  -8],\n",
       "       [ -7,  -6,  -5],\n",
       "       [ -4,  -3,  -2]])"
      ]
     },
     "execution_count": 7,
     "metadata": {},
     "output_type": "execute_result"
    }
   ],
   "source": [
    "from tensorflow.keras.layers import MaxPooling2D\n",
    "input_ar = np.arange(-10,-1).reshape(3,3)\n",
    "input_ar"
   ]
  },
  {
   "cell_type": "code",
   "execution_count": 14,
   "id": "cb08e4cb",
   "metadata": {},
   "outputs": [
    {
     "name": "stdout",
     "output_type": "stream",
     "text": [
      "shape = (1, 2, 2, 1)\n",
      "tf.Tensor(\n",
      "[[[[-6]\n",
      "   [-5]]\n",
      "\n",
      "  [[-3]\n",
      "   [-2]]]], shape=(1, 2, 2, 1), dtype=int32)\n",
      "(2, 2)\n"
     ]
    }
   ],
   "source": [
    "#2 3*3 2차원 배열을 케라스 모델용 4차원 배열로 변환\n",
    "input_ar = input_ar.reshape(1,3,3,1)\n",
    "\n",
    "\n",
    "#3 단위레이어 Maxpooling2D를 구현해 보자.\n",
    "maxpool = MaxPooling2D(pool_size=(2,2),strides=(2,2),padding='same') #padding = 'same' : 상화 좌우 제로 패딩\n",
    "\n",
    "out_res = maxpool(input_ar)\n",
    "\n",
    "print(f'shape = {out_res.shape}')\n",
    "print(out_res)\n",
    "\n",
    "#텐서를 numpy 배열로 변환해서 출력 해보자 \n",
    "out_np = out_res.numpy().reshape(2,2)\n",
    "print(out_np.shape)"
   ]
  },
  {
   "cell_type": "code",
   "execution_count": 22,
   "id": "6eae130d",
   "metadata": {},
   "outputs": [
    {
     "name": "stdout",
     "output_type": "stream",
     "text": [
      "[[ 20.  30.]\n",
      " [112.  37.]]\n"
     ]
    }
   ],
   "source": [
    "\n",
    "input_metrix = tf.constant([[12,20,30,0],\n",
    "                            [8,12,2,0],\n",
    "                            [34,70,37,4],\n",
    "                            [112,100,25,12]],dtype = tf.float32)\n",
    "\n",
    "#reshape(batch_size 하나의 이미지 1 , height,width,channels) #흑백 채널의 단일 채널 데이터\n",
    "input_matrix_reshaped = tf.reshape(input_metrix,[1,4,4,1]) #4차원 텐서\n",
    "\n",
    "max_pool = MaxPooling2D(pool_size=(2,2),strides=(2,2),padding='valid')\n",
    "max_pool_output = max_pool(input_matrix_reshaped)\n",
    "\n",
    "print(max_pool_output.numpy().reshape(2,2))"
   ]
  },
  {
   "cell_type": "code",
   "execution_count": 32,
   "id": "cc4e66e1",
   "metadata": {},
   "outputs": [
    {
     "data": {
      "text/plain": [
       "TensorShape([4, 4])"
      ]
     },
     "execution_count": 32,
     "metadata": {},
     "output_type": "execute_result"
    }
   ],
   "source": [
    "input_metrix.shape"
   ]
  },
  {
   "cell_type": "code",
   "execution_count": 23,
   "id": "11a5434f",
   "metadata": {},
   "outputs": [
    {
     "name": "stdout",
     "output_type": "stream",
     "text": [
      "[[13.   8. ]\n",
      " [79.  19.5]]\n"
     ]
    }
   ],
   "source": [
    "from tensorflow.keras.layers import AveragePooling2D\n",
    "\n",
    "max_pool = AveragePooling2D(pool_size=(2,2),strides=(2,2),padding='valid')\n",
    "max_pool_output = max_pool(input_matrix_reshaped)\n",
    "\n",
    "print(max_pool_output.numpy().reshape(2,2))"
   ]
  },
  {
   "cell_type": "code",
   "execution_count": 26,
   "id": "c42d8d6c",
   "metadata": {},
   "outputs": [
    {
     "name": "stdout",
     "output_type": "stream",
     "text": [
      "[[112.]]\n"
     ]
    }
   ],
   "source": [
    "from tensorflow.keras.layers import GlobalMaxPooling2D\n",
    "\n",
    "\n",
    "max_pool = GlobalMaxPooling2D()\n",
    "max_pool_output = max_pool(input_matrix_reshaped)\n",
    "\n",
    "print(max_pool_output.numpy())"
   ]
  },
  {
   "cell_type": "code",
   "execution_count": 28,
   "id": "76c55547",
   "metadata": {},
   "outputs": [
    {
     "name": "stdout",
     "output_type": "stream",
     "text": [
      "[[29.875]]\n"
     ]
    }
   ],
   "source": [
    "from tensorflow.keras.layers import GlobalAveragePooling2D\n",
    "\n",
    "glob_avg_pool = GlobalAveragePooling2D()\n",
    "max_pool_output = glob_avg_pool(input_matrix_reshaped)\n",
    "\n",
    "print(max_pool_output.numpy())"
   ]
  },
  {
   "cell_type": "markdown",
   "id": "fd2cce6d",
   "metadata": {},
   "source": [
    "### Q3)의 코드를 적용해서 'img/apple.jpg'를 서브샘플링 해보자"
   ]
  },
  {
   "cell_type": "code",
   "execution_count": 79,
   "id": "03c951e7",
   "metadata": {},
   "outputs": [
    {
     "name": "stdout",
     "output_type": "stream",
     "text": [
      "[[228. 253.]\n",
      " [253.  99.]]\n"
     ]
    }
   ],
   "source": [
    "from tensorflow.keras.layers import MaxPooling2D\n",
    "from tensorflow.keras.layers import GlobalMaxPooling2D\n",
    "from tensorflow.keras.layers import AveragePooling2D\n",
    "import cv2\n",
    "\n",
    "img = cv2.imread('img/apple.jpg',0)\n",
    "#height, width = img.shape[:2]\n",
    "img = cv2.resize(img,(4,4)) # w,h\n",
    "\n",
    "input_metrix = tf.constant(resize_img,dtype = tf.float32)\n",
    "\n",
    "input_matrix_reshaped = tf.reshape(input_metrix,[1,4,4,1])\n",
    "\n",
    "max_pool = MaxPooling2D(pool_size=(2,2),strides=(2,2),padding='valid')\n",
    "max_pool_output = max_pool(input_matrix_reshaped)\n",
    "\n",
    "print(max_pool_output.numpy().reshape(2,2))\n",
    "\n",
    "glob_max_pool = GlobalMaxPooling2D()\n",
    "glob_max_pool_output = glob_max_pool(input_matrix_reshaped)\n",
    "\n",
    "avg_pool = AveragePooling2D(pool_size=(2,2),strides=(2,2),padding='valid')\n",
    "avg_pool_output = avg_pool(input_matrix_reshaped)"
   ]
  },
  {
   "cell_type": "raw",
   "id": "9f19ff17",
   "metadata": {},
   "source": [
    "from tensorflow.keras.layers import MaxPooling2D\n",
    "import cv2\n",
    "\n",
    "img = cv2.imread('img/apple.jpg')\n",
    "img = cv2.cvtColor(img,cv2.COLOR_BGR2GRAY)\n",
    "height, width = img.shape[:2]\n",
    "img = cv2.resize(img,(4,4)) # w,h\n",
    "print(height,width)\n",
    "\n",
    "input_metrix = tf.constant(img,dtype = tf.float32)\n",
    "\n",
    "input_matrix_reshaped = tf.reshape(input_metrix,[1,height,width,1])\n",
    "\n",
    "max_pool = MaxPooling2D(pool_size=(2,2),strides=(2,2),padding='valid')\n",
    "max_pool_output = max_pool(input_matrix_reshaped)\n",
    "\n",
    "print(max_pool_output.numpy())"
   ]
  },
  {
   "cell_type": "code",
   "execution_count": 81,
   "id": "02057495",
   "metadata": {},
   "outputs": [
    {
     "data": {
      "image/png": "[encoded data removed]",
      "text/plain": [
       "<Figure size 640x480 with 4 Axes>"
      ]
     },
     "metadata": {},
     "output_type": "display_data"
    }
   ],
   "source": [
    "import matplotlib.pyplot as plt\n",
    "\n",
    "plt.subplot(1,4,1)\n",
    "plt.title('Original Inage')\n",
    "plt.imshow(img,cmap='gray')\n",
    "plt.axis('off')\n",
    "\n",
    "plt.subplot(1,4,2)\n",
    "plt.title('MaxPooling2D Inage')\n",
    "plt.imshow(tf.squeeze(max_pool_output),cmap='gray') #차원이 4차원인 내용을 2차원 줄인다\n",
    "plt.axis('off')\n",
    "\n",
    "plt.subplot(1,4,3)\n",
    "plt.title('GlobalMaxPooling2D Inage')\n",
    "plt.imshow(glob_max_pool_output,cmap='gray') #차원이 4차원인 내용을 2차원 줄인다\n",
    "plt.axis('off')\n",
    "\n",
    "plt.subplot(1,4,4)\n",
    "plt.title('AvgPooling2D Inage')\n",
    "plt.imshow(tf.squeeze(avg_pool_output),cmap='gray') #차원이 4차원인 내용을 2차원 줄인다\n",
    "plt.axis('off')\n",
    "\n",
    "plt.show()\n",
    "#tf.squeeze() 데이터 차원 간소화 , 모델에서 출력층,중간층의 결과 처리"
   ]
  },
  {
   "cell_type": "markdown",
   "id": "ff1bbe3f",
   "metadata": {},
   "source": [
    "### Q5) Conv2D 단일레이어 추가해보자"
   ]
  },
  {
   "cell_type": "raw",
   "id": "dc41ff41",
   "metadata": {},
   "source": [
    "tf.keras.layers.Conv2D(\n",
    "    filters,\n",
    "    kernel_size,\n",
    "    strides=(1, 1),\n",
    "    padding='valid',\n",
    "    data_format=None,\n",
    "    dilation_rate=(1, 1),\n",
    "    groups=1,\n",
    "    activation=None,\n",
    "    use_bias=True,\n",
    "    kernel_initializer='glorot_uniform',\n",
    "    bias_initializer='zeros',"
   ]
  },
  {
   "cell_type": "code",
   "execution_count": 115,
   "id": "6e88891e",
   "metadata": {},
   "outputs": [
    {
     "data": {
      "text/plain": [
       "TensorShape([4, 4])"
      ]
     },
     "execution_count": 115,
     "metadata": {},
     "output_type": "execute_result"
    }
   ],
   "source": [
    "input_metrix.shape"
   ]
  },
  {
   "cell_type": "code",
   "execution_count": 103,
   "id": "e7f5249d",
   "metadata": {},
   "outputs": [
    {
     "name": "stdout",
     "output_type": "stream",
     "text": [
      "(1, 2, 2, 1)\n",
      "tf.Tensor(\n",
      "[[[[ 52.]\n",
      "   [ 32.]]\n",
      "\n",
      "  [[316.]\n",
      "   [ 78.]]]], shape=(1, 2, 2, 1), dtype=float32)\n",
      "----------MaxPooling2D--------------------\n",
      "(1, 1, 1, 1)\n",
      "[316.]\n"
     ]
    }
   ],
   "source": [
    "from tensorflow.keras.layers import MaxPooling2D\n",
    "from tensorflow.keras.layers import GlobalMaxPooling2D\n",
    "from tensorflow.keras.layers import AveragePooling2D\n",
    "from tensorflow.keras.layers import Conv2D\n",
    "import cv2\n",
    "\n",
    "input_metrix = tf.constant([[12,20,30,0],\n",
    "                            [8,12,2,0],\n",
    "                            [34,70,37,4],\n",
    "                            [112,100,25,12]],dtype = tf.float32)\n",
    "#reshape(batch_size 하나의 이미지 1 , height,width,channels) #흑백 채널의 단일 채널 데이터\n",
    "input_matrix_reshaped = tf.reshape(input_metrix,[1,4,4,1]) #4차원 텐서\n",
    "\n",
    "#Conv2D 적용\n",
    "conv_2d = Conv2D( \n",
    "    filters = 1, #출력의 차원 수\n",
    "    kernel_size=(2,2), #필터 크기 -> 컨볼루션에 사용\n",
    "    strides=(2, 2),\n",
    "    padding='same', #입,출력 이미지와 동일한 크기를 가지도록 주변 패딩을 주겠다.   \n",
    "    activation=None,\n",
    "    use_bias=False,\n",
    "    kernel_initializer='ones'  #커널의 초기 값을 모두 1로 지정하곘다.\n",
    "    )\n",
    "out_res = conv_2d(input_matrix_reshaped)\n",
    "print(out_res.shape)\n",
    "print(out_res) #kernel_size = (2,2) 입력 데이터의 각 2*2 패치의 합을 계산\n",
    "\n",
    "max_pool = MaxPooling2D(pool_size=(2,2),strides=(1,1),padding='valid')\n",
    "max_pool_output = max_pool(out_res)\n",
    "\n",
    "print('----------MaxPooling2D--------------------')\n",
    "print(max_pool_output.shape)\n",
    "print(max_pool_output.numpy().reshape(-1)) \n",
    "\n",
    "#padding = 'valid' 입력데이터 크기가 폴링윈도우 크기로 나누어서 떨어지지 않을 경우\n",
    "# 폴링 윈도우가 완전히 맞지 않은 마지막 부분은 무신된다\n",
    "# 추가적인 패딩은 사용되지 않고, 입력 데이터의 실제 경계 내에서만 폴링 연산 수행하곘다"
   ]
  },
  {
   "cell_type": "code",
   "execution_count": 97,
   "id": "b28025f9",
   "metadata": {},
   "outputs": [
    {
     "name": "stdout",
     "output_type": "stream",
     "text": [
      "[[12 20]\n",
      " [ 8 12]]\n"
     ]
    }
   ],
   "source": [
    "a= np.array([[12,20],\n",
    "             [8,12]\n",
    "            ])\n",
    "\n",
    "b= np.array([[1,1],\n",
    "             [1,1]\n",
    "            ])\n",
    "\n",
    "c = a* b\n",
    "print(c) #합 52"
   ]
  },
  {
   "cell_type": "raw",
   "id": "b1cec9c9",
   "metadata": {},
   "source": [
    "<< Conv2D 레이어 기능 >>\n",
    "\n",
    "1. 특징 추출 : 가장자리,모서리 , 질감등 자동 추출하는데 학습하고 사용\n",
    "2. 차원 축소 : 입력이미지 차원축소 -> net 파라미터 수가 축소 -> 계산 효율 -> 과적합 방지\n",
    "3. 공간 계층 구조 : 이미지 공간계층을 이용해서 저수준,고수준 추상 특징 추출 용이\n",
    "4. 파라미터 공유 :  같은 커널을 이미지의 모든 위치에 적용\n",
    "5. 이동불변성 : 이미지 내의 객체의 위치가 달라져도 동일한 특징을 인식할 수 있다. 이미지 분류,객체 감지"
   ]
  },
  {
   "cell_type": "markdown",
   "id": "c5232455",
   "metadata": {},
   "source": [
    "### Q6) CNN pdf 4 코드 작성해 보자\n",
    "Conv2D,Dense 파라미터 수\n",
    "- Conv2D : (kernel_height * kernel_weight * input_channes + 1) * filters(+1 바이어스)\n",
    "- Dense : (input_units +1) * output_units (+1 바이어스)"
   ]
  },
  {
   "cell_type": "code",
   "execution_count": 108,
   "id": "b5e50ef5",
   "metadata": {},
   "outputs": [],
   "source": [
    "from keras.models import Sequential\n",
    "from tensorflow.keras.layers import Conv2D\n",
    "from tensorflow.keras.layers import MaxPooling2D\n",
    "from tensorflow.keras.layers import Flatten\n",
    "from tensorflow.keras.layers import Dense"
   ]
  },
  {
   "cell_type": "code",
   "execution_count": 113,
   "id": "1568f970",
   "metadata": {},
   "outputs": [],
   "source": [
    "model = Sequential()\n",
    "\n",
    "#12필터, 각필터 크기 5*5, 음수를 0, 120*60 사이즈 채널 1\n",
    "# (5*5*1+1)*12 = 312 파라미터\n",
    "model.add(Conv2D(12,kernel_size=(5,5),activation = 'relu',input_shape=(120,60,1))) \n",
    "model.add(MaxPooling2D(pool_size=(2,2))) #특징 맵 크기는 축소\n",
    "\n",
    "# (5*5*12+1)*16  = 4816파라미터 (이전의 레이어의 필터 수가 입력 채널 수로 사용된다)\n",
    "model.add(Conv2D(16,kernel_size=(5,5),activation = 'relu'))\n",
    "model.add(MaxPooling2D(pool_size=(2,2))) #특징 맵 크기는 축소\n",
    "\n",
    "# (4*4*16+1)*20  = 5140파라미터\n",
    "model.add(Conv2D(20,kernel_size=(4,4),activation = 'relu'))\n",
    "model.add(MaxPooling2D(pool_size=(2,2))) #특징 맵 크기는 축소\n",
    "\n",
    "model.add(Flatten()) #이전 레이어의 특징맵을 1차원 벡터로 변환\n",
    "model.add(Dense(128,activation='relu'))\n",
    "model.add(Dense(4,activation='softmax'))"
   ]
  },
  {
   "cell_type": "code",
   "execution_count": 114,
   "id": "714cc79c",
   "metadata": {},
   "outputs": [
    {
     "name": "stdout",
     "output_type": "stream",
     "text": [
      "Model: \"sequential_4\"\n",
      "_________________________________________________________________\n",
      " Layer (type)                Output Shape              Param #   \n",
      "=================================================================\n",
      " conv2d_23 (Conv2D)          (None, 116, 56, 12)       312       \n",
      "                                                                 \n",
      " max_pooling2d_45 (MaxPooli  (None, 58, 28, 12)        0         \n",
      " ng2D)                                                           \n",
      "                                                                 \n",
      " conv2d_24 (Conv2D)          (None, 54, 24, 16)        4816      \n",
      "                                                                 \n",
      " max_pooling2d_46 (MaxPooli  (None, 27, 12, 16)        0         \n",
      " ng2D)                                                           \n",
      "                                                                 \n",
      " conv2d_25 (Conv2D)          (None, 24, 9, 20)         5140      \n",
      "                                                                 \n",
      " max_pooling2d_47 (MaxPooli  (None, 12, 4, 20)         0         \n",
      " ng2D)                                                           \n",
      "                                                                 \n",
      " flatten_4 (Flatten)         (None, 960)               0         \n",
      "                                                                 \n",
      " dense_4 (Dense)             (None, 128)               123008    \n",
      "                                                                 \n",
      " dense_5 (Dense)             (None, 4)                 516       \n",
      "                                                                 \n",
      "=================================================================\n",
      "Total params: 133792 (522.62 KB)\n",
      "Trainable params: 133792 (522.62 KB)\n",
      "Non-trainable params: 0 (0.00 Byte)\n",
      "_________________________________________________________________\n"
     ]
    }
   ],
   "source": [
    "model.summary()"
   ]
  },
  {
   "cell_type": "code",
   "execution_count": null,
   "id": "3d44897e",
   "metadata": {},
   "outputs": [],
   "source": []
  }
 ],
 "metadata": {
  "kernelspec": {
   "display_name": "Python 3 (ipykernel)",
   "language": "python",
   "name": "python3"
  },
  "language_info": {
   "codemirror_mode": {
    "name": "ipython",
    "version": 3
   },
   "file_extension": ".py",
   "mimetype": "text/x-python",
   "name": "python",
   "nbconvert_exporter": "python",
   "pygments_lexer": "ipython3",
   "version": "3.11.5"
  }
 },
 "nbformat": 4,
 "nbformat_minor": 5
}
