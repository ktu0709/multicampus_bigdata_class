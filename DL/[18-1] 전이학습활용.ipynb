{
 "cells": [
  {
   "cell_type": "raw",
   "id": "752e19e8",
   "metadata": {},
   "source": [
    "<< ResNet50와  cifar10을 사용해서 모델 학습을 해보자  >> \n",
    "from tensorflow.keras.applications import ResNet50\n",
    "model = ResNet50(weights='imagenet') \n"
   ]
  },
  {
   "cell_type": "code",
   "execution_count": null,
   "id": "2259073f",
   "metadata": {},
   "outputs": [],
   "source": [
    "import numpy as np\n",
    "import matplotlib.pyplot as plt\n",
    "\n",
    "from tensorflow.keras.applications import ResNet50\n",
    "\n",
    "from tensorflow.keras.models import Sequential\n",
    "from tensorflow.keras.layers import Dense, Flatten\n",
    "from tensorflow.keras.datasets import cifar10\n",
    "from tensorflow.keras.utils import to_categorical\n",
    "\n",
    "\n",
    "from tensorflow.keras.preprocessing import image\n",
    "from tensorflow.keras.applications.resnet50 import preprocess_input, decode_predictions"
   ]
  },
  {
   "cell_type": "code",
   "execution_count": null,
   "id": "9390c5fb",
   "metadata": {},
   "outputs": [],
   "source": [
    "#1 데이터 로드  \n",
    "(train_images, train_labels), (test_images, test_labels) = cifar10.load_data()\n",
    "\n",
    "#2 데이터 축소   : [ : 1000] 학습용 데이터 1000,  테스트 500개  \n",
    "train_images = train_images[:1000] \n",
    "test_images = test_images[:500]\n",
    "train_labels = to_categorical(train_labels[:1000], 10)\n",
    "test_labels = to_categorical(test_labels[:500], 10)\n",
    "\n",
    "#3  ResNet50  모델 사용, 전체  레이어 동결\n",
    "base_model = ResNet50(weights='imagenet', include_top=False, input_shape=(32, 32, 3))\n",
    "\n",
    "for layer in base_model.layers:\n",
    "    layer.trainable = False\n",
    "    \n",
    "#4. 분류기 추가. \n",
    "model = Sequential([\n",
    "    base_model,\n",
    "    Flatten(),\n",
    "    Dense(512, activation='relu'),\n",
    "    Dense(10, activation='softmax')\n",
    "])\n",
    "\n",
    "#model.summary()\n",
    "#5. 모델 컴파일 \n",
    "model.compile(optimizer='adam', loss='categorical_crossentropy', metrics=['accuracy'])\n",
    "\n",
    "#6. 학습  batch_size  = 32, epochs= 3 \n",
    "model.fit(train_images, train_labels, batch_size=32, epochs=3, validation_split=0.1)\n",
    "\n",
    "#7. 평가  \n",
    "loss, accuracy = model.evaluate(test_images, test_labels)\n",
    "print(f'Test loss: {loss}, Test accuracy: {accuracy}')\n"
   ]
  },
  {
   "cell_type": "code",
   "execution_count": null,
   "id": "d9594b56",
   "metadata": {},
   "outputs": [],
   "source": [
    "#8.예측\n",
    "img = image.load_img('img/th.jpg', target_size=(253, 253))  # ResNet50에 맞는 크기로 조정\n",
    "x = image.img_to_array(img)\n",
    "x = np.expand_dims(x , axis=0)  \n",
    "x = preprocess_input(x) \n",
    "\n",
    "class_labels = ['airplane', 'automobile', 'bird', 'cat', 'deer', 'dog', 'frog', 'horse', 'ship', 'truck']\n",
    "\n",
    "predicted_class_indices = np.argmax(predictions, axis=1)\n",
    "\n",
    "predicted_class_names = [class_labels[i] for i in predicted_class_indices]\n",
    "\n",
    "print('Predicted class:', predicted_class_names[0])"
   ]
  },
  {
   "cell_type": "code",
   "execution_count": null,
   "id": "6ab4d2cd",
   "metadata": {},
   "outputs": [],
   "source": []
  }
 ],
 "metadata": {
  "kernelspec": {
   "display_name": "Python 3 (ipykernel)",
   "language": "python",
   "name": "python3"
  },
  "language_info": {
   "codemirror_mode": {
    "name": "ipython",
    "version": 3
   },
   "file_extension": ".py",
   "mimetype": "text/x-python",
   "name": "python",
   "nbconvert_exporter": "python",
   "pygments_lexer": "ipython3",
   "version": "3.11.5"
  }
 },
 "nbformat": 4,
 "nbformat_minor": 5
}
