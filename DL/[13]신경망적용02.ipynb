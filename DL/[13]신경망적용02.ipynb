{
 "cells": [
  {
   "cell_type": "markdown",
   "id": "01eeb5fa",
   "metadata": {},
   "source": [
    "#### << tf.keras.datasets.fashion_mnist.load_data를 모델을 적용해보자 >>\n",
    "1) 28*28 픽셀을 가진 0~9까지 레이블과 이미지로 구성되었다\n",
    "2) 10,000 개의 테스트 데이터 ,60,000개의 학습 데이터 구성되었다\n",
    "3) 정규화 ,원핫인코딩\n",
    "4) 모델을 생성 : 차원변환 28,28 -> 1차원 변환, 레이어 3개층 , relu(0~1) , softmax\n",
    "   - softmax : 클래스 분류할때 확률로 변환해서 사용하는 함수 , 각 점수 벡터에 지수를 구한다음 정수상수로 나누어 총합을  1로 만든다"
   ]
  },
  {
   "cell_type": "code",
   "execution_count": 1,
   "id": "f63ecd17",
   "metadata": {},
   "outputs": [
    {
     "name": "stdout",
     "output_type": "stream",
     "text": [
      "WARNING:tensorflow:From C:\\Users\\taeeon.kim\\AppData\\Roaming\\Python\\Python311\\site-packages\\keras\\src\\losses.py:2976: The name tf.losses.sparse_softmax_cross_entropy is deprecated. Please use tf.compat.v1.losses.sparse_softmax_cross_entropy instead.\n",
      "\n"
     ]
    }
   ],
   "source": [
    "import tensorflow as tf \n",
    "import keras"
   ]
  },
  {
   "cell_type": "code",
   "execution_count": 2,
   "id": "e20f4d88",
   "metadata": {},
   "outputs": [],
   "source": [
    "fashion_mnist = tf.keras.datasets.fashion_mnist\n",
    "(x_train, y_train), (x_test, y_test) =  keras.datasets.mnist.load_data()"
   ]
  },
  {
   "cell_type": "code",
   "execution_count": 3,
   "id": "17544d25",
   "metadata": {},
   "outputs": [],
   "source": [
    "#데이터 전처리 (정규화)\n",
    "x_train,x_test = x_train/255.0 , x_test/255.0"
   ]
  },
  {
   "cell_type": "code",
   "execution_count": 4,
   "id": "c6e7100d",
   "metadata": {},
   "outputs": [
    {
     "data": {
      "text/plain": [
       "(((60000, 28, 28), (60000,)), ((10000, 28, 28), (10000,)))"
      ]
     },
     "execution_count": 4,
     "metadata": {},
     "output_type": "execute_result"
    }
   ],
   "source": [
    "(x_train.shape, y_train.shape), (x_test.shape, y_test.shape)"
   ]
  },
  {
   "cell_type": "code",
   "execution_count": 5,
   "id": "ed85746c",
   "metadata": {},
   "outputs": [
    {
     "name": "stdout",
     "output_type": "stream",
     "text": [
      "WARNING:tensorflow:From C:\\Users\\taeeon.kim\\AppData\\Roaming\\Python\\Python311\\site-packages\\keras\\src\\backend.py:873: The name tf.get_default_graph is deprecated. Please use tf.compat.v1.get_default_graph instead.\n",
      "\n",
      "WARNING:tensorflow:From C:\\Users\\taeeon.kim\\AppData\\Roaming\\Python\\Python311\\site-packages\\keras\\src\\optimizers\\__init__.py:309: The name tf.train.Optimizer is deprecated. Please use tf.compat.v1.train.Optimizer instead.\n",
      "\n",
      "Model: \"sequential\"\n",
      "_________________________________________________________________\n",
      " Layer (type)                Output Shape              Param #   \n",
      "=================================================================\n",
      " flatten (Flatten)           (None, 784)               0         \n",
      "                                                                 \n",
      " dense (Dense)               (None, 1000)              785000    \n",
      "                                                                 \n",
      " dense_1 (Dense)             (None, 10)                10010     \n",
      "                                                                 \n",
      "=================================================================\n",
      "Total params: 795010 (3.03 MB)\n",
      "Trainable params: 795010 (3.03 MB)\n",
      "Non-trainable params: 0 (0.00 Byte)\n",
      "_________________________________________________________________\n"
     ]
    }
   ],
   "source": [
    "model = tf.keras.Sequential([\n",
    "        tf.keras.layers.Flatten(input_shape=(28,28)),\n",
    "        tf.keras.layers.Dense(1000,activation='relu'),\n",
    "        tf.keras.layers.Dense(10,activation='softmax'),\n",
    "        ])\n",
    "\n",
    "optimizer = tf.keras.optimizers.Adam(learning_rate=0.001)\n",
    "\n",
    "model.compile(optimizer = 'adam', loss = 'sparse_categorical_crossentropy', metrics = ['accuracy']) \n",
    "model.summary()"
   ]
  },
  {
   "cell_type": "code",
   "execution_count": 6,
   "id": "67f09fac",
   "metadata": {},
   "outputs": [
    {
     "name": "stdout",
     "output_type": "stream",
     "text": [
      "Epoch 1/10\n",
      "WARNING:tensorflow:From C:\\Users\\taeeon.kim\\AppData\\Roaming\\Python\\Python311\\site-packages\\keras\\src\\utils\\tf_utils.py:492: The name tf.ragged.RaggedTensorValue is deprecated. Please use tf.compat.v1.ragged.RaggedTensorValue instead.\n",
      "\n",
      "WARNING:tensorflow:From C:\\Users\\taeeon.kim\\AppData\\Roaming\\Python\\Python311\\site-packages\\keras\\src\\engine\\base_layer_utils.py:384: The name tf.executing_eagerly_outside_functions is deprecated. Please use tf.compat.v1.executing_eagerly_outside_functions instead.\n",
      "\n",
      "600/600 [==============================] - 5s 7ms/step - loss: 0.2220 - accuracy: 0.9359 - val_loss: 0.1028 - val_accuracy: 0.9693\n",
      "Epoch 2/10\n",
      "600/600 [==============================] - 4s 7ms/step - loss: 0.0832 - accuracy: 0.9744 - val_loss: 0.0853 - val_accuracy: 0.9738\n",
      "Epoch 3/10\n",
      "600/600 [==============================] - 4s 6ms/step - loss: 0.0527 - accuracy: 0.9837 - val_loss: 0.0676 - val_accuracy: 0.9779\n",
      "Epoch 4/10\n",
      "600/600 [==============================] - 4s 6ms/step - loss: 0.0345 - accuracy: 0.9892 - val_loss: 0.0652 - val_accuracy: 0.9792\n",
      "Epoch 5/10\n",
      "600/600 [==============================] - 4s 7ms/step - loss: 0.0249 - accuracy: 0.9929 - val_loss: 0.0642 - val_accuracy: 0.9798\n",
      "Epoch 6/10\n",
      "600/600 [==============================] - 4s 6ms/step - loss: 0.0190 - accuracy: 0.9946 - val_loss: 0.0720 - val_accuracy: 0.9791\n",
      "Epoch 7/10\n",
      "600/600 [==============================] - 4s 7ms/step - loss: 0.0141 - accuracy: 0.9961 - val_loss: 0.0722 - val_accuracy: 0.9802\n",
      "Epoch 8/10\n",
      "600/600 [==============================] - 4s 7ms/step - loss: 0.0128 - accuracy: 0.9961 - val_loss: 0.0691 - val_accuracy: 0.9813\n",
      "Epoch 9/10\n",
      "600/600 [==============================] - 4s 7ms/step - loss: 0.0114 - accuracy: 0.9962 - val_loss: 0.0699 - val_accuracy: 0.9810\n",
      "Epoch 10/10\n",
      "600/600 [==============================] - 4s 6ms/step - loss: 0.0073 - accuracy: 0.9978 - val_loss: 0.0734 - val_accuracy: 0.9805\n",
      "fit_time : 40.53099870681763\n"
     ]
    }
   ],
   "source": [
    "#모델 실행\n",
    "import time\n",
    "start_time = time.time()\n",
    "history = model.fit(x_train, y_train , epochs =10, batch_size= 100, validation_data=(x_test,y_test))\n",
    "print(f'fit_time : {time.time()-start_time}')"
   ]
  },
  {
   "cell_type": "code",
   "execution_count": 7,
   "id": "9b998ada",
   "metadata": {},
   "outputs": [],
   "source": [
    "import matplotlib.pyplot as plt"
   ]
  },
  {
   "cell_type": "raw",
   "id": "ed6a5935",
   "metadata": {},
   "source": [
    "import matplotlib.pyplot as plt\n",
    "plt_res = ['loss','accuracy','val_loss','val_accuracy']\n",
    "plt.figure(figsize =(12,8))\n",
    "\n",
    "for each in plt_res:\n",
    "    plt.plot(history.history[each],label=each)\n",
    "    \n",
    "plt.legend()\n",
    "plt.grid()\n",
    "plt.show()\n"
   ]
  },
  {
   "cell_type": "code",
   "execution_count": 8,
   "id": "870006bc",
   "metadata": {},
   "outputs": [
    {
     "name": "stdout",
     "output_type": "stream",
     "text": [
      "313/313 [==============================] - 1s 2ms/step - loss: 0.0734 - accuracy: 0.9805\n"
     ]
    }
   ],
   "source": [
    "score = model.evaluate(x_test,y_test)"
   ]
  },
  {
   "cell_type": "code",
   "execution_count": 9,
   "id": "d74e5745",
   "metadata": {},
   "outputs": [
    {
     "name": "stdout",
     "output_type": "stream",
     "text": [
      "313/313 [==============================] - 1s 1ms/step\n",
      "예측 : [7 2 1 0 4 1 4 9 5 9]\n",
      "실제 값 : [7 2 1 0 4 1 4 9 5 9]\n"
     ]
    }
   ],
   "source": [
    "import numpy as np\n",
    "\n",
    "res = model.predict(x_test)\n",
    "res_label = np.argmax(res,axis=1)\n",
    "\n",
    "print(f'예측 : {res_label[:10]}')\n",
    "print(f'실제 값 : {y_test[:10]}')"
   ]
  },
  {
   "cell_type": "code",
   "execution_count": 10,
   "id": "41886903",
   "metadata": {},
   "outputs": [
    {
     "name": "stdout",
     "output_type": "stream",
     "text": [
      "195\n"
     ]
    }
   ],
   "source": [
    "#8 잘못된 데이터를 찾아보자\n",
    "wrong_res = []\n",
    "\n",
    "for n in range(0,len(y_test)):\n",
    "    if res_label[n] != y_test[n]:\n",
    "        wrong_res.append(res_label[n])\n",
    "print(len(wrong_res))"
   ]
  },
  {
   "cell_type": "code",
   "execution_count": 11,
   "id": "cae0ed34",
   "metadata": {},
   "outputs": [
    {
     "data": {
      "image/png": "[encoded data removed]",
      "text/plain": [
       "<Figure size 1200x800 with 16 Axes>"
      ]
     },
     "metadata": {},
     "output_type": "display_data"
    }
   ],
   "source": [
    "#잘못된 데이터의 개수를 확인하고 임의 추출해서 그래프로 다시 확인 해보자\n",
    "import random\n",
    "test = random.choices(wrong_res,k=16)\n",
    "\n",
    "plt.figure(figsize =(12,8))\n",
    "\n",
    "for idx,n in enumerate(test):\n",
    "    plt.subplot(4,4,idx+1)\n",
    "    plt.imshow(x_test[n].reshape(28,28) , cmap='Greys',interpolation = 'nearest')\n",
    "    plt.title('Label :'+str(y_test[n]) + ' predict : ' + str(res_label[n]))\n",
    "    plt.axis('off')"
   ]
  },
  {
   "cell_type": "code",
   "execution_count": 12,
   "id": "428e99c0",
   "metadata": {},
   "outputs": [],
   "source": [
    "#정답률이 너무 낮다 개선점을 찾자 _전처리에서 정규화 -> 모형변경 -> 활성화 함수 변경 -> 최적화 학습률조정\n"
   ]
  },
  {
   "cell_type": "code",
   "execution_count": null,
   "id": "a86c64f2",
   "metadata": {},
   "outputs": [],
   "source": []
  },
  {
   "cell_type": "code",
   "execution_count": null,
   "id": "3c1849c2",
   "metadata": {},
   "outputs": [],
   "source": []
  }
 ],
 "metadata": {
  "kernelspec": {
   "display_name": "Python 3 (ipykernel)",
   "language": "python",
   "name": "python3"
  },
  "language_info": {
   "codemirror_mode": {
    "name": "ipython",
    "version": 3
   },
   "file_extension": ".py",
   "mimetype": "text/x-python",
   "name": "python",
   "nbconvert_exporter": "python",
   "pygments_lexer": "ipython3",
   "version": "3.11.5"
  }
 },
 "nbformat": 4,
 "nbformat_minor": 5
}
