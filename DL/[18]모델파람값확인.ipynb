{
 "cells": [
  {
   "cell_type": "raw",
   "id": "d1ef45b0",
   "metadata": {},
   "source": [
    "<< 모델 객체 및 레이어 속성 : tf.keras.applications.VGG16  >> \n",
    "\n",
    "1) 이름으로 레이어 객체  리턴  :model.get_layer(name , index).name  \n",
    "\n",
    "2) 인덱스로 레이어 객체 리턴  : model.get_layer(name , index)  , model.layers[index].name, model.layers\n",
    "\n",
    "3) 레이어 객체의 속성 및 메소드 : tf.keras.layers.Layer의 하위 클래스들을 확인 \n",
    "\n",
    "4) 조건을 만족하는 레이어 오브젝트 리턴, 설정 값 변경  \n",
    "\n",
    "5) 모델이나 레이어의 가중치(커널의 가중치)나 바이어스 등의 파라미터 값을 리턴 \n",
    "   5-1.  레이어 파라미터(가중치, 바이어스) :   get_weights() , weights속성, trainable_weights, non_trainable_weights\n",
    "     , kernel, bias속성\n",
    "    \n",
    "   5-2.모델 :    get_weights() , weights속성\n",
    "   \n",
    "   5-3. CNN 필터(커널)의 가중치 및 시각화      \n",
    "\n",
    "\n",
    "*전이학습을 통해서 사용자 모델을 만들고 콜백 핸들러 함수 및 객체를 통해서 튜닝을 할 수 있다. \n",
    "CNN , RNN, LSTM_자연어, AE   ->  (GAN, UNET) \n",
    "\n",
    "tf.keras.applications.vgg16.VGG16(\n",
    "    include_top=True,\n",
    "    weights='imagenet',\n",
    "    input_tensor=None,\n",
    "    input_shape=None,\n",
    "    pooling=None,\n",
    "    classes=1000,\n",
    "    classifier_activation='softmax'\n",
    ")"
   ]
  },
  {
   "cell_type": "code",
   "execution_count": 1,
   "id": "d610f5c8",
   "metadata": {},
   "outputs": [
    {
     "name": "stdout",
     "output_type": "stream",
     "text": [
      "WARNING:tensorflow:From C:\\Users\\taeeon.kim\\AppData\\Roaming\\Python\\Python311\\site-packages\\keras\\src\\losses.py:2976: The name tf.losses.sparse_softmax_cross_entropy is deprecated. Please use tf.compat.v1.losses.sparse_softmax_cross_entropy instead.\n",
      "\n"
     ]
    }
   ],
   "source": [
    "#Q1)  학습된 모델 확인 tf.keras.applications.VGG16\n",
    "import tensorflow as tf\n",
    "import pprint "
   ]
  },
  {
   "cell_type": "code",
   "execution_count": 2,
   "id": "7b780853",
   "metadata": {},
   "outputs": [
    {
     "name": "stdout",
     "output_type": "stream",
     "text": [
      "WARNING:tensorflow:From C:\\Users\\taeeon.kim\\AppData\\Roaming\\Python\\Python311\\site-packages\\keras\\src\\backend.py:1398: The name tf.executing_eagerly_outside_functions is deprecated. Please use tf.compat.v1.executing_eagerly_outside_functions instead.\n",
      "\n",
      "WARNING:tensorflow:From C:\\Users\\taeeon.kim\\AppData\\Roaming\\Python\\Python311\\site-packages\\keras\\src\\layers\\pooling\\max_pooling2d.py:161: The name tf.nn.max_pool is deprecated. Please use tf.nn.max_pool2d instead.\n",
      "\n",
      "Model: \"vgg16\"\n",
      "_________________________________________________________________\n",
      " Layer (type)                Output Shape              Param #   \n",
      "=================================================================\n",
      " input_1 (InputLayer)        [(None, 224, 224, 3)]     0         \n",
      "                                                                 \n",
      " block1_conv1 (Conv2D)       (None, 224, 224, 64)      1792      \n",
      "                                                                 \n",
      " block1_conv2 (Conv2D)       (None, 224, 224, 64)      36928     \n",
      "                                                                 \n",
      " block1_pool (MaxPooling2D)  (None, 112, 112, 64)      0         \n",
      "                                                                 \n",
      " block2_conv1 (Conv2D)       (None, 112, 112, 128)     73856     \n",
      "                                                                 \n",
      " block2_conv2 (Conv2D)       (None, 112, 112, 128)     147584    \n",
      "                                                                 \n",
      " block2_pool (MaxPooling2D)  (None, 56, 56, 128)       0         \n",
      "                                                                 \n",
      " block3_conv1 (Conv2D)       (None, 56, 56, 256)       295168    \n",
      "                                                                 \n",
      " block3_conv2 (Conv2D)       (None, 56, 56, 256)       590080    \n",
      "                                                                 \n",
      " block3_conv3 (Conv2D)       (None, 56, 56, 256)       590080    \n",
      "                                                                 \n",
      " block3_pool (MaxPooling2D)  (None, 28, 28, 256)       0         \n",
      "                                                                 \n",
      " block4_conv1 (Conv2D)       (None, 28, 28, 512)       1180160   \n",
      "                                                                 \n",
      " block4_conv2 (Conv2D)       (None, 28, 28, 512)       2359808   \n",
      "                                                                 \n",
      " block4_conv3 (Conv2D)       (None, 28, 28, 512)       2359808   \n",
      "                                                                 \n",
      " block4_pool (MaxPooling2D)  (None, 14, 14, 512)       0         \n",
      "                                                                 \n",
      " block5_conv1 (Conv2D)       (None, 14, 14, 512)       2359808   \n",
      "                                                                 \n",
      " block5_conv2 (Conv2D)       (None, 14, 14, 512)       2359808   \n",
      "                                                                 \n",
      " block5_conv3 (Conv2D)       (None, 14, 14, 512)       2359808   \n",
      "                                                                 \n",
      " block5_pool (MaxPooling2D)  (None, 7, 7, 512)         0         \n",
      "                                                                 \n",
      " flatten (Flatten)           (None, 25088)             0         \n",
      "                                                                 \n",
      " fc1 (Dense)                 (None, 4096)              102764544 \n",
      "                                                                 \n",
      " fc2 (Dense)                 (None, 4096)              16781312  \n",
      "                                                                 \n",
      " predictions (Dense)         (None, 1000)              4097000   \n",
      "                                                                 \n",
      "=================================================================\n",
      "Total params: 138357544 (527.79 MB)\n",
      "Trainable params: 138357544 (527.79 MB)\n",
      "Non-trainable params: 0 (0.00 Byte)\n",
      "_________________________________________________________________\n"
     ]
    }
   ],
   "source": [
    "#1-1  모델 확인  \n",
    "model  = tf.keras.applications.VGG16( weights=None ) #CNN 구조를 가진 분류모델\n",
    "model.summary()"
   ]
  },
  {
   "cell_type": "code",
   "execution_count": 3,
   "id": "de8f04fa",
   "metadata": {},
   "outputs": [
    {
     "name": "stdout",
     "output_type": "stream",
     "text": [
      "<keras.src.layers.convolutional.conv2d.Conv2D object at 0x0000029457DFAE10>\n",
      "<class 'keras.src.layers.convolutional.conv2d.Conv2D'>\n"
     ]
    }
   ],
   "source": [
    "#1-2  모델의  name을 지정해서 레이어 대상의 오브젝트를  get_layer()로 리턴  \n",
    "res = model.get_layer('block4_conv1')\n",
    "print(res)\n",
    "print(type(res))"
   ]
  },
  {
   "cell_type": "code",
   "execution_count": 4,
   "id": "c5c20edd",
   "metadata": {},
   "outputs": [
    {
     "name": "stdout",
     "output_type": "stream",
     "text": [
      "<keras.src.layers.convolutional.conv2d.Conv2D object at 0x0000029457DFAE10>\n",
      "<class 'keras.src.layers.convolutional.conv2d.Conv2D'>\n",
      "True\n",
      "predictions\n",
      "fc1\n"
     ]
    }
   ],
   "source": [
    "#1-3 인덱스로 레이어 객체를 가지고 오자.  \n",
    "res01 = model.get_layer(index=11)\n",
    "print(res01)\n",
    "print(type(res01))\n",
    "print(res  is  res01 )\n",
    "\n",
    "#1-4  -인덱스도 사용해서 layers.name의 속성을 사용해 보자. \n",
    "print(model.get_layer(index = -1).name)\n",
    "print(model.get_layer(index = -3).name)"
   ]
  },
  {
   "cell_type": "code",
   "execution_count": 5,
   "id": "a7aa72b9",
   "metadata": {},
   "outputs": [
    {
     "name": "stdout",
     "output_type": "stream",
     "text": [
      "[<keras.src.engine.input_layer.InputLayer object at 0x000002945563A690>,\n",
      " <keras.src.layers.convolutional.conv2d.Conv2D object at 0x0000029457C90550>,\n",
      " <keras.src.layers.convolutional.conv2d.Conv2D object at 0x0000029457D677D0>,\n",
      " <keras.src.layers.pooling.max_pooling2d.MaxPooling2D object at 0x0000029457CA6B50>,\n",
      " <keras.src.layers.convolutional.conv2d.Conv2D object at 0x0000029455440C10>,\n",
      " <keras.src.layers.convolutional.conv2d.Conv2D object at 0x0000029457DCFCD0>,\n",
      " <keras.src.layers.pooling.max_pooling2d.MaxPooling2D object at 0x0000029455420710>,\n",
      " <keras.src.layers.convolutional.conv2d.Conv2D object at 0x0000029457CBA450>,\n",
      " <keras.src.layers.convolutional.conv2d.Conv2D object at 0x0000029457C92790>,\n",
      " <keras.src.layers.convolutional.conv2d.Conv2D object at 0x0000029457CA7990>,\n",
      " <keras.src.layers.pooling.max_pooling2d.MaxPooling2D object at 0x0000029457DA46D0>,\n",
      " <keras.src.layers.convolutional.conv2d.Conv2D object at 0x0000029457DFAE10>,\n",
      " <keras.src.layers.convolutional.conv2d.Conv2D object at 0x0000029457DF9FD0>,\n",
      " <keras.src.layers.convolutional.conv2d.Conv2D object at 0x0000029457D641D0>,\n",
      " <keras.src.layers.pooling.max_pooling2d.MaxPooling2D object at 0x0000029457DF9610>,\n",
      " <keras.src.layers.convolutional.conv2d.Conv2D object at 0x0000029457D65ED0>,\n",
      " <keras.src.layers.convolutional.conv2d.Conv2D object at 0x0000029457C906D0>,\n",
      " <keras.src.layers.convolutional.conv2d.Conv2D object at 0x000002945951BD90>,\n",
      " <keras.src.layers.pooling.max_pooling2d.MaxPooling2D object at 0x0000029457CA5950>,\n",
      " <keras.src.layers.reshaping.flatten.Flatten object at 0x0000029457CA4510>,\n",
      " <keras.src.layers.core.dense.Dense object at 0x000002945951BD50>,\n",
      " <keras.src.layers.core.dense.Dense object at 0x0000029459532CD0>,\n",
      " <keras.src.layers.core.dense.Dense object at 0x0000029455459250>]\n",
      "<class 'list'>\n",
      "<keras.src.layers.convolutional.conv2d.Conv2D object at 0x0000029457DFAE10>\n",
      "predictions\n",
      "fc1\n"
     ]
    }
   ],
   "source": [
    "#1-5  model.layers를 이용해서 모델이 가진 레이어 객체의 목록을 보자.  \n",
    "pprint.pprint(model.layers)\n",
    "print(type(model.layers))\n",
    "print(model.layers[11])\n",
    "\n",
    "print(model.layers[-1].name)\n",
    "print(model.layers[-3].name)"
   ]
  },
  {
   "cell_type": "code",
   "execution_count": 6,
   "id": "7e93eee5",
   "metadata": {},
   "outputs": [
    {
     "name": "stdout",
     "output_type": "stream",
     "text": [
      "<keras.src.layers.convolutional.conv2d.Conv2D object at 0x0000029457C90550>\n",
      "True\n"
     ]
    }
   ],
   "source": [
    "#Q2 ) 레이어 객체의 속성 및 메소드를 확인  \n",
    "#2-1 레이어 인스턴스를 확인 해보자. \n",
    "layer01 = model. get_layer(index =1)\n",
    "print(layer01)\n",
    "print(isinstance(layer01,tf.keras.layers.Layer ))"
   ]
  },
  {
   "cell_type": "code",
   "execution_count": 7,
   "id": "d8a6d52b",
   "metadata": {},
   "outputs": [
    {
     "name": "stdout",
     "output_type": "stream",
     "text": [
      "block1_conv1\n",
      "1792\n"
     ]
    }
   ],
   "source": [
    "#2-2 . name으로 레이어이름을 리턴하고 count_params() 메소드로 파라미터 수 리턴\n",
    "print(layer01.name)\n",
    "print(layer01.count_params())"
   ]
  },
  {
   "cell_type": "code",
   "execution_count": 8,
   "id": "f2286d87",
   "metadata": {},
   "outputs": [
    {
     "name": "stdout",
     "output_type": "stream",
     "text": [
      "True\n",
      "False\n"
     ]
    }
   ],
   "source": [
    "#2-3. trainable 속성으로 레이어를 학습 유(학습에 의한 값을 갱신할까), 무를 설정   \n",
    "#학습이 끝난 모델을 사용한 전이 학습에 있어서 원하는 레이어만 학습 유무를 지정할 때  사용  \n",
    "print(layer01.trainable)\n",
    "layer01.trainable = False\n",
    "print(layer01.trainable) "
   ]
  },
  {
   "cell_type": "code",
   "execution_count": 9,
   "id": "ccd5006a",
   "metadata": {},
   "outputs": [
    {
     "name": "stdout",
     "output_type": "stream",
     "text": [
      "new_lock1_conv1\n"
     ]
    }
   ],
   "source": [
    "#2-4 레이어 이름을 변경 해보자 . \n",
    "layer01._name = 'new_lock1_conv1'\n",
    "print(layer01.name)"
   ]
  },
  {
   "cell_type": "code",
   "execution_count": 10,
   "id": "343c73fc",
   "metadata": {},
   "outputs": [
    {
     "name": "stdout",
     "output_type": "stream",
     "text": [
      "[<keras.src.layers.pooling.max_pooling2d.MaxPooling2D object at 0x0000029457CA6B50>,\n",
      " <keras.src.layers.pooling.max_pooling2d.MaxPooling2D object at 0x0000029455420710>,\n",
      " <keras.src.layers.pooling.max_pooling2d.MaxPooling2D object at 0x0000029457DA46D0>,\n",
      " <keras.src.layers.pooling.max_pooling2d.MaxPooling2D object at 0x0000029457DF9610>,\n",
      " <keras.src.layers.pooling.max_pooling2d.MaxPooling2D object at 0x0000029457CA5950>]\n"
     ]
    }
   ],
   "source": [
    "#Q3)조건을 만족 하는 레이어 오브젝트 취득, 설정, 변경 \n",
    "#3-1. 리스트 객체를 사용해서 전체 레이어를 출력 조건추가  \n",
    "my_pool   =  [ l for l in model.layers if 'pool' in l.name] \n",
    "pprint.pprint(my_pool) "
   ]
  },
  {
   "cell_type": "code",
   "execution_count": 11,
   "id": "a2c8d1ce",
   "metadata": {},
   "outputs": [
    {
     "name": "stdout",
     "output_type": "stream",
     "text": [
      "[<keras.src.layers.pooling.max_pooling2d.MaxPooling2D object at 0x0000029457CA6B50>,\n",
      " <keras.src.layers.pooling.max_pooling2d.MaxPooling2D object at 0x0000029455420710>,\n",
      " <keras.src.layers.pooling.max_pooling2d.MaxPooling2D object at 0x0000029457DA46D0>,\n",
      " <keras.src.layers.pooling.max_pooling2d.MaxPooling2D object at 0x0000029457DF9610>,\n",
      " <keras.src.layers.pooling.max_pooling2d.MaxPooling2D object at 0x0000029457CA5950>]\n"
     ]
    }
   ],
   "source": [
    "#3-2 레이어의 종류를 클래스로 지정해서 추출 해보자. \n",
    "my_pool   =  [ l for l in model.layers if isinstance(l , tf.keras.layers.MaxPooling2D)    ] \n",
    "pprint.pprint(my_pool) "
   ]
  },
  {
   "cell_type": "code",
   "execution_count": 12,
   "id": "ca1abb46",
   "metadata": {},
   "outputs": [
    {
     "name": "stdout",
     "output_type": "stream",
     "text": [
      "[<keras.src.layers.pooling.max_pooling2d.MaxPooling2D object at 0x0000029457CA6B50>,\n",
      " <keras.src.layers.pooling.max_pooling2d.MaxPooling2D object at 0x0000029455420710>,\n",
      " <keras.src.layers.pooling.max_pooling2d.MaxPooling2D object at 0x0000029457DA46D0>,\n",
      " <keras.src.layers.pooling.max_pooling2d.MaxPooling2D object at 0x0000029457DF9610>,\n",
      " <keras.src.layers.pooling.max_pooling2d.MaxPooling2D object at 0x0000029457CA5950>,\n",
      " <keras.src.layers.core.dense.Dense object at 0x000002945951BD50>,\n",
      " <keras.src.layers.core.dense.Dense object at 0x0000029459532CD0>,\n",
      " <keras.src.layers.core.dense.Dense object at 0x0000029455459250>]\n"
     ]
    }
   ],
   "source": [
    "#3-3 레이어의 종류를 클래스를 여러개로  지정해서 추출 해보자. \n",
    "my_pool   =  [ l for l in model.layers if isinstance(l , (tf.keras.layers.MaxPooling2D,tf.keras.layers.Dense))] \n",
    "pprint.pprint(my_pool) "
   ]
  },
  {
   "cell_type": "code",
   "execution_count": 13,
   "id": "bd18b8af",
   "metadata": {},
   "outputs": [
    {
     "name": "stdout",
     "output_type": "stream",
     "text": [
      "[<keras.src.layers.pooling.max_pooling2d.MaxPooling2D object at 0x0000029457CA5950>,\n",
      " <keras.src.layers.reshaping.flatten.Flatten object at 0x0000029457CA4510>,\n",
      " <keras.src.layers.core.dense.Dense object at 0x000002945951BD50>,\n",
      " <keras.src.layers.core.dense.Dense object at 0x0000029459532CD0>,\n",
      " <keras.src.layers.core.dense.Dense object at 0x0000029455459250>]\n"
     ]
    }
   ],
   "source": [
    "#3-4. 범위를 지정해서 레이어를 리턴받을 수 있다. \n",
    "my_tail  = model.layers[-5:]\n",
    "pprint.pprint(my_tail)"
   ]
  },
  {
   "cell_type": "code",
   "execution_count": 14,
   "id": "9135c968",
   "metadata": {},
   "outputs": [],
   "source": [
    "#3-5.원하는 레이어의 학습 속성을 일괄적으로 변경하고 싶다.  \n",
    "for l in model.layers: \n",
    "    if isinstance(l,tf.keras.layers.Dense ):\n",
    "        l.trainable = False "
   ]
  },
  {
   "cell_type": "code",
   "execution_count": 15,
   "id": "b6effe79",
   "metadata": {},
   "outputs": [],
   "source": [
    "#3-6. 끝에서 5개의 레이어의 속성을 변경하고 싶다. \n",
    "for l in model.layers[-5:]:  \n",
    "    l.trainable = False "
   ]
  },
  {
   "cell_type": "code",
   "execution_count": 16,
   "id": "67cb0d2c",
   "metadata": {},
   "outputs": [
    {
     "name": "stdout",
     "output_type": "stream",
     "text": [
      "Model: \"sequential\"\n",
      "_________________________________________________________________\n",
      " Layer (type)                Output Shape              Param #   \n",
      "=================================================================\n",
      " L0_conv2d (Conv2D)          (None, 10, 10, 1)         10        \n",
      "                                                                 \n",
      " L1_flatten (Flatten)        (None, 100)               0         \n",
      "                                                                 \n",
      " L2_dense (Dense)            (None, 10)                1000      \n",
      "                                                                 \n",
      " L3_dense (Dense)            (None, 1)                 11        \n",
      "                                                                 \n",
      " batch_normalization (Batch  (None, 1)                 4         \n",
      " Normalization)                                                  \n",
      "                                                                 \n",
      "=================================================================\n",
      "Total params: 1025 (4.00 KB)\n",
      "Trainable params: 1023 (4.00 KB)\n",
      "Non-trainable params: 2 (8.00 Byte)\n",
      "_________________________________________________________________\n"
     ]
    }
   ],
   "source": [
    "#Q4) 임의의모델을 선언하자 .\n",
    "# Conv2D  ->Flatten -> Dense -> Dense -> BatchNormalization  \n",
    "model  = tf.keras.Sequential ([ \n",
    "          tf.keras.layers.Conv2D (1,(3,3), padding = 'same' , \n",
    "                       name = 'L0_conv2d' ,  input_shape = (10,10,1)),\n",
    "          tf.keras.layers.Flatten ( name = 'L1_flatten' ),\n",
    "          tf.keras.layers.Dense ( 10 , name = 'L2_dense' , use_bias = False ) , \n",
    "          tf.keras.layers.Dense ( 1 , name = 'L3_dense' ) ,\n",
    "          tf.keras.layers.BatchNormalization()])\n",
    "model.summary()"
   ]
  },
  {
   "cell_type": "code",
   "execution_count": 17,
   "id": "719d201f",
   "metadata": {},
   "outputs": [
    {
     "name": "stdout",
     "output_type": "stream",
     "text": [
      "<class 'list'> 2\n",
      "가중치  : [[ 0.572301  ]\n",
      " [ 0.5522792 ]\n",
      " [-0.22499406]\n",
      " [-0.26832846]\n",
      " [ 0.6033816 ]\n",
      " [ 0.45041972]\n",
      " [-0.30718997]\n",
      " [-0.11747164]\n",
      " [ 0.58362633]\n",
      " [ 0.00604779]]\n",
      "바이어스 : [0.]\n"
     ]
    }
   ],
   "source": [
    "#Q5) 모델의 레이어 파라미터  (가중치, 바이어스 ) 리턴을 받자  \n",
    "#5-1 get_weights()    \n",
    "layer02= model.layers[3]\n",
    "print( type(layer02.get_weights()) , len(layer02.get_weights()))\n",
    "layer02.get_weights()   #[커널의 가중치 , 바이어스 값  ]  -> 가중치는 무작위 초기값을 가진다. \n",
    "print('가중치  :',  layer02.get_weights()[0] )\n",
    "print('바이어스 :', layer02.get_weights()[1] )\n"
   ]
  },
  {
   "cell_type": "code",
   "execution_count": 18,
   "id": "bd795093",
   "metadata": {},
   "outputs": [
    {
     "name": "stdout",
     "output_type": "stream",
     "text": [
      "L0_conv2d \t 2\n",
      "L1_flatten \t 0\n",
      "L2_dense \t 1\n",
      "L3_dense \t 2\n",
      "batch_normalization \t 4\n"
     ]
    }
   ],
   "source": [
    "#5-2 전체 레이어의 get_weights()  가 리턴하는 요소 수를 출력 해보자.  \n",
    "for  i in model.layers:\n",
    "    print(f'{i.name } \\t {len(i.get_weights())}')"
   ]
  },
  {
   "cell_type": "code",
   "execution_count": 19,
   "id": "79efaf93",
   "metadata": {},
   "outputs": [
    {
     "name": "stdout",
     "output_type": "stream",
     "text": [
      "<tf.Variable 'L3_dense/kernel:0' shape=(10, 1) dtype=float32, numpy=\n",
      "array([[ 0.572301  ],\n",
      "       [ 0.5522792 ],\n",
      "       [-0.22499406],\n",
      "       [-0.26832846],\n",
      "       [ 0.6033816 ],\n",
      "       [ 0.45041972],\n",
      "       [-0.30718997],\n",
      "       [-0.11747164],\n",
      "       [ 0.58362633],\n",
      "       [ 0.00604779]], dtype=float32)>\n",
      "---------------------\n",
      "L3_dense/kernel:0\n",
      "(10, 1)\n",
      "L3_dense/bias:0\n",
      "(1,)\n"
     ]
    }
   ],
   "source": [
    "#5-3 #layer02.weights   -> list -> 각 속성은  ResourceVariable 리턴  <- tf.Variable name, shape속성등을 가진다.  \n",
    "#L3_dense (Dense)            (None, 1)                 11     \n",
    "print(layer02.weights[0] ) # ResourceVariable \n",
    "print('---------------------')\n",
    "print(layer02.weights[0].name ) \n",
    "print(layer02.weights[0].shape) \n",
    "print(layer02.weights[1].name ) \n",
    "print(layer02.weights[1].shape) "
   ]
  },
  {
   "cell_type": "code",
   "execution_count": 20,
   "id": "04faadc5",
   "metadata": {},
   "outputs": [
    {
     "name": "stdout",
     "output_type": "stream",
     "text": [
      "L0_conv2d/kernel:0 \t (3, 3, 1, 1)\n",
      "=====================\n",
      "L0_conv2d/bias:0 \t (1,)\n",
      "=====================\n",
      "L2_dense/kernel:0 \t (100, 10)\n",
      "=====================\n",
      "L3_dense/kernel:0 \t (10, 1)\n",
      "=====================\n",
      "L3_dense/bias:0 \t (1,)\n",
      "=====================\n",
      "batch_normalization/gamma:0 \t (1,)\n",
      "=====================\n",
      "batch_normalization/beta:0 \t (1,)\n",
      "=====================\n",
      "batch_normalization/moving_mean:0 \t (1,)\n",
      "=====================\n",
      "batch_normalization/moving_variance:0 \t (1,)\n",
      "=====================\n"
     ]
    }
   ],
   "source": [
    "#5-4 전체 레이어의  weights 속성을 이용해서 각레이어의 커널과 바이어스를 출력 해보자.  \n",
    "for i in  model.layers:\n",
    "    for w in  i.weights:\n",
    "         print(f'{w.name } \\t {w.shape}') \n",
    "         print('=====================')     \n"
   ]
  },
  {
   "cell_type": "code",
   "execution_count": 21,
   "id": "edd8ea08",
   "metadata": {},
   "outputs": [
    {
     "data": {
      "text/plain": [
       "5"
      ]
     },
     "execution_count": 21,
     "metadata": {},
     "output_type": "execute_result"
    }
   ],
   "source": [
    "len(model.layers)"
   ]
  },
  {
   "cell_type": "raw",
   "id": "ef24f071",
   "metadata": {},
   "source": [
    "trainable_weights, non_trainable_weights의 속성값  \n",
    "\n",
    " weights 중에서 모델의 학습을 확인 했을때  훈련 대상의 파라미터가  trainable_weights , 훈련대상이 아닌 파라미터  \n",
    " non_trainable_weights에 포함된다. \n",
    " \n",
    "#Trainable params: 1,023\n",
    "# Non-trainable params: 2\n",
    "\n",
    "기본적으로  trainable속성이  True이면 모든 매개변수가  trainable_weights 포함되어 있으면  non_trainable_weights는 널값이다. \n",
    "trainable속성이  False이면 모든 매개변수가   non_trainable_weights 포함되어 있으면  trainable_weights는 널값이다 "
   ]
  },
  {
   "cell_type": "code",
   "execution_count": 22,
   "id": "104b3197",
   "metadata": {},
   "outputs": [
    {
     "name": "stdout",
     "output_type": "stream",
     "text": [
      "True\n",
      "True\n",
      "[]\n",
      "-------------------------------\n",
      "True\n",
      "[]\n"
     ]
    }
   ],
   "source": [
    "# Q6)  trainable_weights, non_trainable_weights \n",
    "print(layer02.trainable) #True \n",
    "print(layer02.trainable_weights  == layer02.weights  ) #True \n",
    "print(layer02.non_trainable_weights) #[ ]\n",
    "print('-------------------------------')\n",
    "layer02.trainable =False \n",
    "print(layer02.non_trainable_weights  == layer02.weights  ) #True \n",
    "print(layer02.trainable_weights) #T[] "
   ]
  },
  {
   "cell_type": "code",
   "execution_count": 23,
   "id": "f754a7f8",
   "metadata": {},
   "outputs": [
    {
     "name": "stdout",
     "output_type": "stream",
     "text": [
      "True\n",
      "batch_normalization/gamma:0 \t (1,)\n",
      "batch_normalization/beta:0 \t (1,)\n",
      "batch_normalization/moving_mean:0 \t (1,)\n",
      "batch_normalization/moving_variance:0 \t (1,)\n"
     ]
    }
   ],
   "source": [
    "##Q7) tf.keras.layers.BatchNormalization() 는   trainable =True 해도 \n",
    "#     non_trainable_weights 해당하는 파라미터가 존재'\n",
    "\n",
    "print(model.layers[4].trainable)\n",
    "\n",
    "for w  in model.layers[4].trainable_weights:\n",
    "    print(w.name , \"\\t\", w.shape)\n",
    "\n",
    "    \n",
    "for w  in model.layers[4].non_trainable_weights:\n",
    "    print(w.name , \"\\t\", w.shape)\n"
   ]
  },
  {
   "cell_type": "code",
   "execution_count": 24,
   "id": "30c9e497",
   "metadata": {},
   "outputs": [
    {
     "name": "stdout",
     "output_type": "stream",
     "text": [
      "<tf.Variable 'L3_dense/kernel:0' shape=(10, 1) dtype=float32, numpy=\n",
      "array([[ 0.572301  ],\n",
      "       [ 0.5522792 ],\n",
      "       [-0.22499406],\n",
      "       [-0.26832846],\n",
      "       [ 0.6033816 ],\n",
      "       [ 0.45041972],\n",
      "       [-0.30718997],\n",
      "       [-0.11747164],\n",
      "       [ 0.58362633],\n",
      "       [ 0.00604779]], dtype=float32)>\n",
      "True\n",
      "True\n",
      "None\n"
     ]
    }
   ],
   "source": [
    "##Q8)커널, 바이어스 속성을 직접 레이어의 객체로 리턴 받자  = weights의 속성  \n",
    "print(layer02. kernel)\n",
    "\n",
    "# 레이어 속성과 가중치 속성이 같은 지 비교 \n",
    "print(layer02. kernel is layer02.weights[0])\n",
    "print(layer02.bias is layer02.weights[1]) \n",
    "\n",
    "#print(model.layers[1].kernel) # Flatten' object has no attribute 'kernel' \n",
    "#print(model.layers[4].kernel ) #'BatchNormalization' object has no attribute 'kernel' \n",
    "\n",
    "print(model.layers[2].bias) # None"
   ]
  },
  {
   "cell_type": "code",
   "execution_count": 25,
   "id": "d2729e5e",
   "metadata": {},
   "outputs": [
    {
     "name": "stdout",
     "output_type": "stream",
     "text": [
      "<tf.Variable 'batch_normalization/gamma:0' shape=(1,) dtype=float32, numpy=array([1.], dtype=float32)>\n",
      "True\n"
     ]
    }
   ],
   "source": [
    "#Q9) model.layers[4]의 속성을 확인  :레이어 클래스에는 커널, 바이어스 이외의 파라미터 속성이 리턴된다.  \n",
    "print(model.layers[4].gamma )\n",
    "print(model.layers[4].gamma is model.layers[4].weights[0])"
   ]
  },
  {
   "cell_type": "code",
   "execution_count": 26,
   "id": "6b4bbf5b",
   "metadata": {},
   "outputs": [
    {
     "name": "stdout",
     "output_type": "stream",
     "text": [
      "True\n",
      "<class 'keras.src.engine.sequential.Sequential'>\n",
      "True\n",
      "True\n",
      "L0_conv2d/kernel:0 \t (3, 3, 1, 1)\n",
      "L0_conv2d/bias:0 \t (1,)\n",
      "L2_dense/kernel:0 \t (100, 10)\n",
      "L3_dense/kernel:0 \t (10, 1)\n",
      "L3_dense/bias:0 \t (1,)\n",
      "batch_normalization/gamma:0 \t (1,)\n",
      "batch_normalization/beta:0 \t (1,)\n",
      "batch_normalization/moving_mean:0 \t (1,)\n",
      "batch_normalization/moving_variance:0 \t (1,)\n"
     ]
    }
   ],
   "source": [
    "#Q10 ) 모델의 속성 weights,get_weights() \n",
    "print(issubclass (tf.keras.Model , tf.keras.layers.Layer))\n",
    "print(type(model))\n",
    "print(issubclass (tf.keras.Sequential , tf.keras.Model ))\n",
    "print(issubclass (tf.keras.Sequential , tf.keras.layers.Layer))\n",
    "\n",
    "for w in model.weights :\n",
    "    print(w.name ,'\\t', w.shape)"
   ]
  },
  {
   "cell_type": "code",
   "execution_count": 27,
   "id": "43b3b52f",
   "metadata": {},
   "outputs": [
    {
     "name": "stdout",
     "output_type": "stream",
     "text": [
      "Model: \"sequential_2\"\n",
      "_________________________________________________________________\n",
      " Layer (type)                Output Shape              Param #   \n",
      "=================================================================\n",
      " sequential_1 (Sequential)   (None, 10)                101110    \n",
      "                                                                 \n",
      " L_out_01 (Dense)            (None, 1)                 11        \n",
      "                                                                 \n",
      "=================================================================\n",
      "Total params: 101121 (395.00 KB)\n",
      "Trainable params: 101121 (395.00 KB)\n",
      "Non-trainable params: 0 (0.00 Byte)\n",
      "_________________________________________________________________\n",
      "Model: \"sequential_1\"\n",
      "_________________________________________________________________\n",
      " Layer (type)                Output Shape              Param #   \n",
      "=================================================================\n",
      " L_in_00 (Dense)             (None, 100)               100100    \n",
      "                                                                 \n",
      " L_in_01 (Dense)             (None, 10)                1010      \n",
      "                                                                 \n",
      "=================================================================\n",
      "Total params: 101110 (394.96 KB)\n",
      "Trainable params: 101110 (394.96 KB)\n",
      "Non-trainable params: 0 (0.00 Byte)\n",
      "_________________________________________________________________\n",
      "6 6\n",
      "L_in_00/kernel:0 , (1000, 100)\n",
      "L_in_00/bias:0 , (100,)\n",
      "L_in_01/kernel:0 , (100, 10)\n",
      "L_in_01/bias:0 , (10,)\n",
      "L_out_01/kernel:0 , (10, 1)\n",
      "L_out_01/bias:0 , (1,)\n"
     ]
    }
   ],
   "source": [
    "#Q11) 중첩 모델을 확인 해보자.  : 모든 모델은 레이어의 하위 클래스 이기 때문에 모델의 하나의 레이어로 선언할 수 있다.  \n",
    "inner_model  = tf.keras.Sequential( [ \n",
    "                tf.keras.layers.Dense(100, name ='L_in_00' , input_shape =(1000, ) ),\n",
    "                tf.keras.layers.Dense(10, name ='L_in_01')\n",
    "               ]) \n",
    "\n",
    "\n",
    "outer_model  = tf.keras.Sequential( [\n",
    "                 inner_model,\n",
    "                 tf.keras.layers.Dense(1, name ='L_out_01')     \n",
    "               ]) \n",
    "\n",
    "outer_model.summary()\n",
    "outer_model.layers[0].summary()\n",
    "\n",
    "print(len (outer_model.weights) , len (outer_model.get_weights()) ) #6,  6 \n",
    "\n",
    "for r in outer_model.weights:\n",
    "    print(r.name ,\",\" , r.shape)"
   ]
  },
  {
   "cell_type": "code",
   "execution_count": 39,
   "id": "c213e940",
   "metadata": {},
   "outputs": [],
   "source": [
    "#Q12) 이미지의 레이어 필터 7*7  ResNet   -> ResNet50를 살펴 보자.  -> 시각화 해보자 . \n",
    "fifty = tf.keras.applications.resnet50.ResNet50(weights='imagenet')"
   ]
  },
  {
   "cell_type": "code",
   "execution_count": 40,
   "id": "d7eab9a8",
   "metadata": {},
   "outputs": [
    {
     "name": "stdout",
     "output_type": "stream",
     "text": [
      "conv1_conv \t 2\n"
     ]
    }
   ],
   "source": [
    "#12-1 . 레이어 정보를 확인 하자. conv1_conv =필터의 가중치 값을 리턴 받자.  \n",
    "for  i in fifty.layers:\n",
    "    if i.name == 'conv1_conv':\n",
    "        print(f'{i.name } \\t {len(i.get_weights())}')"
   ]
  },
  {
   "cell_type": "code",
   "execution_count": 44,
   "id": "e38b63f3",
   "metadata": {},
   "outputs": [
    {
     "name": "stdout",
     "output_type": "stream",
     "text": [
      "Filters shape :  (7, 7, 3, 64)\n",
      "[[[[ 2.82526277e-02 -1.18737184e-02  1.51488732e-03 ... -1.07003953e-02\n",
      "    -5.27982824e-02 -1.36667420e-03]\n",
      "   [ 5.86827798e-03  5.04415408e-02  3.46324709e-03 ...  1.01423981e-02\n",
      "     1.39493728e-02  1.67549420e-02]\n",
      "   [-2.44090753e-03 -4.86173332e-02  2.69966386e-03 ... -3.44439060e-04\n",
      "     3.48098315e-02  6.28910400e-03]]\n",
      "\n",
      "  [[ 1.81872323e-02 -7.20698107e-03  4.80302610e-03 ... -7.43396254e-03\n",
      "    -8.56800564e-03  1.16849300e-02]\n",
      "   [ 1.87554304e-02  5.12730293e-02  4.50406177e-03 ...  1.39413681e-02\n",
      "     1.26296384e-02 -1.73004344e-02]\n",
      "   [ 1.90453827e-02 -3.87909152e-02  4.25842637e-03 ...  2.75742816e-04\n",
      "    -1.27962548e-02 -8.35626759e-03]]\n",
      "\n",
      "  [[ 1.58849321e-02 -1.06073255e-02  1.30999666e-02 ... -2.26797583e-03\n",
      "    -3.98984266e-04  3.39989027e-04]\n",
      "   [ 3.61421369e-02  5.02430499e-02  1.22699486e-02 ...  1.19910473e-02\n",
      "     2.02837810e-02 -1.96981970e-02]\n",
      "   [ 2.17959806e-02 -3.86004597e-02  1.12379901e-02 ... -2.07756506e-03\n",
      "    -3.40645364e-03 -3.78638096e-02]]\n",
      "\n",
      "  ...\n",
      "\n",
      "  [[-5.30153252e-02 -8.60502943e-03  6.38643000e-03 ... -4.49256925e-03\n",
      "     3.48024699e-03 -1.40979560e-02]\n",
      "   [-9.35578942e-02  4.61557060e-02  1.53722311e-03 ...  1.21013075e-02\n",
      "     5.05337631e-03  3.30474339e-02]\n",
      "   [-7.69589692e-02 -3.51354294e-02  2.22769519e-03 ...  9.18304977e-06\n",
      "    -1.15465783e-02  2.29630154e-02]]\n",
      "\n",
      "  [[-4.73558307e-02 -4.07940615e-03  4.76515992e-03 ... -9.73805040e-03\n",
      "    -1.03890402e-02  1.62366014e-02]\n",
      "   [-1.24100089e-01  4.78516519e-02 -9.90210217e-04 ...  1.10340826e-02\n",
      "    -6.77202828e-03  5.49102016e-02]\n",
      "   [-7.13113099e-02 -2.86470409e-02  6.20829698e-04 ... -2.17762636e-03\n",
      "    -1.58942658e-02  3.44766974e-02]]\n",
      "\n",
      "  [[ 1.85429510e-02 -1.12518407e-02  1.12506151e-02 ... -1.51338596e-02\n",
      "    -5.66656142e-03 -1.30050071e-02]\n",
      "   [-2.68079005e-02  3.64737920e-02  4.55197273e-03 ...  5.53486776e-03\n",
      "     1.12653999e-02  2.46754289e-03]\n",
      "   [ 1.43940765e-02 -3.56382579e-02  5.08728763e-03 ... -7.46753719e-03\n",
      "     1.61169283e-02  1.12382937e-02]]]\n",
      "\n",
      "\n",
      " [[[ 7.99009297e-03 -9.49061289e-03 -4.21846565e-03 ... -1.23715792e-02\n",
      "    -3.82804796e-02 -5.90979494e-03]\n",
      "   [-7.68794632e-03  5.46954982e-02 -1.03303632e-02 ...  1.40626412e-02\n",
      "     1.99436247e-02  2.51518637e-02]\n",
      "   [ 3.70471564e-04 -3.70203964e-02 -9.80611611e-03 ... -4.95379185e-03\n",
      "     2.27415562e-02  1.38941938e-02]]\n",
      "\n",
      "  [[ 2.48856675e-02 -9.57963988e-03 -2.37837038e-03 ... -1.08526833e-02\n",
      "     2.24138368e-02 -2.40965877e-02]\n",
      "   [ 2.42966190e-02  4.93442900e-02 -1.32921906e-02 ...  1.47738317e-02\n",
      "     2.67323572e-02  1.14357602e-02]\n",
      "   [ 2.91274227e-02 -3.05654686e-02 -1.42364930e-02 ... -8.36174563e-03\n",
      "    -3.00847553e-02 -2.51545687e-03]]\n",
      "\n",
      "  [[ 7.67260045e-02 -1.19650066e-02 -2.10191216e-03 ...  1.79589365e-03\n",
      "     2.02653632e-02 -1.33340694e-02]\n",
      "   [ 1.49444759e-01  5.00719361e-02 -1.52172269e-02 ...  1.83409695e-02\n",
      "     1.56401172e-02  8.53796005e-02]\n",
      "   [ 1.17180273e-01 -2.56576538e-02 -1.85890812e-02 ... -2.50462536e-03\n",
      "    -5.22738546e-02  1.17943510e-02]]\n",
      "\n",
      "  ...\n",
      "\n",
      "  [[-1.89151186e-02 -1.06457584e-02 -1.19606184e-03 ... -7.13960640e-03\n",
      "     7.56816342e-02  8.62411484e-02]\n",
      "   [ 1.33888470e-02  4.24321182e-02 -1.93305630e-02 ...  8.93499516e-03\n",
      "     3.26688178e-02  1.71118364e-01]\n",
      "   [-9.38678440e-03 -2.88689751e-02 -1.87061988e-02 ... -1.06920488e-02\n",
      "    -4.56195511e-02  1.51734307e-01]]\n",
      "\n",
      "  [[-7.93561861e-02 -8.69292021e-03  1.06180850e-02 ... -8.22936464e-03\n",
      "     5.34521677e-02  2.43676770e-02]\n",
      "   [-1.76872283e-01  4.03351039e-02 -6.91946782e-03 ...  1.14902109e-02\n",
      "     2.45164465e-02  1.30252065e-02]\n",
      "   [-1.30214587e-01 -2.94868350e-02 -1.32359739e-03 ... -8.08166154e-03\n",
      "    -3.32693383e-02  1.78283844e-02]]\n",
      "\n",
      "  [[-1.53617216e-02 -1.02823023e-02  1.44553250e-02 ... -1.23689836e-02\n",
      "     2.81683691e-02 -1.52645903e-02]\n",
      "   [-1.22947149e-01  3.72432098e-02 -2.82740779e-03 ...  1.07275983e-02\n",
      "     1.61965452e-02 -4.08420824e-02]\n",
      "   [-7.92325959e-02 -3.09139602e-02  1.91061670e-04 ... -1.06926244e-02\n",
      "    -1.36199640e-02 -2.90216487e-02]]]\n",
      "\n",
      "\n",
      " [[[-2.74732877e-02 -1.59629062e-02  5.87167032e-03 ... -1.18064405e-02\n",
      "    -5.19699305e-02 -1.52737210e-02]\n",
      "   [-7.46604949e-02  5.22083789e-02 -1.98963331e-03 ...  1.27452025e-02\n",
      "     7.53643783e-03 -1.96208209e-02]\n",
      "   [-3.34048420e-02 -3.39833461e-02 -1.99538236e-03 ... -9.30251833e-03\n",
      "     3.30174603e-02 -1.65446047e-02]]\n",
      "\n",
      "  [[-6.57535121e-02 -1.23513499e-02 -4.16519074e-03 ... -1.22041989e-03\n",
      "     2.09396798e-02  3.62350084e-02]\n",
      "   [-1.52494013e-01  4.94739972e-02 -1.83443855e-02 ...  2.37025358e-02\n",
      "     2.67230812e-02  8.47681686e-02]\n",
      "   [-8.80744159e-02 -2.57136654e-02 -2.17252262e-02 ... -3.12197860e-03\n",
      "    -2.06513535e-02  6.63726628e-02]]\n",
      "\n",
      "  [[ 1.99921392e-02 -1.76080931e-02  1.81755237e-03 ...  3.69562432e-02\n",
      "     3.51557694e-02  1.03931516e-01]\n",
      "   [ 6.10242449e-02  4.46803048e-02 -1.41719123e-02 ...  5.15808910e-02\n",
      "     2.07974892e-02  1.46060020e-01]\n",
      "   [ 8.05315524e-02 -2.88072433e-02 -1.85981095e-02 ...  2.20173039e-02\n",
      "    -5.11762947e-02  1.40093669e-01]]\n",
      "\n",
      "  ...\n",
      "\n",
      "  [[ 1.15528561e-01 -1.67486407e-02  8.49904679e-03 ...  4.99674492e-03\n",
      "     7.98972845e-02 -1.11083500e-01]\n",
      "   [ 3.32334489e-01  4.24566194e-02 -9.70878359e-03 ...  1.92873720e-02\n",
      "     1.25060824e-03 -3.40990961e-01]\n",
      "   [ 2.16480315e-01 -2.68480480e-02 -8.96557700e-03 ... -6.44540135e-03\n",
      "    -7.85448179e-02 -2.04899684e-01]]\n",
      "\n",
      "  [[-8.99803787e-02 -8.51823762e-03  2.25046948e-02 ... -8.74274992e-04\n",
      "     6.35959804e-02 -9.58404392e-02]\n",
      "   [-8.15074593e-02  4.37885672e-02  3.69152403e-03 ...  1.71142723e-02\n",
      "     6.33937493e-03 -2.73919165e-01]\n",
      "   [-9.73245725e-02 -2.61962153e-02  8.95403326e-03 ... -7.23934872e-03\n",
      "    -5.64266555e-02 -1.84837982e-01]]\n",
      "\n",
      "  [[-9.46454927e-02 -1.17739988e-02  2.49665454e-02 ... -7.38179125e-03\n",
      "     3.05740479e-02 -1.17530329e-02]\n",
      "   [-2.11111471e-01  3.85808311e-02  5.31885307e-03 ...  1.61544569e-02\n",
      "     3.10361455e-03 -8.36645439e-02]\n",
      "   [-1.75075874e-01 -3.21811885e-02  9.45197884e-03 ... -1.05473688e-02\n",
      "    -2.80730613e-02 -6.67640790e-02]]]\n",
      "\n",
      "\n",
      " ...\n",
      "\n",
      "\n",
      " [[[ 2.31804699e-02 -1.62718501e-02  1.22078890e-02 ... -1.22131845e-02\n",
      "    -2.02786643e-02 -2.14508991e-03]\n",
      "   [ 2.30488200e-02  4.41800952e-02  3.59291583e-03 ...  1.27932075e-02\n",
      "     6.47032401e-03 -5.39429188e-02]\n",
      "   [ 2.03978457e-02 -2.67958529e-02  5.69844292e-03 ... -8.20858125e-03\n",
      "     2.51460597e-02 -3.12512405e-02]]\n",
      "\n",
      "  [[-4.64516319e-02 -1.34653188e-02  1.61393601e-02 ... -2.20572166e-02\n",
      "     5.05596139e-02  1.47165358e-03]\n",
      "   [-1.77852944e-01  4.04180661e-02  4.32515051e-03 ...  7.27979047e-03\n",
      "     1.37663782e-02 -5.00506982e-02]\n",
      "   [-1.09063022e-01 -2.11244933e-02  6.98045455e-03 ... -2.00869981e-02\n",
      "    -6.30094185e-02 -4.20499854e-02]]\n",
      "\n",
      "  [[-1.83006614e-01 -1.79655701e-02  1.82811301e-02 ...  1.56401389e-03\n",
      "     9.29453745e-02  4.12672907e-02]\n",
      "   [-4.11783189e-01  3.40776965e-02  8.74394365e-03 ...  2.33494844e-02\n",
      "     1.98237225e-02  8.06325078e-02]\n",
      "   [-2.76736170e-01 -2.83147153e-02  1.31541817e-02 ... -5.05925808e-03\n",
      "    -8.54580775e-02  4.26753834e-02]]\n",
      "\n",
      "  ...\n",
      "\n",
      "  [[ 5.36167026e-02 -1.07590063e-02  2.19804980e-02 ... -8.83348845e-03\n",
      "     1.40453711e-01  3.20528477e-01]\n",
      "   [ 1.85792699e-01  3.76442447e-02  1.02089429e-02 ...  1.29263047e-02\n",
      "    -3.70457745e-03  6.66479290e-01]\n",
      "   [ 1.32038444e-01 -2.75047179e-02  2.28339490e-02 ... -1.19996015e-02\n",
      "    -1.22367747e-01  4.83815670e-01]]\n",
      "\n",
      "  [[ 8.34956467e-02 -9.09057911e-03  2.50242520e-02 ... -1.67011786e-02\n",
      "     1.20522320e-01  1.36462688e-01]\n",
      "   [ 2.50555605e-01  4.07686047e-02  1.08884834e-02 ...  7.53540406e-03\n",
      "    -7.55708572e-03  3.96415204e-01]\n",
      "   [ 1.49690762e-01 -3.11034787e-02  2.43526250e-02 ... -1.65321939e-02\n",
      "    -1.09688722e-01  2.64446586e-01]]\n",
      "\n",
      "  [[ 3.69576029e-02 -1.27014471e-02  3.19833457e-02 ... -1.48784053e-02\n",
      "     9.22970548e-02  6.54868260e-02]\n",
      "   [ 9.63706747e-02  4.39107306e-02  1.59802549e-02 ...  1.22494521e-02\n",
      "     8.10312852e-03  1.78935930e-01]\n",
      "   [ 2.95156911e-02 -2.96487771e-02  2.69996542e-02 ... -1.38547905e-02\n",
      "    -7.72434175e-02  1.32773802e-01]]]\n",
      "\n",
      "\n",
      " [[[ 4.22548056e-02 -8.30464344e-03  5.34065207e-03 ... -8.06468353e-03\n",
      "    -4.70053628e-02  4.45614867e-02]\n",
      "   [ 9.77012664e-02  3.83502319e-02 -5.37837343e-03 ...  1.17106764e-02\n",
      "    -4.59602941e-03  6.98771998e-02]\n",
      "   [ 6.38262108e-02 -2.08319575e-02 -1.72756368e-03 ... -8.19445588e-03\n",
      "     4.25621867e-02  4.83920909e-02]]\n",
      "\n",
      "  [[ 4.59470600e-02 -4.77699284e-03  7.04339007e-03 ... -1.82104297e-02\n",
      "     3.14848162e-02  4.64068204e-02]\n",
      "   [ 3.89483608e-02  3.78783308e-02 -6.85291924e-03 ...  7.33014196e-03\n",
      "     3.90656322e-04  1.52848229e-01]\n",
      "   [ 4.57218140e-02 -1.34090437e-02 -8.30697361e-04 ... -1.85202472e-02\n",
      "    -3.45353335e-02  9.25581828e-02]]\n",
      "\n",
      "  [[-4.66161780e-02 -1.22223441e-02  9.35023464e-03 ... -1.31351836e-02\n",
      "     6.08736612e-02  9.18865502e-02]\n",
      "   [-1.92336142e-01  3.18407975e-02 -1.01881009e-03 ...  7.55425170e-03\n",
      "    -8.62357323e-04  2.88297594e-01]\n",
      "   [-1.15666650e-01 -2.35320851e-02  6.74636895e-03 ... -1.94703583e-02\n",
      "    -5.66169359e-02  1.95824102e-01]]\n",
      "\n",
      "  ...\n",
      "\n",
      "  [[-2.10239179e-02 -9.81471874e-03  9.81596112e-03 ... -1.36731779e-02\n",
      "     1.20193027e-01 -1.26708716e-01]\n",
      "   [-3.72992679e-02  3.05935629e-02 -3.00194928e-03 ...  8.85152724e-03\n",
      "    -5.07611316e-03 -6.25461042e-02]\n",
      "   [ 7.84674310e-04 -2.91344281e-02  1.12569630e-02 ... -1.38232643e-02\n",
      "    -9.49400812e-02 -8.74437019e-02]]\n",
      "\n",
      "  [[ 3.32221799e-02 -4.22911346e-03  1.13633750e-02 ... -1.41841583e-02\n",
      "     9.59840789e-02 -1.23203963e-01]\n",
      "   [ 9.95653942e-02  4.03233357e-02 -4.36036801e-03 ...  8.42505507e-03\n",
      "    -1.50266392e-02 -1.58158958e-01]\n",
      "   [ 6.55353814e-02 -2.76978761e-02  1.06595978e-02 ... -1.31017175e-02\n",
      "    -9.93799716e-02 -1.52014121e-01]]\n",
      "\n",
      "  [[ 2.50522885e-02 -1.08845932e-02  1.29567981e-02 ... -1.67823900e-02\n",
      "     6.55406937e-02 -3.34061496e-02]\n",
      "   [ 1.00219429e-01  4.24924381e-02 -4.06364352e-03 ...  8.98410939e-03\n",
      "    -1.98677508e-03 -9.19047296e-02]\n",
      "   [ 6.97101504e-02 -3.41515057e-02  8.97936709e-03 ... -1.51484888e-02\n",
      "    -8.06454644e-02 -8.53376985e-02]]]\n",
      "\n",
      "\n",
      " [[[ 1.46303158e-02 -9.15218703e-03  5.24803856e-03 ... -3.63799883e-03\n",
      "    -5.51798902e-02 -7.19531113e-03]\n",
      "   [ 6.12211153e-02  2.67034862e-02 -4.38000960e-03 ...  1.38858845e-02\n",
      "     1.62421225e-03  6.91889692e-03]\n",
      "   [ 1.86353922e-02 -2.39325576e-02  5.56383107e-04 ... -6.68733614e-03\n",
      "     7.36468807e-02  3.71867418e-02]]\n",
      "\n",
      "  [[ 3.52302976e-02 -3.27857491e-03  7.14091491e-03 ... -9.93822515e-03\n",
      "     2.38756705e-02 -2.10771449e-02]\n",
      "   [ 6.34438619e-02  3.12160589e-02 -7.72275496e-03 ...  1.49217555e-02\n",
      "     3.86624038e-03 -1.16395289e-02]\n",
      "   [ 3.35849188e-02 -1.63664240e-02 -1.32562651e-03 ... -1.30512416e-02\n",
      "    -7.29435496e-03 -1.24825155e-02]]\n",
      "\n",
      "  [[ 4.10873676e-03 -4.66612726e-03  1.21031692e-02 ... -7.87103828e-03\n",
      "     5.80726229e-02 -4.19587009e-02]\n",
      "   [-2.23153979e-02  2.99241953e-02  8.01213668e-04 ...  1.82199273e-02\n",
      "     9.57238674e-03 -8.57376456e-02]\n",
      "   [-2.01183017e-02 -1.96383689e-02  7.32050464e-03 ... -1.07293837e-02\n",
      "    -2.17854325e-02 -7.95444921e-02]]\n",
      "\n",
      "  ...\n",
      "\n",
      "  [[-1.71692297e-02 -3.16392444e-03  2.40169745e-03 ... -9.67177004e-03\n",
      "     9.26117748e-02 -1.16062798e-02]\n",
      "   [-8.63026828e-02  3.55335064e-02 -1.06153013e-02 ...  1.85809545e-02\n",
      "    -2.19932254e-02 -1.47949710e-01]\n",
      "   [-6.07556999e-02 -2.66596545e-02  1.74473948e-03 ... -4.85855900e-03\n",
      "    -8.82942155e-02 -8.43590796e-02]]\n",
      "\n",
      "  [[ 1.15142548e-02  2.20947526e-03  5.08834422e-03 ... -1.04352133e-02\n",
      "     6.78158402e-02  4.14623357e-02]\n",
      "   [ 7.41827395e-03  4.52373996e-02 -1.10873608e-02 ...  1.56368576e-02\n",
      "    -2.37460397e-02 -3.25448737e-02]\n",
      "   [ 7.84576032e-03 -2.45320965e-02  5.84031455e-04 ... -8.31448287e-03\n",
      "    -8.92601907e-02 -3.36888898e-03]]\n",
      "\n",
      "  [[ 4.79146978e-03 -4.22942545e-03  1.15078716e-02 ... -2.12721284e-02\n",
      "     4.96782959e-02  2.05268860e-02]\n",
      "   [ 2.75192987e-02  4.36737053e-02 -5.71439136e-03 ...  9.46100149e-03\n",
      "    -8.58635467e-04 -1.79863740e-02]\n",
      "   [ 2.71184333e-02 -3.31169143e-02  3.97488568e-03 ... -1.41424611e-02\n",
      "    -6.35233149e-02  1.29984575e-03]]]]\n"
     ]
    }
   ],
   "source": [
    "conv1_layer = fifty.get_layer('conv1_conv')\n",
    "conv1_weights = conv1_layer.get_weights()\n",
    "\n",
    "filters , biases = conv1_weights\n",
    "print('Filters shape : ',filters.shape)\n",
    "\n",
    "conv1_weights = conv1_layer.get_weights()[0]\n",
    "print(conv1_weights)\n"
   ]
  },
  {
   "cell_type": "code",
   "execution_count": 45,
   "id": "4a1e13ca",
   "metadata": {},
   "outputs": [
    {
     "name": "stdout",
     "output_type": "stream",
     "text": [
      "(224, 224)\n"
     ]
    }
   ],
   "source": [
    "input_size = fifty.input_shape[1:3]\n",
    "print(input_size)"
   ]
  },
  {
   "cell_type": "code",
   "execution_count": 61,
   "id": "a4686bf1",
   "metadata": {},
   "outputs": [
    {
     "data": {
      "image/png": "[encoded data removed]",
      "text/plain": [
       "<Figure size 640x480 with 1 Axes>"
      ]
     },
     "metadata": {},
     "output_type": "display_data"
    }
   ],
   "source": [
    "#12-2  캐스 팅 작업  ,  이미지  0 ~ 255 unit8로 변환 하자  !!\n",
    "#12-3  사이즈 조정해서 이미지 파일로 저장 하자.  \n",
    "import cv2\n",
    "import matplotlib.pyplot as plt\n",
    "\n",
    "img = cv2.imread('img/apple.jpg')\n",
    "img = cv2.cvtColor(img,cv2.COLOR_BGR2RGB)\n",
    "\n",
    "img_resize = cv2.resize(img,(224,224))\n",
    "\n",
    "img_uint8 = img_resize.astype('uint8')\n",
    "\n",
    "plt.imshow(img_uint8)\n",
    "plt.show()\n",
    "\n",
    "#cv2.imwrite('img/resize_apple.jpg',cv2.cvtColor(cv2.COLOR_RGB2BGR))"
   ]
  },
  {
   "cell_type": "code",
   "execution_count": 62,
   "id": "d1222e19",
   "metadata": {},
   "outputs": [
    {
     "name": "stdout",
     "output_type": "stream",
     "text": [
      "1/1 [==============================] - 0s 106ms/step\n",
      "Predictions [('n07768694', 'pomegranate', 0.7904764), ('n07742313', 'Granny_Smith', 0.08751991), ('n07747607', 'orange', 0.01747316)]\n"
     ]
    }
   ],
   "source": [
    "import numpy as np\n",
    "from tensorflow.keras.preprocessing import image\n",
    "from tensorflow.keras.applications.resnet50 import preprocess_input,decode_predictions\n",
    "\n",
    "\n",
    "x= np.expand_dims(img_uint8,axis=0)\n",
    "x= preprocess_input(x)\n",
    "\n",
    "predictions = fifty.predict(x)\n",
    "print(f'Predictions',decode_predictions(predictions,top=3)[0])\n"
   ]
  },
  {
   "cell_type": "code",
   "execution_count": 31,
   "id": "76076304",
   "metadata": {},
   "outputs": [
    {
     "ename": "NameError",
     "evalue": "name 'skimage' is not defined",
     "output_type": "error",
     "traceback": [
      "\u001b[1;31m---------------------------------------------------------------------------\u001b[0m",
      "\u001b[1;31mNameError\u001b[0m                                 Traceback (most recent call last)",
      "Cell \u001b[1;32mIn[31], line 1\u001b[0m\n\u001b[1;32m----> 1\u001b[0m \u001b[38;5;28mprint\u001b[39m(help(skimage\u001b[38;5;241m.\u001b[39mutil\u001b[38;5;241m.\u001b[39mmontage))\n",
      "\u001b[1;31mNameError\u001b[0m: name 'skimage' is not defined"
     ]
    }
   ],
   "source": [
    "#print(help(skimage.util.montage))"
   ]
  },
  {
   "cell_type": "code",
   "execution_count": 66,
   "id": "1fdf6e2d",
   "metadata": {},
   "outputs": [
    {
     "name": "stdout",
     "output_type": "stream",
     "text": [
      "[array([[[[ 6.4674197e-03,  5.6560319e-03, -7.2610594e-02, ...,\n",
      "          -1.6278299e-02,  1.8165688e-03,  8.5541680e-02],\n",
      "         [-3.2519642e-02, -4.0342156e-02, -7.9431264e-03, ...,\n",
      "          -1.1604636e-02,  1.7219901e-02,  9.6099535e-03],\n",
      "         [ 2.2244077e-02,  2.8925532e-02, -5.8263787e-03, ...,\n",
      "           5.4165423e-03,  2.3212612e-02, -2.7895676e-02],\n",
      "         ...,\n",
      "         [ 1.3149081e-01, -3.9823350e-02,  4.7879912e-02, ...,\n",
      "           2.2762209e-02, -7.6685034e-02,  1.9747645e-02],\n",
      "         [-4.9686518e-02, -3.2732040e-02, -2.6242498e-03, ...,\n",
      "           2.6855137e-02, -1.2300796e-02, -3.1784617e-05],\n",
      "         [-6.2238269e-02,  6.8615906e-02, -4.7975942e-03, ...,\n",
      "          -2.4603404e-02,  5.2041125e-02,  7.3396809e-02]]]],\n",
      "      dtype=float32), array([0., 0., 0., 0., 0., 0., 0., 0., 0., 0., 0., 0., 0., 0., 0., 0., 0.,\n",
      "       0., 0., 0., 0., 0., 0., 0., 0., 0., 0., 0., 0., 0., 0., 0., 0., 0.,\n",
      "       0., 0., 0., 0., 0., 0., 0., 0., 0., 0., 0., 0., 0., 0., 0., 0., 0.,\n",
      "       0., 0., 0., 0., 0., 0., 0., 0., 0., 0., 0., 0., 0.], dtype=float32)] : [array([[[[ 6.4674197e-03,  5.6560319e-03, -7.2610594e-02, ...,\n",
      "          -1.6278299e-02,  1.8165688e-03,  8.5541680e-02],\n",
      "         [-3.2519642e-02, -4.0342156e-02, -7.9431264e-03, ...,\n",
      "          -1.1604636e-02,  1.7219901e-02,  9.6099535e-03],\n",
      "         [ 2.2244077e-02,  2.8925532e-02, -5.8263787e-03, ...,\n",
      "           5.4165423e-03,  2.3212612e-02, -2.7895676e-02],\n",
      "         ...,\n",
      "         [ 1.3149081e-01, -3.9823350e-02,  4.7879912e-02, ...,\n",
      "           2.2762209e-02, -7.6685034e-02,  1.9747645e-02],\n",
      "         [-4.9686518e-02, -3.2732040e-02, -2.6242498e-03, ...,\n",
      "           2.6855137e-02, -1.2300796e-02, -3.1784617e-05],\n",
      "         [-6.2238269e-02,  6.8615906e-02, -4.7975942e-03, ...,\n",
      "          -2.4603404e-02,  5.2041125e-02,  7.3396809e-02]]]],\n",
      "      dtype=float32), array([0., 0., 0., 0., 0., 0., 0., 0., 0., 0., 0., 0., 0., 0., 0., 0., 0.,\n",
      "       0., 0., 0., 0., 0., 0., 0., 0., 0., 0., 0., 0., 0., 0., 0., 0., 0.,\n",
      "       0., 0., 0., 0., 0., 0., 0., 0., 0., 0., 0., 0., 0., 0., 0., 0., 0.,\n",
      "       0., 0., 0., 0., 0., 0., 0., 0., 0., 0., 0., 0., 0.], dtype=float32)]\n",
      "[array([1.3269103 , 1.2560703 , 0.9950278 , 0.8948056 , 1.2032318 ,\n",
      "       0.9346237 , 1.0054843 , 1.0860608 , 0.6295145 , 0.6699675 ,\n",
      "       1.159417  , 0.72101206, 0.92272604, 1.0163767 , 0.92679834,\n",
      "       1.0108758 , 1.0348027 , 0.77844113, 0.9101868 , 0.8505309 ,\n",
      "       0.630787  , 0.85698867, 0.5740686 , 0.92753345, 1.1684022 ,\n",
      "       1.296549  , 0.7672808 , 0.6602154 , 0.6786608 , 1.0906765 ,\n",
      "       0.734093  , 1.1532717 , 1.424539  , 0.7793672 , 1.4337783 ,\n",
      "       0.7280245 , 1.5290251 , 1.3166497 , 0.9573881 , 1.6880441 ,\n",
      "       1.1068428 , 1.0061102 , 1.013545  , 1.2786397 , 1.231336  ,\n",
      "       1.1585219 , 0.9538531 , 0.9335715 , 1.202661  , 1.2151445 ,\n",
      "       1.3699788 , 1.3164968 , 0.896061  , 1.1104871 , 1.3098865 ,\n",
      "       1.2052519 , 0.71763515, 0.9407204 , 0.9892499 , 0.71910447,\n",
      "       1.3878453 , 0.98184586, 1.1043916 , 1.2413356 ], dtype=float32), array([-1.177437  , -1.0913068 , -0.161753  ,  0.13188034, -0.6317326 ,\n",
      "        0.43973786,  0.153783  , -0.95236534,  0.9000799 ,  1.0903714 ,\n",
      "       -0.9362951 ,  0.80833375,  0.4902186 , -1.4230515 ,  0.18330652,\n",
      "       -0.29332295, -0.45494297,  0.6626448 , -1.2408872 ,  0.38403836,\n",
      "        0.8407049 ,  0.61157215, -1.4363673 ,  0.05354926, -0.9954077 ,\n",
      "       -1.003631  ,  0.19647427,  0.55103683,  0.7773991 , -1.1172884 ,\n",
      "        0.7174941 , -1.0137815 , -1.328995  ,  0.26225868, -1.4006326 ,\n",
      "        0.65733135, -1.8763647 , -1.7264905 ,  0.0899606 , -0.86376214,\n",
      "       -0.931789  , -0.6033174 ,  0.39810994, -1.5719951 , -0.734222  ,\n",
      "       -0.6592806 ,  0.03740174, -0.6686176 , -0.9198121 , -0.9938147 ,\n",
      "       -0.72833824, -1.006704  ,  0.20140788, -1.1930807 , -1.5599545 ,\n",
      "       -1.151419  ,  0.7344175 ,  0.20095691,  0.21961655,  1.0159925 ,\n",
      "       -0.9308998 , -0.4216023 , -0.45435214, -1.2527418 ], dtype=float32), array([-1.8138133 , -1.113121  ,  0.05790767,  0.05021036,  1.1569055 ,\n",
      "        0.03715251, -0.20970708, -0.40472925, -0.00904812, -0.3578864 ,\n",
      "       -0.48685768,  0.05109355,  0.32161966, -0.42544293, -0.32367834,\n",
      "       -0.25984606, -1.0590899 , -0.26303387, -0.2715831 , -0.15737675,\n",
      "       -0.6688624 ,  0.20006569, -0.00388194, -0.51560926,  0.2667812 ,\n",
      "       -1.5775563 ,  0.25424668, -0.39046344, -0.6331615 , -0.8621309 ,\n",
      "        0.8538806 , -1.9208664 , -1.2990693 , -0.31657264, -1.1077281 ,\n",
      "        0.40903935, -1.0568265 , -1.1695737 ,  0.36479083, -0.49244842,\n",
      "       -1.010155  , -0.12247529,  0.24632022,  1.670872  ,  0.29218602,\n",
      "        0.3935247 , -0.03445699, -0.12959251, -1.9883193 , -0.16591616,\n",
      "       -0.5284253 , -1.175432  , -0.9633783 , -1.5254549 , -0.62307674,\n",
      "        0.63903713,  0.08330767, -0.05269125, -1.1165544 ,  0.17326847,\n",
      "        0.6831682 , -0.46819425, -1.4049541 , -0.60622   ], dtype=float32), array([7.8038168e-01, 8.2790232e-01, 1.5720344e+00, 9.4726598e-01,\n",
      "       1.5725548e+00, 1.1285753e+00, 1.1924778e+00, 5.5776858e-01,\n",
      "       5.1658785e-01, 5.8522433e-01, 9.4484520e-01, 6.5747041e-01,\n",
      "       9.8950601e-01, 3.1664628e-01, 9.7818267e-01, 1.2290241e+00,\n",
      "       1.0383563e+00, 7.4447435e-01, 2.1230203e-01, 8.9634520e-01,\n",
      "       4.8044056e-01, 1.0725513e+00, 2.1013129e-06, 9.0301991e-01,\n",
      "       7.5066304e-01, 1.0356424e+00, 5.7037449e-01, 5.4868019e-01,\n",
      "       6.6070151e-01, 5.1056790e-01, 6.8111932e-01, 5.4516244e-01,\n",
      "       6.1078787e-01, 6.2106633e-01, 9.1664040e-01, 6.5184963e-01,\n",
      "       7.8554940e-01, 6.1170900e-01, 1.0025492e+00, 2.5057232e+00,\n",
      "       5.8850408e-01, 7.0743239e-01, 1.3829694e+00, 4.6565008e-01,\n",
      "       1.1556836e+00, 1.3535788e+00, 8.3038735e-01, 5.8609241e-01,\n",
      "       7.4352074e-01, 6.7909384e-01, 1.3676465e+00, 9.4127643e-01,\n",
      "       8.9186639e-01, 3.7864137e-01, 5.0188518e-01, 9.1053343e-01,\n",
      "       7.1319729e-01, 1.0160069e+00, 1.5691980e+00, 8.3623505e-01,\n",
      "       1.4412962e+00, 9.9514031e-01, 1.3632499e+00, 6.7735517e-01],\n",
      "      dtype=float32)] : [array([1.3269103 , 1.2560703 , 0.9950278 , 0.8948056 , 1.2032318 ,\n",
      "       0.9346237 , 1.0054843 , 1.0860608 , 0.6295145 , 0.6699675 ,\n",
      "       1.159417  , 0.72101206, 0.92272604, 1.0163767 , 0.92679834,\n",
      "       1.0108758 , 1.0348027 , 0.77844113, 0.9101868 , 0.8505309 ,\n",
      "       0.630787  , 0.85698867, 0.5740686 , 0.92753345, 1.1684022 ,\n",
      "       1.296549  , 0.7672808 , 0.6602154 , 0.6786608 , 1.0906765 ,\n",
      "       0.734093  , 1.1532717 , 1.424539  , 0.7793672 , 1.4337783 ,\n",
      "       0.7280245 , 1.5290251 , 1.3166497 , 0.9573881 , 1.6880441 ,\n",
      "       1.1068428 , 1.0061102 , 1.013545  , 1.2786397 , 1.231336  ,\n",
      "       1.1585219 , 0.9538531 , 0.9335715 , 1.202661  , 1.2151445 ,\n",
      "       1.3699788 , 1.3164968 , 0.896061  , 1.1104871 , 1.3098865 ,\n",
      "       1.2052519 , 0.71763515, 0.9407204 , 0.9892499 , 0.71910447,\n",
      "       1.3878453 , 0.98184586, 1.1043916 , 1.2413356 ], dtype=float32), array([-1.177437  , -1.0913068 , -0.161753  ,  0.13188034, -0.6317326 ,\n",
      "        0.43973786,  0.153783  , -0.95236534,  0.9000799 ,  1.0903714 ,\n",
      "       -0.9362951 ,  0.80833375,  0.4902186 , -1.4230515 ,  0.18330652,\n",
      "       -0.29332295, -0.45494297,  0.6626448 , -1.2408872 ,  0.38403836,\n",
      "        0.8407049 ,  0.61157215, -1.4363673 ,  0.05354926, -0.9954077 ,\n",
      "       -1.003631  ,  0.19647427,  0.55103683,  0.7773991 , -1.1172884 ,\n",
      "        0.7174941 , -1.0137815 , -1.328995  ,  0.26225868, -1.4006326 ,\n",
      "        0.65733135, -1.8763647 , -1.7264905 ,  0.0899606 , -0.86376214,\n",
      "       -0.931789  , -0.6033174 ,  0.39810994, -1.5719951 , -0.734222  ,\n",
      "       -0.6592806 ,  0.03740174, -0.6686176 , -0.9198121 , -0.9938147 ,\n",
      "       -0.72833824, -1.006704  ,  0.20140788, -1.1930807 , -1.5599545 ,\n",
      "       -1.151419  ,  0.7344175 ,  0.20095691,  0.21961655,  1.0159925 ,\n",
      "       -0.9308998 , -0.4216023 , -0.45435214, -1.2527418 ], dtype=float32), array([-1.8138133 , -1.113121  ,  0.05790767,  0.05021036,  1.1569055 ,\n",
      "        0.03715251, -0.20970708, -0.40472925, -0.00904812, -0.3578864 ,\n",
      "       -0.48685768,  0.05109355,  0.32161966, -0.42544293, -0.32367834,\n",
      "       -0.25984606, -1.0590899 , -0.26303387, -0.2715831 , -0.15737675,\n",
      "       -0.6688624 ,  0.20006569, -0.00388194, -0.51560926,  0.2667812 ,\n",
      "       -1.5775563 ,  0.25424668, -0.39046344, -0.6331615 , -0.8621309 ,\n",
      "        0.8538806 , -1.9208664 , -1.2990693 , -0.31657264, -1.1077281 ,\n",
      "        0.40903935, -1.0568265 , -1.1695737 ,  0.36479083, -0.49244842,\n",
      "       -1.010155  , -0.12247529,  0.24632022,  1.670872  ,  0.29218602,\n",
      "        0.3935247 , -0.03445699, -0.12959251, -1.9883193 , -0.16591616,\n",
      "       -0.5284253 , -1.175432  , -0.9633783 , -1.5254549 , -0.62307674,\n",
      "        0.63903713,  0.08330767, -0.05269125, -1.1165544 ,  0.17326847,\n",
      "        0.6831682 , -0.46819425, -1.4049541 , -0.60622   ], dtype=float32), array([7.8038168e-01, 8.2790232e-01, 1.5720344e+00, 9.4726598e-01,\n",
      "       1.5725548e+00, 1.1285753e+00, 1.1924778e+00, 5.5776858e-01,\n",
      "       5.1658785e-01, 5.8522433e-01, 9.4484520e-01, 6.5747041e-01,\n",
      "       9.8950601e-01, 3.1664628e-01, 9.7818267e-01, 1.2290241e+00,\n",
      "       1.0383563e+00, 7.4447435e-01, 2.1230203e-01, 8.9634520e-01,\n",
      "       4.8044056e-01, 1.0725513e+00, 2.1013129e-06, 9.0301991e-01,\n",
      "       7.5066304e-01, 1.0356424e+00, 5.7037449e-01, 5.4868019e-01,\n",
      "       6.6070151e-01, 5.1056790e-01, 6.8111932e-01, 5.4516244e-01,\n",
      "       6.1078787e-01, 6.2106633e-01, 9.1664040e-01, 6.5184963e-01,\n",
      "       7.8554940e-01, 6.1170900e-01, 1.0025492e+00, 2.5057232e+00,\n",
      "       5.8850408e-01, 7.0743239e-01, 1.3829694e+00, 4.6565008e-01,\n",
      "       1.1556836e+00, 1.3535788e+00, 8.3038735e-01, 5.8609241e-01,\n",
      "       7.4352074e-01, 6.7909384e-01, 1.3676465e+00, 9.4127643e-01,\n",
      "       8.9186639e-01, 3.7864137e-01, 5.0188518e-01, 9.1053343e-01,\n",
      "       7.1319729e-01, 1.0160069e+00, 1.5691980e+00, 8.3623505e-01,\n",
      "       1.4412962e+00, 9.9514031e-01, 1.3632499e+00, 6.7735517e-01],\n",
      "      dtype=float32)]\n",
      "False\n",
      "True\n"
     ]
    }
   ],
   "source": [
    "#Q13) 레이어를 동결 시켜 보자 \n",
    "\n",
    "weight_conv2_block3_1_conv_before = fifty.get_layer('conv2_block3_1_conv').get_weights()\n",
    "weight_conv2_block3_1_bn_before = fifty.get_layer('conv2_block3_1_bn').get_weights()\n",
    "\n",
    "\n",
    "#레이어 동결\n",
    "fifty.get_layer('conv2_block3_1_conv').trainable=False\n",
    "fifty.get_layer('conv2_block3_1_bn').trainable=False\n",
    "fifty.get_layer('conv2_block3_1_relu').trainable=False\n",
    "\n",
    "\n",
    "fifty.compile(optimizer = 'adam',loss='categorical_crossentropy')\n",
    "\n",
    "\n",
    "weight_conv2_block3_1_conv_after = fifty.get_layer('conv2_block3_1_conv').get_weights()\n",
    "weight_conv2_block3_1_bn_after = fifty.get_layer('conv2_block3_1_bn').get_weights()\n",
    "\n",
    "\n",
    "print(f'{weight_conv2_block3_1_conv_before} : {weight_conv2_block3_1_conv_after}')\n",
    "print(f'{weight_conv2_block3_1_bn_before} : {weight_conv2_block3_1_bn_after}')\n",
    "\n",
    "\n",
    "print(f'{np.array_equal(weight_conv2_block3_1_conv_before,weight_conv2_block3_1_conv_after)}')\n",
    "print(f'{np.array_equal(weight_conv2_block3_1_bn_before,weight_conv2_block3_1_bn_after)}')\n",
    "# conv2_block3_1_conv , conv2_block3_1_bn ,conv2_block3_1_relu를 동결 후 가중치를 비교해보자"
   ]
  },
  {
   "cell_type": "code",
   "execution_count": null,
   "id": "67106a0a",
   "metadata": {},
   "outputs": [],
   "source": []
  },
  {
   "cell_type": "code",
   "execution_count": null,
   "id": "1dcf2056",
   "metadata": {},
   "outputs": [],
   "source": []
  }
 ],
 "metadata": {
  "kernelspec": {
   "display_name": "Python 3 (ipykernel)",
   "language": "python",
   "name": "python3"
  },
  "language_info": {
   "codemirror_mode": {
    "name": "ipython",
    "version": 3
   },
   "file_extension": ".py",
   "mimetype": "text/x-python",
   "name": "python",
   "nbconvert_exporter": "python",
   "pygments_lexer": "ipython3",
   "version": "3.11.5"
  }
 },
 "nbformat": 4,
 "nbformat_minor": 5
}
