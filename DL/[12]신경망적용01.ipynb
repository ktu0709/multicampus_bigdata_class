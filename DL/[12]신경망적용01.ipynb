{
 "cells": [
  {
   "cell_type": "markdown",
   "id": "fd2c99af",
   "metadata": {},
   "source": [
    "#### << tf.keras.datasets.fashion_mnist.load_data를 모델을 적용해보자 >>\n",
    "1) 28*28 픽셀을 가진 0~9까지 레이블과 이미지로 구성되었다\n",
    "2) 10,000 개의 테스트 데이터 ,60,000개의 학습 데이터 구성되었다\n",
    "3) 정규화 ,원핫인코딩\n",
    "4) 모델을 생성 : 차원변환 28,28 -> 1차원 변환, 레이어 3개층 , relu(0~1) , softmax\n",
    "   - softmax : 클래스 분류할때 확률로 변환해서 사용하는 함수 , 각 점수 벡터에 지수를 구한다음 정수상수로 나누어 총합을  1로 만든다"
   ]
  },
  {
   "cell_type": "code",
   "execution_count": 1,
   "id": "af73228c",
   "metadata": {},
   "outputs": [
    {
     "name": "stdout",
     "output_type": "stream",
     "text": [
      "WARNING:tensorflow:From C:\\Users\\taeeon.kim\\AppData\\Roaming\\Python\\Python311\\site-packages\\keras\\src\\losses.py:2976: The name tf.losses.sparse_softmax_cross_entropy is deprecated. Please use tf.compat.v1.losses.sparse_softmax_cross_entropy instead.\n",
      "\n"
     ]
    }
   ],
   "source": [
    "import tensorflow as tf "
   ]
  },
  {
   "cell_type": "code",
   "execution_count": 2,
   "id": "4b2a8da8",
   "metadata": {},
   "outputs": [],
   "source": [
    "fashion_mnist = tf.keras.datasets.fashion_mnist\n",
    "(x_train, y_train), (x_test, y_test) = fashion_mnist.load_data()"
   ]
  },
  {
   "cell_type": "code",
   "execution_count": 3,
   "id": "59ec7508",
   "metadata": {},
   "outputs": [],
   "source": [
    "#데이터 전처리\n",
    "x_train,x_test = x_train/255.0 , x_test/255.0"
   ]
  },
  {
   "cell_type": "code",
   "execution_count": 4,
   "id": "f98f40cb",
   "metadata": {},
   "outputs": [
    {
     "data": {
      "text/plain": [
       "(((60000, 28, 28), (60000,)), ((10000, 28, 28), (10000,)))"
      ]
     },
     "execution_count": 4,
     "metadata": {},
     "output_type": "execute_result"
    }
   ],
   "source": [
    "(x_train.shape, y_train.shape), (x_test.shape, y_test.shape)"
   ]
  },
  {
   "cell_type": "code",
   "execution_count": 5,
   "id": "a6059715",
   "metadata": {},
   "outputs": [
    {
     "name": "stdout",
     "output_type": "stream",
     "text": [
      "WARNING:tensorflow:From C:\\Users\\taeeon.kim\\AppData\\Roaming\\Python\\Python311\\site-packages\\keras\\src\\backend.py:873: The name tf.get_default_graph is deprecated. Please use tf.compat.v1.get_default_graph instead.\n",
      "\n",
      "WARNING:tensorflow:From C:\\Users\\taeeon.kim\\AppData\\Roaming\\Python\\Python311\\site-packages\\keras\\src\\optimizers\\__init__.py:309: The name tf.train.Optimizer is deprecated. Please use tf.compat.v1.train.Optimizer instead.\n",
      "\n",
      "Model: \"sequential\"\n",
      "_________________________________________________________________\n",
      " Layer (type)                Output Shape              Param #   \n",
      "=================================================================\n",
      " flatten (Flatten)           (None, 784)               0         \n",
      "                                                                 \n",
      " dense (Dense)               (None, 128)               100480    \n",
      "                                                                 \n",
      " dense_1 (Dense)             (None, 10)                1290      \n",
      "                                                                 \n",
      "=================================================================\n",
      "Total params: 101770 (397.54 KB)\n",
      "Trainable params: 101770 (397.54 KB)\n",
      "Non-trainable params: 0 (0.00 Byte)\n",
      "_________________________________________________________________\n"
     ]
    }
   ],
   "source": [
    "model = tf.keras.Sequential([\n",
    "        tf.keras.layers.Flatten(input_shape=(28,28)),\n",
    "        tf.keras.layers.Dense(128,activation='relu'),\n",
    "        #tf.keras.layers.Dropout(0.2),\n",
    "        tf.keras.layers.Dense(10,activation='softmax'),\n",
    "        ])\n",
    "\n",
    "optimizer = tf.keras.optimizers.Adam(learning_rate=0.001)\n",
    "\n",
    "model.compile(optimizer = 'adam', loss = 'sparse_categorical_crossentropy', metrics = ['Accuracy']) \n",
    "model.summary()"
   ]
  },
  {
   "cell_type": "code",
   "execution_count": 6,
   "id": "d4bd22af",
   "metadata": {},
   "outputs": [
    {
     "name": "stdout",
     "output_type": "stream",
     "text": [
      "Epoch 1/10\n",
      "WARNING:tensorflow:From C:\\Users\\taeeon.kim\\AppData\\Roaming\\Python\\Python311\\site-packages\\keras\\src\\utils\\tf_utils.py:492: The name tf.ragged.RaggedTensorValue is deprecated. Please use tf.compat.v1.ragged.RaggedTensorValue instead.\n",
      "\n",
      "WARNING:tensorflow:From C:\\Users\\taeeon.kim\\AppData\\Roaming\\Python\\Python311\\site-packages\\keras\\src\\engine\\base_layer_utils.py:384: The name tf.executing_eagerly_outside_functions is deprecated. Please use tf.compat.v1.executing_eagerly_outside_functions instead.\n",
      "\n",
      "600/600 [==============================] - 3s 3ms/step - loss: 0.5361 - Accuracy: 0.8149 - val_loss: 0.4492 - val_Accuracy: 0.8413\n",
      "Epoch 2/10\n",
      "600/600 [==============================] - 2s 3ms/step - loss: 0.3966 - Accuracy: 0.8586 - val_loss: 0.4255 - val_Accuracy: 0.8471\n",
      "Epoch 3/10\n",
      "600/600 [==============================] - 1s 2ms/step - loss: 0.3571 - Accuracy: 0.8717 - val_loss: 0.3860 - val_Accuracy: 0.8629\n",
      "Epoch 4/10\n",
      "600/600 [==============================] - 1s 2ms/step - loss: 0.3336 - Accuracy: 0.8798 - val_loss: 0.3682 - val_Accuracy: 0.8689\n",
      "Epoch 5/10\n",
      "600/600 [==============================] - 2s 3ms/step - loss: 0.3123 - Accuracy: 0.8868 - val_loss: 0.3611 - val_Accuracy: 0.8722\n",
      "Epoch 6/10\n",
      "600/600 [==============================] - 2s 3ms/step - loss: 0.2982 - Accuracy: 0.8917 - val_loss: 0.3590 - val_Accuracy: 0.8692\n",
      "Epoch 7/10\n",
      "600/600 [==============================] - 2s 3ms/step - loss: 0.2837 - Accuracy: 0.8968 - val_loss: 0.3386 - val_Accuracy: 0.8781\n",
      "Epoch 8/10\n",
      "600/600 [==============================] - 1s 2ms/step - loss: 0.2739 - Accuracy: 0.9005 - val_loss: 0.3357 - val_Accuracy: 0.8796\n",
      "Epoch 9/10\n",
      "600/600 [==============================] - 1s 2ms/step - loss: 0.2659 - Accuracy: 0.9025 - val_loss: 0.3308 - val_Accuracy: 0.8806\n",
      "Epoch 10/10\n",
      "600/600 [==============================] - 2s 3ms/step - loss: 0.2554 - Accuracy: 0.9057 - val_loss: 0.3356 - val_Accuracy: 0.8817\n",
      "fit_time : 16.81946301460266\n"
     ]
    }
   ],
   "source": [
    "#모델 실행\n",
    "import time\n",
    "start_time = time.time()\n",
    "history = model.fit(x_train, y_train , epochs =10, batch_size= 100, validation_data=(x_test,y_test))\n",
    "print(f'fit_time : {time.time()-start_time}')"
   ]
  },
  {
   "cell_type": "code",
   "execution_count": 7,
   "id": "b50099ec",
   "metadata": {},
   "outputs": [],
   "source": [
    "import matplotlib.pyplot as plt"
   ]
  },
  {
   "cell_type": "raw",
   "id": "29b57621",
   "metadata": {},
   "source": [
    "import matplotlib.pyplot as plt\n",
    "plt_res = ['loss','accuracy','val_loss','val_accuracy']\n",
    "plt.figure(figsize =(12,8))\n",
    "\n",
    "for each in plt_res:\n",
    "    plt.plot(history.history[each],label=each)\n",
    "    \n",
    "plt.legend()\n",
    "plt.grid()\n",
    "plt.show()\n"
   ]
  },
  {
   "cell_type": "code",
   "execution_count": 8,
   "id": "e59ebfd4",
   "metadata": {},
   "outputs": [
    {
     "name": "stdout",
     "output_type": "stream",
     "text": [
      "313/313 [==============================] - 1s 2ms/step - loss: 0.3356 - Accuracy: 0.8817\n"
     ]
    }
   ],
   "source": [
    "score = model.evaluate(x_test,y_test)"
   ]
  },
  {
   "cell_type": "code",
   "execution_count": 9,
   "id": "6172cdfd",
   "metadata": {},
   "outputs": [
    {
     "name": "stdout",
     "output_type": "stream",
     "text": [
      "313/313 [==============================] - 1s 2ms/step\n",
      "예측 : [9 2 1 1 0 1 4 6 5 7]\n",
      "실제 값 : [9 2 1 1 6 1 4 6 5 7]\n"
     ]
    }
   ],
   "source": [
    "import numpy as np\n",
    "\n",
    "res = model.predict(x_test)\n",
    "res_label = np.argmax(res,axis=1)\n",
    "\n",
    "print(f'예측 : {res_label[:10]}')\n",
    "print(f'실제 값 : {y_test[:10]}')"
   ]
  },
  {
   "cell_type": "code",
   "execution_count": 10,
   "id": "4390f87d",
   "metadata": {},
   "outputs": [
    {
     "name": "stdout",
     "output_type": "stream",
     "text": [
      "1183\n"
     ]
    }
   ],
   "source": [
    "#8 잘못된 데이터를 찾아보자\n",
    "wrong_res = []\n",
    "\n",
    "for n in range(0,len(y_test)):\n",
    "    if res_label[n] != y_test[n]:\n",
    "        wrong_res.append(res_label[n])\n",
    "print(len(wrong_res))"
   ]
  },
  {
   "cell_type": "code",
   "execution_count": 11,
   "id": "61a189ee",
   "metadata": {},
   "outputs": [
    {
     "data": {
      "image/png": "[encoded data removed]",
      "text/plain": [
       "<Figure size 1200x800 with 16 Axes>"
      ]
     },
     "metadata": {},
     "output_type": "display_data"
    }
   ],
   "source": [
    "#잘못된 데이터의 개수를 확인하고 임의 추출해서 그래프로 다시 확인 해보자\n",
    "import random\n",
    "test = random.choices(wrong_res,k=16)\n",
    "\n",
    "plt.figure(figsize =(12,8))\n",
    "\n",
    "for idx,n in enumerate(test):\n",
    "    plt.subplot(4,4,idx+1)\n",
    "    plt.imshow(x_test[n].reshape(28,28) , cmap='Greys',interpolation = 'nearest')\n",
    "    plt.title('Label :'+str(y_test[n]) + ' predict : ' + str(res_label[n]))\n",
    "    plt.axis('off')"
   ]
  },
  {
   "cell_type": "code",
   "execution_count": 12,
   "id": "f79125d3",
   "metadata": {},
   "outputs": [],
   "source": [
    "#정답률이 너무 낮다 개선점을 찾자 _전처리에서 정규화 -> 모형변경 -> 활성화 함수 변경 -> 최적화 학습률조정\n"
   ]
  },
  {
   "cell_type": "code",
   "execution_count": null,
   "id": "2b85a027",
   "metadata": {},
   "outputs": [],
   "source": []
  },
  {
   "cell_type": "code",
   "execution_count": null,
   "id": "5c8c1d31",
   "metadata": {},
   "outputs": [],
   "source": []
  }
 ],
 "metadata": {
  "kernelspec": {
   "display_name": "Python 3 (ipykernel)",
   "language": "python",
   "name": "python3"
  },
  "language_info": {
   "codemirror_mode": {
    "name": "ipython",
    "version": 3
   },
   "file_extension": ".py",
   "mimetype": "text/x-python",
   "name": "python",
   "nbconvert_exporter": "python",
   "pygments_lexer": "ipython3",
   "version": "3.11.5"
  }
 },
 "nbformat": 4,
 "nbformat_minor": 5
}
