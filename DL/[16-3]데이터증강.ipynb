{
 "cells": [
  {
   "cell_type": "raw",
   "id": "d2089c6c",
   "metadata": {},
   "source": [
    "<<tf.image 데이터 증강>> \n",
    "뒤집기, 회전,  조정등을 사용해서 데이터 증강을 구현\n",
    "- tf.data 파이프라인을 사용하여 tf.image 변환을 적용한다.\n",
    "- tf.data.Dataset.from_tensor_slices(tensor,name = None) : 데이터 객체 생성\n",
    "- Dataset.map() #데이터 증강 적용\n",
    "- 배치 처리 및 셔플 반복처리\n",
    "\n",
    "<< tf.image 변환을 적용 하는 함수 선언 -> 데이터 객체 생성 -> 데이터 증강 적용 -> 배치 처리 및 셔플 반복처리 >>\n",
    "\n",
    "\n"
   ]
  },
  {
   "cell_type": "code",
   "execution_count": 47,
   "id": "c916239f",
   "metadata": {},
   "outputs": [],
   "source": [
    "import tensorflow as tf\n",
    "import keras\n",
    "from tensorflow.keras.datasets import cifar10\n",
    "from keras.datasets import mnist\n",
    "from matplotlib import pyplot\n"
   ]
  },
  {
   "cell_type": "raw",
   "id": "057b5cdd",
   "metadata": {},
   "source": [
    "airplane\n",
    "automobile\n",
    "bird\n",
    "cat\n",
    "deer\n",
    "dog\n",
    "frog\n",
    "horse\n",
    "ship\n",
    "truck"
   ]
  },
  {
   "cell_type": "code",
   "execution_count": 48,
   "id": "bc088087",
   "metadata": {},
   "outputs": [],
   "source": [
    "# 1. 데이터 로드  \n",
    "(train_images, train_labels) ,( test_images, test_labels) = cifar10.load_data()\n",
    "\n",
    "def augment(image,label):\n",
    "    #무작위로 이미지 좌우로 뒤집기\n",
    "    image = tf.image.random_flip_left_right(image)\n",
    "    # 상하 뒤집기\n",
    "    image = tf.image.random_flip_up_down(image)\n",
    "    #이미지 밝기 조절\n",
    "    image = tf.image.random_brightness(image,0.2)\n",
    "    #이미지 대비 조절\n",
    "    image = tf.image.random_contrast(image , lower = 0.9 , upper=1.1)\n",
    "    \n",
    "    return image,label\n",
    " \n",
    "\n",
    "#3. 정수형 이미지 데이터 변환를 float 형변환 , > 0 ~1.0 범위로 지정 255로 나눈다\n",
    "train_images= train_images.astype('float32')\n",
    "test_images= test_images.astype('float32')\n",
    "\n",
    "#4 데이터 객체 생성\n",
    "train_dataset = tf.data.Dataset.from_tensor_slices((train_images,train_labels))\n",
    "test_dataset = tf.data.Dataset.from_tensor_slices((test_images,test_labels))\n",
    "\n",
    "#5 데이터 증강 적용\n",
    "train_dataset = train_dataset.map(augment,num_parallel_calls = tf.data.AUTOTUNE)\n",
    "\n",
    "#6 배치 처리 및 셔플 반복처리\n",
    "train_dataset = train_dataset.shuffle(10000).batch(32).repeat()\n",
    "test_dataset = test_dataset.batch(32)"
   ]
  },
  {
   "cell_type": "code",
   "execution_count": 49,
   "id": "9340d4e0",
   "metadata": {},
   "outputs": [],
   "source": [
    "import numpy as np\n",
    "#11. 이미지 데이터 차원을 바꾸기    channels_first로 사용 \n",
    "#train_images = np.transpose(train_images, [0, 3, 1, 2])\n",
    "#test_images = np.transpose(test_images, [0, 3, 1, 2])\n",
    "#test_images.shape"
   ]
  },
  {
   "cell_type": "code",
   "execution_count": 50,
   "id": "7e73c550",
   "metadata": {},
   "outputs": [],
   "source": [
    "from keras.models import Sequential \n",
    "from keras.layers import Conv2D, MaxPooling2D\n",
    "from keras.layers import Dense, Flatten, Activation ,Rescaling , Dropout ,BatchNormalization ,RandomFlip , RandomRotation\n",
    "\n",
    "#12. CNN모형 만들기   \n",
    "model_cnn = Sequential([    \n",
    "    Rescaling(1./255, input_shape=(32, 32, 3)),\n",
    "    RandomFlip(\"horizontal_and_vertical\"),\n",
    "    RandomRotation(0.2),\n",
    "    \n",
    "    Conv2D(32, 3, padding='same', activation='relu'),\n",
    "    BatchNormalization(),\n",
    "    MaxPooling2D(),\n",
    "    Dropout(0.2),\n",
    "    \n",
    "    Conv2D(64, 3, padding='same', activation='relu'),\n",
    "    BatchNormalization(),\n",
    "    MaxPooling2D(),\n",
    "    Dropout(0.2),\n",
    "    \n",
    "    Conv2D(128, 3, padding='same', activation='relu'),\n",
    "    BatchNormalization(),\n",
    "    MaxPooling2D(),\n",
    "    Dropout(0.2),\n",
    "    \n",
    "    Flatten(),\n",
    "    Dense(512, activation='relu'),\n",
    "    BatchNormalization(),\n",
    "    Dropout(0.5),\n",
    "    Dense(10, activation='softmax')\n",
    "])"
   ]
  },
  {
   "cell_type": "code",
   "execution_count": 51,
   "id": "876fe1d7",
   "metadata": {},
   "outputs": [],
   "source": [
    "#13 모형 속성 지정  \n",
    "model_cnn.compile(loss='categorical_crossentropy', optimizer=tf.keras.optimizers.Adam(),  metrics=['accuracy'])\n"
   ]
  },
  {
   "cell_type": "code",
   "execution_count": 52,
   "id": "63ac8c6d",
   "metadata": {},
   "outputs": [
    {
     "name": "stdout",
     "output_type": "stream",
     "text": [
      "Epoch 1/10\n"
     ]
    },
    {
     "ename": "ValueError",
     "evalue": "in user code:\n\n    File \"C:\\Users\\taeeon.kim\\AppData\\Roaming\\Python\\Python311\\site-packages\\keras\\src\\engine\\training.py\", line 1401, in train_function  *\n        return step_function(self, iterator)\n    File \"C:\\Users\\taeeon.kim\\AppData\\Roaming\\Python\\Python311\\site-packages\\keras\\src\\engine\\training.py\", line 1384, in step_function  **\n        outputs = model.distribute_strategy.run(run_step, args=(data,))\n    File \"C:\\Users\\taeeon.kim\\AppData\\Roaming\\Python\\Python311\\site-packages\\keras\\src\\engine\\training.py\", line 1373, in run_step  **\n        outputs = model.train_step(data)\n    File \"C:\\Users\\taeeon.kim\\AppData\\Roaming\\Python\\Python311\\site-packages\\keras\\src\\engine\\training.py\", line 1151, in train_step\n        loss = self.compute_loss(x, y, y_pred, sample_weight)\n    File \"C:\\Users\\taeeon.kim\\AppData\\Roaming\\Python\\Python311\\site-packages\\keras\\src\\engine\\training.py\", line 1209, in compute_loss\n        return self.compiled_loss(\n    File \"C:\\Users\\taeeon.kim\\AppData\\Roaming\\Python\\Python311\\site-packages\\keras\\src\\engine\\compile_utils.py\", line 277, in __call__\n        loss_value = loss_obj(y_t, y_p, sample_weight=sw)\n    File \"C:\\Users\\taeeon.kim\\AppData\\Roaming\\Python\\Python311\\site-packages\\keras\\src\\losses.py\", line 143, in __call__\n        losses = call_fn(y_true, y_pred)\n    File \"C:\\Users\\taeeon.kim\\AppData\\Roaming\\Python\\Python311\\site-packages\\keras\\src\\losses.py\", line 270, in call  **\n        return ag_fn(y_true, y_pred, **self._fn_kwargs)\n    File \"C:\\Users\\taeeon.kim\\AppData\\Roaming\\Python\\Python311\\site-packages\\keras\\src\\losses.py\", line 2221, in categorical_crossentropy\n        return backend.categorical_crossentropy(\n    File \"C:\\Users\\taeeon.kim\\AppData\\Roaming\\Python\\Python311\\site-packages\\keras\\src\\backend.py\", line 5573, in categorical_crossentropy\n        target.shape.assert_is_compatible_with(output.shape)\n\n    ValueError: Shapes (None, 1) and (None, 10) are incompatible\n",
     "output_type": "error",
     "traceback": [
      "\u001b[1;31m---------------------------------------------------------------------------\u001b[0m",
      "\u001b[1;31mValueError\u001b[0m                                Traceback (most recent call last)",
      "Cell \u001b[1;32mIn[52], line 10\u001b[0m\n\u001b[0;32m      1\u001b[0m \u001b[38;5;66;03m#14.모형 실행 \u001b[39;00m\n\u001b[0;32m      2\u001b[0m \n\u001b[0;32m      3\u001b[0m \u001b[38;5;66;03m## 전체 데이터셋을 배치 크기로 나누면 에폭 당 스텝 수를 계산할 수 있다.\u001b[39;00m\n\u001b[1;32m   (...)\u001b[0m\n\u001b[0;32m      7\u001b[0m \n\u001b[0;32m      8\u001b[0m \u001b[38;5;66;03m#batch_size = 데이터 분할 단위 = 32라면 \u001b[39;00m\n\u001b[1;32m---> 10\u001b[0m hist \u001b[38;5;241m=\u001b[39m model_cnn\u001b[38;5;241m.\u001b[39mfit(train_images, train_labels,\n\u001b[0;32m     11\u001b[0m                      steps_per_epoch \u001b[38;5;241m=\u001b[39m \u001b[38;5;28mlen\u001b[39m(train_images) \u001b[38;5;241m/\u001b[39m\u001b[38;5;241m/\u001b[39m \u001b[38;5;241m32\u001b[39m,\n\u001b[0;32m     12\u001b[0m                      validation_steps \u001b[38;5;241m=\u001b[39m \u001b[38;5;28mlen\u001b[39m(test_images) \u001b[38;5;241m/\u001b[39m\u001b[38;5;241m/\u001b[39m \u001b[38;5;241m32\u001b[39m,\n\u001b[0;32m     13\u001b[0m                      epochs\u001b[38;5;241m=\u001b[39m\u001b[38;5;241m10\u001b[39m, validation_data \u001b[38;5;241m=\u001b[39m test_dataset,verbose\u001b[38;5;241m=\u001b[39m\u001b[38;5;241m1\u001b[39m )\n",
      "File \u001b[1;32m~\\AppData\\Roaming\\Python\\Python311\\site-packages\\keras\\src\\utils\\traceback_utils.py:70\u001b[0m, in \u001b[0;36mfilter_traceback.<locals>.error_handler\u001b[1;34m(*args, **kwargs)\u001b[0m\n\u001b[0;32m     67\u001b[0m     filtered_tb \u001b[38;5;241m=\u001b[39m _process_traceback_frames(e\u001b[38;5;241m.\u001b[39m__traceback__)\n\u001b[0;32m     68\u001b[0m     \u001b[38;5;66;03m# To get the full stack trace, call:\u001b[39;00m\n\u001b[0;32m     69\u001b[0m     \u001b[38;5;66;03m# `tf.debugging.disable_traceback_filtering()`\u001b[39;00m\n\u001b[1;32m---> 70\u001b[0m     \u001b[38;5;28;01mraise\u001b[39;00m e\u001b[38;5;241m.\u001b[39mwith_traceback(filtered_tb) \u001b[38;5;28;01mfrom\u001b[39;00m \u001b[38;5;28;01mNone\u001b[39;00m\n\u001b[0;32m     71\u001b[0m \u001b[38;5;28;01mfinally\u001b[39;00m:\n\u001b[0;32m     72\u001b[0m     \u001b[38;5;28;01mdel\u001b[39;00m filtered_tb\n",
      "File \u001b[1;32m~\\AppData\\Local\\Temp\\__autograph_generated_filex_htfawp.py:15\u001b[0m, in \u001b[0;36mouter_factory.<locals>.inner_factory.<locals>.tf__train_function\u001b[1;34m(iterator)\u001b[0m\n\u001b[0;32m     13\u001b[0m \u001b[38;5;28;01mtry\u001b[39;00m:\n\u001b[0;32m     14\u001b[0m     do_return \u001b[38;5;241m=\u001b[39m \u001b[38;5;28;01mTrue\u001b[39;00m\n\u001b[1;32m---> 15\u001b[0m     retval_ \u001b[38;5;241m=\u001b[39m ag__\u001b[38;5;241m.\u001b[39mconverted_call(ag__\u001b[38;5;241m.\u001b[39mld(step_function), (ag__\u001b[38;5;241m.\u001b[39mld(\u001b[38;5;28mself\u001b[39m), ag__\u001b[38;5;241m.\u001b[39mld(iterator)), \u001b[38;5;28;01mNone\u001b[39;00m, fscope)\n\u001b[0;32m     16\u001b[0m \u001b[38;5;28;01mexcept\u001b[39;00m:\n\u001b[0;32m     17\u001b[0m     do_return \u001b[38;5;241m=\u001b[39m \u001b[38;5;28;01mFalse\u001b[39;00m\n",
      "\u001b[1;31mValueError\u001b[0m: in user code:\n\n    File \"C:\\Users\\taeeon.kim\\AppData\\Roaming\\Python\\Python311\\site-packages\\keras\\src\\engine\\training.py\", line 1401, in train_function  *\n        return step_function(self, iterator)\n    File \"C:\\Users\\taeeon.kim\\AppData\\Roaming\\Python\\Python311\\site-packages\\keras\\src\\engine\\training.py\", line 1384, in step_function  **\n        outputs = model.distribute_strategy.run(run_step, args=(data,))\n    File \"C:\\Users\\taeeon.kim\\AppData\\Roaming\\Python\\Python311\\site-packages\\keras\\src\\engine\\training.py\", line 1373, in run_step  **\n        outputs = model.train_step(data)\n    File \"C:\\Users\\taeeon.kim\\AppData\\Roaming\\Python\\Python311\\site-packages\\keras\\src\\engine\\training.py\", line 1151, in train_step\n        loss = self.compute_loss(x, y, y_pred, sample_weight)\n    File \"C:\\Users\\taeeon.kim\\AppData\\Roaming\\Python\\Python311\\site-packages\\keras\\src\\engine\\training.py\", line 1209, in compute_loss\n        return self.compiled_loss(\n    File \"C:\\Users\\taeeon.kim\\AppData\\Roaming\\Python\\Python311\\site-packages\\keras\\src\\engine\\compile_utils.py\", line 277, in __call__\n        loss_value = loss_obj(y_t, y_p, sample_weight=sw)\n    File \"C:\\Users\\taeeon.kim\\AppData\\Roaming\\Python\\Python311\\site-packages\\keras\\src\\losses.py\", line 143, in __call__\n        losses = call_fn(y_true, y_pred)\n    File \"C:\\Users\\taeeon.kim\\AppData\\Roaming\\Python\\Python311\\site-packages\\keras\\src\\losses.py\", line 270, in call  **\n        return ag_fn(y_true, y_pred, **self._fn_kwargs)\n    File \"C:\\Users\\taeeon.kim\\AppData\\Roaming\\Python\\Python311\\site-packages\\keras\\src\\losses.py\", line 2221, in categorical_crossentropy\n        return backend.categorical_crossentropy(\n    File \"C:\\Users\\taeeon.kim\\AppData\\Roaming\\Python\\Python311\\site-packages\\keras\\src\\backend.py\", line 5573, in categorical_crossentropy\n        target.shape.assert_is_compatible_with(output.shape)\n\n    ValueError: Shapes (None, 1) and (None, 10) are incompatible\n"
     ]
    }
   ],
   "source": [
    "#14.모형 실행 \n",
    "\n",
    "## 전체 데이터셋을 배치 크기로 나누면 에폭 당 스텝 수를 계산할 수 있다.\n",
    "## steps_per_epoch = total_samples / batch_size\n",
    "## steps_per_epoch = 50000 / 32 = 1562.5\n",
    "# 훈련데이터셋 1000개의 샘플, 배치 크기 100 = steps_per_epoch(10)\n",
    "\n",
    "#batch_size = 데이터 분할 단위 = 32라면 \n",
    "\n",
    "hist = model_cnn.fit(train_images, train_labels,\n",
    "                     steps_per_epoch = len(train_images) // 32,\n",
    "                     validation_steps = len(test_images) // 32,\n",
    "                     epochs=10, validation_data = test_dataset,verbose=1 ) \n",
    "           "
   ]
  },
  {
   "cell_type": "raw",
   "id": "f7ffe6fd",
   "metadata": {},
   "source": [
    "<< 위의 증강한 데이터를 따로 저장해서 호출할 수 없을까? >>\n",
    "TFRecord 파일 작성하기 = \n",
    "https://www.tensorflow.org/tutorials/load_data/tfrecord?hl=ko#tfdata%EB%A5%BC_%EC%82%AC%EC%9A%A9%ED%95%9C_tfrecord_%ED%8C%8C%EC%9D%BC"
   ]
  },
  {
   "cell_type": "code",
   "execution_count": 34,
   "id": "6276739f",
   "metadata": {},
   "outputs": [
    {
     "name": "stdout",
     "output_type": "stream",
     "text": [
      "Model: \"sequential_3\"\n",
      "_________________________________________________________________\n",
      " Layer (type)                Output Shape              Param #   \n",
      "=================================================================\n",
      " rescaling_5 (Rescaling)     (None, 32, 32, 3)         0         \n",
      "                                                                 \n",
      " random_flip_1 (RandomFlip)  (None, 32, 32, 3)         0         \n",
      "                                                                 \n",
      " random_rotation (RandomRot  (None, 32, 32, 3)         0         \n",
      " ation)                                                          \n",
      "                                                                 \n",
      " conv2d_10 (Conv2D)          (None, 32, 32, 32)        896       \n",
      "                                                                 \n",
      " batch_normalization_4 (Bat  (None, 32, 32, 32)        128       \n",
      " chNormalization)                                                \n",
      "                                                                 \n",
      " max_pooling2d_9 (MaxPoolin  (None, 16, 16, 32)        0         \n",
      " g2D)                                                            \n",
      "                                                                 \n",
      " dropout_8 (Dropout)         (None, 16, 16, 32)        0         \n",
      "                                                                 \n",
      " conv2d_11 (Conv2D)          (None, 16, 16, 64)        18496     \n",
      "                                                                 \n",
      " batch_normalization_5 (Bat  (None, 16, 16, 64)        256       \n",
      " chNormalization)                                                \n",
      "                                                                 \n",
      " max_pooling2d_10 (MaxPooli  (None, 8, 8, 64)          0         \n",
      " ng2D)                                                           \n",
      "                                                                 \n",
      " dropout_9 (Dropout)         (None, 8, 8, 64)          0         \n",
      "                                                                 \n",
      " conv2d_12 (Conv2D)          (None, 8, 8, 128)         73856     \n",
      "                                                                 \n",
      " batch_normalization_6 (Bat  (None, 8, 8, 128)         512       \n",
      " chNormalization)                                                \n",
      "                                                                 \n",
      " max_pooling2d_11 (MaxPooli  (None, 4, 4, 128)         0         \n",
      " ng2D)                                                           \n",
      "                                                                 \n",
      " dropout_10 (Dropout)        (None, 4, 4, 128)         0         \n",
      "                                                                 \n",
      " flatten_3 (Flatten)         (None, 2048)              0         \n",
      "                                                                 \n",
      " dense_6 (Dense)             (None, 512)               1049088   \n",
      "                                                                 \n",
      " batch_normalization_7 (Bat  (None, 512)               2048      \n",
      " chNormalization)                                                \n",
      "                                                                 \n",
      " dropout_11 (Dropout)        (None, 512)               0         \n",
      "                                                                 \n",
      " dense_7 (Dense)             (None, 10)                5130      \n",
      "                                                                 \n",
      "=================================================================\n",
      "Total params: 1150410 (4.39 MB)\n",
      "Trainable params: 1148938 (4.38 MB)\n",
      "Non-trainable params: 1472 (5.75 KB)\n",
      "_________________________________________________________________\n"
     ]
    }
   ],
   "source": [
    "#15.결과 확인\n",
    "model_cnn.summary()"
   ]
  },
  {
   "cell_type": "code",
   "execution_count": 35,
   "id": "4186aa59",
   "metadata": {},
   "outputs": [
    {
     "name": "stdout",
     "output_type": "stream",
     "text": [
      "313/313 [==============================] - 2s 7ms/step - loss: 1.3802 - accuracy: 0.5170\n",
      "정답률 = 0.5170000195503235 loss = 1.3802393674850464\n"
     ]
    },
    {
     "data": {
      "text/plain": [
       "<matplotlib.legend.Legend at 0x26bc7279590>"
      ]
     },
     "execution_count": 35,
     "metadata": {},
     "output_type": "execute_result"
    },
    {
     "data": {
      "image/png": "[encoded data removed]",
      "text/plain": [
       "<Figure size 640x480 with 1 Axes>"
      ]
     },
     "metadata": {},
     "output_type": "display_data"
    }
   ],
   "source": [
    "import matplotlib.pyplot as plt\n",
    "#16.모델 평가  \n",
    "score   = model_cnn.evaluate(test_images , test_labels, verbose = 1 )\n",
    "print ('정답률 =', score[1] ,  'loss =' , score[0]) \n",
    "\n",
    "#학습모형 , 정답률\n",
    "plt.plot(hist.history['accuracy'])\n",
    "plt.plot(hist.history['val_accuracy'])\n",
    "plt.title('Accuracy')\n",
    "plt.legend(['train','test'], loc ='upper left')\n",
    "\n",
    "# 손실 값 \n",
    "plt.plot(hist.history['loss'])\n",
    "plt.plot(hist.history['val_loss'])\n",
    "plt.title('Loss')\n",
    "plt.legend(['train','test'], loc ='upper left')\n"
   ]
  },
  {
   "cell_type": "code",
   "execution_count": 36,
   "id": "f973bcc7",
   "metadata": {},
   "outputs": [],
   "source": [
    "#17. 모델 저장 \n",
    "model_cnn.save('my_model.h5')"
   ]
  },
  {
   "cell_type": "code",
   "execution_count": null,
   "id": "caffd3bb",
   "metadata": {},
   "outputs": [],
   "source": []
  }
 ],
 "metadata": {
  "kernelspec": {
   "display_name": "Python 3 (ipykernel)",
   "language": "python",
   "name": "python3"
  },
  "language_info": {
   "codemirror_mode": {
    "name": "ipython",
    "version": 3
   },
   "file_extension": ".py",
   "mimetype": "text/x-python",
   "name": "python",
   "nbconvert_exporter": "python",
   "pygments_lexer": "ipython3",
   "version": "3.11.5"
  }
 },
 "nbformat": 4,
 "nbformat_minor": 5
}
